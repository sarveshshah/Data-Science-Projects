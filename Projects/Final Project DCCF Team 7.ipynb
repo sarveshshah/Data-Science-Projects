{
 "cells": [
  {
   "cell_type": "markdown",
   "metadata": {},
   "source": [
    "# Python Final Project Code"
   ]
  },
  {
   "cell_type": "code",
   "execution_count": 158,
   "metadata": {},
   "outputs": [],
   "source": [
    "#Import Libraries used for the analysis\n",
    "import json\n",
    "import numpy as np\n",
    "import pandas as pd\n",
    "import pymysql\n",
    "import sys\n",
    "import matplotlib"
   ]
  },
  {
   "cell_type": "markdown",
   "metadata": {},
   "source": [
    "Imported Our CSV File"
   ]
  },
  {
   "cell_type": "code",
   "execution_count": null,
   "metadata": {
    "scrolled": true
   },
   "outputs": [],
   "source": [
    "#Import DATA file as CSV\n",
    "data = pd.read_csv('C:/Users/Monil Shah/Google Drive/Temple University MSBA/Courses/BU STAT 5606 401/Final Project/Data sets/Crime_Data.csv')\n",
    "data.head()"
   ]
  },
  {
   "cell_type": "markdown",
   "metadata": {},
   "source": [
    "# DATA Cleaning, Preparation Code"
   ]
  },
  {
   "cell_type": "markdown",
   "metadata": {},
   "source": [
    "Data Cleaning Code:\n",
    "\n",
    "When a CSV file is parsed using Pandas, by default empty cells are parsed as 'NaN' String.\n",
    "We write a Clean Function to clean the Data.\n"
   ]
  },
  {
   "cell_type": "code",
   "execution_count": null,
   "metadata": {},
   "outputs": [],
   "source": [
    "# Writing Code to replace NaN with 0\n",
    "    \n",
    "temp_data = data['Weapon Description']\n",
    "for rows in temp_data:\n",
    "    if (rows=='Nan'):\n",
    "        rows.replace('Nan',0)\n",
    "        \n",
    "temp_data = data['Status Description']\n",
    "for rows in temp_data:\n",
    "    if (rows=='Nan'):\n",
    "        rows.replace('Nan',0)\n",
    "        \n",
    "temp_data = data['Status Description']\n",
    "for rows in temp_data:\n",
    "    if (rows=='Nan'):\n",
    "        rows.replace('Nan',0)\n",
    "\n",
    "temp_data = data['Location ']\n",
    "for rows in temp_data:\n",
    "    if (rows=='Nan'):\n",
    "        rows.replace('Nan',0)\n",
    "        \n",
    "temp_data = data['Premise Code']\n",
    "for rows in temp_data:\n",
    "    if (rows=='Nan'):\n",
    "        rows.replace('Nan',0)\n"
   ]
  },
  {
   "cell_type": "markdown",
   "metadata": {},
   "source": [
    "Data Preparation Code\n",
    "\n",
    "Normalization requires us to decompose the data in tables. After Decomposing we need 3 new primary keys for Location, Date_Time and Victim Tables, as there are no unique keys available"
   ]
  },
  {
   "cell_type": "code",
   "execution_count": null,
   "metadata": {},
   "outputs": [],
   "source": [
    "# Creating Primary Keys for all the tables post Normalization of the Data\n",
    "\n",
    "# Date_Time_ID\n",
    "data = data.assign(Date_Time_ID=pd.Series(np.random.randint(len(data),size=len(data)), index=data.index))\n",
    "# data['Date_Time_ID']\n",
    "\n",
    "# Location ID\n",
    "data = data.assign(Location_ID =pd.Series(np.random.randint(len(data),size=len(data)), index=data.index))\n",
    "\n",
    "# Victim ID\n",
    "data = data.assign(Victim_ID =pd.Series(np.random.randint(len(data),size=len(data)), index=data.index))\n",
    "\n",
    "# Crime ID\n",
    "data = data.assign(Crime_ID =pd.Series(np.random.randint(len(data),size=len(data)), index=data.index))\n"
   ]
  },
  {
   "cell_type": "markdown",
   "metadata": {},
   "source": [
    "We need a list of Unique instances of all the Crime Code, Premise Code and Weapon Used Code\n",
    "\n",
    "Form a \"Generate Unique Code\" Function to harness the codes"
   ]
  },
  {
   "cell_type": "code",
   "execution_count": null,
   "metadata": {},
   "outputs": [],
   "source": [
    "# Generate Unique Code Function \n",
    "# Creating a set of all all codes and storing them in a dictionary to feed them in SQL\n",
    "\n",
    "# Function Definition \n",
    "def Unique_Code_generator(Column):\n",
    "    temp_data = data[Column]\n",
    "\n",
    "    # Creating a code to store values in columns\n",
    "    temp_set = {}\n",
    "    temp_set = temp_data.unique()\n",
    "\n",
    "    # Unique Crime Codes converted to Sets\n",
    "    temp_list = list(temp_set)\n",
    "    return temp_list\n",
    "\n",
    "# Calling functions to generate unique code\n",
    "Crime_Code_List = Unique_Code_generator('Crime Code')\n",
    "Premise_Code_List = Unique_Code_generator('Premise Code')\n",
    "Weapon_Used_Code_List = Unique_Code_generator('Weapon Used Code')\n",
    "\n",
    "print(len(Unique_Code_generator('Crime Code')))\n",
    "print(len(Unique_Code_generator('Premise Code')))\n",
    "print(len(Unique_Code_generator('Weapon Used Code')))\n",
    "\n",
    "# We will use these lists to put in SQL Database"
   ]
  },
  {
   "cell_type": "markdown",
   "metadata": {},
   "source": [
    "# SQL CODE"
   ]
  },
  {
   "cell_type": "code",
   "execution_count": null,
   "metadata": {},
   "outputs": [],
   "source": [
    "connection = pymysql.connect(host = 'localhost',\n",
    "                             user = 'root',\n",
    "                             passwd = 'root',\n",
    "                             charset='utf8mb4', use_unicode=True);"
   ]
  },
  {
   "cell_type": "markdown",
   "metadata": {},
   "source": [
    "Table Creation Queries"
   ]
  },
  {
   "cell_type": "code",
   "execution_count": null,
   "metadata": {},
   "outputs": [],
   "source": [
    "db_name = 'LA_CRIME_DATA'\n",
    "create_db_query = \"CREATE DATABASE IF NOT EXISTS `{0}` Default character set 'utf8mb4'\".format(db_name)\n",
    "\n",
    "# Create a database\n",
    "cursor = connection.cursor()\n",
    "cursor.execute(create_db_query)\n",
    "cursor.close()"
   ]
  },
  {
   "cell_type": "code",
   "execution_count": null,
   "metadata": {},
   "outputs": [],
   "source": [
    "cursor = connection.cursor()\n",
    "db_name = 'LA_CRIME_DATA'\n",
    "table_name = 'CRIME'\n",
    "# Create a table\n",
    "# The {0} and {1} are placeholders for the parameters in the format(....) statement\n",
    "create_table_query = '''CREATE TABLE IF NOT EXISTS `{0}`.`{1}` \n",
    "                                (`DR Number` int, Date_Time int, Location int, Crime_ID int, Area_ID int,\n",
    "                                PRIMARY KEY(`DR Number`)\n",
    "                                )'''.format(db_name, table_name)\n",
    "cursor.execute(create_table_query)\n",
    "cursor.close()"
   ]
  },
  {
   "cell_type": "code",
   "execution_count": null,
   "metadata": {},
   "outputs": [],
   "source": [
    "cursor = connection.cursor()\n",
    "db_name = 'LA_CRIME_DATA'\n",
    "table_name = 'CRIME_INFO'\n",
    "# Create a table\n",
    "# The {0} and {1} are placeholders for the parameters in the format(....) statement\n",
    "create_table_query = '''CREATE TABLE IF NOT EXISTS `{0}`.`{1}` \n",
    "                                (Crime_ID int, Crime_code int, Victim_ID int, Weapon_ID int, Status_Code int,\n",
    "                                PRIMARY KEY(`Crime_Id`))'''.format(db_name, table_name)\n",
    "cursor.execute(create_table_query)\n",
    "cursor.close()"
   ]
  },
  {
   "cell_type": "code",
   "execution_count": null,
   "metadata": {
    "scrolled": true
   },
   "outputs": [],
   "source": [
    "cursor = connection.cursor()\n",
    "db_name = 'LA_CRIME_DATA'\n",
    "table_name = 'CRIME_CODE'\n",
    "# Create a table\n",
    "# The {0} and {1} are placeholders for the parameters in the format(....) statement\n",
    "create_table_query = '''CREATE TABLE IF NOT EXISTS `{0}`.`{1}` \n",
    "                                (`Crime_Code` int, Crime_description varchar(45),\n",
    "                                PRIMARY KEY(`Crime_code`), FOREIGN KEY(Crime_code) references CRIME_INFO(`Crime_ID`)\n",
    "                                )'''.format(db_name, table_name)\n",
    "cursor.execute(create_table_query)\n",
    "cursor.close()"
   ]
  },
  {
   "cell_type": "code",
   "execution_count": null,
   "metadata": {},
   "outputs": [],
   "source": [
    "cursor = connection.cursor()\n",
    "db_name = 'LA_CRIME_DATA'\n",
    "table_name = 'VICTIM'\n",
    "# Create a table\n",
    "# The {0} and {1} are placeholders for the parameters in the format(....) statement\n",
    "create_table_query = '''CREATE TABLE IF NOT EXISTS `{0}`.`{1}` \n",
    "                                (Victim_ID int, Victim_Gender VARCHAR(45), Victim_Age Int, Victim_Decent VARCHAR(45),\n",
    "                                PRIMARY KEY (Victim_ID), FOREIGN KEY(Victim_ID) references CRIME_INFO(Victim_ID))'''.format(db_name, table_name)\n",
    "cursor.execute(create_table_query)\n",
    "cursor.close()"
   ]
  },
  {
   "cell_type": "code",
   "execution_count": null,
   "metadata": {},
   "outputs": [],
   "source": [
    "cursor = connection.cursor()\n",
    "db_name = 'LA_CRIME_DATA'\n",
    "table_name = 'WEAPON CODE'\n",
    "# Create a table\n",
    "# The {0} and {1} are placeholders for the parameters in the format(....) statement\n",
    "create_table_query = '''CREATE TABLE IF NOT EXISTS `{0}`.`{1}` \n",
    "                                (Weapon_Code int,Wepon_Description VARCHAR(45),\n",
    "                                PRIMARY KEY(Weapon_Code), FOREIGN KEY(Weapon_Code) references CRIME_INFO(`Weapon_Code`)\n",
    "                                )'''.format(db_name, table_name)\n",
    "cursor.execute(create_table_query)\n",
    "cursor.close()"
   ]
  },
  {
   "cell_type": "code",
   "execution_count": null,
   "metadata": {},
   "outputs": [],
   "source": [
    "cursor = connection.cursor()\n",
    "db_name = 'LA_CRIME_DATA'\n",
    "table_name = 'STATUS CODE'\n",
    "# Create a table\n",
    "# The {0} and {1} are placeholders for the parameters in the format(....) statement\n",
    "create_table_query = '''CREATE TABLE IF NOT EXISTS `{0}`.`{1}` \n",
    "                                (Status_Code int, Status_Description varchar(45),\n",
    "                                PRIMARY KEY(`status_code`)), FOREIGN KEY(Weapon_ID) references CRIME_INFO(`Weapon_ID`)'''.format(db_name, table_name)\n",
    "cursor.execute(create_table_query)\n",
    "cursor.close()"
   ]
  },
  {
   "cell_type": "code",
   "execution_count": null,
   "metadata": {},
   "outputs": [],
   "source": [
    "cursor = connection.cursor()\n",
    "db_name = 'LA_CRIME_DATA'\n",
    "table_name = 'LOCATION'\n",
    "# Create a table\n",
    "# The {0} and {1} are placeholders for the parameters in the format(....) statement\n",
    "create_table_query = '''CREATE TABLE IF NOT EXISTS `{0}`.`{1}` \n",
    "                                (Location_ID int, Lattitude int, Longitude int,\n",
    "                                PRIMARY KEY(`Location_ID`), FOREIGN KEY(Location_ID) references CRIME_MAIN(`Location_ID`)\n",
    "                                )'''.format(db_name, table_name)\n",
    "cursor.execute(create_table_query)\n",
    "cursor.close()"
   ]
  },
  {
   "cell_type": "code",
   "execution_count": null,
   "metadata": {},
   "outputs": [],
   "source": [
    "cursor = connection.cursor()\n",
    "db_name = 'LA_CRIME_DATA'\n",
    "table_name = 'Date_Time'\n",
    "# Create a table\n",
    "# The {0} and {1} are placeholders for the parameters in the format(....) statement\n",
    "create_table_query = '''CREATE TABLE IF NOT EXISTS `{0}`.`{1}` \n",
    "                                (Date_Time_ID int, Date_ID int, Time_ID int,\n",
    "                                PRIMARY KEY(`Date_Time_ID`), FOREIGN KEY(Date_Time_ID) references CRIME_MAIN(`Date_Time`)\n",
    "                                )'''.format(db_name, table_name)\n",
    "cursor.execute(create_table_query)\n",
    "cursor.close()"
   ]
  },
  {
   "cell_type": "code",
   "execution_count": null,
   "metadata": {},
   "outputs": [],
   "source": [
    "cursor = connection.cursor()\n",
    "db_name = 'LA_CRIME_DATA'\n",
    "table_name = 'AREA'\n",
    "# Create a table\n",
    "# The {0} and {1} are placeholders for the parameters in the format(....) statement\n",
    "create_table_query = '''CREATE TABLE IF NOT EXISTS `{0}`.`{1}` \n",
    "                                (Area_ID int,Area varchar(25),\n",
    "                                PRIMARY KEY(`Area_ID`), FOREIGN KEY(Area_ID) references CRIME_MAIN(`Area_ID`)\n",
    "                                )'''.format(db_name, table_name)\n",
    "cursor.execute(create_table_query)\n",
    "cursor.close()"
   ]
  },
  {
   "cell_type": "markdown",
   "metadata": {},
   "source": [
    "Data Insertion Queries "
   ]
  },
  {
   "cell_type": "code",
   "execution_count": null,
   "metadata": {},
   "outputs": [],
   "source": [
    "#CRIME Table\n",
    "cursor = connection.cursor()\n",
    "\n",
    "# Using a For Loop to Iterate through Data Frame\n",
    "\n",
    "\n",
    "for index, row in data.iterrows():\n",
    "    insert_data_query ='INSERT into LA_CRIME_DATA.CRIME_MAIN VALUES (%d,%d,%d,%d,%d)'.format(row['Crime_ID'],(row['Crime_Code']+row['Victim_ID']),row['Weapon_Code'],row['Status_Code'])\n",
    "    cursor.execute(insert_data_query)\n",
    "\n",
    "connection.commit()\n",
    "cursor.close()"
   ]
  },
  {
   "cell_type": "code",
   "execution_count": null,
   "metadata": {},
   "outputs": [],
   "source": [
    "# CRIME INFO Table\n",
    "# Replace CRIME_MAIN with other Table Name\n",
    "# Adjust the Query \n",
    "\n",
    "cursor = connection.cursor()\n",
    "\n",
    "# Using a For Loop to Iterate through Data Frame\n",
    "\n",
    "for index, row in data.iterrows():\n",
    "    insert_data_query ='INSERT into LA_CRIME_DATA.CRIME_MAIN VALUES (%d,%d,%d,%d,%d)'.format(row['Crime_ID'],(row['Crime_Code']+row['Victim_ID']),row['Weapon_Code'],row['Status_Code'])\n",
    "    cursor.execute(insert_data_query)\n",
    "\n",
    "connection.commit()\n",
    "cursor.close()"
   ]
  },
  {
   "cell_type": "code",
   "execution_count": null,
   "metadata": {},
   "outputs": [],
   "source": [
    "# CRIME CODE Table\n",
    "# Replace CRIME_MAIN with other Table Name\n",
    "# Adjust the Query \n",
    "\n",
    "cursor = connection.cursor()\n",
    "\n",
    "# Using a For Loop to Iterate through Data Frame\n",
    "\n",
    "for index, row in data.iterrows():\n",
    "    insert_data_query ='INSERT into LA_CRIME_DATA.CRIME_MAIN VALUES (%d,%s)'.format(row['Crime_Code'],(row['Crime_Description']))cursor.execute(insert_data_query)\n",
    "\n",
    "connection.commit()\n",
    "cursor.close()"
   ]
  },
  {
   "cell_type": "code",
   "execution_count": null,
   "metadata": {},
   "outputs": [],
   "source": [
    "#VICTIM TABLE\n",
    "# Replace CRIME_MAIN with other Table Name\n",
    "# Adjust the Query \n",
    "\n",
    "cursor = connection.cursor()\n",
    "\n",
    "# Using a For Loop to Iterate through Data Frame\n",
    "\n",
    "for index, row in data.iterrows():\n",
    "    insert_data_query ='INSERT into LA_CRIME_DATA.CRIME_MAIN VALUES (%d,%s,%d,%s)'.format(row['Victim_ID'],(row['Victim_Gender']+row['Victim_Age']),row['VictimDecent'])\n",
    "    cursor.execute(insert_data_query)\n",
    "\n",
    "connection.commit()\n",
    "cursor.close()"
   ]
  },
  {
   "cell_type": "code",
   "execution_count": null,
   "metadata": {},
   "outputs": [],
   "source": [
    "# WEAPON CODE\n",
    "# Replace CRIME_MAIN with other Table Name\n",
    "# Adjust the Query \n",
    "\n",
    "cursor = connection.cursor()\n",
    "\n",
    "# Using a For Loop to Iterate through Data Frame\n",
    "\n",
    "for index, row in data.iterrows():\n",
    "    insert_data_query ='INSERT into LA_CRIME_DATA.CRIME_MAIN VALUES (%d,%s)'.format(row['Weapon_Code'],(row['Weapon_Description'])\n",
    "    cursor.execute(insert_data_query)\n",
    "\n",
    "connection.commit()\n",
    "cursor.close()"
   ]
  },
  {
   "cell_type": "code",
   "execution_count": null,
   "metadata": {},
   "outputs": [],
   "source": [
    "# STATUS CODE\n",
    "# Replace CRIME_MAIN with other Table Name\n",
    "# Adjust the Query \n",
    "\n",
    "cursor = connection.cursor()\n",
    "\n",
    "# Using a For Loop to Iterate through Data Frame\n",
    "\n",
    "for index, row in data.iterrows():\n",
    "    insert_data_query ='INSERT into LA_CRIME_DATA.CRIME_MAIN VALUES (%d,%s)'.format(row['Status_Code'],row['Status_Description'])\n",
    "    cursor.execute(insert_data_query)\n",
    "\n",
    "connection.commit()\n",
    "cursor.close()"
   ]
  },
  {
   "cell_type": "code",
   "execution_count": null,
   "metadata": {},
   "outputs": [],
   "source": [
    "# LOCATION TABLE\n",
    "# Replace CRIME_MAIN with other Table Name\n",
    "# Adjust the Query \n",
    "\n",
    "cursor = connection.cursor()\n",
    "\n",
    "# Using a For Loop to Iterate through Data Frame\n",
    "for index, row in data.iterrows():\n",
    "    insert_data_query ='INSERT into LA_CRIME_DATA.CRIME_MAIN VALUES (%d,%d,%d)'.format(row['Location_ID'],(row['Latitudes']+row['Longitudes'])\n",
    "    cursor.execute(insert_data_query)\n",
    "\n",
    "connection.commit()\n",
    "cursor.close()"
   ]
  },
  {
   "cell_type": "code",
   "execution_count": null,
   "metadata": {},
   "outputs": [],
   "source": [
    "# AREA TABLE\n",
    "# Replace CRIME_MAIN with other Table Name\n",
    "# Adjust the Query \n",
    "\n",
    "cursor = connection.cursor()\n",
    "\n",
    "# Using a For Loop to Iterate through Data Frame\n",
    "\n",
    "for index, row in data.iterrows():\n",
    "    insert_data_query ='INSERT into LA_CRIME_DATA.CRIME_MAIN VALUES (%d,%s,)'.format(row['Area_ID'],(row['Area_Name'])\n",
    "    cursor.execute(insert_data_query)\n",
    "\n",
    "connection.commit()\n",
    "cursor.close()"
   ]
  },
  {
   "cell_type": "code",
   "execution_count": null,
   "metadata": {},
   "outputs": [],
   "source": [
    "# DATE TIME TABLE\n",
    "# Replace CRIME_MAIN with other Table Name\n",
    "# Adjust the Query \n",
    "\n",
    "cursor = connection.cursor()\n",
    "\n",
    "# Using a For Loop to Iterate through Data Frame\n",
    "\n",
    "for index, row in data.iterrows():\n",
    "    insert_data_query ='INSERT into LA_CRIME_DATA.CRIME_MAIN VALUES (%d,%s,%s,%d)'.format(row['Date_Time_ID'],(row['Date_Occured']+row['Date_Reported']))\n",
    "    cursor.execute(insert_data_query)\n",
    "\n",
    "connection.commit()\n",
    "cursor.close()"
   ]
  },
  {
   "cell_type": "markdown",
   "metadata": {},
   "source": [
    "# DATA ANALYSIS SECTION\n",
    "\n"
   ]
  },
  {
   "cell_type": "code",
   "execution_count": 159,
   "metadata": {
    "scrolled": true
   },
   "outputs": [
    {
     "data": {
      "text/plain": [
       "<matplotlib.axes._subplots.AxesSubplot at 0x173cd8ff320>"
      ]
     },
     "execution_count": 159,
     "metadata": {},
     "output_type": "execute_result"
    },
    {
     "data": {
      "image/png": "[encoded data removed]",
      "text/plain": [
       "<Figure size 432x288 with 1 Axes>"
      ]
     },
     "metadata": {},
     "output_type": "display_data"
    }
   ],
   "source": [
    "#Top 10 Most Crime Infested Areas in LA\n",
    "data[\"Area Name\"].groupby(data[\"Area Name\"]).count().sort_values(ascending=False).plot(kind=\"barh\")"
   ]
  },
  {
   "cell_type": "code",
   "execution_count": 160,
   "metadata": {},
   "outputs": [
    {
     "data": {
      "text/plain": [
       "<matplotlib.axes._subplots.AxesSubplot at 0x173cda0aa90>"
      ]
     },
     "execution_count": 160,
     "metadata": {},
     "output_type": "execute_result"
    },
    {
     "data": {
      "image/png": "[encoded data removed]",
      "text/plain": [
       "<Figure size 432x288 with 1 Axes>"
      ]
     },
     "metadata": {},
     "output_type": "display_data"
    }
   ],
   "source": [
    "#Status of Crime Reported.\n",
    "data[\"Status Description\"].value_counts().plot(kind=\"bar\",rot=45)"
   ]
  },
  {
   "cell_type": "code",
   "execution_count": 161,
   "metadata": {},
   "outputs": [
    {
     "data": {
      "text/html": [
       "<div>\n",
       "<style scoped>\n",
       "    .dataframe tbody tr th:only-of-type {\n",
       "        vertical-align: middle;\n",
       "    }\n",
       "\n",
       "    .dataframe tbody tr th {\n",
       "        vertical-align: top;\n",
       "    }\n",
       "\n",
       "    .dataframe thead th {\n",
       "        text-align: right;\n",
       "    }\n",
       "</style>\n",
       "<table border=\"1\" class=\"dataframe\">\n",
       "  <thead>\n",
       "    <tr style=\"text-align: right;\">\n",
       "      <th></th>\n",
       "      <th>DR Number</th>\n",
       "      <th>Date Reported</th>\n",
       "      <th>Date Occurred</th>\n",
       "      <th>Time Occurred</th>\n",
       "      <th>Area ID</th>\n",
       "      <th>Reporting District</th>\n",
       "      <th>Crime Code</th>\n",
       "      <th>Crime Code Description</th>\n",
       "      <th>MO Codes</th>\n",
       "      <th>Victim Age</th>\n",
       "      <th>...</th>\n",
       "      <th>Crime Code 4</th>\n",
       "      <th>Address</th>\n",
       "      <th>Cross Street</th>\n",
       "      <th>Location</th>\n",
       "      <th>Latitude</th>\n",
       "      <th>Longitude</th>\n",
       "      <th>Date_Time_ID</th>\n",
       "      <th>Location_ID</th>\n",
       "      <th>Victim_ID</th>\n",
       "      <th>Crime_ID</th>\n",
       "    </tr>\n",
       "    <tr>\n",
       "      <th>Area Name</th>\n",
       "      <th></th>\n",
       "      <th></th>\n",
       "      <th></th>\n",
       "      <th></th>\n",
       "      <th></th>\n",
       "      <th></th>\n",
       "      <th></th>\n",
       "      <th></th>\n",
       "      <th></th>\n",
       "      <th></th>\n",
       "      <th></th>\n",
       "      <th></th>\n",
       "      <th></th>\n",
       "      <th></th>\n",
       "      <th></th>\n",
       "      <th></th>\n",
       "      <th></th>\n",
       "      <th></th>\n",
       "      <th></th>\n",
       "      <th></th>\n",
       "      <th></th>\n",
       "    </tr>\n",
       "  </thead>\n",
       "  <tbody>\n",
       "    <tr>\n",
       "      <th>Southwest</th>\n",
       "      <td>130322987</td>\n",
       "      <td>10/27/2013</td>\n",
       "      <td>10/26/2013</td>\n",
       "      <td>1800</td>\n",
       "      <td>3</td>\n",
       "      <td>396</td>\n",
       "      <td>510</td>\n",
       "      <td>VEHICLE - STOLEN</td>\n",
       "      <td>NaN</td>\n",
       "      <td>12.0</td>\n",
       "      <td>...</td>\n",
       "      <td>NaN</td>\n",
       "      <td>42ND</td>\n",
       "      <td>MENLO</td>\n",
       "      <td>(34.0074, -118.29)</td>\n",
       "      <td>34.0074</td>\n",
       "      <td>-118.2900</td>\n",
       "      <td>409670</td>\n",
       "      <td>214359</td>\n",
       "      <td>25201</td>\n",
       "      <td>1039167</td>\n",
       "    </tr>\n",
       "    <tr>\n",
       "      <th>Southwest</th>\n",
       "      <td>130325133</td>\n",
       "      <td>12/1/2013</td>\n",
       "      <td>11/30/2013</td>\n",
       "      <td>1800</td>\n",
       "      <td>3</td>\n",
       "      <td>394</td>\n",
       "      <td>510</td>\n",
       "      <td>VEHICLE - STOLEN</td>\n",
       "      <td>NaN</td>\n",
       "      <td>12.0</td>\n",
       "      <td>...</td>\n",
       "      <td>NaN</td>\n",
       "      <td>VERNON</td>\n",
       "      <td>3RD</td>\n",
       "      <td>(34.0037, -118.3203)</td>\n",
       "      <td>34.0037</td>\n",
       "      <td>-118.3203</td>\n",
       "      <td>452293</td>\n",
       "      <td>344808</td>\n",
       "      <td>256129</td>\n",
       "      <td>805615</td>\n",
       "    </tr>\n",
       "    <tr>\n",
       "      <th>Southwest</th>\n",
       "      <td>130323518</td>\n",
       "      <td>11/4/2013</td>\n",
       "      <td>11/1/2013</td>\n",
       "      <td>1700</td>\n",
       "      <td>3</td>\n",
       "      <td>301</td>\n",
       "      <td>510</td>\n",
       "      <td>VEHICLE - STOLEN</td>\n",
       "      <td>NaN</td>\n",
       "      <td>12.0</td>\n",
       "      <td>...</td>\n",
       "      <td>NaN</td>\n",
       "      <td>CLYDE</td>\n",
       "      <td>ADAMS</td>\n",
       "      <td>(34.0325, -118.3669)</td>\n",
       "      <td>34.0325</td>\n",
       "      <td>-118.3669</td>\n",
       "      <td>505947</td>\n",
       "      <td>458802</td>\n",
       "      <td>900435</td>\n",
       "      <td>169777</td>\n",
       "    </tr>\n",
       "    <tr>\n",
       "      <th>Southwest</th>\n",
       "      <td>130323846</td>\n",
       "      <td>11/8/2013</td>\n",
       "      <td>10/28/2013</td>\n",
       "      <td>1000</td>\n",
       "      <td>3</td>\n",
       "      <td>395</td>\n",
       "      <td>763</td>\n",
       "      <td>STALKING</td>\n",
       "      <td>0347 0913</td>\n",
       "      <td>50.0</td>\n",
       "      <td>...</td>\n",
       "      <td>NaN</td>\n",
       "      <td>VERNON</td>\n",
       "      <td>DENKER</td>\n",
       "      <td>(34.0037, -118.3045)</td>\n",
       "      <td>34.0037</td>\n",
       "      <td>-118.3045</td>\n",
       "      <td>780347</td>\n",
       "      <td>101249</td>\n",
       "      <td>948858</td>\n",
       "      <td>542206</td>\n",
       "    </tr>\n",
       "    <tr>\n",
       "      <th>Southwest</th>\n",
       "      <td>130326498</td>\n",
       "      <td>12/25/2013</td>\n",
       "      <td>12/24/2013</td>\n",
       "      <td>2100</td>\n",
       "      <td>3</td>\n",
       "      <td>395</td>\n",
       "      <td>510</td>\n",
       "      <td>VEHICLE - STOLEN</td>\n",
       "      <td>NaN</td>\n",
       "      <td>12.0</td>\n",
       "      <td>...</td>\n",
       "      <td>NaN</td>\n",
       "      <td>43RD</td>\n",
       "      <td>GRAMERCY</td>\n",
       "      <td>(34.0055, -118.3138)</td>\n",
       "      <td>34.0055</td>\n",
       "      <td>-118.3138</td>\n",
       "      <td>811239</td>\n",
       "      <td>632591</td>\n",
       "      <td>854820</td>\n",
       "      <td>530627</td>\n",
       "    </tr>\n",
       "  </tbody>\n",
       "</table>\n",
       "<p>5 rows × 31 columns</p>\n",
       "</div>"
      ],
      "text/plain": [
       "           DR Number Date Reported Date Occurred  Time Occurred  Area ID  \\\n",
       "Area Name                                                                  \n",
       "Southwest  130322987    10/27/2013    10/26/2013           1800        3   \n",
       "Southwest  130325133     12/1/2013    11/30/2013           1800        3   \n",
       "Southwest  130323518     11/4/2013     11/1/2013           1700        3   \n",
       "Southwest  130323846     11/8/2013    10/28/2013           1000        3   \n",
       "Southwest  130326498    12/25/2013    12/24/2013           2100        3   \n",
       "\n",
       "           Reporting District  Crime Code Crime Code Description   MO Codes  \\\n",
       "Area Name                                                                     \n",
       "Southwest                 396         510       VEHICLE - STOLEN        NaN   \n",
       "Southwest                 394         510       VEHICLE - STOLEN        NaN   \n",
       "Southwest                 301         510       VEHICLE - STOLEN        NaN   \n",
       "Southwest                 395         763               STALKING  0347 0913   \n",
       "Southwest                 395         510       VEHICLE - STOLEN        NaN   \n",
       "\n",
       "           Victim Age    ...    Crime Code 4 Address  Cross Street  \\\n",
       "Area Name                ...                                         \n",
       "Southwest        12.0    ...             NaN    42ND         MENLO   \n",
       "Southwest        12.0    ...             NaN  VERNON           3RD   \n",
       "Southwest        12.0    ...             NaN   CLYDE         ADAMS   \n",
       "Southwest        50.0    ...             NaN  VERNON        DENKER   \n",
       "Southwest        12.0    ...             NaN    43RD      GRAMERCY   \n",
       "\n",
       "                       Location  Latitude Longitude Date_Time_ID Location_ID  \\\n",
       "Area Name                                                                      \n",
       "Southwest    (34.0074, -118.29)   34.0074 -118.2900       409670      214359   \n",
       "Southwest  (34.0037, -118.3203)   34.0037 -118.3203       452293      344808   \n",
       "Southwest  (34.0325, -118.3669)   34.0325 -118.3669       505947      458802   \n",
       "Southwest  (34.0037, -118.3045)   34.0037 -118.3045       780347      101249   \n",
       "Southwest  (34.0055, -118.3138)   34.0055 -118.3138       811239      632591   \n",
       "\n",
       "           Victim_ID  Crime_ID  \n",
       "Area Name                       \n",
       "Southwest      25201   1039167  \n",
       "Southwest     256129    805615  \n",
       "Southwest     900435    169777  \n",
       "Southwest     948858    542206  \n",
       "Southwest     854820    530627  \n",
       "\n",
       "[5 rows x 31 columns]"
      ]
     },
     "execution_count": 161,
     "metadata": {},
     "output_type": "execute_result"
    }
   ],
   "source": [
    "#Trend in the SouthWest Area\n",
    "Southwest = data.set_index(['Area Name']).loc['Southwest']\n",
    "Southwest.head(5)"
   ]
  },
  {
   "cell_type": "code",
   "execution_count": 162,
   "metadata": {},
   "outputs": [
    {
     "data": {
      "text/plain": [
       "Area ID\n",
       "3    78382\n",
       "dtype: int64"
      ]
     },
     "execution_count": 162,
     "metadata": {},
     "output_type": "execute_result"
    }
   ],
   "source": [
    "#Total Crimes in Southwest region from 2010-2017\n",
    "Southwest.groupby('Area ID').size()"
   ]
  },
  {
   "cell_type": "code",
   "execution_count": 163,
   "metadata": {},
   "outputs": [
    {
     "data": {
      "text/plain": [
       "Crime Code Description\n",
       "BATTERY - SIMPLE ASSAULT                                        9195\n",
       "BURGLARY                                                        5626\n",
       "BURGLARY FROM VEHICLE                                           4664\n",
       "ASSAULT WITH DEADLY WEAPON, AGGRAVATED ASSAULT                  4016\n",
       "BURGLARY, ATTEMPTED                                              617\n",
       "ATTEMPTED ROBBERY                                                575\n",
       "BATTERY WITH SEXUAL CONTACT                                      432\n",
       "CHILD ABUSE (PHYSICAL) - SIMPLE ASSAULT                          417\n",
       "BRANDISH WEAPON                                                  328\n",
       "BIKE - STOLEN                                                    323\n",
       "BATTERY POLICE (SIMPLE)                                          197\n",
       "ARSON                                                            132\n",
       "BURGLARY FROM VEHICLE, ATTEMPTED                                 120\n",
       "BUNCO, GRAND THEFT                                                92\n",
       "CHILD ABUSE (PHYSICAL) - AGGRAVATED ASSAULT                       91\n",
       "BUNCO, PETTY THEFT                                                56\n",
       "ASSAULT WITH DEADLY WEAPON ON POLICE OFFICER                      55\n",
       "BOMB SCARE                                                        27\n",
       "BUNCO, ATTEMPT                                                    25\n",
       "CHILD ABANDONMENT                                                  8\n",
       "BATTERY ON A FIREFIGHTER                                           3\n",
       "BRIBERY                                                            3\n",
       "BOAT - STOLEN                                                      2\n",
       "BEASTIALITY, CRIME AGAINST NATURE SEXUAL ASSLT WITH ANIM0065       1\n",
       "ABORTION/ILLEGAL                                                   1\n",
       "dtype: int64"
      ]
     },
     "execution_count": 163,
     "metadata": {},
     "output_type": "execute_result"
    }
   ],
   "source": [
    "# Count of types of Crimes in South West between 2010 - 2017\n",
    "Southwest[\"Date Reported\"] = pd.to_datetime(Southwest[\"Date Reported\"])\n",
    "pd.set_option('display.max_rows', 1000)\n",
    "Southwest.groupby('Crime Code Description').size().head(25).sort_values(ascending=False)"
   ]
  },
  {
   "cell_type": "code",
   "execution_count": 164,
   "metadata": {},
   "outputs": [
    {
     "data": {
      "text/plain": [
       "<matplotlib.axes._subplots.AxesSubplot at 0x1740fb9ba20>"
      ]
     },
     "execution_count": 164,
     "metadata": {},
     "output_type": "execute_result"
    },
    {
     "data": {
      "image/png": "[encoded data removed]",
      "text/plain": [
       "<Figure size 432x288 with 1 Axes>"
      ]
     },
     "metadata": {},
     "output_type": "display_data"
    }
   ],
   "source": [
    "# top 15 Crimes in South West\n",
    "Southwest.groupby('Crime Code Description').size().sort_values(ascending=False).head(15).plot(kind=\"bar\")"
   ]
  },
  {
   "cell_type": "code",
   "execution_count": 165,
   "metadata": {},
   "outputs": [
    {
     "data": {
      "text/plain": [
       "[Text(0,0.5,'# arrests'), Text(0.5,0,'date')]"
      ]
     },
     "execution_count": 165,
     "metadata": {},
     "output_type": "execute_result"
    },
    {
     "data": {
      "image/png": "[encoded data removed]",
      "text/plain": [
       "<Figure size 432x288 with 1 Axes>"
      ]
     },
     "metadata": {},
     "output_type": "display_data"
    }
   ],
   "source": [
    "#Traffic, DR, Robbery and Theft are the top happening Crimes near USC/Downtown\n",
    "Southwest.groupby('Date Reported').size().sort_values(ascending=False).head(30).plot(title=\"# arrests by date\").set(xlabel = \"date\",ylabel = \"# arrests\")"
   ]
  },
  {
   "cell_type": "code",
   "execution_count": null,
   "metadata": {},
   "outputs": [],
   "source": []
  }
 ],
 "metadata": {
  "kernelspec": {
   "display_name": "Python 3",
   "language": "python",
   "name": "python3"
  },
  "language_info": {
   "codemirror_mode": {
    "name": "ipython",
    "version": 3
   },
   "file_extension": ".py",
   "mimetype": "text/x-python",
   "name": "python",
   "nbconvert_exporter": "python",
   "pygments_lexer": "ipython3",
   "version": "3.6.5"
  }
 },
 "nbformat": 4,
 "nbformat_minor": 2
}
