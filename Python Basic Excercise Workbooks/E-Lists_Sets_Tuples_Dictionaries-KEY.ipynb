{
 "cells": [
  {
   "cell_type": "markdown",
   "metadata": {},
   "source": [
    "## Data Structures\n",
    "\n",
    "\n",
    "We have covered in detail much of the basics of python's primitive data types. Its now useful to consider how these basic types can be collected in ways that are meaningful and useful for a variety of tasks. Data structures are a fundamental component of programming, a collection of elements of data that adhere to certain properties, depending on the type. In these notes, we'll present three basic data structures, the **list**, the **set**, and the **dictionary**. Python data structures are very rich, and beyond the scope of this simple primer. Please see [the documentation](http://docs.python.org/2/tutorial/datastructures.html) for a more complete view.\n"
   ]
  },
  {
   "cell_type": "markdown",
   "metadata": {},
   "source": [
    "### List:\n",
    "\n",
    "(Readings: LPTHW, Examples 32-34, and 38)\n",
    "\n",
    "A list, sometimes called and array or a vector is an ordered collection of values. The value of a particular element in a list is retrieved by querying for a specific index into an array. Lists allow duplicate values, but but indicies are unique. In python, like most programming languages, list indices start at 0, that is, to get the first element in a list, request the element at index 0. Lists provide very fast access to elements at specific positions, but are inefficient at \"membership queries,\" determining if an element is in the array. \n",
    "\n",
    "In python, lists are specified by square brackets, `[ ]`, containing zero or more values, separated by commas. Lists are the most common data structure, and are often generated as a result of other functions, for instance:\n",
    "\n",
    "`a_string.split(\" \")`\n",
    "\n",
    "will take a string, split it on space, and then return a list of the smaller substrings.\n",
    "\n",
    "To query a specific value from a list, pass in the requested index into square brackets following the name of the list. Negative indices can be used to traverse the list from the right. (Remember the case with strings and accessing the individual characters? It is exactly the same. In fact, strings are treated in Python as lists of characters.)"
   ]
  },
  {
   "cell_type": "code",
   "execution_count": 1,
   "metadata": {},
   "outputs": [
    {
     "name": "stdout",
     "output_type": "stream",
     "text": [
      "['Wow', 'these', 'data', 'structures', 'make', 'for', 'exciting', 'dinner', 'conversation']\n"
     ]
    }
   ],
   "source": [
    "my_string = \"Wow these data structures make for exciting dinner conversation\"\n",
    "list_of_words = my_string.split(\" \")\n",
    "print(list_of_words)"
   ]
  },
  {
   "cell_type": "code",
   "execution_count": 2,
   "metadata": {},
   "outputs": [
    {
     "name": "stdout",
     "output_type": "stream",
     "text": [
      "[1, 2, 3, 0, 5, 10, 11]\n"
     ]
    }
   ],
   "source": [
    "a_list = [1, 2, 3, 0, 5, 10, 11]\n",
    "print(a_list)"
   ]
  },
  {
   "cell_type": "code",
   "execution_count": 3,
   "metadata": {},
   "outputs": [
    {
     "name": "stdout",
     "output_type": "stream",
     "text": [
      "[]\n"
     ]
    }
   ],
   "source": [
    "empty_list = []\n",
    "print(empty_list)"
   ]
  },
  {
   "cell_type": "code",
   "execution_count": 4,
   "metadata": {},
   "outputs": [
    {
     "name": "stdout",
     "output_type": "stream",
     "text": [
      "[1, 'a']\n"
     ]
    }
   ],
   "source": [
    "mixed_list = [1, \"a\"]\n",
    "print(mixed_list)"
   ]
  },
  {
   "cell_type": "code",
   "execution_count": 5,
   "metadata": {},
   "outputs": [
    {
     "name": "stdout",
     "output_type": "stream",
     "text": [
      "b\n"
     ]
    }
   ],
   "source": [
    "another_list = [\"a\", \"b\", \"c\"]\n",
    "print(another_list[1]) # indexing from the left"
   ]
  },
  {
   "cell_type": "code",
   "execution_count": 6,
   "metadata": {},
   "outputs": [
    {
     "name": "stdout",
     "output_type": "stream",
     "text": [
      "3\n"
     ]
    }
   ],
   "source": [
    "a_list = [1, 2, 3, 0, 5, 10, 11]\n",
    "print(a_list[2]) # indexing from the left"
   ]
  },
  {
   "cell_type": "code",
   "execution_count": 7,
   "metadata": {},
   "outputs": [
    {
     "name": "stdout",
     "output_type": "stream",
     "text": [
      "11\n"
     ]
    }
   ],
   "source": [
    "a_list = [1, 2, 3, 0, 5, 10, 11]\n",
    "print(a_list[-1]) # indexing from the right"
   ]
  },
  {
   "cell_type": "code",
   "execution_count": 8,
   "metadata": {},
   "outputs": [
    {
     "name": "stdout",
     "output_type": "stream",
     "text": [
      "[5, 10, 11]\n"
     ]
    }
   ],
   "source": [
    "print(a_list[-3:]) #get last 3 elements"
   ]
  },
  {
   "cell_type": "code",
   "execution_count": 9,
   "metadata": {},
   "outputs": [
    {
     "name": "stdout",
     "output_type": "stream",
     "text": [
      "1\n",
      "[2, 3]\n"
     ]
    }
   ],
   "source": [
    "print(a_list[0])\n",
    "print(a_list[1:3])"
   ]
  },
  {
   "cell_type": "markdown",
   "metadata": {},
   "source": [
    "Some common functionality of lists:\n",
    "\n",
    "+ `list.append(x)`: add an element ot the end of a list\n",
    "+ `list_1.extend(list_2)`: add all elements of the second list to the end of the first list\n",
    "+ `list.insert(index, x)`: insert element x into the list at the specified index. Elements to the right of this index are shifted over\n",
    "+ `list.pop(index)`: remove the element at the specified position\n",
    "+ `list.index(x)`: looks through the list to find the specified element, returning it's position if it's found, else throws an error\n",
    "+ `list.count(x)`: counts the number of occurrences of the input element\n",
    "+ `list.sort()`: sorts the list of items\n",
    "+ `list.reverse()`: reverses the order of the list\n",
    "+ `len(list)`: returns the number of elements in the list"
   ]
  },
  {
   "cell_type": "code",
   "execution_count": 10,
   "metadata": {},
   "outputs": [
    {
     "name": "stdout",
     "output_type": "stream",
     "text": [
      "['Konstantin', 'John', 'Chris', 'Josh', 'Mary', 'Anna', 'Elena', 'Tracy']\n"
     ]
    }
   ],
   "source": [
    "a_list = [\"Konstantin\", \"John\", \"Chris\", \"Josh\", \"Mary\", \"Anna\"]\n",
    "\n",
    "a_list.append(\"Elena\")\n",
    "a_list.append(\"Tracy\")\n",
    "\n",
    "print(a_list)"
   ]
  },
  {
   "cell_type": "code",
   "execution_count": 11,
   "metadata": {},
   "outputs": [
    {
     "name": "stdout",
     "output_type": "stream",
     "text": [
      "8\n",
      "[['Konstantin', 'John', 'Chris', 'Josh', 'Mary', 'Anna', 'Elena', 'Tracy'], ['Konstantin', 'John', 'Chris', 'Josh', 'Mary', 'Anna', 'Elena', 'Tracy'], ['Konstantin', 'John', 'Chris', 'Josh', 'Mary', 'Anna', 'Elena', 'Tracy']]\n",
      "3\n"
     ]
    }
   ],
   "source": [
    "b_list = []\n",
    "print(len(a_list))\n",
    "b_list.append(a_list)\n",
    "b_list.append(a_list)\n",
    "b_list.append(a_list)\n",
    "print(b_list)\n",
    "print(len(b_list))"
   ]
  },
  {
   "cell_type": "code",
   "execution_count": 13,
   "metadata": {},
   "outputs": [
    {
     "name": "stdout",
     "output_type": "stream",
     "text": [
      "8\n",
      "['Konstantin', 'John', 'Chris', 'Josh', 'Mary', 'Anna', 'Elena', 'Tracy']\n",
      "8\n"
     ]
    }
   ],
   "source": [
    "b_list = []\n",
    "print(len(a_list))\n",
    "b_list.extend(a_list)\n",
    "print(b_list)\n",
    "print(len(b_list))"
   ]
  },
  {
   "cell_type": "code",
   "execution_count": 14,
   "metadata": {},
   "outputs": [
    {
     "name": "stdout",
     "output_type": "stream",
     "text": [
      "[1, 2, 3, 4, 5, 6, 7, 8]\n"
     ]
    }
   ],
   "source": [
    "a_list = [1,2,3,4]\n",
    "b_list = [5,6,7,8]\n",
    "a_list.extend(b_list)\n",
    "print(a_list)"
   ]
  },
  {
   "cell_type": "code",
   "execution_count": 15,
   "metadata": {},
   "outputs": [
    {
     "name": "stdout",
     "output_type": "stream",
     "text": [
      "[0, 1, 2, 3, 4, 5, 6, 7]\n"
     ]
    }
   ],
   "source": [
    "a_list = [0, 1, 2, 3, 4, 5, 6, 7, 8]\n",
    "a_list.pop()\n",
    "print(a_list)"
   ]
  },
  {
   "cell_type": "code",
   "execution_count": 16,
   "metadata": {},
   "outputs": [
    {
     "name": "stdout",
     "output_type": "stream",
     "text": [
      "[0, 1, 2, 4, 5, 6, 7]\n"
     ]
    }
   ],
   "source": [
    "a_list.pop(3)\n",
    "print(a_list)"
   ]
  },
  {
   "cell_type": "code",
   "execution_count": 17,
   "metadata": {},
   "outputs": [
    {
     "name": "stdout",
     "output_type": "stream",
     "text": [
      "3\n"
     ]
    }
   ],
   "source": [
    "a_list = [\"a\", \"b\", \"a\", \"t\", \"c\", \"a\"]\n",
    "print(a_list.count('a'))"
   ]
  },
  {
   "cell_type": "code",
   "execution_count": 18,
   "metadata": {},
   "outputs": [
    {
     "name": "stdout",
     "output_type": "stream",
     "text": [
      "36\n"
     ]
    }
   ],
   "source": [
    "a_list = [0, 1, 2, 3, 4, 5, 6, 7, 8]\n",
    "print(sum(a_list))"
   ]
  },
  {
   "cell_type": "code",
   "execution_count": 19,
   "metadata": {},
   "outputs": [
    {
     "name": "stdout",
     "output_type": "stream",
     "text": [
      "[5, 6, 7, 8]\n"
     ]
    }
   ],
   "source": [
    "b_list.sort()\n",
    "print(b_list)"
   ]
  },
  {
   "cell_type": "code",
   "execution_count": 20,
   "metadata": {},
   "outputs": [
    {
     "name": "stdout",
     "output_type": "stream",
     "text": [
      "[8, 7, 6, 5]\n"
     ]
    }
   ],
   "source": [
    "b_list.sort(reverse=True)\n",
    "print(b_list)"
   ]
  },
  {
   "cell_type": "code",
   "execution_count": 21,
   "metadata": {},
   "outputs": [
    {
     "name": "stdout",
     "output_type": "stream",
     "text": [
      "9\n"
     ]
    }
   ],
   "source": [
    "print(len(a_list))"
   ]
  },
  {
   "cell_type": "markdown",
   "metadata": {},
   "source": [
    "#### Exercise\n",
    "\n",
    "* Add the letter \"d\" in `another_list` and print(the result)\n",
    "* Add the letter \"c\" in `another_list` and print(the result)\n",
    "* If you search for \"c\" in `another_list` using the list.index(x) command, what is the result?\n",
    "* Sort `another_list` and print(the result)\n",
    "* Use the `split()` operation for strings (that we learned before) and count the number of words in the sentence \"Python is the word. And on and on and on and on...\" "
   ]
  },
  {
   "cell_type": "code",
   "execution_count": null,
   "metadata": {
    "collapsed": true
   },
   "outputs": [],
   "source": [
    "another_list = [\"a\", \"b\", \"c\"]"
   ]
  },
  {
   "cell_type": "code",
   "execution_count": 27,
   "metadata": {},
   "outputs": [
    {
     "name": "stdout",
     "output_type": "stream",
     "text": [
      "['a', 'b', 'c', 'd']\n",
      "['a', 'b', 'c', 'd', 'c']\n",
      "['a', 'b', 'c', 'c', 'd']\n"
     ]
    }
   ],
   "source": [
    "# your code here\n",
    "another_list.append('d')\n",
    "print(another_list)\n",
    "another_list.append('c')\n",
    "print(another_list)\n",
    "another_list.index('c')\n",
    "another_list.sort()\n",
    "print(another_list)"
   ]
  },
  {
   "cell_type": "code",
   "execution_count": 28,
   "metadata": {},
   "outputs": [
    {
     "data": {
      "text/plain": [
       "12"
      ]
     },
     "execution_count": 28,
     "metadata": {},
     "output_type": "execute_result"
    }
   ],
   "source": [
    "var = 'Python is the word. And on and on and on and on...'\n",
    "len(var.split(' '))"
   ]
  },
  {
   "cell_type": "markdown",
   "metadata": {},
   "source": [
    "#### Exercise\n",
    "\n",
    "* What is the length of the document below in characters? In words? In paragraphs?\n",
    "* What is the average length of a word?\n",
    "* How many times \"Russia\" was mentioned in the document?"
   ]
  },
  {
   "cell_type": "code",
   "execution_count": 29,
   "metadata": {
    "collapsed": true
   },
   "outputs": [],
   "source": [
    "washington_post = \"\"\"MOSCOW — Russian officials vehemently defended the country’s airstrikes in Syria on Thursday as blows to Islamic State militants even as evidence mounted suggesting that U.S.-backed rebels and others were facing the brunt of Moscow’s attacks.\n",
    "\n",
    "And while Russian officials and diplomats rallied behind President Vladimir Putin, the Kremlin’s stance appeared further clouded by acknowledgments that the missions have already extended beyond solely the Islamic State.\n",
    "\n",
    "In Paris, the Russian ambassador to France, Alexander Orlov, said the Russian attacks also targeted an al-Qaeda-linked group, Jabhat al-Nusra, or al-Nusra Front.\n",
    "\n",
    "Syria’s ambassador to Russia, Riad Haddad, echoed that the joint hit list for Russia and the Syrian government included Jabhat al-Nusra, which is believed to have some coordination with the Islamic State but is still seen mostly as a rival.\n",
    "\n",
    "“We are confronting armed terrorist groups in Syria, regardless of how they identify themselves, whether it is Jabhat al-Nusra, the ISIL or others,” he said, using one of the acronyms for the Islamic State.\n",
    "\n",
    "Graphic Did the Russians really strike the Islamic State? VIEW GRAPHIC \n",
    "“They all are pursuing ISIL ends,” he added, according to the Interfax news agency.\n",
    "\n",
    "The ambassadors did not specifically mention any U.S.- and Western-backed rebel groups.\n",
    "\n",
    "But the comment was certain to deepen suspicions by Washington and allies that Putin’s short-term aim is to give more breathing space to Syria’s embattled President Bashar al-Assad, whose government is strongly supported by Moscow.\n",
    "\n",
    "Syrian activists, meanwhile, ramped up their own claims that Moscow was hitting groups seeking to bring down Assad, who has managed to hang on during more than four years of civil war.\n",
    "\n",
    "Russia’s expanding military intervention in Syria added urgency to separate efforts by Russia and U.S. officials to coordinate strategies against the Islamic State and avoid potential airspace missteps between the two powers — so-called “deconfliction” talks. The Pentagon said the discussions will begin Thursday.\n",
    "\n",
    "[Washington weighs next move]\n",
    "\n",
    "One monitoring group, the Britain-based Syrian Observatory for Human Rights, said Russian airstrikes again struck strongholds of an American-backed rebel group, Tajamu Alezzah, in central Hama province.\n",
    "\n",
    "Ground level: On the scene of controversial Russian airstrikes in Syria\t\n",
    "View Photos\tThe actions, quickly criticized by Washington, add an unpredictable element to a multilayered war.\n",
    "The observatory also reported that airstrikes hit the northwestern city Jisr al-Shughour, which is in the hands of rebel groups including al-Nusra, after battles last month to drive back Assad’s forces.\n",
    "\n",
    "Among the locations hit was a site near Kafr Nabl, the northern Syrian town whose weekly protests against the government, often featuring pithy slogans in English, won it renown as a symbol of what began as a peaceful protest movement against the Assad regime. The local council receives U.S. assistance, and the rebel unit there has received support under a covert CIA program aimed at bolstering moderate rebels.\n",
    "\n",
    "Raed Fares, one of the leaders of the protest movement in Kafr Nabl, said warplanes struck a Free Syrian Army checkpoint guarding Roman ruins on the outskirts of the town. He said the explosion was bigger than anything local residents had seen in three years of airstrikes conducted by Syrian warplanes.\n",
    "\n",
    "“It made a fire six kilometers wide,” he told The Washington Post.\n",
    "\n",
    "Other sites hit on the second day of Russian bombing included locations in the province of Hama. The targets suggested the main intention of the strikes was to shore up government control over a corridor of territory linking the capital, Damascus, to the Assad family’s coastal heartland, where the Russians are operating out of an expanded air base.\n",
    "\n",
    "Syrian rebels, some of them U.S.-backed, had been making slow but steady gains in the area, considered one of the government’s biggest vulnerabilities. There has been no Islamic State presence there since January 2014, when moderate rebels rose up against the extremists and forced them to retreat to eastern Syria.\n",
    "\n",
    "[Kerry warns of ‘grave concerns’ about Russia’s intent]\n",
    "\n",
    "In Washington, Sen. John McCain (R-Ariz.) told CNN he could “absolutely confirm” that airstrikes hit Western-backed groups such as the Free Syrian Army and other factions “armed and trained by the CIA.”\n",
    "\n",
    "“We have communications with people there,” said McCain, chairman of the Senate Armed Services Committee.\n",
    "\n",
    "The accounts could not be independently assessed, but the main focus of the Russian attacks appeared to be in areas not known to have strong Islamic State footholds.\n",
    "\n",
    "In Moscow, the reply was blunt.\n",
    "\n",
    "“Total rubbish,” Gennady Zyuganov, a member of parliament and leader of Russia’s Communist Party, said of the U.S. accusations.\n",
    "\n",
    "In televised remarks Thursday, Putin called accusations that Russian airstrikes had killed civilians in Syria “information attacks.”\n",
    "\n",
    "He also addressed concerns about an accidental military clash between Russian and U.S.-led coalition forces, saying that his intelligence and military agencies were “establishing contacts” with counterparts in the United States.\n",
    "\n",
    "“This work is ongoing, and I hope that it will conclude with the creation of a regularly acting mechanism,” he said.\n",
    "\n",
    "A spokesman for Russia’s Defense Ministry, Igor Konashenkov, said Thursday that warplanes hit a dozen Islamic State sites in the past 24 hours, destroying targets including a command center and two arms depots.\n",
    "\n",
    "[Russia’s strategy in Syria could be a work in progress]\n",
    "\n",
    "The United States and Russia agree on the need to fight the Islamic State but not about what to do with the Syrian president. The Syrian civil war, which grew out of an uprising against Assad, has killed more than 250,000 people since March 2011 and sent millions of refugees fleeing to countries in the Middle East and Europe.\n",
    "\n",
    "Accusing Russia of “pouring gasoline on the fire,” Defense Secretary Ashton B. Carter vowed that U.S. pilots would continue their year-long bombing campaign against the Islamic State in Syria, despite Moscow’s warning that American planes should stay away from its operations.\n",
    "\n",
    "“I think what they’re doing is going to backfire and is counterproductive,” Carter said on Wednesday.\n",
    "\n",
    "Yet Russia’s military flexing in Syria brought quick overtures from neighboring Iraq, where the Islamic State also holds significant territory but the government is within Washington’s fold.\n",
    "\n",
    "Iraq’s prime minister, Haider al-Abadi, told France 24 that he “would welcome” Russia joining the U.S.-led airstrikes against Islamic State targets, but there have been no specific discussions.\n",
    "\n",
    "Joining the protests against the Russian airstrikes was Saudi Arabia, a leading foe of Assad and one of Washington’s top Middle East allies.\n",
    "\n",
    "At the United Nations late Wednesday, the Saudi ambassador, Abdallah al-Mouallimi, demanded that the Russian air campaign “stop immediately” and accused Moscow of carrying out attacks in areas outside the control of the Islamic State.\n",
    "\n",
    "In Iran, Assad’s main regional backer, Foreign Ministry spokeswoman Marzieh Afkham called Russia’s military role a step “toward resolving the current crisis” in Syria.\n",
    "\n",
    "Sly reported from Beirut, and Murphy from Washington. Daniela Deane in London, William Branigin in Washington and Loveday Morris in Baghdad contributed to this report.\n",
    "\"\"\""
   ]
  },
  {
   "cell_type": "code",
   "execution_count": 32,
   "metadata": {},
   "outputs": [
    {
     "name": "stdout",
     "output_type": "stream",
     "text": [
      "7402\n",
      "1097\n",
      "79\n"
     ]
    }
   ],
   "source": [
    "# Your code here\n",
    "ch = len(washington_post)\n",
    "print(ch)\n",
    "words = len(washington_post.split(' '))\n",
    "print(words)\n",
    "paragraphs = len(washington_post.split('\\n'))\n",
    "print(paragraphs)"
   ]
  },
  {
   "cell_type": "code",
   "execution_count": 33,
   "metadata": {},
   "outputs": [
    {
     "name": "stdout",
     "output_type": "stream",
     "text": [
      "Average word length =  6.747493163172288\n"
     ]
    }
   ],
   "source": [
    "#What is the average word length\n",
    "\n",
    "print('Average word length = ', ch/words)"
   ]
  },
  {
   "cell_type": "code",
   "execution_count": 34,
   "metadata": {},
   "outputs": [
    {
     "name": "stdout",
     "output_type": "stream",
     "text": [
      "Russia was mentioned:  27\n"
     ]
    }
   ],
   "source": [
    "#How many times \"Russia\" was mentioned in the document?\n",
    "\n",
    "print('Russia was mentioned: ', washington_post.count('Russia'))"
   ]
  },
  {
   "cell_type": "markdown",
   "metadata": {},
   "source": [
    "### Set:\n",
    "\n",
    "A set is a data structure where all elements are unique. Sets are unordered. In fact, the order of the elements observed when printing a set might change at different points during a programs execution, depending on the state of python's internal representation of the set. Sets are ideal for membership queries, for instance, is a user amongst those users who have received a promotion? \n",
    "\n",
    "Sets are specified by curly braces, `{ }`, containing one or more comma separated values. To specify an empty list, you can use the alternative construct, `set()`."
   ]
  },
  {
   "cell_type": "code",
   "execution_count": 35,
   "metadata": {
    "collapsed": true
   },
   "outputs": [],
   "source": [
    "# creating sets\n",
    "some_set = {1, 2, 3, 4, 4, 4, 4}\n",
    "another_set = {4, 5, 6}"
   ]
  },
  {
   "cell_type": "code",
   "execution_count": 36,
   "metadata": {},
   "outputs": [
    {
     "name": "stdout",
     "output_type": "stream",
     "text": [
      "{1, 2, 3, 4}\n"
     ]
    }
   ],
   "source": [
    "print(some_set)"
   ]
  },
  {
   "cell_type": "code",
   "execution_count": 37,
   "metadata": {
    "collapsed": true
   },
   "outputs": [],
   "source": [
    "# creating an empty set; notice that we do *not* use the \"empty set = {}\" command\n",
    "# as someone would expect based on the way that we create an empty list\n",
    "empty_set = set()"
   ]
  },
  {
   "cell_type": "markdown",
   "metadata": {},
   "source": [
    "We can also create a set from a list:"
   ]
  },
  {
   "cell_type": "code",
   "execution_count": 39,
   "metadata": {},
   "outputs": [
    {
     "name": "stdout",
     "output_type": "stream",
     "text": [
      "{0, 1, 2, 3, 5, 10, 11}\n",
      "7\n",
      "9\n"
     ]
    }
   ],
   "source": [
    "my_list = [1, 2, 3, 0, 5, 10, 11, 1, 5]\n",
    "your_list = [1, 2, 3, 0, 12, 13]\n",
    "my_set = set(my_list)\n",
    "your_set = set(your_list)\n",
    "print(my_set)\n",
    "print(len(my_set))\n",
    "print(len(my_list))"
   ]
  },
  {
   "cell_type": "markdown",
   "metadata": {},
   "source": [
    "#### Exercise \n",
    "\n",
    "* What is the number of distinct words in the `washington_post` variable (defined above)?"
   ]
  },
  {
   "cell_type": "code",
   "execution_count": 41,
   "metadata": {},
   "outputs": [
    {
     "name": "stdout",
     "output_type": "stream",
     "text": [
      "1097\n",
      "607\n"
     ]
    }
   ],
   "source": [
    "# your code here\n",
    "words = len(washington_post.split(' '))\n",
    "print(words)\n",
    "words_set = set(washington_post.split(' '))\n",
    "dwords = len(words_set)\n",
    "print(dwords)"
   ]
  },
  {
   "cell_type": "markdown",
   "metadata": {},
   "source": [
    "#### Checking for membership in a set"
   ]
  },
  {
   "cell_type": "markdown",
   "metadata": {},
   "source": [
    "The easiest way to check for membership in a set is to use the `in` keyword, checking if a needle is \"`in`\" the set."
   ]
  },
  {
   "cell_type": "code",
   "execution_count": null,
   "metadata": {
    "collapsed": true
   },
   "outputs": [],
   "source": [
    "my_set = {1, 2, 3, 4}"
   ]
  },
  {
   "cell_type": "code",
   "execution_count": null,
   "metadata": {
    "collapsed": true
   },
   "outputs": [],
   "source": [
    "val = 1\n",
    "print(\"The value\", val ,\"appears in the variable my_set:\", val in my_set)"
   ]
  },
  {
   "cell_type": "code",
   "execution_count": null,
   "metadata": {
    "collapsed": true
   },
   "outputs": [],
   "source": [
    "val = 0\n",
    "print(\"The value\", val ,\"appears in the variable my_set:\", val in my_set)"
   ]
  },
  {
   "cell_type": "markdown",
   "metadata": {},
   "source": [
    "We also have the \"`not in`\" operator"
   ]
  },
  {
   "cell_type": "code",
   "execution_count": null,
   "metadata": {
    "collapsed": true
   },
   "outputs": [],
   "source": [
    "val = 5\n",
    "print(\"Value %d does not appear in some_set:\" % val, (val not in some_set))\n",
    "val = 1\n",
    "print(\"Value %d does not appear in some_set:\" % val, (val not in some_set))\n"
   ]
  },
  {
   "cell_type": "markdown",
   "metadata": {},
   "source": [
    "#### Set operators: Add, remove elements; Union, intersection, subset"
   ]
  },
  {
   "cell_type": "markdown",
   "metadata": {},
   "source": [
    "Some other common set functionality:\n",
    "\n",
    "+ `set_a.add(x)`: add an element to a set\n",
    "+ `set_a.remove(x)`: remove an element from a set\n",
    "+ `set_a - set_b`: elements in a but not in b. Equivalent to `set_a.difference(set_b)`\n",
    "+ `set_a | set_b`: elements in a or b. Equivalent to `set_a.union(set_b)`\n",
    "+ `set_a & set_b`: elements in both a and b. Equivalent to `set_a.intersection(set_b)`\n",
    "+ `set_a ^ set_b`: elements in a or b but not both. Equivalent to `set_a.symmetric_difference(set_b)` \n",
    "+ `set_a <= set_b`:\ttests whether every element in set_a is in set_b. Equivalent to `set_a.issubset(set_b)`\n"
   ]
  },
  {
   "cell_type": "markdown",
   "metadata": {},
   "source": [
    "#### Exercise\n",
    "\n",
    "Try the above yourself using the `set_A` and `set_B` variables, and compute the difference, union, intersection, and symmetric difference, between the two sets."
   ]
  },
  {
   "cell_type": "code",
   "execution_count": 5,
   "metadata": {},
   "outputs": [
    {
     "name": "stdout",
     "output_type": "stream",
     "text": [
      "Set A {1, 2, 3, 4, 5}\n",
      "Set B {4, 5, 6, 7}\n",
      "Difference {1, 2, 3}\n",
      "Union {1, 2, 3, 4, 5, 6, 7}\n",
      "Intersection {4, 5}\n",
      "Symmetric Difference {1, 2, 3, 6, 7}\n"
     ]
    }
   ],
   "source": [
    "# Your code here\n",
    "set_A = {1, 2, 3, 4, 5}\n",
    "set_B = {4, 5, 6, 7}\n",
    "print(\"Set A\", set_A)\n",
    "print(\"Set B\", set_B)\n",
    "print(\"Difference\", set_A.difference(set_B)) # Your code here\n",
    "print(\"Union\", set_A.union(set_B)) # Your code here)\n",
    "print(\"Intersection\", set_A.intersection(set_B)) # Your code here)\n",
    "print(\"Symmetric Difference\", set_A.symmetric_difference(set_B)) # Your code here)"
   ]
  },
  {
   "cell_type": "markdown",
   "metadata": {},
   "source": [
    "Now, lets try to use the [Jaccard index similarity](https://en.wikipedia.org/wiki/Jaccard_index) to compute the similarity of the two sets. The Jaccard coefficient is defined as the ratio of the size of the intersection of the two sets, divided by the size of the union of the two sets."
   ]
  },
  {
   "cell_type": "code",
   "execution_count": 10,
   "metadata": {},
   "outputs": [
    {
     "name": "stdout",
     "output_type": "stream",
     "text": [
      "Jaccard index similarity =  0.2857142857142857\n"
     ]
    }
   ],
   "source": [
    "# Your code here\n",
    "print('Jaccard index similarity = ', len(set_A.intersection(set_B))/\n",
    "      len(set_A.union(set_B)))"
   ]
  },
  {
   "cell_type": "markdown",
   "metadata": {},
   "source": [
    "#### Exercise\n",
    "\n",
    "Now, let's pick a few news articles from the web and paste them in the notebook (as in the case of the Washington Post above). Then compute the similarity of these articles using the Jaccard similarity."
   ]
  },
  {
   "cell_type": "code",
   "execution_count": null,
   "metadata": {
    "collapsed": true
   },
   "outputs": [],
   "source": []
  },
  {
   "cell_type": "markdown",
   "metadata": {},
   "source": [
    "### Tuples\n",
    "\n",
    "A tuple consists of a number of values separated by commas, for instance:"
   ]
  },
  {
   "cell_type": "code",
   "execution_count": 11,
   "metadata": {},
   "outputs": [
    {
     "name": "stdout",
     "output_type": "stream",
     "text": [
      "(12345, 54321, 'hello!')\n"
     ]
    }
   ],
   "source": [
    "t = (12345, 54321, 'hello!')\n",
    "print(t)"
   ]
  },
  {
   "cell_type": "code",
   "execution_count": 12,
   "metadata": {},
   "outputs": [
    {
     "name": "stdout",
     "output_type": "stream",
     "text": [
      "hello!\n"
     ]
    }
   ],
   "source": [
    "print(t[2])"
   ]
  },
  {
   "cell_type": "code",
   "execution_count": 13,
   "metadata": {},
   "outputs": [
    {
     "name": "stdout",
     "output_type": "stream",
     "text": [
      "[15, 54321, 'hello!']\n"
     ]
    }
   ],
   "source": [
    "# LIST\n",
    "l = [12345, 54321, 'hello!']\n",
    "l[0] = 15\n",
    "print(l)"
   ]
  },
  {
   "cell_type": "code",
   "execution_count": 14,
   "metadata": {},
   "outputs": [
    {
     "ename": "TypeError",
     "evalue": "'tuple' object does not support item assignment",
     "output_type": "error",
     "traceback": [
      "\u001b[0;31m---------------------------------------------------------------------------\u001b[0m",
      "\u001b[0;31mTypeError\u001b[0m                                 Traceback (most recent call last)",
      "\u001b[0;32m<ipython-input-14-dc1cafcac379>\u001b[0m in \u001b[0;36m<module>\u001b[0;34m()\u001b[0m\n\u001b[1;32m      1\u001b[0m \u001b[0;31m# TUPLE\u001b[0m\u001b[0;34m\u001b[0m\u001b[0;34m\u001b[0m\u001b[0m\n\u001b[1;32m      2\u001b[0m \u001b[0mt\u001b[0m \u001b[0;34m=\u001b[0m \u001b[0;34m(\u001b[0m\u001b[0;36m12345\u001b[0m\u001b[0;34m,\u001b[0m \u001b[0;36m54321\u001b[0m\u001b[0;34m,\u001b[0m \u001b[0;34m'hello!'\u001b[0m\u001b[0;34m)\u001b[0m\u001b[0;34m\u001b[0m\u001b[0m\n\u001b[0;32m----> 3\u001b[0;31m \u001b[0mt\u001b[0m\u001b[0;34m[\u001b[0m\u001b[0;36m0\u001b[0m\u001b[0;34m]\u001b[0m \u001b[0;34m=\u001b[0m \u001b[0;36m15\u001b[0m\u001b[0;34m\u001b[0m\u001b[0m\n\u001b[0m\u001b[1;32m      4\u001b[0m \u001b[0mprint\u001b[0m\u001b[0;34m(\u001b[0m\u001b[0mt\u001b[0m\u001b[0;34m)\u001b[0m\u001b[0;34m\u001b[0m\u001b[0m\n",
      "\u001b[0;31mTypeError\u001b[0m: 'tuple' object does not support item assignment"
     ]
    }
   ],
   "source": [
    "# TUPLE\n",
    "t = (12345, 54321, 'hello!')\n",
    "t[0] = 15\n",
    "print(t)"
   ]
  },
  {
   "cell_type": "code",
   "execution_count": 15,
   "metadata": {},
   "outputs": [
    {
     "name": "stdout",
     "output_type": "stream",
     "text": [
      "Two elements. The first one: Fox and the second one Temple\n"
     ]
    }
   ],
   "source": [
    "print(\"Two elements. The first one: %s and the second one %s\" % (\"Fox\", \"Temple\"))"
   ]
  },
  {
   "cell_type": "markdown",
   "metadata": {},
   "source": [
    "### Dictionaries\n",
    "\n",
    "(Readings: LPTHW, Ex 39)\n",
    "\n",
    "Dictionaries, sometimes called dicts, maps, or, rarely, hashes are data structures containing key-value pairs. Dictionaries have a set of unique keys and are used to retrieve the value information associated with these keys. For instance, a dictionary might be used to store for each user, that user's location, or for a product id, the description associated with that product. Lookup into a dictionary is very efficient, and because these data structures are very common, they are frequently used and encountered in practice. \n",
    "\n",
    "Dictionaries are specified by curly braces, `{ }`, containing zero or more comma separated key-value pairs, where the keys and values are separated by a colon, `:`. Like a list, values for a particular key are retrieved by passing the query key into square brackets."
   ]
  },
  {
   "cell_type": "code",
   "execution_count": 16,
   "metadata": {},
   "outputs": [
    {
     "name": "stdout",
     "output_type": "stream",
     "text": [
      "{'a': 1, 'b': 2, 'c': 3, 'd': 4}\n"
     ]
    }
   ],
   "source": [
    "a_dict = {\"a\":1, \"b\":2, \"c\":3, \"d\": 4}\n",
    "print(a_dict)"
   ]
  },
  {
   "cell_type": "code",
   "execution_count": 17,
   "metadata": {},
   "outputs": [
    {
     "name": "stdout",
     "output_type": "stream",
     "text": [
      "{'a': 1, 'b': 2, 'c': 4}\n"
     ]
    }
   ],
   "source": [
    "# A key cannot be repeated\n",
    "# See what happens when we repeat the key \"c\"\n",
    "a_dict = {\"a\":1, \"b\":2, \"c\":3, \"c\": 4}\n",
    "print(a_dict)"
   ]
  },
  {
   "cell_type": "code",
   "execution_count": 18,
   "metadata": {},
   "outputs": [
    {
     "name": "stdout",
     "output_type": "stream",
     "text": [
      "{'longitude': -73.9885, 'latitude': 40.7317, 'asn': 'AS12', 'offset': '-4', 'ip': '216.165.95.68'}\n"
     ]
    }
   ],
   "source": [
    "telize_dict = {\n",
    "\"longitude\": -73.9885,\n",
    "\"latitude\": 40.7317,\n",
    "\"asn\": \"AS12\",\n",
    "\"offset\": \"-4\",\n",
    "\"ip\": \"216.165.95.68\"}\n",
    "\n",
    "print(telize_dict)\n",
    "\n"
   ]
  },
  {
   "cell_type": "code",
   "execution_count": 19,
   "metadata": {},
   "outputs": [
    {
     "name": "stdout",
     "output_type": "stream",
     "text": [
      "216.165.95.68\n",
      "216.165.95.68\n"
     ]
    }
   ],
   "source": [
    "print(telize_dict[\"ip\"])\n",
    "\n",
    "# or, alternatively\n",
    "\n",
    "print(telize_dict.get(\"ip\"))"
   ]
  },
  {
   "cell_type": "code",
   "execution_count": 21,
   "metadata": {},
   "outputs": [
    {
     "name": "stdout",
     "output_type": "stream",
     "text": [
      "{'longitude': -73.9885, 'latitude': 40.7317, 'asn': 'AS12', 'offset': '-4', 'ip': '216.165.95.68', 'isp': 'Temple University'}\n"
     ]
    }
   ],
   "source": [
    "telize_dict[\"isp\"] = \"Temple University\"\n",
    "\n",
    "print(telize_dict)"
   ]
  },
  {
   "cell_type": "code",
   "execution_count": 22,
   "metadata": {},
   "outputs": [
    {
     "name": "stdout",
     "output_type": "stream",
     "text": [
      "4\n"
     ]
    }
   ],
   "source": [
    "a_dict = {\"a\":1, \"b\":2, \"c\":3, \"c\": 4}\n",
    "another_dict = {\"c\":5, \"d\":6}\n",
    "print(a_dict[\"c\"])"
   ]
  },
  {
   "cell_type": "markdown",
   "metadata": {},
   "source": [
    "Like the set, the easiest way to check if a particular **key** is in a dictionary is through the `in` keyword:"
   ]
  },
  {
   "cell_type": "code",
   "execution_count": 23,
   "metadata": {},
   "outputs": [
    {
     "name": "stdout",
     "output_type": "stream",
     "text": [
      "True\n"
     ]
    }
   ],
   "source": [
    "a_dict = {\"a\":\"e\", \"b\":2, \"c\":3, \"c\": 4}\n",
    "print(\"b\" in a_dict)"
   ]
  },
  {
   "cell_type": "markdown",
   "metadata": {},
   "source": [
    "Notice that the `in` will not work if we try to find a value in the dictionary."
   ]
  },
  {
   "cell_type": "code",
   "execution_count": 24,
   "metadata": {},
   "outputs": [
    {
     "name": "stdout",
     "output_type": "stream",
     "text": [
      "False\n"
     ]
    }
   ],
   "source": [
    "# This does *not* work for values\n",
    "a_dict = {\"a\":\"e\", \"b\":2, \"c\":3, \"c\": 4}\n",
    "print(\"e\" in a_dict)"
   ]
  },
  {
   "cell_type": "code",
   "execution_count": null,
   "metadata": {
    "collapsed": true
   },
   "outputs": [],
   "source": [
    "a_dict = {\"a\":\"e\", \"b\":2, \"c\":3, \"c\": 4}\n",
    "print(\"e\" in a_dict)"
   ]
  },
  {
   "cell_type": "markdown",
   "metadata": {},
   "source": [
    "Some common operations on dictionaries:\n",
    "\n",
    "+ `dict.keys()`: returns a list containing the keys of a dictionary\n",
    "+ `dict.values()`: returns a list containing the values in a dictionary\n",
    "+ `dict.pop(x)`: removes the key and its associated value from the dictionary"
   ]
  },
  {
   "cell_type": "code",
   "execution_count": 25,
   "metadata": {},
   "outputs": [
    {
     "name": "stdout",
     "output_type": "stream",
     "text": [
      "Keys: dict_keys(['a', 'b', 'c'])\n"
     ]
    }
   ],
   "source": [
    "a_dict = {\"a\":\"e\", \"b\":2, \"c\":3, \"c\": 4}\n",
    "print(\"Keys:\", a_dict.keys())"
   ]
  },
  {
   "cell_type": "code",
   "execution_count": 26,
   "metadata": {},
   "outputs": [
    {
     "name": "stdout",
     "output_type": "stream",
     "text": [
      "Values: dict_values(['e', 2, 4])\n"
     ]
    }
   ],
   "source": [
    "print(\"Values:\", a_dict.values())"
   ]
  },
  {
   "cell_type": "code",
   "execution_count": 27,
   "metadata": {},
   "outputs": [
    {
     "name": "stdout",
     "output_type": "stream",
     "text": [
      "3\n"
     ]
    }
   ],
   "source": [
    "print(len(a_dict))"
   ]
  },
  {
   "cell_type": "markdown",
   "metadata": {},
   "source": [
    "#### Exercise\n",
    "\n",
    "* Find the common keys in `a_dict` and `b_dict`\n",
    "* Find the common values in `a_dict` and `b_dict` \n"
   ]
  },
  {
   "cell_type": "code",
   "execution_count": 31,
   "metadata": {},
   "outputs": [
    {
     "name": "stdout",
     "output_type": "stream",
     "text": [
      "{'c'}\n",
      "<class 'dict_keys'>\n",
      "set()\n",
      "<class 'dict_values'>\n"
     ]
    }
   ],
   "source": [
    "a_dict = {\"a\":\"e\", \"b\":2, \"c\":3, \"c\": 4}\n",
    "b_dict = {\"c\":5, \"d\":6}\n",
    "# your code here\n",
    "\n",
    "a = set(a_dict.keys())\n",
    "b = set(b_dict.keys())\n",
    "print(a.intersection(b))\n",
    "print(type(a_dict.keys()))\n",
    "\n",
    "av = set(a_dict.values())\n",
    "bv = set(b_dict.values())\n",
    "print(av.intersection(bv))\n",
    "print(type(a_dict.values()))\n"
   ]
  },
  {
   "cell_type": "markdown",
   "metadata": {},
   "source": [
    "### Combining (Nesting) Data Structures:\n",
    "\n",
    "There are many opportunities to combine data types in python. Lists can be populated by arbitrary data structures. Similarly, you can use any type as the value in a dictionary. However, the elements of sets, and the keys of dictionaries need to have some special properties that allow the mechanics of the data structure to determine how to store the element.\n",
    "\n",
    "Aside: to use a particular element in a set or as a key in a dictionary, it must define a [hash function](http://en.wikipedia.org/wiki/Hash_function), `__hash__`. In a nutshell, a hash function maps a data element to a number in a predefined range, based on the characteristics of that element. Because the contents of a data structure might change, so too would the value of their associated `__hash__` function, causing problems for the algorithms powering sets and dictionaries."
   ]
  },
  {
   "cell_type": "code",
   "execution_count": 32,
   "metadata": {},
   "outputs": [
    {
     "name": "stdout",
     "output_type": "stream",
     "text": [
      "lists of lists\n",
      "lists of lists of lists\n",
      "Lolol: [[[1, 2, 3], [4, 5, 6, 7]], [[4, 5, 6], [7, 8, 9]]]\n"
     ]
    }
   ],
   "source": [
    "print(\"lists of lists\")\n",
    "lol = [[1, 2, 3], [4, 5, 6, 7]]\n",
    "lol_2 = [[4, 5, 6], [7, 8, 9]]\n",
    "print(\"lists of lists of lists\")\n",
    "lolol = [lol, lol_2]\n",
    "print(\"Lolol:\", lolol)"
   ]
  },
  {
   "cell_type": "code",
   "execution_count": 33,
   "metadata": {},
   "outputs": [
    {
     "name": "stdout",
     "output_type": "stream",
     "text": [
      "retrieving data from this data structure\n",
      "Lolol[0]: [[1, 2, 3], [4, 5, 6, 7]]\n"
     ]
    }
   ],
   "source": [
    "print(\"retrieving data from this data structure\")\n",
    "print(\"Lolol[0]:\",lolol[0])"
   ]
  },
  {
   "cell_type": "code",
   "execution_count": 34,
   "metadata": {},
   "outputs": [
    {
     "name": "stdout",
     "output_type": "stream",
     "text": [
      "Lolol[0][0]: [1, 2, 3]\n"
     ]
    }
   ],
   "source": [
    "print(\"Lolol[0][0]:\",lolol[0][0])"
   ]
  },
  {
   "cell_type": "code",
   "execution_count": 35,
   "metadata": {},
   "outputs": [
    {
     "name": "stdout",
     "output_type": "stream",
     "text": [
      "Lolol[0][0][0]: 1\n"
     ]
    }
   ],
   "source": [
    "print(\"Lolol[0][0][0]:\",lolol[0][0][0])"
   ]
  },
  {
   "cell_type": "code",
   "execution_count": 36,
   "metadata": {},
   "outputs": [
    {
     "name": "stdout",
     "output_type": "stream",
     "text": [
      "data structures as values in a dictionary\n",
      "{'lol': [[1, 2, 3], [4, 5, 6, 7]], 'lol_2': [[4, 5, 6], [7, 8, 9]]}\n"
     ]
    }
   ],
   "source": [
    "print(\"data structures as values in a dictionary\")\n",
    "dlol = {\"lol\":lol, \"lol_2\":lol_2}\n",
    "print(dlol)"
   ]
  },
  {
   "cell_type": "code",
   "execution_count": 37,
   "metadata": {},
   "outputs": [
    {
     "name": "stdout",
     "output_type": "stream",
     "text": [
      "Accessing the list of lists named lol: [[1, 2, 3], [4, 5, 6, 7]]\n",
      "Accessing the second element : [4, 5, 6, 7]\n"
     ]
    }
   ],
   "source": [
    "# Access the list [4, 5, 6, 7] in the \"lol\" key\n",
    "print(\"Accessing the list of lists named lol:\", dlol[\"lol\"])\n",
    "print(\"Accessing the second element :\", dlol[\"lol\"][1])"
   ]
  },
  {
   "cell_type": "code",
   "execution_count": 38,
   "metadata": {},
   "outputs": [
    {
     "name": "stdout",
     "output_type": "stream",
     "text": [
      "retrieving data from this dictionary\n",
      "[[1, 2, 3], [4, 5, 6, 7]]\n",
      "[1, 2, 3]\n",
      "1\n"
     ]
    }
   ],
   "source": [
    "print(\"retrieving data from this dictionary\")\n",
    "print(dlol[\"lol\"])\n",
    "print(dlol[\"lol\"][0])\n",
    "print(dlol[\"lol\"][0][0])"
   ]
  },
  {
   "cell_type": "markdown",
   "metadata": {},
   "source": [
    "#### Exercise\n",
    "\n",
    "You are given the following data structure.\n",
    "\n",
    "`data = {\n",
    "    \"Barack\": {\n",
    "        \"Job\":\"44th President\", \n",
    "        \"YOB\": \"1961\", \n",
    "        \"Children\": [\"Malia\", \"Sasha\"]\n",
    "        }, \n",
    "    \"Joe\": {\n",
    "        \"Job\":\"Data Scientist\", \n",
    "        \"YOB\": \"1981\"\n",
    "        }\n",
    "    }`\n",
    "\n",
    "You need to write code that\n",
    "\n",
    "* Prints the job of Joe\n",
    "* Prints the year of birth of Barack\n",
    "* Prints the children of Barack\n",
    "* Prints the second child of Barack\n",
    "* Prints the number of people entries in the data\n",
    "* Checks if Maria is in the data\n",
    "* Checks if Barack has children\n",
    "* Checks if Joe has children"
   ]
  },
  {
   "cell_type": "code",
   "execution_count": 39,
   "metadata": {
    "collapsed": true
   },
   "outputs": [],
   "source": [
    "data = {\"Barack\": {\"Job\":\"44th President\", \"YOB\": \"1961\", \"Children\": [\"Malia\", \"Sasha\"]}, \n",
    "        \"Joe\": {\"Job\":\"Data Scientist\", \"YOB\": \"1981\"}}\n",
    "# your code goes below"
   ]
  },
  {
   "cell_type": "code",
   "execution_count": 40,
   "metadata": {},
   "outputs": [
    {
     "name": "stdout",
     "output_type": "stream",
     "text": [
      "Data Scientist\n"
     ]
    }
   ],
   "source": [
    "# Prints the job of Joe\n",
    "print(data['Joe']['Job'])"
   ]
  },
  {
   "cell_type": "code",
   "execution_count": 41,
   "metadata": {},
   "outputs": [
    {
     "name": "stdout",
     "output_type": "stream",
     "text": [
      "1961\n"
     ]
    }
   ],
   "source": [
    "# Prints the year of birth of Barack\n",
    "print(data['Barack']['YOB'])"
   ]
  },
  {
   "cell_type": "code",
   "execution_count": 42,
   "metadata": {},
   "outputs": [
    {
     "name": "stdout",
     "output_type": "stream",
     "text": [
      "['Malia', 'Sasha']\n"
     ]
    }
   ],
   "source": [
    "# Prints the children of Barack\n",
    "print(data['Barack']['Children'])"
   ]
  },
  {
   "cell_type": "code",
   "execution_count": 43,
   "metadata": {},
   "outputs": [
    {
     "name": "stdout",
     "output_type": "stream",
     "text": [
      "Sasha\n"
     ]
    }
   ],
   "source": [
    "# Prints the second child of Barack\n",
    "print(data['Barack']['Children'][1])"
   ]
  },
  {
   "cell_type": "code",
   "execution_count": 44,
   "metadata": {},
   "outputs": [
    {
     "name": "stdout",
     "output_type": "stream",
     "text": [
      "2\n"
     ]
    }
   ],
   "source": [
    "# Prints the number of people entries in the data\n",
    "print(len(data))"
   ]
  },
  {
   "cell_type": "code",
   "execution_count": 45,
   "metadata": {},
   "outputs": [
    {
     "data": {
      "text/plain": [
       "False"
      ]
     },
     "execution_count": 45,
     "metadata": {},
     "output_type": "execute_result"
    }
   ],
   "source": [
    "# Checks if Maria is in the data\n",
    "'Maria' in data"
   ]
  },
  {
   "cell_type": "code",
   "execution_count": 48,
   "metadata": {},
   "outputs": [
    {
     "name": "stdout",
     "output_type": "stream",
     "text": [
      "True\n"
     ]
    }
   ],
   "source": [
    "# Checks if Barack has children\n",
    "print('Children' in data['Barack'] and len(data['Barack']['Children'])!=0)"
   ]
  },
  {
   "cell_type": "code",
   "execution_count": 50,
   "metadata": {},
   "outputs": [
    {
     "name": "stdout",
     "output_type": "stream",
     "text": [
      "False\n"
     ]
    }
   ],
   "source": [
    "print('Children' in data['Joe'] and len(data['Joe'].get('Children'))!=0)"
   ]
  },
  {
   "cell_type": "code",
   "execution_count": null,
   "metadata": {
    "collapsed": true
   },
   "outputs": [],
   "source": [
    "# Checks if Joe has children\n"
   ]
  }
 ],
 "metadata": {
  "anaconda-cloud": {},
  "kernelspec": {
   "display_name": "Python 3",
   "language": "python",
   "name": "python3"
  },
  "language_info": {
   "codemirror_mode": {
    "name": "ipython",
    "version": 3
   },
   "file_extension": ".py",
   "mimetype": "text/x-python",
   "name": "python",
   "nbconvert_exporter": "python",
   "pygments_lexer": "ipython3",
   "version": "3.6.1"
  }
 },
 "nbformat": 4,
 "nbformat_minor": 1
}
