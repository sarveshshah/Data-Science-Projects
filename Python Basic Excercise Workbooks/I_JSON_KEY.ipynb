{
 "cells": [
  {
   "cell_type": "markdown",
   "metadata": {},
   "source": [
    "# JSON"
   ]
  },
  {
   "cell_type": "raw",
   "metadata": {},
   "source": [
    "JavaScript Object Notation (JSON)\n",
    "- Standard for \"serializing\" data objects, usually in files\n",
    "- Human-readable, useful for data interchange\n",
    "- Also useful for representing and storing semistructured data"
   ]
  },
  {
   "cell_type": "markdown",
   "metadata": {},
   "source": [
    "## Basic constructs (recursive)"
   ]
  },
  {
   "cell_type": "raw",
   "metadata": {},
   "source": [
    "- Base values: number, string, boolean, ...\n",
    "- Objects { } sets of label-value pairs\n",
    "- Arrays [ ]"
   ]
  },
  {
   "cell_type": "raw",
   "metadata": {},
   "source": [
    "{ \"Books\":\n",
    "  [\n",
    "    { \"ISBN\":\"ISBN-13:978-1599620787\",\n",
    "      \"Price\":15.23,\n",
    "      \"Weight\":1.5,\n",
    "      \"Title\":\"New York Deco\",\n",
    "      \"Authors\":[ {\"First_Name\":\"Richard\", \"Last_Name\":\"Berenholtz\"}\n",
    "                ] \n",
    "    },\n",
    "    { \"ISBN\":\"ISBN-13:978-1579128562\",\n",
    "      \"Price\":15.80,\n",
    "      \"Remark\":\"Five Hundred Buildings of New York and over one million other books are available for Amazon Kindle.\",\n",
    "      \"Title\":\"Five Hundred Buildings of New York\",\n",
    "      \"Authors\":[ {\"First_Name\":\"Bill\", \"Last_Name\":\"Harris\"},\n",
    "                  {\"First_Name\":\"Jorg\", \"Last_Name\":\"Brockmann\"}\n",
    "                ] \n",
    "    }\n",
    "  ],\n",
    "  \"Kindle\":\n",
    "  [\n",
    "    { \"Title\":\"National Geographic\",\n",
    "      \"URL\":\"http://www.amazon.com/The-New-York-Times-Book-ebook/dp/B00IIXLKNC\",\n",
    "      \"Authors\":[ {\"First_Name\":\"James\", \"Last_Name\":\"Barron\"},\n",
    "                  {\"First_Name\":\"Anna\", \"Last_Name\":\"Quindlen\"}\n",
    "                ]\n",
    "    }\n",
    "  ]\n",
    "}"
   ]
  },
  {
   "cell_type": "code",
   "execution_count": 1,
   "metadata": {
    "collapsed": true
   },
   "outputs": [],
   "source": [
    "import json"
   ]
  },
  {
   "cell_type": "markdown",
   "metadata": {},
   "source": [
    "## Example"
   ]
  },
  {
   "cell_type": "code",
   "execution_count": 2,
   "metadata": {},
   "outputs": [
    {
     "name": "stdout",
     "output_type": "stream",
     "text": [
      "DATA: [{'a': 'A', 'b': (2, 4), 'c': 3.0}] <class 'list'>\n"
     ]
    }
   ],
   "source": [
    "data = [ { 'a':'A', 'b':(2, 4), 'c':3.0 } ]\n",
    "print('DATA:', data, type(data))"
   ]
  },
  {
   "cell_type": "code",
   "execution_count": 3,
   "metadata": {},
   "outputs": [
    {
     "name": "stdout",
     "output_type": "stream",
     "text": [
      "ENCODED: [{\"a\": \"A\", \"b\": [2, 4], \"c\": 3.0}] <class 'str'>\n"
     ]
    }
   ],
   "source": [
    "data = [ { 'a':'A', 'b':(2, 4), 'c':3.0 } ]\n",
    "data_string = json.dumps(data)\n",
    "print('ENCODED:', data_string, type(data_string))"
   ]
  },
  {
   "cell_type": "code",
   "execution_count": 4,
   "metadata": {},
   "outputs": [
    {
     "name": "stdout",
     "output_type": "stream",
     "text": [
      "DECODED: [{'a': 'A', 'b': [2, 4], 'c': 3.0}] <class 'list'>\n"
     ]
    }
   ],
   "source": [
    "decoded = json.loads(data_string)\n",
    "print('DECODED:', decoded, type(decoded))"
   ]
  },
  {
   "cell_type": "markdown",
   "metadata": {},
   "source": [
    "## Exercise 1"
   ]
  },
  {
   "cell_type": "raw",
   "metadata": {},
   "source": [
    "Compare list of tuples before encoding and after decoding"
   ]
  },
  {
   "cell_type": "code",
   "execution_count": 5,
   "metadata": {},
   "outputs": [
    {
     "name": "stdout",
     "output_type": "stream",
     "text": [
      "[('a', 1), ('b', 2), ('c', 3)]\n",
      "[['a', 1], ['b', 2], ['c', 3]]\n"
     ]
    }
   ],
   "source": [
    "tuples = [('a',1),('b',2),('c',3)]\n",
    "string = json.dumps(tuples)\n",
    "decoded = json.loads(string)\n",
    "print(tuples)\n",
    "print(decoded)"
   ]
  },
  {
   "cell_type": "markdown",
   "metadata": {},
   "source": [
    "### json.dump() json.load()"
   ]
  },
  {
   "cell_type": "code",
   "execution_count": 7,
   "metadata": {},
   "outputs": [],
   "source": [
    "initial_data = [ { 'a':'A', 'b':(2, 4), 'c':3.0 } ]\n",
    "json.dump(initial_data, open('data/temp.json','w'))"
   ]
  },
  {
   "cell_type": "code",
   "execution_count": 8,
   "metadata": {},
   "outputs": [
    {
     "name": "stdout",
     "output_type": "stream",
     "text": [
      "[{'a': 'A', 'b': [2, 4], 'c': 3.0}]\n"
     ]
    }
   ],
   "source": [
    "loaded_data = json.load(open('data/temp.json','r'))\n",
    "print(loaded_data)"
   ]
  },
  {
   "cell_type": "code",
   "execution_count": 10,
   "metadata": {},
   "outputs": [
    {
     "ename": "FileNotFoundError",
     "evalue": "[Errno 2] No such file or directory: 'data/1_books.json'",
     "output_type": "error",
     "traceback": [
      "\u001b[0;31m---------------------------------------------------------------------------\u001b[0m",
      "\u001b[0;31mFileNotFoundError\u001b[0m                         Traceback (most recent call last)",
      "\u001b[0;32m<ipython-input-10-21ea4d2ef124>\u001b[0m in \u001b[0;36m<module>\u001b[0;34m()\u001b[0m\n\u001b[1;32m      1\u001b[0m \u001b[0;31m#load books\u001b[0m\u001b[0;34m\u001b[0m\u001b[0;34m\u001b[0m\u001b[0m\n\u001b[0;32m----> 2\u001b[0;31m \u001b[0mbooks_data\u001b[0m \u001b[0;34m=\u001b[0m \u001b[0mjson\u001b[0m\u001b[0;34m.\u001b[0m\u001b[0mload\u001b[0m\u001b[0;34m(\u001b[0m\u001b[0mopen\u001b[0m\u001b[0;34m(\u001b[0m\u001b[0;34m'data/1_books.json'\u001b[0m\u001b[0;34m,\u001b[0m\u001b[0;34m'r'\u001b[0m\u001b[0;34m)\u001b[0m\u001b[0;34m)\u001b[0m\u001b[0;34m\u001b[0m\u001b[0m\n\u001b[0m\u001b[1;32m      3\u001b[0m \u001b[0mprint\u001b[0m\u001b[0;34m(\u001b[0m\u001b[0mbooks_data\u001b[0m\u001b[0;34m)\u001b[0m\u001b[0;34m\u001b[0m\u001b[0m\n",
      "\u001b[0;31mFileNotFoundError\u001b[0m: [Errno 2] No such file or directory: 'data/1_books.json'"
     ]
    }
   ],
   "source": [
    "#load books\n",
    "books_data = json.load(open('data/1_books.json','r'))\n",
    "print(books_data)"
   ]
  },
  {
   "cell_type": "markdown",
   "metadata": {},
   "source": [
    "## Exercise 2"
   ]
  },
  {
   "cell_type": "raw",
   "metadata": {},
   "source": [
    "Get the list of author's last names:\n",
    "\n",
    "Barron\n",
    "Quindlen\n",
    "Berenholtz\n",
    "Harris\n",
    "Brockmann"
   ]
  },
  {
   "cell_type": "code",
   "execution_count": 11,
   "metadata": {},
   "outputs": [
    {
     "name": "stdout",
     "output_type": "stream",
     "text": [
      "['Berenholtz', 'Harris', 'Brockmann', 'Barron', 'Quindlen']\n"
     ]
    }
   ],
   "source": [
    "input_file = open('data/1_books.json','r')\n",
    "#Your code is here\n",
    "books_data = json.load(input_file)\n",
    "author_list = list()\n",
    "\n",
    "for book_type in books_data:\n",
    "    for book in books_data[book_type]:\n",
    "        for author in book['Authors']:\n",
    "            author_list.append(author['Last_Name'])\n",
    "\n",
    "print(author_list)"
   ]
  },
  {
   "cell_type": "markdown",
   "metadata": {},
   "source": [
    "## Yelp Example"
   ]
  },
  {
   "cell_type": "markdown",
   "metadata": {},
   "source": [
    "We use `Yelp` data from [https://www.yelp.com/dataset_challenge/dataset](https://www.yelp.com/dataset_challenge/dataset)\n",
    "\n",
    "Load data from `yelp_business.json` file and \n",
    "\n",
    "- identify the set of categories of businesses\n",
    "- indentify the most popular category"
   ]
  },
  {
   "cell_type": "code",
   "execution_count": null,
   "metadata": {
    "collapsed": true
   },
   "outputs": [],
   "source": [
    "with open('data/yelp_business.json','r') as yelp_file:\n",
    "    #load data and split by lines\n",
    "    bus_info = yelp_file.read().split('\\n')\n",
    "print(bus_info[0])"
   ]
  },
  {
   "cell_type": "code",
   "execution_count": null,
   "metadata": {
    "collapsed": true
   },
   "outputs": [],
   "source": [
    "# Load data structure from string\n",
    "bus_info_data = json.loads(bus_info[0])\n",
    "print(type(bus_info[0]))\n",
    "print(type(bus_info_data))"
   ]
  },
  {
   "cell_type": "code",
   "execution_count": null,
   "metadata": {
    "collapsed": true
   },
   "outputs": [],
   "source": [
    "#Where is the information about categories?\n",
    "print(bus_info_data['categories'])"
   ]
  },
  {
   "cell_type": "code",
   "execution_count": null,
   "metadata": {
    "collapsed": true
   },
   "outputs": [],
   "source": [
    "# Let's create a set\n",
    "print(set(bus_info_data['categories']))"
   ]
  },
  {
   "cell_type": "code",
   "execution_count": null,
   "metadata": {
    "collapsed": true
   },
   "outputs": [],
   "source": [
    "# Let's put all together\n",
    "categories = set()\n",
    "for business in bus_info:\n",
    "    business_data = json.loads(business)\n",
    "    categories.update(set(business_data['categories']))\n",
    "print(categories)"
   ]
  },
  {
   "cell_type": "code",
   "execution_count": null,
   "metadata": {
    "collapsed": true
   },
   "outputs": [],
   "source": [
    "# Let's find the most popular categories\n",
    "category_freq = dict()\n",
    "for business in bus_info:\n",
    "    business_data = json.loads(business)\n",
    "    for category in business_data['categories']:\n",
    "        # check if category in the dict, otherwose add woth counter = 0\n",
    "        category_freq[category] = category_freq.get(category, 0)\n",
    "        # increase counter\n",
    "        category_freq[category] += 1\n",
    "        \n",
    "print(category_freq)"
   ]
  },
  {
   "cell_type": "code",
   "execution_count": null,
   "metadata": {
    "collapsed": true
   },
   "outputs": [],
   "source": [
    "category_list = [(category,value) for (category,value) in category_freq.items()]"
   ]
  },
  {
   "cell_type": "code",
   "execution_count": null,
   "metadata": {
    "collapsed": true
   },
   "outputs": [],
   "source": [
    "# sorts in place, in descending order, based on the second element of the tuple\n",
    "category_list.sort(key=lambda tupl: tupl[1], reverse=True)  "
   ]
  },
  {
   "cell_type": "code",
   "execution_count": null,
   "metadata": {
    "collapsed": true
   },
   "outputs": [],
   "source": [
    "category_list"
   ]
  }
 ],
 "metadata": {
  "anaconda-cloud": {},
  "kernelspec": {
   "display_name": "Python 3",
   "language": "python",
   "name": "python3"
  },
  "language_info": {
   "codemirror_mode": {
    "name": "ipython",
    "version": 3
   },
   "file_extension": ".py",
   "mimetype": "text/x-python",
   "name": "python",
   "nbconvert_exporter": "python",
   "pygments_lexer": "ipython3",
   "version": "3.6.1"
  }
 },
 "nbformat": 4,
 "nbformat_minor": 1
}
