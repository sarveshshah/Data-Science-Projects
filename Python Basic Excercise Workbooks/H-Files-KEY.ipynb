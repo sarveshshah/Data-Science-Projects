{
 "cells": [
  {
   "cell_type": "markdown",
   "metadata": {},
   "source": [
    "Files and Printing\n",
    "------------------\n",
    "\n",
    "** See also Examples 15, 16, and 17 from Learn Python the Hard Way**\n",
    "\n",
    "You'll often be reading data from a file, or writing the output of your python scripts back into a file. Python makes this very easy. You need to open a file in the appropriate mode, using the `open` function, then you can read or write to accomplish your task. The `open` function takes two arguments, the name of the file, and the mode. The mode is a single letter string that specifies if you're going to be reading from a file, writing to a file, or appending to the end of an existing file. The function returns a file object that performs the various tasks you'll be performing: `a_file = open(filename, mode)`. The modes are:\n",
    "\n",
    "+ `'r'`: open a file for reading\n",
    "+ `'w'`: open a file for writing. Caution: this will overwrite any previously existing file\n",
    "+ `'a'`: append. Write to the end of a file. \n",
    "\n",
    "When reading, you typically want to iterate through the lines in a file using a for loop, as above. Some other common methods for dealing with files are: \n",
    "\n",
    "+ `file.read()`: read the entire contents of a file into a string\n",
    "+ `file.write(some_string)`: writes to the file, note this doesn't automatically include any new lines. Also note that sometimes writes are buffered- python will wait until you have several writes pending, and perform them all at once\n",
    "+ `file.close()`: close the open file. This will free up some computer resources occupied by keeping a file open.\n",
    "\n",
    "Here is an example using files:"
   ]
  },
  {
   "cell_type": "markdown",
   "metadata": {},
   "source": [
    "### Writing a file to disk"
   ]
  },
  {
   "cell_type": "code",
   "execution_count": 1,
   "metadata": {
    "collapsed": true
   },
   "outputs": [],
   "source": [
    "# Create the file temp.txt, and get it ready for writing\n",
    "f = open(\"temp.txt\", \"w\")\n",
    "f.write(\"This is my first file! The end!\\n\")\n",
    "f.write(\"Oh wait, I wanted to say something else.\")\n",
    "f.close()"
   ]
  },
  {
   "cell_type": "code",
   "execution_count": null,
   "metadata": {
    "collapsed": true
   },
   "outputs": [],
   "source": [
    "# Let's check that we did everything as expected\n",
    "# Find the file using your file explorer"
   ]
  },
  {
   "cell_type": "markdown",
   "metadata": {},
   "source": [
    "### Reading a file from disk"
   ]
  },
  {
   "cell_type": "markdown",
   "metadata": {},
   "source": [
    "Once we read the file, we have the lines in a big string. Let's process that big string a little bit:"
   ]
  },
  {
   "cell_type": "code",
   "execution_count": 2,
   "metadata": {
    "collapsed": true
   },
   "outputs": [],
   "source": [
    "# We now open the file for reading\n",
    "f2 = open(\"temp.txt\", \"r\")\n",
    "# And we read the full content of the file in memory, as a big string\n",
    "f2_content = f2.read()\n",
    "f2.close()"
   ]
  },
  {
   "cell_type": "code",
   "execution_count": 3,
   "metadata": {
    "collapsed": true
   },
   "outputs": [],
   "source": [
    "# another and BETTER way to do the same thing\n",
    "with open(\"temp.txt\", \"r\") as f2:\n",
    "    # And we read the full content of the file in memory, as a big string\n",
    "    f2_content = f2.read()"
   ]
  },
  {
   "cell_type": "code",
   "execution_count": 4,
   "metadata": {},
   "outputs": [
    {
     "name": "stdout",
     "output_type": "stream",
     "text": [
      "Length of line >> This is my first file! The end! << is  31\n",
      "Length of line >> Oh wait, I wanted to say something else. << is  40\n"
     ]
    }
   ],
   "source": [
    "# Read the file in the cell above, the content is in f2_content\n",
    "\n",
    "# Split the content of the file using the newline character \\n\n",
    "lines = f2_content.split(\"\\n\")\n",
    "\n",
    "# Iterate through the line variable (it is a list of strings)\n",
    "# and then print the length of each line\n",
    "for line in lines:\n",
    "    print(\"Length of line >>\", line, \"<< is \", len(line))"
   ]
  },
  {
   "cell_type": "markdown",
   "metadata": {},
   "source": [
    "### Exercise 1\n",
    "The command below will create a file called `phonetest.txt`."
   ]
  },
  {
   "cell_type": "code",
   "execution_count": 5,
   "metadata": {
    "collapsed": true
   },
   "outputs": [],
   "source": [
    "s = '''679-397-5255\n",
    "2126660921\n",
    "212-998-0902\n",
    "888-888-2222\n",
    "800-555-1211\n",
    "800 555 1212\n",
    "800.555.1213\n",
    "(800) 555-1214\n",
    "1-800-555-1215\n",
    "1(800)555-1216\n",
    "800-555-1212-1234\n",
    "800-555-1212x1234\n",
    "800-555-1212 ext. 1234\n",
    "work 1-(800) 555.1212 #1234'''\n",
    "\n",
    "# Create the file phonetest.txt, and get it ready for writing\n",
    "with open(\"phonetest.txt\", \"w\") as f:\n",
    "    f.write(s)"
   ]
  },
  {
   "cell_type": "markdown",
   "metadata": {},
   "source": [
    "Write code that:\n",
    "* Reads the file `phonetest.txt`\n",
    "* Write a function that takes as input a string, and removes any non-digit characters\n",
    "* Print out the \"clean\" string, without any non-digit characters"
   ]
  },
  {
   "cell_type": "code",
   "execution_count": 9,
   "metadata": {},
   "outputs": [
    {
     "name": "stdout",
     "output_type": "stream",
     "text": [
      "6793975255\n",
      "2126660921\n",
      "2129980902\n",
      "8888882222\n",
      "8005551211\n",
      "8005551212\n",
      "8005551213\n",
      "8005551214\n",
      "18005551215\n",
      "18005551216\n",
      "80055512121234\n",
      "80055512121234\n",
      "80055512121234\n",
      "180055512121234\n"
     ]
    }
   ],
   "source": [
    "# your code here\n",
    "def clean(phone):\n",
    "    result = \"\"\n",
    "    digits = {\"0\",\"1\",\"2\",\"3\",\"4\",\"5\",\"6\",\"7\",\"8\",\"9\"}\n",
    "    for c in phone:\n",
    "        if c in digits:\n",
    "            result = result + c\n",
    "    return result    \n",
    "\n",
    "\n",
    "with open('phonetest.txt', \"r\") as f:\n",
    "    phones = f.read()\n",
    "\n",
    "list_of_phones = phones.split(\"\\n\")\n",
    "for phone in list_of_phones:\n",
    "    print(clean(phone))"
   ]
  },
  {
   "cell_type": "markdown",
   "metadata": {},
   "source": [
    "### Exercise 2\n",
    "\n",
    "Comma-Separated Values (CSV) file stores tabular data (numbers and text) in plain text. Each line of the file is a data record. Each record consists of one or more fields, separated by commas. The use of the comma as a field separator is the source of the name for this file format.\n",
    "\n",
    "Write code that reads the file `baseball.csv`. Then split each line to get the invididual fields. Remember to split using comma (`,`) as the separator Go over the lines and print the fifth column (`team`)."
   ]
  },
  {
   "cell_type": "code",
   "execution_count": 11,
   "metadata": {},
   "outputs": [
    {
     "name": "stdout",
     "output_type": "stream",
     "text": [
      "team\n",
      "CHN\n",
      "BOS\n",
      "NYA\n",
      "MIL\n",
      "NYA\n",
      "SFN\n",
      "ARI\n",
      "LAN\n",
      "ATL\n",
      "NYN\n",
      "TOR\n",
      "TBA\n",
      "HOU\n",
      "ARI\n",
      "ATL\n",
      "MIN\n",
      "HOU\n",
      "LAN\n",
      "SDN\n",
      "CIN\n",
      "OAK\n",
      "BOS\n",
      "SFN\n",
      "NYA\n",
      "NYN\n",
      "CHN\n",
      "BAL\n",
      "BOS\n",
      "CHA\n",
      "TOR\n",
      "BOS\n",
      "LAN\n",
      "SFN\n",
      "MIL\n",
      "SLN\n",
      "CIN\n",
      "TOR\n",
      "SLN\n",
      "TEX\n",
      "ATL\n",
      "DET\n",
      "NYN\n",
      "LAN\n",
      "LAN\n",
      "BOS\n",
      "KCA\n",
      "DET\n",
      "DET\n",
      "BOS\n",
      "OAK\n",
      "DET\n",
      "NYN\n",
      "LAA\n",
      "NYA\n",
      "NYA\n",
      "PHI\n",
      "PHI\n",
      "NYN\n",
      "SDN\n",
      "COL\n",
      "CLE\n",
      "TEX\n",
      "LAN\n",
      "SFN\n",
      "LAN\n",
      "DET\n",
      "ARI\n",
      "SDN\n",
      "LAN\n",
      "CLE\n",
      "CIN\n",
      "CIN\n",
      "NYN\n",
      "MIL\n",
      "PHI\n",
      "LAN\n",
      "CLE\n",
      "BAL\n",
      "NYN\n",
      "CHN\n",
      "COL\n",
      "OAK\n",
      "SLN\n",
      "NYN\n",
      "NYN\n",
      "CIN\n",
      "NYN\n",
      "CIN\n",
      "NYA\n",
      "BOS\n",
      "TOR\n",
      "ARI\n",
      "MIN\n",
      "SFN\n",
      "HOU\n",
      "FLO\n",
      "SFN\n",
      "HOU\n",
      "NYN\n",
      "NYN\n"
     ]
    }
   ],
   "source": [
    "# your code here\n",
    "with open('baseball.csv', \"r\") as f:\n",
    "    content = f.read()\n",
    "    \n",
    "teams = content.split('\\n')\n",
    "for team in teams:\n",
    "    fields = team.split(',')\n",
    "    print(fields[4])"
   ]
  },
  {
   "cell_type": "markdown",
   "metadata": {},
   "source": [
    "### Exercise 3\n",
    "\n",
    "* Write a function that reads a file and returns its content as a list of strings (one string per line)\n",
    "* Write a function that reads the n-th column of a CSV file and returns its contents. Reuse the function that you wrote above"
   ]
  },
  {
   "cell_type": "code",
   "execution_count": null,
   "metadata": {
    "collapsed": true
   },
   "outputs": [],
   "source": [
    "# your code here"
   ]
  },
  {
   "cell_type": "markdown",
   "metadata": {},
   "source": [
    "#### Solution for exercise 1 (with a lot of comments)"
   ]
  },
  {
   "cell_type": "code",
   "execution_count": null,
   "metadata": {
    "collapsed": true
   },
   "outputs": [],
   "source": [
    "# this function takes as input a phone (string variable)\n",
    "# and prints only its digits\n",
    "def clean(phone):\n",
    "    # We initialize the result variable to be empty. \n",
    "    # We will append to this variable the digit characters \n",
    "    result = \"\"\n",
    "    # This is a set of digits (as **strings**) that will\n",
    "    # allow us to filter the characters\n",
    "    digits = {\"0\",\"1\",\"2\",\"3\",\"4\",\"5\",\"6\",\"7\",\"8\",\"9\"}\n",
    "    # We iterate over all the characters in the string \"phone\"\n",
    "    # which is a parameter of the function clean\n",
    "    for c in phone:\n",
    "        # We check if the character c is a digit\n",
    "        if c in digits:\n",
    "            # if it is, we append it to the result\n",
    "            result = result + c\n",
    "    # once we are done we return a string variable with the result\n",
    "    return result \n",
    "\n",
    "# your code here\n",
    "# We open the file\n",
    "with open(\"phonetest.txt\", \"r\") as f:\n",
    "    # We read the content using the f.read() command\n",
    "    content = f.read()\n",
    "\n",
    "# We split the file into lines\n",
    "lines = content.split(\"\\n\")\n",
    "# We iterate over the lines, and we clean each one of them\n",
    "for line in lines:\n",
    "    print(line, \"==>\", clean(line))"
   ]
  },
  {
   "cell_type": "code",
   "execution_count": null,
   "metadata": {
    "collapsed": true
   },
   "outputs": [],
   "source": []
  }
 ],
 "metadata": {
  "anaconda-cloud": {},
  "kernelspec": {
   "display_name": "Python 3",
   "language": "python",
   "name": "python3"
  },
  "language_info": {
   "codemirror_mode": {
    "name": "ipython",
    "version": 3
   },
   "file_extension": ".py",
   "mimetype": "text/x-python",
   "name": "python",
   "nbconvert_exporter": "python",
   "pygments_lexer": "ipython3",
   "version": "3.6.1"
  }
 },
 "nbformat": 4,
 "nbformat_minor": 1
}
