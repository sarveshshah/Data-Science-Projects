{
 "cells": [
  {
   "cell_type": "markdown",
   "metadata": {},
   "source": [
    "# Regular Expression"
   ]
  },
  {
   "cell_type": "markdown",
   "metadata": {},
   "source": [
    "This notebook presents basic regular expression syntax and cover common use cases for regular expressions: pattern matching, filtering, data extraction, and string replacement. \n",
    "\n",
    "We will cover Python’s standard `re` library that provides regular expression matching operations  \n",
    "[docs.python.org/3.6/library/re.html](https://docs.python.org/3.6/library/re.html)\n",
    "\n",
    "You may also want to look at this [*excellent* tutorial from Google](https://developers.google.com/edu/python/regular-expressions)."
   ]
  },
  {
   "cell_type": "markdown",
   "metadata": {},
   "source": [
    "### Basic Patterns\n",
    "\n",
    "* a, X, 9, < -- ordinary characters just match themselves exactly. The meta-characters which do not match themselves because they have special meanings are: . ^ \\$ * + ? { [ ] \\ | ( ) (details below)\n",
    "* . (a period) -- matches any single character except newline '\\n'\n",
    "* \\w -- (lowercase w) matches a \"word\" character: a letter or digit or underbar [a-zA-Z0-9_]. Note that although \"word\" is the mnemonic for this, it only matches a single word char, not a whole word. \\W (upper case W) matches any non-word character.\n",
    "* \\s -- (lowercase s) matches a single whitespace character -- space, newline, return, tab, form [ \\n\\r\\t\\f]. \\S (upper case S) matches any non-whitespace character.\n",
    "* \\t, \\n, \\r -- tab, newline, return\n",
    "* \\d -- decimal digit [0-9] (some older regex utilities do not support but \\d, but they all support \\w and \\s)\n",
    "* ^ = start, $ = end -- match the start or end of the string\n",
    "* \\ -- inhibit the \"specialness\" of a character. So, for example, use \\. to match a period or \\\\ to match a slash. If you are unsure if a character has special meaning, such as '@', you can put a slash in front of it, \\@, to make sure it is treated just as a character."
   ]
  },
  {
   "cell_type": "code",
   "execution_count": null,
   "metadata": {
    "collapsed": true
   },
   "outputs": [],
   "source": [
    "import re"
   ]
  },
  {
   "cell_type": "markdown",
   "metadata": {},
   "source": [
    "Example\n",
    "-------\n",
    "Find all the emails in a webpage.\n",
    "\n",
    "[www.fox.temple.edu/posts/people-category/cms-faculty/](https://www.fox.temple.edu/posts/people-category/cms-faculty/)"
   ]
  },
  {
   "cell_type": "code",
   "execution_count": null,
   "metadata": {},
   "outputs": [],
   "source": [
    "import requests\n",
    "# fetch html\n",
    "url = 'https://www.fox.temple.edu/posts/people-category/cms-faculty/'\n",
    "\n",
    "emails = set()    \n",
    "\n",
    "response = requests.get(url, verify=False)\n",
    "html = response.text\n",
    "# build the regular expression for emails\n",
    "regex = re.compile(r'([a-z.]+)@\\w+(\\.\\w+)+')\n",
    "    \n",
    "# find all parts of the text that match the regular expression above\n",
    "matches = regex.finditer(html)\n",
    "# go through all the matches and add them to a set of found emails\n",
    "for m in matches:\n",
    "    emails.add(m.group())\n",
    "\n",
    "with open(\"emails.txt\", \"w\") as f:\n",
    "    for email in emails:\n",
    "        f.write(email + \"\\n\")"
   ]
  },
  {
   "cell_type": "markdown",
   "metadata": {},
   "source": [
    "## Findall"
   ]
  },
  {
   "cell_type": "code",
   "execution_count": null,
   "metadata": {},
   "outputs": [],
   "source": [
    "#Return all non-overlapping matches of pattern in string, as a list of strings.\n",
    "\n",
    "#re.findall(pattern, string)\n",
    "re.findall('a','Data Care, Feeding & Cleaning')"
   ]
  },
  {
   "cell_type": "markdown",
   "metadata": {},
   "source": [
    "### Examples"
   ]
  },
  {
   "cell_type": "code",
   "execution_count": null,
   "metadata": {},
   "outputs": [],
   "source": [
    "#The re module has other methods like 'match', 'search', 'sub', etc.\n",
    "#re.findall(pattern, string, flags=0)\n",
    "#The findall method will be used in subsequent exercises to introduce the patterns used for constructing regular expressions. \n",
    "\n",
    "re.findall('b', 'abc')"
   ]
  },
  {
   "cell_type": "code",
   "execution_count": null,
   "metadata": {},
   "outputs": [],
   "source": [
    "re.findall('cat','Cat dog frog cat dog')"
   ]
  },
  {
   "cell_type": "code",
   "execution_count": null,
   "metadata": {},
   "outputs": [],
   "source": [
    "re.findall('', 'abc')"
   ]
  },
  {
   "cell_type": "markdown",
   "metadata": {},
   "source": [
    "### Exercise 1"
   ]
  },
  {
   "cell_type": "code",
   "execution_count": null,
   "metadata": {},
   "outputs": [],
   "source": [
    "# Fill in the appropriate 'pattern' and 'string' parameters for 'findall' in following exercises.\n",
    "a = re.findall( 'e', 'telephone')  # len(a) = 3\n",
    "b = re.findall( 'a', 'aaaa')  # len(b) = 4\n",
    "c = re.findall( 's', 'regular expression')  # len(c) = 2\n",
    "\n",
    "print('len(a)=%d'%len(a))\n",
    "print('len(b)=%d'%len(b))\n",
    "print('len(c)=%d'%len(c))"
   ]
  },
  {
   "cell_type": "markdown",
   "metadata": {},
   "source": [
    "### Boundaries"
   ]
  },
  {
   "cell_type": "raw",
   "metadata": {},
   "source": [
    "The '.' character matches any character except a newline.\n",
    "\n",
    "The '^' character matches the start of the string.\n",
    "\n",
    "The '$' character matches the end of the string."
   ]
  },
  {
   "cell_type": "markdown",
   "metadata": {},
   "source": [
    "### Examples"
   ]
  },
  {
   "cell_type": "code",
   "execution_count": null,
   "metadata": {},
   "outputs": [],
   "source": [
    "re.findall('.', 'abcd')   # match any character"
   ]
  },
  {
   "cell_type": "code",
   "execution_count": null,
   "metadata": {},
   "outputs": [],
   "source": [
    "re.findall('^a', 'abcd abcd')  # match only if 'a' is at start of line"
   ]
  },
  {
   "cell_type": "code",
   "execution_count": null,
   "metadata": {},
   "outputs": [],
   "source": [
    "re.findall('d$', 'dcba abcd') # match if 'd' is the only character in a line."
   ]
  },
  {
   "cell_type": "code",
   "execution_count": null,
   "metadata": {},
   "outputs": [],
   "source": [
    "re.findall('.abcd', '1abcd 2abcd') # match if 'd' is the only character in a line."
   ]
  },
  {
   "cell_type": "markdown",
   "metadata": {},
   "source": [
    "### Exercise 2"
   ]
  },
  {
   "cell_type": "code",
   "execution_count": null,
   "metadata": {},
   "outputs": [],
   "source": [
    "# Fill in the appropriate 'pattern' parameter for 'findall' using ONLY '^','.' and '$'.\n",
    "a = re.findall('.....$', 'aeroplane') # a =  ['plane']\n",
    "b = re.findall('^....', 'computer') # b =  ['comp']\n",
    "\n",
    "print('a = %s'%str(a))\n",
    "print('b = %s'%str(b))"
   ]
  },
  {
   "cell_type": "markdown",
   "metadata": {},
   "source": [
    "### Repetitions"
   ]
  },
  {
   "cell_type": "raw",
   "metadata": {},
   "source": [
    "The '*' character matches 0 or more repetitions of the preceding RE.\n",
    "\n",
    "The '+' character matches 1 or more repetitions of the preceding RE.\n",
    "\n",
    "The '?' character matches 0 or 1 repetition of the preceding RE."
   ]
  },
  {
   "cell_type": "markdown",
   "metadata": {},
   "source": [
    "#### Examples"
   ]
  },
  {
   "cell_type": "code",
   "execution_count": null,
   "metadata": {},
   "outputs": [],
   "source": [
    "re.findall('.*', 'abcd') # match any number of characters"
   ]
  },
  {
   "cell_type": "code",
   "execution_count": null,
   "metadata": {
    "collapsed": true
   },
   "outputs": [],
   "source": [
    "# additional '' because '*' matches zero character or empty string."
   ]
  },
  {
   "cell_type": "code",
   "execution_count": null,
   "metadata": {},
   "outputs": [],
   "source": [
    "re.findall('.+', 'abcd') # match 1 or more characters"
   ]
  },
  {
   "cell_type": "code",
   "execution_count": null,
   "metadata": {},
   "outputs": [],
   "source": [
    "re.findall('.?', 'abcd') # match 0 or 1 character"
   ]
  },
  {
   "cell_type": "markdown",
   "metadata": {},
   "source": [
    "### Exercise 3"
   ]
  },
  {
   "cell_type": "code",
   "execution_count": null,
   "metadata": {},
   "outputs": [],
   "source": [
    "# Fill in the appropriate 'pattern' parameter for 'findall' using '*','+','?' and '.'.\n",
    "\n",
    "#Find all letters between the first and the last entries of letter 'e'\n",
    "a = re.findall('e.*e', 'ae&e*eropjhjhjhlane')\n",
    "\n",
    "#Find non-empty set of letters between entries of letter 'p'\n",
    "b = re.findall('p.+p', 'abcpabcp pabcp')\n",
    "\n",
    "#Find all entries of letter 'e' and the next letter if it's present\n",
    "c = re.findall('e.?', 'aeroplane')\n",
    "\n",
    "print('a = %s'%str(a))\n",
    "print('b = %s'%str(b))\n",
    "print('c = %s'%str(c))"
   ]
  },
  {
   "cell_type": "markdown",
   "metadata": {},
   "source": [
    "### Greedy and Lazy"
   ]
  },
  {
   "cell_type": "raw",
   "metadata": {},
   "source": [
    "*?, +?, ??\n",
    "The '*', '+', and '?' qualifiers are all greedy; they match as much text as possible."
   ]
  },
  {
   "cell_type": "markdown",
   "metadata": {},
   "source": [
    "#### Examples"
   ]
  },
  {
   "cell_type": "code",
   "execution_count": null,
   "metadata": {},
   "outputs": [],
   "source": [
    "re.findall('<.*>','<H1>title</H1>')"
   ]
  },
  {
   "cell_type": "code",
   "execution_count": null,
   "metadata": {},
   "outputs": [],
   "source": [
    "re.findall('<.*?>','<H1>title</H1>')"
   ]
  },
  {
   "cell_type": "markdown",
   "metadata": {},
   "source": [
    "### Exercise 4"
   ]
  },
  {
   "cell_type": "code",
   "execution_count": null,
   "metadata": {},
   "outputs": [],
   "source": [
    "# Fill in the appropriate 'pattern' pareameter for 'findall' using ONLY '*','+','?' and '.'.\n",
    "\n",
    "#Find all letters between entries of letter 'e'\n",
    "a = re.findall('e.*?e', 'ae&e*eroplane')\n",
    "\n",
    "#Find non-empty set of letters between entries of letter 'p'\n",
    "b = re.findall('p.+?p', 'abcpabcp pabcp')\n",
    "\n",
    "#Find all entries of letter 'e' and the next letter if it's present\n",
    "c = re.findall('e.??', 'aeroplane')\n",
    "\n",
    "print('a = %s'%str(a))\n",
    "print('b = %s'%str(b))\n",
    "print('c = %s'%str(c))"
   ]
  },
  {
   "cell_type": "markdown",
   "metadata": {},
   "source": [
    "### Matching a Specific Number of Times"
   ]
  },
  {
   "cell_type": "raw",
   "metadata": {},
   "source": [
    "{m} specifies that exactly m copies of previous RE should be matched.\n",
    "\n",
    "{m,n} causes resulting RE to match from m to n repetitions of previous RE.\n",
    "\n",
    "If m is omitted, it implies lower bound of zero.\n",
    "\n",
    "If n is omitted, upper bound is infinite."
   ]
  },
  {
   "cell_type": "markdown",
   "metadata": {},
   "source": [
    "#### Examples"
   ]
  },
  {
   "cell_type": "code",
   "execution_count": null,
   "metadata": {},
   "outputs": [],
   "source": [
    "re.findall('a{2}', 'aaabcd')    # match a substring of 'aa'"
   ]
  },
  {
   "cell_type": "code",
   "execution_count": null,
   "metadata": {},
   "outputs": [],
   "source": [
    "re.findall('.{1,3}', 'abbcccd') # match any substring of 1-3 characters"
   ]
  },
  {
   "cell_type": "markdown",
   "metadata": {},
   "source": [
    "### Exercise 5"
   ]
  },
  {
   "cell_type": "code",
   "execution_count": null,
   "metadata": {},
   "outputs": [],
   "source": [
    "# Fill in the appropriate 'pattern' pareameter for 'findall' so that they\n",
    "# matches the descriptions to the right.\n",
    "print(re.findall('a{4}','aaaaaaa')) #  match exactly 4 characters\n",
    "print(re.findall('a{0,}','aaaaaaaa'))   #  match 0 or more characters\n",
    "print(re.findall('a{0,1}','aaaaaaaa'))   #  match 0 or 1 character \n",
    "print(re.findall('a{1,}','aaaaaaaa'))   #  match 1 or more character"
   ]
  },
  {
   "cell_type": "markdown",
   "metadata": {},
   "source": [
    "### Greedy and Lazy"
   ]
  },
  {
   "cell_type": "raw",
   "metadata": {},
   "source": [
    "{m,n}?\n",
    "Causes the resulting RE to match from m to n repetitions of the preceding RE,\n",
    "attempting to match as few repetitions as possible. \n",
    "This is the non-greedy version of the previous qualifier. "
   ]
  },
  {
   "cell_type": "markdown",
   "metadata": {},
   "source": [
    "#### Examples"
   ]
  },
  {
   "cell_type": "code",
   "execution_count": null,
   "metadata": {},
   "outputs": [],
   "source": [
    "re.findall('a{3,5}','aaaaaa') #match 5 'a' characters"
   ]
  },
  {
   "cell_type": "code",
   "execution_count": null,
   "metadata": {},
   "outputs": [],
   "source": [
    "re.findall('a{3,5}?','aaaaaa') #a{3,5}? will only match 3 characters"
   ]
  },
  {
   "cell_type": "markdown",
   "metadata": {},
   "source": [
    "### Character Set: [ ]"
   ]
  },
  {
   "cell_type": "raw",
   "metadata": {},
   "source": [
    "[ ] is used to indicate a set of characters.\n",
    "\n",
    "Characters can be listed individually, \n",
    "or a range of characters can be indicated by '-' between two starting and end characters.\n",
    "\n",
    "If the first character is \"^\", it indicates the complement set."
   ]
  },
  {
   "cell_type": "code",
   "execution_count": null,
   "metadata": {},
   "outputs": [],
   "source": [
    "re.findall('[aeiou]', 'hello')   # search for vowels"
   ]
  },
  {
   "cell_type": "code",
   "execution_count": null,
   "metadata": {},
   "outputs": [],
   "source": [
    "re.findall('[0-9]', '12345678')  # search for numbers 3-6"
   ]
  },
  {
   "cell_type": "code",
   "execution_count": null,
   "metadata": {},
   "outputs": [],
   "source": [
    "re.findall('[^3-6]', '12345678jdfhsdjfh') # search for complement set of numbers 3-6"
   ]
  },
  {
   "cell_type": "code",
   "execution_count": null,
   "metadata": {},
   "outputs": [],
   "source": [
    "re.findall('[a-z]', 'gGHGjghjgGKJGkgKGkGiupoXHG')   # search for vowels"
   ]
  },
  {
   "cell_type": "code",
   "execution_count": null,
   "metadata": {},
   "outputs": [],
   "source": [
    "re.findall('[A-Z]', 'gGHGjghjgGKJGkgKGkGiupoXHG')   # search for vowels"
   ]
  },
  {
   "cell_type": "markdown",
   "metadata": {},
   "source": [
    "### Exercise 6"
   ]
  },
  {
   "cell_type": "code",
   "execution_count": null,
   "metadata": {},
   "outputs": [],
   "source": [
    "#Fill in the appropriate 'pattern' pareameter for 'findall' using [].\n",
    "\n",
    "#Find all cats and hats\n",
    "print(re.findall('[ch]at','cat hat dog frog hat door'))\n",
    "\n",
    "#Find all letters from a to z\n",
    "print(re.findall('[a-z]', 'hjsJH#3jh#kh838(B#g9g(#G9)'))\n",
    "\n",
    "#Find all letters from a to z both uppercase and lowercase\n",
    "print(re.findall('[a-zA-Z]', 'hjsJH#3jh#kh838(B#g9g(#G9)'))\n",
    "\n",
    "#Find all alphanumeric characters\n",
    "print(re.findall('[a-zA-Z0-9]', 'hjsJH#3jh#kh838(B#g9g(#G9)'))"
   ]
  },
  {
   "cell_type": "markdown",
   "metadata": {},
   "source": [
    "### Special Character: |"
   ]
  },
  {
   "cell_type": "raw",
   "metadata": {},
   "source": [
    "A|B, where A and B are arbitrary REs, creates a regular expression that matches either A or B."
   ]
  },
  {
   "cell_type": "code",
   "execution_count": null,
   "metadata": {},
   "outputs": [],
   "source": [
    "print(re.findall('cat|hat','cat hat dog frog hat door'))\n"
   ]
  },
  {
   "cell_type": "markdown",
   "metadata": {},
   "source": [
    "#### Examples"
   ]
  },
  {
   "cell_type": "code",
   "execution_count": null,
   "metadata": {},
   "outputs": [],
   "source": [
    "re.findall('abc|123', '123def') # matches 'abc' or '123'"
   ]
  },
  {
   "cell_type": "code",
   "execution_count": null,
   "metadata": {},
   "outputs": [],
   "source": [
    "re.findall('abc|123', '456abc')"
   ]
  },
  {
   "cell_type": "code",
   "execution_count": null,
   "metadata": {},
   "outputs": [],
   "source": [
    "re.findall('abc|123', 'a1b2c3')"
   ]
  },
  {
   "cell_type": "code",
   "execution_count": null,
   "metadata": {},
   "outputs": [],
   "source": [
    "print(re.findall('org|edu|com', 'nick@mail.org, kbauman@temple.edu, john@gmail.com'))"
   ]
  },
  {
   "cell_type": "markdown",
   "metadata": {},
   "source": [
    "### Special Character: \\"
   ]
  },
  {
   "cell_type": "raw",
   "metadata": {},
   "source": [
    "Either escapes special characters\n",
    "(permitting you to match characters like '*', '?', and so forth),\n",
    "or signals a special sequence; special sequences are discussed below."
   ]
  },
  {
   "cell_type": "markdown",
   "metadata": {},
   "source": [
    "#### Examples"
   ]
  },
  {
   "cell_type": "code",
   "execution_count": null,
   "metadata": {},
   "outputs": [],
   "source": [
    "re.findall('\\*','gjhgdsfjds*4f**43f43*&#&*')"
   ]
  },
  {
   "cell_type": "markdown",
   "metadata": {},
   "source": [
    "### Exercise 7"
   ]
  },
  {
   "cell_type": "code",
   "execution_count": null,
   "metadata": {},
   "outputs": [],
   "source": [
    "#Fill in the appropriate 'pattern' pareameter for 'findall'.\n",
    "\n",
    "#Find all groups of quesions more than one\n",
    "re.findall('\\?{2,}','hj?khjfds???jhjsd??bjh?njh????')"
   ]
  },
  {
   "cell_type": "markdown",
   "metadata": {},
   "source": [
    "### Special Sequence: \\d, \\D"
   ]
  },
  {
   "cell_type": "raw",
   "metadata": {},
   "source": [
    "\\d matches any decimal digit.\n",
    "\n",
    "\\D matches any non-digit character."
   ]
  },
  {
   "cell_type": "markdown",
   "metadata": {},
   "source": [
    "#### Examples"
   ]
  },
  {
   "cell_type": "code",
   "execution_count": null,
   "metadata": {},
   "outputs": [],
   "source": [
    "re.findall('\\d', '1a2b3c')"
   ]
  },
  {
   "cell_type": "code",
   "execution_count": null,
   "metadata": {},
   "outputs": [],
   "source": [
    "re.findall('\\D', '1a2b3c')"
   ]
  },
  {
   "cell_type": "markdown",
   "metadata": {},
   "source": [
    "### Exercise 8"
   ]
  },
  {
   "cell_type": "code",
   "execution_count": null,
   "metadata": {},
   "outputs": [],
   "source": [
    "#Find the equivalent for the following regexes using []\n",
    "\n",
    "a1 = re.findall('\\d','gjhg4jh5g24jhgj2hb23423')\n",
    "a2 = re.findall('[0-9]','gjhg4jh5g24jhgj2hb23423')\n",
    "\n",
    "print(a1)\n",
    "print(a2)\n",
    "print(a1==a2)"
   ]
  },
  {
   "cell_type": "code",
   "execution_count": null,
   "metadata": {},
   "outputs": [],
   "source": [
    "a1 = re.findall('\\D','gjhg4jh5g24jhgj2hb23423')\n",
    "a2 = re.findall('[^0-9]','gjhg4jh5g24jhgj2hb23423')\n",
    "\n",
    "print(a1)\n",
    "print(a2)\n",
    "print(a1==a2)"
   ]
  },
  {
   "cell_type": "code",
   "execution_count": null,
   "metadata": {},
   "outputs": [],
   "source": [
    "a1 = re.findall('\\d+','gjhg4jh5g24jhgj2hb23423')\n",
    "a2 = re.findall('[0-9]+','gjhg4jh5g24jhgj2hb23423')\n",
    "\n",
    "print(a1)\n",
    "print(a2)\n",
    "print(a1==a2)"
   ]
  },
  {
   "cell_type": "code",
   "execution_count": null,
   "metadata": {},
   "outputs": [],
   "source": [
    "a1 = re.findall('\\D?','gjhg4jh5g24jhgj2hb23423')\n",
    "a2 = re.findall('[^0-9]?','gjhg4jh5g24jhgj2hb23423')\n",
    "\n",
    "print(a1)\n",
    "print(a2)\n",
    "print(a1==a2)"
   ]
  },
  {
   "cell_type": "markdown",
   "metadata": {},
   "source": [
    "### Special Sequence: \\w, \\W"
   ]
  },
  {
   "cell_type": "raw",
   "metadata": {},
   "source": [
    "\\w matches any alphanumeric character and the underscore.\n",
    "\n",
    "\\W matches the complement of \\w."
   ]
  },
  {
   "cell_type": "markdown",
   "metadata": {},
   "source": [
    "#### Examples"
   ]
  },
  {
   "cell_type": "code",
   "execution_count": null,
   "metadata": {},
   "outputs": [],
   "source": [
    "re.findall('\\w', '%*2&3c_')"
   ]
  },
  {
   "cell_type": "code",
   "execution_count": null,
   "metadata": {},
   "outputs": [],
   "source": [
    "re.findall('\\W', '^12#3$_')"
   ]
  },
  {
   "cell_type": "markdown",
   "metadata": {},
   "source": [
    "### Exercise 9"
   ]
  },
  {
   "cell_type": "code",
   "execution_count": null,
   "metadata": {},
   "outputs": [],
   "source": [
    "# Write down the equivalent RE for \\w using character set [ ]. \n",
    "string = 'ad@#45_83kd_8^1t iuDU7  Fgewh' \n",
    "\n",
    "w1 = re.findall('\\w',string)\n",
    "w2 = re.findall('[0-9a-zA-Z_]',string)\n",
    "\n",
    "print('w1 = %s'%str(w1))\n",
    "print('w2 = %s'%str(w2))\n",
    "print(w1==w2)"
   ]
  },
  {
   "cell_type": "code",
   "execution_count": null,
   "metadata": {},
   "outputs": [],
   "source": [
    "# Write down the equivalent RE for \\W using character set [ ]. \n",
    "string = 'ad@#45_83kd_8^1t iuDU7  Fgewh' \n",
    "\n",
    "W1 = re.findall('\\W',string)\n",
    "W2 = re.findall('[^0-9a-zA-Z_]',string)\n",
    "print('W1 = %s'%str(W1))\n",
    "print('W2 = %s'%str(W2))\n",
    "print(W1==W2)"
   ]
  },
  {
   "cell_type": "code",
   "execution_count": null,
   "metadata": {},
   "outputs": [],
   "source": [
    "#Find all groups of alphanumeric characters\n",
    "print(re.findall('\\w', '%*2&3c_'))"
   ]
  },
  {
   "cell_type": "markdown",
   "metadata": {},
   "source": [
    "# Adanced topics for self study"
   ]
  },
  {
   "cell_type": "markdown",
   "metadata": {},
   "source": [
    "### Parentheses ()"
   ]
  },
  {
   "cell_type": "raw",
   "metadata": {},
   "source": [
    "(...) matches whatever RE inside the parentheses.\n",
    "\\number (starts from index 1) refers to the RE matched in preceding RE group.\n",
    "As '\\' is used to escape special characters or to signal a special sequence (e.g. \\d),\n",
    "it is a good practice to specify 'r' in front of RE to indicate raw strings.\n",
    "\n",
    "Matches whatever regular expression is inside the parentheses,\n",
    "and indicates the start and end of a group; the contents of a group \n",
    "can be retrieved after a match has been performed, and can be matched later\n",
    "in the string with the \\number special sequence, described below. \n",
    "To match the literals '(' or ')', use \\( or \\), or enclose them inside a character class: [(] [)]."
   ]
  },
  {
   "cell_type": "markdown",
   "metadata": {},
   "source": [
    "#### Examples"
   ]
  },
  {
   "cell_type": "code",
   "execution_count": null,
   "metadata": {},
   "outputs": [],
   "source": [
    "re.findall('([13579])([a-z])', '1a2b3c') # match a odd number followed by a letter"
   ]
  },
  {
   "cell_type": "code",
   "execution_count": null,
   "metadata": {},
   "outputs": [],
   "source": [
    "re.findall('([0-9])\\\\1', '1233455')  # return a list of repeated numbers. Without 'r', need to backslash the '\\'."
   ]
  },
  {
   "cell_type": "code",
   "execution_count": null,
   "metadata": {
    "collapsed": true
   },
   "outputs": [],
   "source": [
    "re.findall(r'([0-9])\\1', '1233455')  # return a list of repeated numbers. "
   ]
  },
  {
   "cell_type": "code",
   "execution_count": null,
   "metadata": {
    "collapsed": true
   },
   "outputs": [],
   "source": []
  },
  {
   "cell_type": "markdown",
   "metadata": {},
   "source": [
    "### Exercise 10"
   ]
  },
  {
   "cell_type": "code",
   "execution_count": null,
   "metadata": {},
   "outputs": [],
   "source": [
    "#find all repeared characters\n",
    "string = '''Mini Quizzes:20% Home assignments:15% Midterm exam:15% Project:30% Final exam:15% Participation:5%'''\n",
    "re.findall(r\"([\\w])\\1\",string)"
   ]
  },
  {
   "cell_type": "markdown",
   "metadata": {},
   "source": [
    "### Exercise 11"
   ]
  },
  {
   "cell_type": "markdown",
   "metadata": {},
   "source": [
    "A palindrome is a word, phrase, number, or other sequence of characters which reads the same backward or forward."
   ]
  },
  {
   "cell_type": "code",
   "execution_count": null,
   "metadata": {
    "collapsed": true
   },
   "outputs": [],
   "source": [
    "#Fill in the appropriate 'pattern' pareameter for 'findall' to identify\n",
    "#all palindromes with length = 5.\n",
    "re.findall(r'', 'abcba cffrc ccccc fghgf')"
   ]
  },
  {
   "cell_type": "markdown",
   "metadata": {},
   "source": [
    "### Exercise 12"
   ]
  },
  {
   "cell_type": "code",
   "execution_count": null,
   "metadata": {
    "collapsed": true
   },
   "outputs": [],
   "source": [
    "#get age by name from the text\n",
    "string = 'Mary is 24 years old. Her mother Helen is 52 and her grandfather Joe is 76 years old.'\n",
    "re.findall('',string)"
   ]
  },
  {
   "cell_type": "markdown",
   "metadata": {},
   "source": [
    "### Exercise 13"
   ]
  },
  {
   "cell_type": "code",
   "execution_count": null,
   "metadata": {
    "collapsed": true
   },
   "outputs": [],
   "source": [
    "#get tuples of (Grade, percent)\n",
    "string = '''Mini Quizzes:20% Home assignments:15% Midterm exam:15% Project:30% Final exam:15% Participation:5%'''\n",
    "re.findall(r'',string)"
   ]
  },
  {
   "cell_type": "markdown",
   "metadata": {},
   "source": [
    "### Exercise 14"
   ]
  },
  {
   "cell_type": "code",
   "execution_count": null,
   "metadata": {
    "collapsed": true
   },
   "outputs": [],
   "source": [
    "#Find all people mentioned in news\n",
    "news = \"President [P] Barack Obama [/P] met Microsoft founder [P] Bill Gates [/P], yesterday.\"\n",
    "print(re.findall(r'', news))"
   ]
  },
  {
   "cell_type": "markdown",
   "metadata": {},
   "source": [
    "## Search, Finditer"
   ]
  },
  {
   "cell_type": "code",
   "execution_count": null,
   "metadata": {},
   "outputs": [],
   "source": [
    "# The search command goes through the string to find the longest expression that matches the regex\n",
    "# and once it finds the first match, it stops. For example, we will not get the second phone number\n",
    "regex = re.compile('[0-9]{3}-[0-9]{3}-[0-9]{4}')\n",
    "text = '''\n",
    "Konstantin Bauman, Data Care Feeding & Cleaning, \n",
    "215-204-3750, kbauman@temple.edu, 978-555-5555\n",
    "'''\n",
    "search_result = regex.search(text)\n",
    "if search_result:\n",
    "    print(search_result.group())\n",
    "else:\n",
    "    print(\"not found\")"
   ]
  },
  {
   "cell_type": "code",
   "execution_count": null,
   "metadata": {},
   "outputs": [],
   "source": [
    "# The finditer command goes through the string to find the all the expressions that matches the regex\n",
    "regex = re.compile(r'[0-9]{3}-[0-9]{3}-[0-9]{4}')\n",
    "text = '''\n",
    "Konstantin Bauman, Data Care Feeding & Cleaning, \n",
    "215-204-3750, kbauman@temple.edu, 978-555-5555\n",
    "'''\n",
    "result = regex.finditer(text)\n",
    "for m in result:\n",
    "    print(\"Starts at:\", m.start(), \n",
    "    \"Ends at:\", m.end(),\n",
    "    \"Content:\", m.group())"
   ]
  },
  {
   "cell_type": "markdown",
   "metadata": {},
   "source": [
    "Example\n",
    "-------\n",
    "\n",
    "Find all the emails in a webpage. "
   ]
  },
  {
   "cell_type": "code",
   "execution_count": null,
   "metadata": {
    "collapsed": true
   },
   "outputs": [],
   "source": [
    "import requests\n",
    "# fetch html\n",
    "url = 'https://www.fox.temple.edu/posts/people-category/cms-faculty/'\n",
    "\n",
    "emails = set()    \n",
    "\n",
    "response = requests.get(url, verify=False)\n",
    "html = response.text\n",
    "# build the regular expression for emails\n",
    "regex = re.compile(r'([a-z.]+)@\\w+(\\.\\w+)+')\n",
    "    \n",
    "# find all parts of the text that match the regular expression above\n",
    "matches = regex.finditer(html)\n",
    "# go through all the matches and add them to a set of found emails\n",
    "for m in matches:\n",
    "    emails.add(m.group())\n",
    "\n",
    "with open(\"emails.txt\", \"w\") as f:\n",
    "    for email in emails:\n",
    "        f.write(email + \"\\n\")"
   ]
  },
  {
   "cell_type": "markdown",
   "metadata": {},
   "source": [
    "### Exercise 15"
   ]
  },
  {
   "cell_type": "code",
   "execution_count": null,
   "metadata": {
    "collapsed": true
   },
   "outputs": [],
   "source": [
    "#Write a function that validates the password.\n",
    "#It should be 6-8 characters long.\n",
    "#It consists of alphanumeric characters with a mixture of digits and letters.\n",
    "\n",
    "#template\n",
    "def validate(passwd):\n",
    "    if (False): #change this and add other conditions\n",
    "        return 'Valid password.'\n",
    "    else:\n",
    "        return 'Invalid password.'\n",
    "\n",
    "    \n",
    "print(validate('1234'))      \n",
    "print('Invalid password because it\\'s too short\\n')\n",
    "\n",
    "print(validate('google'))      \n",
    "print('Invalid password because there is no digit\\n')\n",
    "\n",
    "print(validate('passwd123'))\n",
    "print('Invalid password because it\\'s too long\\n')\n",
    "\n",
    "print(validate('passwd12'))      \n",
    "print('Valid password.\\n')\n",
    "\n",
    "print(validate('pas@wd12'))\n",
    "print('Invalid password because Invalid character \\'@\\'')"
   ]
  }
 ],
 "metadata": {
  "anaconda-cloud": {},
  "kernelspec": {
   "display_name": "Python 3",
   "language": "python",
   "name": "python3"
  },
  "language_info": {
   "codemirror_mode": {
    "name": "ipython",
    "version": 3
   },
   "file_extension": ".py",
   "mimetype": "text/x-python",
   "name": "python",
   "nbconvert_exporter": "python",
   "pygments_lexer": "ipython3",
   "version": "3.6.1"
  }
 },
 "nbformat": 4,
 "nbformat_minor": 1
}
