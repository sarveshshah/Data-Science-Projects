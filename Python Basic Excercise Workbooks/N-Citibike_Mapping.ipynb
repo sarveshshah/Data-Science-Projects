{
 "cells": [
  {
   "cell_type": "code",
   "execution_count": null,
   "metadata": {},
   "outputs": [],
   "source": [
    "import requests\n",
    "import json\n",
    "\n",
    "# Let's get the data from the Citibike API\n",
    "url = 'http://www.citibikenyc.com/stations/json'\n",
    "resp = requests.get(url)\n",
    "\n",
    "# We transform the returned JSON answer from the API into a Python dictionary object\n",
    "results = json.loads(resp.text)\n",
    "\n",
    "# We only need a subset of the data in the JSON returned by the Citibike API, so we keep only we need\n",
    "data = results[\"stationBeanList\"]\n",
    "data"
   ]
  },
  {
   "cell_type": "code",
   "execution_count": null,
   "metadata": {},
   "outputs": [],
   "source": [
    "import pandas\n",
    "df = pandas.DataFrame(data)\n",
    "df.head()"
   ]
  },
  {
   "cell_type": "code",
   "execution_count": null,
   "metadata": {
    "collapsed": true
   },
   "outputs": [],
   "source": [
    "%matplotlib inline\n",
    "import matplotlib as plt\n",
    "\n",
    "# This defines the size of the image below\n",
    "plt.rcParams['figure.figsize'] = (12, 12)"
   ]
  },
  {
   "cell_type": "code",
   "execution_count": null,
   "metadata": {},
   "outputs": [],
   "source": [
    "df[\"availableBikes\"].hist(bins=20)"
   ]
  },
  {
   "cell_type": "code",
   "execution_count": null,
   "metadata": {},
   "outputs": [],
   "source": [
    "(df[\"availableDocks\"]/df['totalDocks']).hist(alpha=0.5)"
   ]
  },
  {
   "cell_type": "code",
   "execution_count": null,
   "metadata": {},
   "outputs": [],
   "source": [
    "df.plot(kind='scatter', x=\"totalDocks\", y=\"availableBikes\")"
   ]
  },
  {
   "cell_type": "code",
   "execution_count": null,
   "metadata": {},
   "outputs": [],
   "source": [
    "# Let's do a first plot. Put the stations on a scatterplot based on\n",
    "# their longitude and latitude\n",
    "df.plot(kind='scatter', x='longitude', y='latitude')"
   ]
  },
  {
   "cell_type": "code",
   "execution_count": null,
   "metadata": {
    "collapsed": true
   },
   "outputs": [],
   "source": [
    "df[df[\"longitude\"] == 0]\n",
    "df.drop(503, inplace=True)"
   ]
  },
  {
   "cell_type": "code",
   "execution_count": null,
   "metadata": {},
   "outputs": [],
   "source": [
    "# Lets plot the stations that are out of service in red\n",
    "inservice = (df[\"statusValue\"] == 'In Service')\n",
    "outofservice = (df[\"statusValue\"] == 'Not In Service')\n",
    "\n",
    "df[inservice].plot(kind='scatter', \n",
    "                   x='longitude', \n",
    "                   y='latitude', \n",
    "                   color='DarkBlue', \n",
    "                   label='In Service')\n",
    "\n",
    "df[outofservice].plot(kind='scatter', \n",
    "                      x='longitude', \n",
    "                      y='latitude', \n",
    "                      color='Red', \n",
    "                      label = 'Out of Service')"
   ]
  },
  {
   "cell_type": "code",
   "execution_count": null,
   "metadata": {},
   "outputs": [],
   "source": [
    "# I do not like having to separate plots for that. There should be a way to merge the two plots\n",
    "# After checking the online documentation, it seem that we will use the \"ax\" convention\n",
    "inservice = (df[\"statusValue\"] == 'In Service')\n",
    "outofservice = (df[\"statusValue\"] == 'Not In Service')\n",
    "\n",
    "firstplot = df[inservice].plot(kind='scatter', \n",
    "                               x='longitude', \n",
    "                               y='latitude', \n",
    "                               color='DarkBlue', \n",
    "                               label='In Service')\n",
    "\n",
    "secondplot = df[outofservice].plot(kind='scatter', \n",
    "                      x='longitude', \n",
    "                      y='latitude', \n",
    "                      color='Red', \n",
    "                      label = 'Out of Service', \n",
    "                      ax = firstplot)\n"
   ]
  },
  {
   "cell_type": "code",
   "execution_count": null,
   "metadata": {},
   "outputs": [],
   "source": [
    "# And now make the size of each point proportional to the size of available bikes\n",
    "# using the s option in the plot\n",
    "inservice = (df[\"statusValue\"] == 'In Service')\n",
    "outofservice = (df[\"statusValue\"] == 'Not In Service')\n",
    "\n",
    "# We also add the \"alpha=0.5\" to add transparency\n",
    "firstplot = df[inservice].plot(kind='scatter', \n",
    "                               x='longitude', \n",
    "                               y='latitude', \n",
    "                               color='DarkBlue', \n",
    "                               alpha=0.5, \n",
    "                               label='In Service', \n",
    "                               s=100*(df['availableBikes']/df['totalDocks']))\n",
    "\n",
    "secondplot = df[outofservice].plot(kind='scatter', \n",
    "                                   x='longitude', \n",
    "                                   y='latitude', \n",
    "                                   color='Red', \n",
    "                                   ax = firstplot, \n",
    "                                   label = 'Out of Service')\n"
   ]
  },
  {
   "cell_type": "code",
   "execution_count": null,
   "metadata": {
    "collapsed": true
   },
   "outputs": [],
   "source": []
  }
 ],
 "metadata": {
  "anaconda-cloud": {},
  "kernelspec": {
   "display_name": "Python 3",
   "language": "python",
   "name": "python3"
  },
  "language_info": {
   "codemirror_mode": {
    "name": "ipython",
    "version": 3
   },
   "file_extension": ".py",
   "mimetype": "text/x-python",
   "name": "python",
   "nbconvert_exporter": "python",
   "pygments_lexer": "ipython3",
   "version": "3.6.1"
  }
 },
 "nbformat": 4,
 "nbformat_minor": 1
}
