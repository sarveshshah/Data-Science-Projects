{
 "cells": [
  {
   "cell_type": "markdown",
   "metadata": {},
   "source": [
    "# Python `pymysql` module"
   ]
  },
  {
   "cell_type": "markdown",
   "metadata": {},
   "source": [
    "To enable Python to access programatically the contents of MySQL, we need to install the package `pymysql`. To do so, type:\n",
    "\n",
    "`conda install pymysql`\n",
    "\n",
    "[https://github.com/PyMySQL/PyMySQL/](https://github.com/PyMySQL/PyMySQL/)"
   ]
  },
  {
   "cell_type": "markdown",
   "metadata": {},
   "source": [
    "Now, let's try our first connection to the database:"
   ]
  },
  {
   "cell_type": "code",
   "execution_count": 1,
   "metadata": {
    "collapsed": true
   },
   "outputs": [],
   "source": [
    "import pymysql\n",
    "import sys"
   ]
  },
  {
   "cell_type": "code",
   "execution_count": 2,
   "metadata": {},
   "outputs": [
    {
     "name": "stdout",
     "output_type": "stream",
     "text": [
      "Database version: ('5.7.20',)\n"
     ]
    }
   ],
   "source": [
    "# The connect() method has four parameters. \n",
    "# The first parameter is the host, where the MySQL database is located. \n",
    "# In our case it is a localhost, e.g. our computer. \n",
    "# The second parameter is the database user name. \n",
    "# It is followed by the user's account password. \n",
    "# The final parameter is the database name.\n",
    "host = 'localhost'\n",
    "username = 'root'\n",
    "password = ''\n",
    "database = 'imdb'\n",
    "\n",
    "# Connect to the database\n",
    "connection = pymysql.connect(host, username, password, database,\n",
    "                      charset='utf8', use_unicode=True);\n",
    "cursor = connection.cursor()\n",
    "cursor.execute(\"SELECT VERSION()\")\n",
    "ver = cursor.fetchone()\n",
    "print(\"Database version:\", ver)\n",
    "connection.close()"
   ]
  },
  {
   "cell_type": "markdown",
   "metadata": {},
   "source": [
    "And let's try our first query. You will use the `fetchall` command, which returns all the results."
   ]
  },
  {
   "cell_type": "code",
   "execution_count": 3,
   "metadata": {
    "scrolled": true
   },
   "outputs": [
    {
     "name": "stdout",
     "output_type": "stream",
     "text": [
      "((2, 'Michael', \"'babeepower' Viera\", 'M'), (3, 'Eloy', \"'Chincheta'\", 'M'), (4, 'Dieguito', \"'El Cigala'\", 'M'), (5, 'Antonio', \"'El de Chipiona'\", 'M'), (6, 'José', \"'El Francés'\", 'M'), (7, 'Félix', \"'El Gato'\", 'M'), (8, 'Marcial', \"'El Jalisco'\", 'M'), (9, 'José', \"'El Morito'\", 'M'), (10, 'Francisco', \"'El Niño de la Manola'\", 'M'), (11, 'Víctor', \"'El Payaso'\", 'M'), (12, 'Antonio', \"'El Pescaíto'\", 'M'), (13, 'Luis', \"'El Plojo'\", 'M'), (14, 'Janny', \"'el Portugues'\", 'M'), (15, 'Antonio', \"'El Rilete'\", 'M'), (16, 'Baltazar', \"'El Toro'\", 'M'), (17, 'Luis Roberto', \"'Formiga'\", 'M'), (18, 'Murray the', \"'K'\", 'M'), (19, 'Néstor', \"'Kick Boxer'\", 'M'), (20, 'Tony', \"'La Chispa'\", 'M'), (21, 'Pollino', \"'Romero'\", 'M'), (22, 'Frans', \"'t Hoen\", 'M'), (23, 'Jorrit', \"'t Hoen\", 'M'), (24, 'Dick', \"'t Hooft\", 'M'), (25, 'Jacob', \"'The Jeweler'\", 'M'), (26, 'Izzy', \"'The Religious Nut'\", 'M'), (27, \"Ka'olelo\", \"'Ulaleo\", 'M'), (28, 'Oswald', \"'Ô'\", 'M'), (29, 'Todd', '1', 'M'), (30, 'Mac', '10', 'M'), (32, 'Angel', '11:11', 'M'), (33, 'Nick', '13', 'M'), (34, 'Shaggy', '2 Dope', 'M'), (35, 'Mode', '2', 'M'), (36, 'Benjamin', '2X', 'M'), (37, 'The', '3 Whippets', 'M'), (38, 'André', '3000', 'M'), (40, 'Articolo', '31', 'M'), (41, \"Rappin'\", '4-Tay', 'M'), (42, 'The', '4D Jones', 'M'), (43, 'Mick', '5', 'M'), (44, 'James', '52X', 'M'), (45, 'Lucky', '7', 'M'), (46, 'Marc', '7', 'M'), (47, 'Equipe', '84', 'M'), (48, 'Ahmed', 'A El Rahim', 'M'), (49, 'Dragan', 'a zovu ga Elvis', 'M'), (50, 'Brett', \"A'Hearn\", 'M'), (51, 'Lejaren', \"a'Hiller\", 'M'), (52, 'Yussuf Abed', \"A'Nur\", 'M'), (53, 'Headhunter', 'A', 'M'), (55, 'Yunga', 'A', 'M'), (56, 'Cairns', 'A.', 'M'), (57, 'Dominique', 'A.', 'M'), (58, 'Narayana Rao', 'A.', 'M'), (59, 'Prasad', 'A.', 'M'), (60, 'Satyanarayana', 'A.', 'M'), (61, 'Narayana', 'A.L.', 'M'), (62, 'Raja', 'A.M.', 'M'), (63, 'Krishna', 'A.R.', 'M'), (64, 'Alwi', 'A.S.', 'M'), (65, 'Giri', 'A.S.', 'M'), (66, 'Subba Rao', 'A.V. Jr.', 'M'), (67, 'Subba Rao', 'A.V.', 'M'), (68, 'Brynjar', 'Aa', 'M'), (69, 'Andreas', 'Aabel', 'M'), (70, 'Hauk (I)', 'Aabel', 'M'), (71, 'Per (I)', 'Aabel', 'M'), (72, 'Palle', 'Aabentoft', 'M'), (73, 'Dennis', 'Aaberg', 'M'), (74, 'Linus (I)', 'Aaberg', 'M'), (75, 'Linus (II)', 'Aaberg', 'M'), (76, 'Kristian', 'Aaby', 'M'), (77, 'Olaf', 'Aabye', 'M'), (78, 'Tørres', 'Aadland', 'M'), (79, 'Argo', 'Aadli', 'M'), (80, 'Per', 'Aaeng', 'M'), (81, 'Karl', 'Aagaard Østvig Jr.', 'M'), (82, 'Carl Powl', 'Aagaard', 'M'), (83, 'Egon', 'Aagaard', 'M'), (84, 'Jesper', 'Aagaard', 'M'), (85, 'Lasse', 'Aagaard', 'M'), (86, 'Sebastian', 'Aagaard-Williams', 'M'), (87, 'Karl', 'Aagard Østvig', 'M'), (88, 'Per', 'Aage Brandt', 'M'), (89, 'Jan', 'Aagre', 'M'), (90, 'Thomas', 'Aagren', 'M'), (91, 'Dee', 'Aaker', 'M'), (92, 'Lee', 'Aaker', 'M'), (93, 'Kim Fupz', 'Aakeson', 'M'), (94, 'Steve', 'Aalam', 'M'), (95, 'Freddy', 'Aalbeck', 'M'), (96, 'George', 'Aalbregise', 'M'), (97, 'Niels', 'Aalbæk Jensen', 'M'), (98, 'Karsten', 'Aalholm', 'M'), (99, 'Preben', 'Aalholt', 'M'), (100, 'Henri', 'Aalto', 'M'), (101, 'Keijo', 'Aalto', 'M'), (102, 'Petri', 'Aalto', 'M'), (103, 'Rostislav', 'Aalto', 'M'), (106, 'Pauli', 'Aalto-Setälä', 'M'))\n"
     ]
    }
   ],
   "source": [
    "connection = pymysql.connect(host, username, password, database, charset='utf8', use_unicode=True)\n",
    "\n",
    "with connection:\n",
    "    cursor = connection.cursor()\n",
    "    cursor.execute(\"SELECT * FROM actors LIMIT 100\")\n",
    "    results = cursor.fetchall()\n",
    "\n",
    "print(results)"
   ]
  },
  {
   "cell_type": "code",
   "execution_count": 4,
   "metadata": {},
   "outputs": [
    {
     "name": "stdout",
     "output_type": "stream",
     "text": [
      "<class 'tuple'>\n",
      "((2, 'Michael', \"'babeepower' Viera\", 'M'), (3, 'Eloy', \"'Chincheta'\", 'M'), (4, 'Dieguito', \"'El Cigala'\", 'M'), (5, 'Antonio', \"'El de Chipiona'\", 'M'), (6, 'José', \"'El Francés'\", 'M'))\n"
     ]
    }
   ],
   "source": [
    "print(type(results))\n",
    "print(results[:5])"
   ]
  },
  {
   "cell_type": "code",
   "execution_count": 5,
   "metadata": {},
   "outputs": [
    {
     "name": "stdout",
     "output_type": "stream",
     "text": [
      "((56, \"'Amphitrite', The\", 1897, None), (70, \"'Brennus', Le\", 1897, None), (247, \"'Standard' Picture Animated, A\", 1897, None), (1076, '13th Infantry, U.S. Army Marching Through Sallyport, Governors Island', 1897, None), (1077, '13th Infantry, U.S. Army, in Heavy Marching Order, Double-Time, Governors Island', 1897, None), (1078, '13th Infantry, U.S. Army: Bayonet Exercise, Governors Island', 1897, None), (1079, '13th Infantry, U.S. Army: Blanket Court Martial, Governors Island', 1897, None), (1080, '13th Infantry, U.S. Army: Full Dress Parade and Manoeuvering, Governors Island', 1897, None), (1081, '13th Infantry, U.S. Army: Full Dress Parade, Governors Island', 1897, None), (1082, '13th Infantry, U.S. Army: Manual of Arms, Governors Island', 1897, None), (1083, '13th Infantry, U.S. Army: Marching and Counter Marching (Band and Troops)', 1897, None), (1084, '13th Infantry, U.S. Army: Musical Drill, Governors Island', 1897, None), (1085, '13th Infantry, U.S. Army: Scaling Walls in Retreat, Governors Island', 1897, None), (1086, '13th Infantry, U.S. Army: Scaling Walls with Wounded and Dying, Governors Island', 1897, None), (1343, '1897 Melbourne Cup', 1897, None), (2834, '5th Avenue, N.Y.', 1897, None), (2869, '60 Minute Flyer', 1897, None), (3075, '7th and 71st Regiment, New York', 1897, None), (3083, '7th Regiment, N.G.S.N.Y.', 1897, None), (5102, \"Abreuvoir, L'\", 1896, None), (6530, 'Admiral Cigarette', 1897, 4.1), (7298, 'Aerial Slide at Coney Island, The', 1897, None), (7401, 'Affair of Honor, An', 1897, None), (9493, 'Akrobat med otur', 1897, None), (9917, 'Alarm (Gordon Highlanders)', 1897, None), (10018, 'Albany Day Boats', 1897, None), (10201, 'Aldershot Review', 1897, None), (12718, 'Alumnos de Chapultepec con la esgrima del fusil', 1896, None), (12719, 'Alumnos de Chapultepec desfilando', 1896, None), (13031, 'Amansador, El', 1896, None), (13573, 'Ambulance at the Accident', 1897, None), (13574, 'Ambulance Call', 1897, None), (13766, 'American and Cuban Flag', 1897, None), (13894, 'American Falls from Above, American Side', 1896, 3.9), (13895, 'American Falls from Bottom of Canadian Shore', 1896, None), (13896, 'American Falls From Bridge, Niagara Falls', 1896, None), (13900, 'American Falls, from Incline R.R.', 1896, None), (13901, 'American Falls, Goat Island', 1896, None), (13902, 'American Falls, Luna Island', 1896, None), (14991, 'Amoskeag Veterans, New Hampshire', 1897, None), (15226, 'Amy Muller', 1896, 4.3), (16013, 'Ancient and Honorable Artillery Co.', 1897, None), (16014, 'Ancient and Honorable Artillery Parade (1897/I)', 1897, None), (16015, 'Ancient and Honorable Artillery Parade (1897/II)', 1897, None), (17624, 'Annabelle in Flag Dance', 1896, None), (18434, 'Antwerpen: Aankomst per boot', 1897, None), (19196, 'Apprentis militaires, Les', 1897, None), (19335, 'Aprs le bal', 1897, None), (19429, 'Aquarium', 1896, None), (20328, 'Arlequin et charbonnier', 1897, None), (20487, \"Armour's Electric Trolley\", 1897, 3.7), (20714, 'Arrest at New Haven, Conn., An', 1896, None), (20716, 'Arrest in Chinatown, San Francisco, Cal.', 1897, 3.2), (20718, 'Arrest of a Bookmaker, The', 1896, None), (20719, 'Arrest of a Pickpocket, The', 1896, None), (20722, 'Arrest, An', 1896, None), (20767, 'Arrival of Li Huang Chang, The', 1896, None), (20779, 'Arrival of the King of Siam in Stockholm, The', 1897, None), (20815, \"Arrive d'un bateau  vapeur\", 1897, None), (20816, \"Arrive d'un train - Gare de Joinville\", 1896, None), (20817, \"Arrive d'un train gare de Vincennes\", 1896, None), (20818, \"Arrive d'un train  Huy\", 1897, None), (20820, \"Arrive d'un train  Melbourne\", 1896, None), (20821, \"Arrive d'un train  Tervuren\", 1897, None), (20833, \"Arroseur arros, L'\", 1897, None), (20834, \"Arroseur, L'\", 1896, None), (21254, \"Artist's Model, The\", 1897, None), (21588, 'Asalto a sable de los discpulos de Carbonell', 1896, None), (21631, \"Ascension d'un ballon, L'\", 1897, None), (21657, 'Ascot Races Arrival of the Prince of Wales', 1897, None), (21725, 'Asfaltlggerne', 1897, None), (23003, 'At the Top of Brooklyn Bridge', 1897, None), (23209, 'Atlantic Avenue, Boston', 1896, None), (23212, 'Atlantic City Bathers', 1896, None), (23215, 'Atlantic City Boardwalk (1896/I)', 1896, None), (23216, 'Atlantic City Boardwalk (1896/II)', 1896, None), (23217, 'Atlantic City Fire Department', 1897, None), (23489, \"Attaque d'un poste anglais\", 1897, None), (23753, 'Au rfectoire', 1897, None), (23872, \"Auberge ensorcele, L'\", 1897, None), (24166, 'Auguste et Bibb', 1897, None), (24464, 'Austrian Mounted Police', 1897, None), (24575, 'Automatic Piano', 1897, None), (24687, 'Autruches', 1896, 5.4), (24981, 'Avenida da Liberdade', 1896, None), (25165, \"Aveugle, L'\", 1897, None), (25396, 'Awakening of Rip', 1896, None), (25693, 'Azenhas no Rio Ave', 1896, None), (26189, 'Babies Quarrel', 1896, 6.4), (26193, \"Babies' Dinner\", 1897, None), (26384, 'Baby Merry-Go-Round, A', 1897, None), (27157, 'Bad Boy and Poor Old Grandpa, The', 1897, None), (27158, 'Bad Boy and the Gardener, The', 1896, 2.0), (27602, 'Bag Punching by Sadie Leonard', 1897, None), (27832, 'Baignade dans le torrent', 1897, None), (27835, 'Baignade en mer', 1896, None), (27836, 'Baignade en mer', 1897, None), (27858, 'Baile andaluz', 1897, None), (27862, 'Baile de la romeria Espaola en el Tivoli del eliseo', 1896, None), (27893, 'Bains de Diane  Milan, Les', 1896, None), (27894, 'Bains de la jete des pquis, Les', 1896, None), (27895, 'Bains en mer', 1897, None), (28148, \"Bal d'enfants\", 1897, None), (28176, 'Bal villageois enfantin de Bruxelles-Kermess, Le', 1897, None), (28582, 'Ballet libella', 1897, None), (29005, 'Bandera argentina, La', 1897, None), (29272, 'Banhistas de Figueira da Foz, Os', 1897, None), (29838, 'Barcelos', 1896, None), (29925, 'Bareback Hurdle Jumping', 1897, None), (30173, 'Barnet Horse Fair', 1896, None), (30203, \"Barnum's Street Parade, Nos. 1, 2, and 3\", 1897, None), (30293, 'Barque en mer', 1897, None), (30295, 'Barque sortant du port de Trouville', 1896, None), (30801, 'Bataille de boules de neige', 1896, 7.0), (30803, 'Bataille de confettis', 1897, None), (30891, 'Bateau-mouche sur la Seine', 1896, None), (30909, 'Bath Scene', 1897, None), (30914, 'Bathers and Lifeboat, Atlantic City', 1896, None), (30916, 'Bathers, The', 1897, None), (31028, 'Battery A, Light Artillery, U.S. Army', 1897, None), (31031, \"Battery B, Governor's Troop, Penna.\", 1897, None), (31035, 'Battery, The', 1897, None), (31038, 'Batteuse  vapeur', 1896, None), (31308, \"Battleship 'Texas'\", 1897, None), (31313, \"Battleships 'Maine' and 'Iowa'\", 1897, None), (31314, \"Battleships 'Marblehead' and 'Miantonomah'\", 1897, None), (31486, 'Bayonet Versus Bayonet', 1897, None), (31538, 'Bao de caballos', 1896, None), (31626, 'Beach Apparatus: Practice', 1897, None), (31698, 'Beach Scene', 1897, None), (34413, 'Berne: Arrive du roi de Siam', 1897, None), (36535, \"Bicentenaire des maisons de la Grand' Place de Bruxelles\", 1897, None), (36572, 'Bicycle Girl', 1897, None), (36575, 'Bicycle Parade on the Boulevard', 1896, None), (36581, 'Bicyclers in Inaugural Parade', 1897, None), (37572, 'Biggest Fish He Ever Caught, The', 1897, None), (38910, 'Biter Bit, The', 1897, 4.4), (39026, 'Bivouac, Le', 1896, None), (39422, 'Black Diamond Express', 1896, 4.5), (39423, 'Black Diamond Express, No. 1', 1897, None), (39424, 'Black Diamond Express, No. 2', 1897, None), (40167, 'Blackton Sketches, No. 2', 1896, None), (40168, 'Blackton Sketches, No. 3', 1896, None), (40285, 'Blanchisseuses, Les', 1896, None), (42264, 'Board Walk, Atlantic City', 1897, None), (42279, 'Boardwalk, The', 1897, None), (42294, 'Boat Rescue', 1896, None), (42297, 'Boat Wagon and Beach Cart', 1897, None), (42300, 'Boating on the Lake', 1897, None), (42999, 'Bois de Boulogne', 1896, None), (43218, 'Bolster Fight', 1897, None), (43901, 'Book Agent, The', 1897, None), (44763, \"Boston's Subway\", 1897, None), (44977, 'Boulevard Anspach', 1897, None), (44981, 'Boulevard des Italiens', 1896, None), (45141, 'Bourse, La', 1897, None), (45222, 'Bowery Cafe, A', 1897, None), (45234, 'Bowery Waltz', 1897, 3.9), (45258, 'Bowling Green', 1896, None), (45355, 'Boxing for Points', 1897, None), (45361, 'Boxing Kangaroo, The', 1896, None), (45366, 'Boxing Match; or, Glove Contest', 1896, None), (45600, 'Boys Bathing, Leapfrog - Atlantic City', 1896, None), (45671, 'Boys Will Be Boys', 1897, None), (45787, 'Braga', 1896, None), (45989, 'Brandvsnet rykker ud', 1897, None), (45990, 'Brandweer-Film', 1897, None), (46430, 'Breaking Up Housekeeping', 1897, None), (47290, 'Broadway & Park Row, Front of U.S. Post Office, N.Y.', 1896, None), (47302, 'Broadway at 14th Street', 1896, None), (47303, 'Broadway at Post Office', 1896, None), (47384, 'Broadway, New York, at Madison Square', 1897, None), (47528, 'Broken Melody, The', 1896, None), (47803, 'Brooklyn Bridge', 1896, 2.6), (48869, 'Buffalo Bill and Escort', 1897, None), (48893, 'Buffalo Fire Department in Action', 1897, 3.9), (48899, 'Buffalo Horse Market', 1896, None), (48905, 'Buffalo Police on Parade', 1897, 3.0), (48911, 'Buffalo Stockyards', 1897, 3.4), (49367, 'Bullfight', 1896, None), (49584, 'Bungling Waiter, The', 1897, None), (49779, 'Burglar Caught in the Act', 1897, None), (49814, 'Burglars in the Pantry', 1897, None), (49891, 'Burlesque Cake Walk', 1897, None), (50010, 'Burning Stable, The', 1896, 4.3), (50243, 'Busses Leaving R.R. Depot, Atlantic City', 1896, None), (50424, 'Busy Corner, A', 1897, None), (50636, 'Butterfly Dance', 1896, None), (50637, 'Butterfly Dance', 1897, 5.2), (51062, 'Byrakstugan', 1897, None), (51164, 'Bb et fillettes', 1896, None), (51651, 'Cabinet de Mphistophls, Le', 1897, None), (52800, 'Cambrioleurs, Les', 1897, None), (53052, 'Camp of Zingari Gypsies, A', 1897, None), (53105, 'Campement de bohmiens', 1896, None), (53531, 'Canadian Falls, From American Side', 1896, None), (53532, 'Canadian Falls: Panoramic View From Michigan Central R.R.', 1896, None), (53533, 'Canadian Falls: Table Rock (1896/I)', 1896, None), (53534, 'Canadian Falls: Table Rock (1896/II)', 1896, None), (53886, 'Caninha Verde, A', 1896, None), (54407, 'Capsize of Lifeboat', 1897, 3.5), (55002, 'Carga de rurales', 1896, None), (55062, 'Caricaturas por Pina Vaz', 1896, None), (55164, 'Carmaux, dfournage du coke', 1896, 5.4), (55229, 'Carmen Romero Rubio de Daz y familiares en carruaje en el paseo de la reforma', 1896, None), (56122, 'Cascade (Geneva Exposition)', 1896, None), (56897, 'Catching a Runaway Team', 1897, None), (57033, 'Cattle Driven to Slaughter', 1897, 3.5), (57086, 'Cauchemar, Le', 1897, None), (57188, 'Caught Napping', 1897, None), (57344, 'Cavalry Charge (1897/I)', 1897, None), (57345, 'Cavalry Charge (1897/II)', 1897, None), (57347, 'Cavalry Horses at Play', 1897, None), (57350, 'Cavalry Musical Drill', 1897, None), (57833, 'Cenas da Vida Parisiense', 1896, None), (57984, 'Central Park', 1896, None), (58866, 'Champion Rolla O. Heikes, Breaking the Record at Flying Targets with Winchester Shotgun', 1897, None), (58911, 'Champs-lyses', 1896, None), (59147, 'Changing Guard (Berlin)', 1897, None), (59443, \"Charge des Guides  la plaine d'Eterbeek\", 1897, None), (59448, 'Charge of Hungarian Hussars', 1897, None), (59461, 'Charge of West Point Cadets', 1896, None), (59462, 'Charge, Through Intervals of Skirmishes', 1897, None), (59486, 'Charity Ball', 1897, 3.1), (59810, 'Chas. Werts, Acrobat', 1897, None), (60390, 'Chegada do Comboio Inaugural  Estao Central do Porto, A', 1897, None), (60915, 'Chevaux de bois, Les', 1896, None), (60961, 'Chez le magntiseur', 1897, None), (61160, 'Chicago and Buffalo Express', 1896, None), (61167, 'Chicago dfil de policemen', 1896, 4.7), (61169, 'Chicago Fast Mail NYC. R.R.', 1896, None), (61267, 'Chicken Farm, A', 1897, None), (61301, 'Chicken Thieves', 1897, None), (61362, 'Chicot, dentiste amricain', 1896, None), (61429, 'Chiffonnier, Le', 1896, None), (61699, 'Children in the Nursery', 1896, None), (61823, 'Children Paddling at the Seaside', 1897, None), (61825, 'Children Playing with Fish', 1897, None), (61837, \"Children's Carnival in Germany, A\", 1897, None), (61853, \"Children's Toilet\", 1897, None), (62324, 'Chirgwin in His Humorous Business', 1896, None), (62325, 'Chirgwin Plays a Scotch Reel', 1896, None), (62342, 'Chirurgien amricain', 1897, None), (63008, 'Christmas Eve', 1897, None), (63072, 'Christmas Morning', 1897, None), (63126, 'Christmas Tree Party, The', 1897, None), (63926, 'Cigale et la fourmi, La', 1897, None), (64681, 'Cissy Fitzgerald', 1896, None), (65187, 'Clarence House Lawn Party, The', 1897, None), (65211, \"Clark's Thread Mill\", 1896, None), (65217, 'Clase de gimnasia en el colegio de la paz', 1896, None), (66406, 'Cocher de fiacre endormi, Le', 1897, None), (66548, 'Cocoanut Fair', 1897, None), (66842, 'Coimbra', 1896, None), (66997, 'Coldstream Guards, The', 1897, None), (67220, 'Cologne: sortie de la cathdrale', 1896, None), (67536, 'Columbia Bicycle Factory', 1897, None), (67541, 'Columbia School Girls', 1897, None), (67716, 'Combat dans une rue aux Indes', 1897, None), (67728, 'Combat naval en Grce', 1897, None), (67762, 'Comboio de Recreio e Sintra, O', 1897, None), (67763, 'Comboio do Douro', 1897, None), (67972, 'Comedy Cake Walk', 1897, 3.4), (68090, 'Comic Face', 1897, None), (68114, 'Comic Shaving', 1897, None), (68258, 'Comitiva presidencial del 16 de septiembre', 1896, None), (69189, 'Concours hippique de Tervuren', 1897, None), (69191, 'Concourse de boules', 1897, 4.6), (69563, 'Congolais  Tervueren, Les', 1897, None), (70046, 'Contortionist', 1896, None), (70441, 'Coon Cake Walk, A', 1897, None), (70714, 'Corbett-Fitzsimmons Fight, The', 1897, None), (70716, 'Corcoran Cadets, Washington', 1897, None), (70801, 'Cornell-Yale-Harvard Boat-Race', 1897, None), (70813, 'Corner Madison and State Streets, Chicago', 1897, 3.4), (71039, 'Corrida de Sacos no Campo Grande', 1897, None), (71042, 'Corrida de toros', 1896, None), (71069, 'Corrida entera de toros por la cuadrilla de Ponciano Perez', 1897, None), (71204, 'Cortejo Eucarstico Saindo da S do Porto no Aniversrio da Sagrao do Eminentssimo Cardeal Amrico (1896', 1896, None), (71234, 'Cortge arabe', 1896, 4.7), (71235, 'Cortge de la mi-carme', 1897, None), (71237, 'Cortge de tzar allant  Versailles', 1896, None), (71238, 'Cortge de tzar au Bois de Boulogne', 1896, None), (71239, 'Cortge du boeuf gras boulevard des Italiens', 1897, None), (71426, 'Costumes da Aldeia', 1896, None), (71501, \"Coucher d'Yvette\", 1897, None), (71714, 'Country Dance, A', 1897, None), (71941, 'Couronnement de la rosire', 1896, None), (71976, 'Courses de taureaux I', 1897, None), (73505, 'Crissie Sheridan', 1897, 4.3), (73657, 'Cronin with Three Clubs', 1896, None), (73658, 'Cronin, American Club Manipulator', 1896, None), (73702, 'Crookedest Railroad Yard in the World, The', 1897, None), (74037, 'Cruikshank', 1897, None), (75286, 'Cupid and Psyche', 1897, 3.3), (75295, 'Cupid at the Washtub', 1897, None), (75929, 'Czar en France - dfil des troupes, Le', 1896, None), (76963, 'Daisy Guard, The', 1897, None), (77683, 'Dance, Franchonetti Sisters', 1897, 4.0), (77772, 'Dancing Darkey Boy', 1897, None), (77773, 'Dancing Darkies', 1896, 3.0), (77786, 'Dancing Girls', 1896, None), (77787, 'Dancing Girls Limbering Up', 1897, None), (77843, 'Dancing Skeleton, The', 1897, None), (78371, 'Dans les coulisses', 1897, None), (78401, 'Danse au srail', 1897, None), (78421, 'Danse fleur de lotus', 1897, None), (78426, 'Danse serpentine', 1896, None), (78427, 'Danse serpentine', 1897, None), (78451, 'Danseuses au jardin de Paris', 1897, None), (79713, 'Day After the Circus', 1897, None), (81215, 'Death of Nancy Sykes', 1897, None), (81218, 'Death of Nelson, The', 1897, None), (82273, 'Delaware River, Philadelphia', 1897, None), (82749, 'Demonstrating the Action of an Automatic Piano', 1897, None), (83210, 'Dernier Longchamp fleuri', 1897, None), (83283, 'Dernires cartouches, Les', 1897, None), (83414, 'Desafio en Mxico', 1897, None), (83448, 'Desayuno de indios', 1896, None), (83723, 'Desfile de rurales al galope el 16 de septiembre', 1896, None), (83726, 'Desfile del regimiento de Castillejos', 1897, None), (84074, 'Dessinateur express', 1896, None), (84075, 'Dessinateur: Chamberlain', 1896, None), (84076, 'Dessinateur: Reine Victoria', 1896, None), (84077, 'Dessinateur: Von Bismark', 1896, None), (84725, \"Devant's Exhibition of Paper Folding\", 1896, None), (84726, \"Devant's Hand Shadows\", 1896, None), (85225, 'Dewars Scotch Whiskey', 1897, 3.8), (85253, 'Deyo', 1897, None), (87096, 'Dip in the Sea, A', 1896, 4.3), (88105, 'Diving at Bath Beach', 1897, None), (88231, 'Dix chapeaux en 60 secondes', 1896, None), (91986, 'Douche aprs le bain', 1897, 5.1), (92272, 'Downey and Patterson Fight, The', 1897, None), (92274, 'Downey vs. Monaghan', 1897, None), (92275, 'Downey-Monaghan (Round 1)', 1897, None), (92874, 'Dragons traversant la Sane  la nage', 1896, 6.1), (93589, 'Dressing Room Scene, A', 1897, None), (93673, 'Drill of the Engineer Corps', 1896, None), (94101, 'Drum Corps and Militia', 1897, None), (94163, 'Drunken Acrobat, The', 1896, None), (94756, 'Duel au pistolet', 1896, None), (94777, 'Duel Pini-Thomgues, Le', 1897, None), (94815, 'Duelo a pistola en el bosque de Chapultepec, Un', 1896, None), (95513, 'Dutch Fishing Boats', 1897, None), (96042, 'Dchargement de bateaux', 1896, None), (96073, \"Dfense d'afficher\", 1896, None), (96085, 'Dfil des pompiers', 1897, None), (96088, 'Dfil militaire au bois de la cambre', 1897, None), (96152, \"Dmolition d'un mur\", 1896, 6.6), (96176, 'Dpart des automobiles', 1896, None), (96177, 'Dpart des officiers', 1896, None), (96848, 'East River, New York', 1897, None), (96850, 'East Side Drive, No. 1', 1896, None), (96851, 'East Side Drive, No. 2', 1896, None), (97573, \"Edison Drawn by 'World' Artist\", 1896, None), (97832, 'Effets de mer sur les rochers', 1896, None), (97905, 'Egg-Laying Man, The', 1896, None), (98185, 'Eighth and Vine St. Philadelphia', 1897, None), (98444, 'Ejercicios militares de los cadetes de la academia mexicana', 1897, None), (98817, 'Eleccin de yuntas', 1896, None), (99102, 'Elephants at the Zoo', 1897, None), (99115, 'Elevated Railway, 23rd Street, New York', 1896, None), (99479, 'Elopement, The', 1897, None), (99725, \"Embarquement d'une chaudire\", 1896, 4.8), (99726, 'Embarquement pour le promenade', 1897, None), (100065, 'Emperor Francis Joseph of Austria', 1897, None), (100081, 'Emperor William of Germany, and Emperor Franz Josef of Austria', 1897, None), (100135, 'Empire State Express', 1896, None), (100136, 'Empire State Express No. 2', 1896, None), (100137, 'Empire State Express, N.Y. Central R.R.', 1896, None), (100272, 'En cabinet particulier', 1897, None), (101168, 'Enfant et chien', 1897, None), (101185, 'Enfants au bord de la mer', 1897, None), (101238, 'Enfants jouant sur la plage', 1896, None), (101242, 'Enfants pchant des crevettes', 1896, 5.6), (101365, 'Engine and Pump', 1896, None), (101408, 'English Derby, The', 1897, None), (101772, 'Entierro del general Snchez Bregua', 1897, None), (101817, 'Entre Calais et Douvres', 1897, None), (101951, 'Entre du cinmatographe', 1896, None), (103214, \"Escamotage d'une dame au thtre Robert Houdin\", 1896, 5.5), (103380, 'Escena en los baos pane', 1896, None), (105750, 'Exerccio de Tiro no Campo Grande', 1897, None), (105771, 'Exhibition of Prize Winners', 1897, None), (105846, 'Exit of Rip and the Dwarf', 1896, None), (106002, 'Expert Driving', 1897, None), (106128, 'Exposition nationale suisse. Palais des beaux-arts', 1896, None), (106473, \"Excution d'un espion\", 1897, None), (107215, 'Facial Expressions by Loney Haskell', 1897, None), (107653, 'Fakir, mystre indien, Le', 1896, None), (107815, \"Fall River Boat 'Priscilla'\", 1897, None), (107816, 'Fall River Boat Train', 1897, None), (107946, 'Falls of Minnehaha', 1897, 3.2), (109233, \"Farmer's First Trip to Bergen Beach\", 1897, None), (109240, \"Farmer's Troubles, The\", 1897, None), (109491, 'Fast Mail, Northern Pacific Railroad', 1897, 3.5), (109554, 'Fastest Wrecking Crew in the World', 1897, None), (109946, 'Fatima', 1897, None), (109950, \"Fatima's Coochee-Coochee Dance\", 1896, None), (110087, 'Faust et Marguerite', 1897, None), (110491, 'Feeding the Doves', 1896, 4.9), (110546, 'Feest van het Lanciersescadron in Oudenaarde', 1897, None), (110657, 'Feira de Gado na Corujeira', 1896, None), (110658, 'Feira de S. Bento, A', 1896, None), (111179, 'Fencing on Horseback', 1897, None), (111456, 'Ferry Boat Leaving Dock, New York', 1896, None), (111464, \"Ferryboat 'Winthrop'\", 1897, None), (112198, 'Fifth Avenue, Easter Sunday Morning', 1896, None), (112199, 'Fifth Avenue, New York', 1897, None), (112272, \"Figaro et l'auvergnat\", 1897, None), (112608, 'Fighting the Fire', 1896, None), (113626, 'Finish of the Brooklyn Handicap', 1897, None), (113675, 'Finto storpio, Il', 1896, None), (113745, \"Fire Boat 'Edwin S. Stewart'\", 1897, None), (113766, 'Fire Department, N.Y. City, 1st and 2nd Alarms', 1896, None), (113767, 'Fire Department, New Haven, Conn.', 1896, None), (113781, 'Fire Engine at Work', 1896, None), (113848, 'Fire Run', 1897, None), (114006, 'Firing by Squad, Gatling Gun', 1897, None), (114058, 'First Avenue, Seattle, Washington, No. 8', 1897, 3.0), (114236, 'First Round: Glove Contest Between the Leonards', 1897, None), (114245, 'First Sleigh-Ride, The', 1897, 3.3), (114410, \"Fisherman's Luck\", 1897, 3.4), (114422, \"Fisherman's Wharf\", 1897, 3.2), (114459, 'Fishing Schooner, A', 1897, None), (114460, 'Fishing Smacks', 1897, 2.9), (116403, 'Foiled Again', 1897, None), (116842, 'Football', 1897, None), (117923, 'Fort Hill Fire Station', 1897, None), (118150, 'Fotografias Tiradas na Cidade do Porto', 1896, None), (118437, 'Fourteenth and Broadway', 1896, None), (119539, 'Free-for-All Race at Charter Oak Park', 1897, 2.8), (119738, 'French Acrobatic Dance', 1897, None), (120210, 'Friendly Boxing Match, A', 1896, None), (121667, 'Fun on the Clothesline', 1897, None), (121673, 'Fun on the Steeple-Chase', 1897, None), (122350, 'Fe aux choux, La', 1896, None), (122413, 'Fte de natation  Tervuren', 1897, None), (122721, 'Gabbia dei matti, La', 1896, None), (122902, 'Gaiety Dance', 1897, None), (123331, 'Gamblers, The', 1897, None), (124156, 'Gare Saint-Lazare, La', 1896, None), (124521, 'Gatling Gun Crew in Action', 1897, None), (125531, \"General Porter's Oration\", 1897, None), (125938, 'Genve (Exposition 1896)', 1896, None), (126239, 'German Warship at Spithead', 1897, None), (126469, 'Gestoorde hengelarr', 1896, None), (126481, 'Gestrtes Rendez-Vous', 1897, None), (126703, 'Getting Off Trolley at Atlantic City', 1896, None), (127398, 'Giant Coal Dumper', 1897, 3.6), (127416, 'Giant Steam-Shovel, A', 1897, None), (128063, 'Girard College Cadets', 1897, None), (128065, 'Girard College Cadets at Double Quick', 1897, None), (128066, 'Girard College Cadets in Review', 1897, None), (128647, 'Girls Battling for a Hammock', 1897, None), (128840, 'Girls Swinging', 1897, None), (128882, 'Girls Wrestling on the Beach', 1897, None), (128886, \"Girls' Acrobatic Feats\", 1897, None), (128887, \"Girls' Boarding School\", 1897, None), (129417, 'Glimpses of the Grant Parade', 1897, None), (129895, 'Goat', 1897, None), (130444, 'Going to the Fire', 1896, None), (130452, 'Going to the Post', 1897, None), (130987, 'Golding Sisters, Champion Swimmers', 1897, None), (131067, 'Golfing Extraordinary, Five Gentlemen', 1896, None), (131623, 'Good Story, A', 1897, None), (131975, 'Gordon Highlanders', 1897, None), (131977, 'Gordon Highlanders Marching Into Camp', 1897, None), (132327, 'Governor Bushnell of Ohio, and Staff', 1897, None), (132328, 'Governor Cook and Staff, Connecticut', 1897, None), (132331, 'Governor of Ohio and Staff', 1897, None), (132447, 'Grace Church, New York', 1897, None), (132926, \"Grand' Place\", 1897, None), (133079, 'Grandes manoeuvres', 1896, None), (133080, 'Grandes manoeuvres belges, Les', 1897, None), (133224, 'Grant Veterans - G.A.R.', 1897, None), (134898, 'Grupo de indios al pie del arbol de la noche triste', 1896, None), (134901, 'Grupo en movimiento del general Diaz y de su familia', 1896, None), (135140, 'Guard Mount, Ft. Myer', 1897, None), (135445, \"Gugusse et l'automaton\", 1897, None), (136467, 'Gymnastic Exercises in the British Army', 1897, None), (136471, 'Gymnastics - Indian Club Performer', 1897, None), (136829, 'H.M.S. Powerful at Spithead', 1897, None), (137199, 'Hail Britannia!', 1897, None), (137444, 'Haleurs de bateaux, Les', 1896, None), (137651, \"Hallow-e'en in Coon-Town\", 1897, 1.5), (137698, \"Hallucination de l'alchimiste, L'\", 1897, None), (138361, 'Hanging Out the Clothes', 1897, None), (138785, 'Happy Family', 1896, None), (139155, 'Hard Scrabble, A', 1897, None), (139212, 'Hard Wash, A', 1896, None), (139744, 'Harvard Crew', 1897, None), (139784, 'Harvesting Corn', 1897, None), (139802, 'Has He Hit Me?', 1897, None), (140069, 'Hauling a Scoop Net', 1897, None), (140089, 'Haunted Castle, The', 1897, None), (140387, 'Haverstraw Tunnel, The', 1897, None), (140637, 'Haymakers at Work', 1896, None), (140735, 'He and She', 1897, None), (140796, 'He Kissed the Wrong Girl', 1897, None), (141083, 'Heads, Hats and Faces', 1897, None), (142827, 'Henley Regatta', 1897, None), (142829, 'Henley Regatta, The', 1896, None), (143120, 'Her First Corset', 1897, None), (143471, 'Herald Square', 1897, 3.7), (144794, 'High Diving', 1897, None), (145039, 'Highland Fling, by the Gordon Highlanders, The', 1897, None), (145948, 'His First Smoke', 1897, None), (146077, 'His Majesty, King Edward VII', 1897, None), (148291, 'Home Life of a Hungarian Family', 1897, None), (149758, 'Horse Dancing Couchee Couchee', 1897, None), (149762, 'Horse Eating Hay', 1897, None), (149765, 'Horse Guards, The', 1897, None), (149836, 'Horses Loading for Klondike', 1897, 3.1), (149847, 'Horseshoe Falls from Table Rock, Canadian Side', 1896, None), (149849, 'Horseshoe Falls, From Luna Isle', 1896, None), (150562, 'Hotel del Monte', 1897, 3.1), (150651, 'Hotel Vendome, San Jose, Cal.', 1897, 3.2), (151253, 'How a Rat Interrupted an Afternoon Tea', 1897, None), (152547, 'Human Hen, The', 1896, None), (152816, 'Hungarian Cavalry Charge', 1897, None), (153073, 'Hurdle Jumping and Saddle Vaulting', 1897, None), (153075, 'Hurdle Race', 1897, None), (153077, 'Hurdle Race: High Jumpers', 1896, None), (153222, 'Husking Bee', 1897, None), (153491, 'Hyde Park, London', 1896, 3.1), (153888, \"Htel empoisonn, L'\", 1897, None), (155775, 'Idylle', 1897, None), (155780, 'Idylle interrompue', 1897, None), (157336, 'Imro Fox Rabbit Trick', 1896, None), (157337, 'Imro Fox, Conjuror', 1896, None), (157445, 'In a Chinese Laundry', 1897, None), (158455, 'In the Surf', 1897, None), (158655, 'Inaugural Parade, 71st Regiment, New York', 1896, None), (158659, 'Inauguration de la statue Rogier, Place de la Libert', 1897, None), (158671, 'Inaugurao na Estrela - Lisboa', 1897, None), (159070, 'Indian Club Jugglers', 1897, None), (159267, \"Indiscret aux bains de mer, L'\", 1897, None), (159274, 'Indiscrets, Les', 1896, None), (160829, 'Interesting Parlor Scene', 1897, None), (161040, 'Interrupted Lover', 1896, 4.6), (162291, 'Irish Way of Discussing Politics', 1896, None), (163960, 'Ivrognes, Les', 1896, None), (165684, 'Japanese Rope Walker', 1897, None), (165693, 'Japanese Village', 1897, None), (165721, 'Jarabe tapato', 1896, None), (165774, 'Jardinier brlant des herbes', 1896, None), (166229, 'Jealous Monkey, The', 1897, None), (166233, 'Jealousy', 1897, None), (167154, 'Jete et plage de Trouville (1er partie)', 1896, None), (167155, 'Jete et plage de Trouville (2e partie)', 1896, None), (168380, 'Jogos Malabares em Loureno Marques', 1897, None), (168908, 'Jolly Crowd of Bathers Frolicking on the Beach at Atlantic City, A', 1897, None), (169050, \"Jordan, Marsh & Co.'s Store\", 1897, None), (169287, 'Joueurs de cartes arross', 1896, None), (169319, 'Jour de march  Trouville', 1896, None), (169937, 'Judging Tandems', 1897, None), (170524, 'Jumbo', 1897, None), (170529, 'Jumbo, Horseless Fire-Engine', 1897, None), (170573, 'Jumping Hurdles', 1897, None), (170861, 'Junior Republic on Parade, The', 1897, None), (175344, \"Keith's Theatre (1897/I)\", 1897, None), (175345, \"Keith's Theatre (1897/II)\", 1897, None), (175847, 'Keystone Express', 1897, None), (178155, 'Kiss, The', 1896, 6.0), (178991, 'Knock-Out Drops', 1897, None), (179737, 'Komische Begegnung im Tiergarten zu Stockholm', 1896, None), (182856, 'Krsel med grnlandske hunde', 1897, None), (183449, \"Ladies' Saddle Horses\", 1897, None), (184529, 'Landing at Low Tide', 1896, None), (185213, 'Last Days of Pompeii, The', 1897, None), (186077, 'Launch of Life Boat', 1897, 2.8), (186234, 'Laveuses', 1897, 5.8), (186524, 'Lazamiento de un buey salvaje', 1896, None), (186525, 'Lazamiento de un caballo salvaje', 1896, None), (186526, 'Lazamiento de un novillo', 1896, None), (186669, 'Leander Sisters', 1897, 3.0), (186840, 'Leaving Jerusalem by Railway', 1896, 6.5), (189089, 'Leon de bicyclette', 1897, 5.2), (189093, 'Leon de danse', 1897, None), (189142, \"Li Hung Chang at Grant's Tomb\", 1896, None), (189143, 'Li Hung Chang Driving Through 4th St. and Broadway', 1896, None), (189144, 'Li Hung Chang, 5th Avenue & 55th Street, N.Y.', 1896, None), (189330, 'Liberty Statue', 1897, None), (189385, 'Libration des territoriaux', 1896, None), (189460, 'Lick Observatory, Mt. Hamilton, Cal.', 1897, 3.0), (190232, 'Life Rescue', 1897, None), (190630, 'Ligne de Belfast  Kingstown', 1897, None), (191011, 'Lina & Vani', 1897, None), (191791, 'Little Egypt (1897/I)', 1897, None), (191792, 'Little Egypt (1897/II)', 1897, None), (191793, 'Little Egypt (1897/III)', 1897, None), (192188, 'Little Reb, The', 1897, None), (192618, 'Lively Dispute, A', 1897, None), (192964, 'Llegada de la campana historica del 16 de septiembre', 1896, None), (192974, 'Llegada del presidente Diaz a su palacio de Chapultepec', 1897, None), (193113, 'Loading Baggage for Klondike', 1897, 2.4), (193116, 'Loading Hay', 1897, None), (193650, 'Lone Fisherman', 1896, 4.1), (194565, 'Loreto Prado', 1897, None), (195646, \"Love in a Broker's Office\", 1897, None), (196279, \"Love's Young Dream\", 1897, None), (196540, \"Loving Against Papa's Wishes\", 1897, None), (196604, 'Lower Rapids, Niagara Falls', 1896, None), (196840, 'Lucille Sturgis', 1896, None), (197719, 'Lurline Baths', 1897, 3.3), (197822, 'Lustige Gesellschaft vor dem Tivoli in Kopenhagen, Eine', 1896, None), (200533, 'Magntiseur, Le', 1897, None), (200753, 'Maher-Choynski Fight, The', 1897, None), (200867, 'Maid in the Garden, The', 1897, None), (201337, 'Major-General Dodge and Staff', 1897, None), (201340, 'Major-General O. Howard, U.S.A., and Staff', 1897, None), (201534, 'Making an Arrest', 1897, None), (201581, 'Making Love in a Hammock', 1897, None), (201905, 'Making Sausages', 1897, None), (201906, 'Making Soap Bubbles', 1897, None), (202082, 'Malade imaginaire, Le', 1897, None), (204105, 'Manganeo', 1896, None), (204615, 'Manobras de Bombeiros', 1896, None), (204630, 'Manoir du diable, Le', 1896, 5.0), (205262, 'March', 1897, None), (205263, 'March aux poisons, Le', 1897, None), (205916, \"Marines from the U.S. Cruiser 'New York'\", 1897, None), (206182, 'Market Square, Harrisburg, Pa.', 1897, None), (206286, 'Marquis', 1897, None), (206542, 'Marshall P. Wilder', 1897, None), (206970, 'Mare montante sur Brise-Larmes', 1896, None), (207672, 'Match de boxe (cole de Joinville)', 1897, None), (208237, 'Mauvaises herbes', 1896, None), (208473, 'Maxim Firing Field Gun', 1897, None), (208474, 'Maxim Gun in Action, A', 1897, None), (208916, 'McKinley and Cleveland Going to the Capitol', 1897, None), (208917, 'McKinley and Hobart Parade at Canton, O.', 1896, None), (208918, 'McKinley and Others in Carriage', 1897, None), (208919, 'McKinley at Home, Canton, Ohio', 1896, 3.2), (208921, 'McKinley Leaving Church', 1897, None), (208923, 'McKinley Taking the Oath', 1897, None), (208924, 'McKinley Train, Penn. R.R. (1897/I)', 1897, None), (208925, 'McKinley Train, Penn. R.R. (1897/II)', 1897, None), (210241, 'Melbourne', 1896, 4.1), (211189, 'Menuisiers', 1897, None), (211298, 'Mercado do Porto', 1896, None), (211441, 'Mergulhadores na frica Portuguesa, Os', 1897, None), (211599, 'Merry Sleigh Bells, Ye', 1897, None), (213968, \"Milker's Mishap, The\", 1897, None), (215299, 'Mischievous Monkey, The', 1897, None), (215328, 'Miser, The', 1897, None), (215511, 'Miss de Vere', 1896, None), (216830, 'Model, The', 1897, None), (217595, 'Momijigari', 1897, None), (218168, \"Monkey's Feast, The\", 1896, None), (218237, 'Monroe Doctrine', 1896, None), (219372, 'Morning Alarm, A', 1896, 4.0), (219373, 'Morning Bath, A', 1896, 3.9), (220291, 'Mount and Dismount, Gatling Gun', 1897, None), (220363, 'Mountainous', 1897, None), (220380, 'Mounted Police Charge', 1896, 3.3), (220382, 'Mounted Police Drill', 1897, None), (220428, \"Mouse in a Girls' Dormitory, A\", 1897, None), (220611, 'Movimento e Ruas de Lisboa', 1896, None), (220874, 'Mr. C.N. Morton', 1897, None), (220913, 'Mr. Edison at Work in His Chemical Laboratory', 1897, 3.8), (221014, 'Mr. Maskeleyne Spinning Plates and Basins', 1896, None), (222127, 'Mulberry Bend', 1897, None), (222231, 'Multicycle Race, A', 1897, None), (223137, 'Musical Drill; Troop A., Third Cavalry', 1897, None), (223296, 'Musulman rigolo, Le', 1897, None), (224631, 'Mysterious Rabbit, The', 1896, 1.3), (225788, \"N.Y. 'World' Sick Baby Fund, The\", 1896, None), (228300, 'National Lancers of Boston', 1897, None), (230614, 'New England Church Scene', 1897, None), (230765, 'New Pillow Fight', 1897, None), (230839, 'New Waiter Opening a Fizz, A', 1897, None), (230842, 'New Watermelon Contest', 1897, None), (230910, 'New York Elevated Trains', 1897, None), (230912, 'New York Fire Department', 1896, None), (230961, 'New York, Broadway et Union Square', 1896, 6.1), (230965, 'New York, pont de Brooklyn', 1896, 4.9), (231067, \"Newsboys' Scrap, A\", 1897, None), (231310, 'Niagara', 1897, 5.7), (231325, 'Niagara Gorge from Erie R.R.', 1896, None), (231806, 'Night Before Christmas', 1897, None), (233645, 'No Jardim', 1896, None), (236093, 'Now I Lay Me Down to Sleep', 1897, None), (236932, 'Nursing the Baby', 1897, None), (237553, \"O'Brien's Trained Horses\", 1897, None), (237888, 'Observation Train at the Inter-Collegiate Boat-Races', 1897, None), (238055, 'Ocean Greyhounds', 1897, None), (239638, 'Old Guard of New York, The', 1897, None), (239639, 'Old Guard, New York City', 1897, None), (239771, 'Old Pier and Waves, The', 1896, None), (240680, 'On the Beach', 1897, 1.2), (240689, 'On the Board Walk', 1897, None), (240698, 'On the Boulevard', 1896, None), (241367, 'One Girl Swinging', 1897, None), (241890, 'One-Third Mile Bicycle Race', 1897, None), (242000, 'Only a Rat', 1897, None), (243185, 'Oration, An', 1897, None), (243628, 'Oriten', 1897, None), (244852, 'Our Indian Empire', 1897, None), (246064, 'Pa. R.R. Cliffs, Jersey City', 1896, None), (246065, 'Pa. R.R. Train Near Phila.', 1896, None), (246066, 'Pa. R.R., Hattonsfield', 1896, None), (246184, 'Paced Bicycle Race, A', 1897, None), (247061, 'Palestina en 1896, La', 1897, None), (247679, 'Panorama des rives du Nil', 1897, None), (247682, \"Panorama du havre (pris d'un bateau)\", 1896, None), (247694, 'Panorama of American & Canadian Falls, Taken Opposite American Falls', 1896, None), (247728, 'Panorama of Susquehanna River Taken From the Black Diamond Express', 1897, None), (247754, 'Panorama van een stad genomen vanop een boot', 1897, None), (247766, 'Panoramic View from Trolley, Atlantic City', 1896, None), (247821, 'Panoramic View of Venice', 1897, None), (248154, 'Papier prote, Le', 1896, None), (248337, 'Parada en Palacio', 1897, None), (248360, 'Parade of Bicyclists at Brooklyn, New York', 1896, None), (248368, 'Parade of New York City Crossing Sweepers', 1896, None), (248380, 'Parade, Americus Club, Canton Ohio', 1896, None), (248382, 'Parade, Elkins Cadets, Canton, O.', 1896, None), (248383, 'Parade, First Brigade', 1896, None), (248385, 'Parade, Sound Money Club, Canton, O.', 1896, None), (249111, 'Parisian Dance', 1897, None), (249124, 'Parisienne Girls', 1897, None), (249127, 'Parisiennes, Les', 1897, None), (249167, 'Park Police Drill Left Wheel and Forward', 1896, None), (249168, 'Park Police Drill Mount and Dismounting', 1896, None), (249364, 'Part of Inaugural Parade, Washington, A', 1897, None), (249435, 'Partie de cartes', 1897, 6.0), (250469, 'Pat vs. Populist', 1896, None), (250549, 'Paterson Falls', 1896, None), (250658, 'Patinadores no Palcio de Cristal no Porto, Os', 1897, None), (251034, \"Paulus chantant 'Coquin de printemps'\", 1897, None), (251035, \"Paulus chantant 'Derrire l'omnibus'\", 1897, None), (251036, \"Paulus chantant 'En revenant d'la revue'\", 1897, None), (251037, \"Paulus chantant 'Pre la victoire'\", 1897, None), (251038, 'Paulus chantant Duellist marsellais', 1897, None), (251797, 'Peeping Tom', 1897, None), (251963, 'Pelea de gallos', 1896, None), (251967, 'Pelea de gallos en Guadalajara', 1897, None), (251981, 'Pelicans at the Zoo', 1897, None), (252256, 'Pennsylvania Avenue, Washington, D.C.', 1897, None), (252258, 'Pennsylvania Limited Express, The', 1896, None), (252260, 'Pennsylvania R.R., New Brunswick', 1896, None), (252261, 'Pennsylvania State Militia, Double Time', 1897, None), (252262, 'Pennsylvania State Militia, Single Time', 1897, None), (253417, 'Persimmons Winning the Derby', 1896, None), (254022, 'Petit frre et petite soeur', 1897, None), (254074, 'Petite Adlade, La', 1897, None), (254646, 'Philadelphia City Hall, The', 1897, None), (254650, 'Philadelphia Express, Jersey Central Railway', 1897, 3.4), (254653, 'Philadelphia Police on Parade', 1897, None), (255218, 'Pickanninies Dance', 1897, None), (255282, 'Picnic, The', 1897, None), (255391, 'Pie Eating Contest (1897/I)', 1897, None), (255408, 'Pie-Eating Contest (1897/II)', 1897, None), (255593, 'Pierrot and Pierrette', 1896, None), (255812, 'Pile Driving, Washington Navy Yard', 1897, None), (255873, 'Pillow Fight (1897/II)', 1897, 3.9), (255875, 'Pillow Fight, A (1897/I)', 1897, None), (257060, 'Place de Brouckre', 1897, None), (257063, \"Place de l'Opra, 1er aspect\", 1896, None), (257064, \"Place de l'Opra, 2e aspect\", 1896, None), (257065, 'Place de la Bastille', 1896, None), (257066, 'Place de la Concorde', 1896, None), (257067, 'Place de la Concorde', 1897, None), (257076, 'Place du thtre franais', 1896, None), (257106, 'Place Saint-Augustin', 1896, None), (257157, 'Plage de Villiers par gros temps', 1896, None), (257174, 'Plaguing Grandpa', 1897, None), (257376, 'Planton du colonel, Le', 1897, None), (257754, 'Playing Doctor', 1897, None), (258181, 'Plongeurs  Tervuren, Les', 1897, None), (258325, 'Plus fort que le matre', 1896, None), (258913, 'Pointing Down Gorge, Niagara Falls', 1896, None), (259261, 'Police Patrol Wagon', 1897, 3.0), (259952, 'Pompiers  Lyon', 1896, 5.9), (259988, 'Pongo', 1897, None), (260027, 'Pont de la Tour', 1896, None), (260967, 'Porto', 1896, None), (262967, 'Premiers pas de bb', 1897, 6.8), (263131, 'President Cleveland and President McKinley', 1897, None), (263143, 'President McKinley at Home', 1897, 5.4), (263149, \"President McKinley's Address\", 1897, None), (263180, 'Presidente de la republica con sus ministros el 16 de septiembre en el castillo de Chapultepec, El (', 1896, None), (263182, 'Presidente de la republica despidiendose de sus ministros para tomar un carruaje, El', 1897, None), (263183, 'Presidente de la republica en carruaje regresando a Chapultepec', 1896, None), (263184, 'Presidente de la republica entrando a pie al castillo de Chapultepec, El', 1896, None), (263185, 'Presidente de la republica entrando en coche al castillo de Chapultepec, El', 1896, None), (263186, 'Presidente de la republica paseando a caballo en el bosque de Chapultepec, El', 1896, None), (263187, 'Presidente de la republica recorriendo la plaza de la constitucin el 16 de septiembre, El', 1896, None), (263188, 'Presidente de la republica subiendo a pie del castillo de Chapultepec', 1896, None), (263246, 'Prestidigitateur D. Devant, Le', 1897, None), (263330, 'Pretty Girls and the Rail Fence', 1897, None), (263357, \"Pretty Typewriter; or, 'Caught in the Act', The\", 1897, None), (264077, 'Prince of Wales Leaving Marlborough House to Attend an Investure', 1897, None), (264078, \"Prince of Wales' Famous Horse\", 1896, None), (264082, 'Prince Ranjitsinhji Practising Batting in the Nets', 1897, None), (264379, 'Prise de Tournavos, La', 1897, None), (265167, 'Proceso del soldado Antonio Navarro', 1896, None), (265181, 'Procession de Sainte-Gudule, La', 1897, None), (265182, 'Procession du T.S. sacrement du miracle', 1897, None), (265262, \"Prodigal's Return; 3 a.m., The\", 1896, None), (265393, 'Professor Garland the Conjurer', 1897, None), (265618, 'Projectile from Ten Inch Disappearing Gun Striking Water, Sandy Hook', 1897, None), (265701, 'Promenading on the Beach', 1897, None), (266876, 'Puerta del Sol, La', 1896, None), (268464, 'Pcheur dans le torrent, Le', 1897, None), (268887, 'Quais  Marseilles, Les', 1896, None), (269067, 'Quarrelsome Neighbours', 1897, None), (269380, \"Queen Victoria's Diamond Jubilee\", 1897, None), (269398, \"Queen's Jubilee\", 1897, None), (269775, 'Quick Dressing', 1897, None), (269778, 'Quick Lunch', 1897, None), (270369, 'Race for the Gold Cup, A', 1897, None), (270454, 'Racing at Sheepshead Bay', 1897, 3.1), (270541, 'Radeau avec baigneurs', 1897, None), (271164, 'Railway Traffic on the L.N.W.R.', 1897, None), (271288, 'Rainmakers', 1897, None), (272341, 'Rapids at Cave of the Winds', 1896, None), (273214, 'Reading Flyer', 1897, None), (273728, 'Receding View, Black Diamond Express', 1897, None), (274882, 'Regimental Calisthenic Drill in the British Army, A', 1897, None), (275837, 'Repairing a Puncture', 1897, None), (275849, 'Repas en famille', 1897, None), (276018, 'Reproduction of the Corbett-Fitzsimmons Fight', 1897, None), (276154, 'Rescue - Resuscitation', 1897, None), (276358, 'Restless Girl, The', 1897, None), (276495, 'Retour au cantonnement', 1896, None), (276503, \"Retour d'une promenade en mer\", 1897, None), (276702, 'Return of Lifeboat', 1897, 3.0), (276707, 'Return of McKinley from the Capitol', 1897, None), (276758, 'Return of the Fisherman', 1896, None), (276921, 'Returning from Drill', 1897, None), (277158, 'Review of Artillery', 1897, None), (277315, 'Revue navale  Cherbourg', 1896, None), (278089, 'Riding on the Merry-Go-Round', 1897, None), (278441, 'Ring Around a Rosie', 1897, None), (278582, 'Rio Douro', 1896, None), (278648, 'Rip Leaving Sleepy Hollow', 1896, None), (278649, 'Rip Meeting the Dwarf', 1896, None), (278678, \"Rip's Toast\", 1896, None), (278679, \"Rip's Toast to Hudson\", 1896, None), (278680, \"Rip's Twenty Years' Sleep\", 1896, None), (279043, 'Rival Bill-Stickers, The', 1897, None), (279274, 'Ria de hombres en el zocalo', 1897, None), (279275, 'Ria en un caf', 1897, None), (279602, 'Robbery', 1897, None), (280150, 'Rocket Coach, The', 1897, None), (280550, \"Roi Lopold II  l'exposition de Tervuren, Le\", 1897, None), (281240, 'Romp, A', 1897, None), (281309, 'Ronde enfantine', 1897, None), (282360, 'Rough Riding', 1897, None), (282813, 'Rua do Ouro, A', 1896, None), (283432, 'Runaway in the Park, The', 1896, None), (283660, 'Rural Courtship, A', 1897, None), (283676, 'Rurales mexicanos al galope', 1897, None), (283804, 'Russian Street Scene', 1896, None), (284190, 'Rgiment, Le', 1896, None), (284232, \"Runion d'officiers\", 1896, None), (284594, \"S.S. 'Coptic' at Dock\", 1897, 2.7), (284596, \"S.S. 'Coptic' in the Harbor\", 1897, 3.1), (284600, \"S.S. 'Coptic' Sailing Away\", 1897, 2.9), (284609, \"S.S. 'Middletown'\", 1897, None), (284610, \"S.S. 'Queen' Leaving Dock\", 1897, 2.9), (284611, \"S.S. 'Queen' Loading\", 1897, 2.3), (284612, \"S.S. 'Williamette' Leaving for Klondike\", 1897, 2.6), (284960, 'Sac au dos', 1896, None), (285005, 'Sack Race', 1896, None), (285096, 'Sad Sea Waves', 1897, None), (285349, 'Safety in Four Tracks', 1897, None), (285516, 'Saharet', 1897, None), (285780, 'Sainte-Gudule', 1897, None), (286074, 'Salida de los alabarderos de palacio', 1896, None), (286075, 'Salida de los trabajadores de la fbrica Espaa Industrial', 1897, None), (286078, 'Salida de misa de Calatravas', 1896, None), (286081, 'Salida de misa de doce del Pilar de Zaragoza', 1897, 4.0), (286083, 'Salida del pblico de la iglesia parroquial de Santa Mara de Sans', 1897, None), (286323, \"Salut malencontreux d'un dserteur\", 1896, None), (287229, 'Sandow', 1896, 5.2), (287721, 'Santa Claus Filling Stockings', 1897, None), (288874, 'Sausage Machine, The', 1897, None), (288894, 'Sauvetage en rivire, 1er', 1896, None), (288895, 'Sauvetage en rivire, 2e', 1896, None), (289197, 'Sawing Wood', 1896, None), (289322, 'Sada do Pessoal Operrio da Fbrica Confiana', 1896, None), (289705, 'Scene from the Coronation of the Czar of Russia', 1896, None), (289710, \"Scene in Ike Einstein's Pawn Office\", 1897, None), (289722, 'Scene on the Delaware River', 1897, None), (289776, 'Scenes on the Bois de Boulogne', 1896, None), (291154, 'Scrambling for Pennies', 1897, None), (291501, 'Scrub Yacht Race', 1897, None), (291573, \"Scnes d'enfants\", 1897, None), (291707, 'Sea Cave Near Lisbon, A', 1896, None), (291755, \"Sea Lions' Home, The\", 1897, None), (291784, 'Sea Scene', 1896, None), (292217, 'Second Round: Glove Contest Between the Leonards', 1897, None), (293107, 'See Saw', 1897, None), (293974, 'Seminary Girls', 1897, 5.7), (294108, 'Senhor dos Matosinhos, O', 1896, None), (294111, 'Senhor Morgado, O', 1896, None), (294849, 'Serpentello', 1897, None), (294851, 'Serpentine Dance by Annabelle', 1896, 5.8), (295523, 'Sevillanas', 1897, None), (296108, 'Sexless Profiles', 1897, None), (296490, 'Seorita Andrea', 1896, None), (298199, 'Sheep Run, Chicago Stockyards', 1897, 3.2), (299752, 'Shooting the Chutes (1896/I)', 1896, None), (299753, 'Shooting the Chutes (1896/II)', 1896, 2.7), (299754, 'Shooting the Chutes (1897/I)', 1897, None), (299755, 'Shooting the Chutes (1897/II)', 1897, None), (299757, 'Shooting the Chutes at Atlantic City', 1897, None), (300183, 'Showing Group of Bathers, Atlantic City Beach', 1896, None), (300914, 'Side-Walks of New York', 1897, None), (300939, 'Sidewalks of New York', 1896, None), (301277, 'Sign Writer, The', 1897, None), (302760, 'Single Harness Horses', 1897, None), (303045, 'Sir Wilfrid Laurier and the New South Wales Lancers', 1897, None), (303286, 'Sisters Hengler Specialty Dancers, The', 1896, None), (303467, 'Six Furlong Handicap', 1897, None), (303567, 'Sixth U.S. Cavalry', 1897, None), (303771, 'Skating in Central Park', 1897, None), (304076, 'Skipping Rope Dance, A', 1897, None), (304091, 'Skirt Dance by Annabelle', 1896, None), (304470, 'Slagsml i gamla Stockholm', 1897, None), (305750, 'Smoking, Eating, and Drinking Scene', 1897, None), (306248, 'Snow Men', 1896, None), (306615, 'Soap Bubbles', 1897, None), (306800, \"Society Girls Playing 'Leap Frog'\", 1897, None), (307379, \"Soldier's Courtship, The\", 1896, None), (309323, 'Sortie des ateliers Vibert', 1896, None), (309614, 'Sound Money Parade (1896/II)', 1896, None), (309615, 'Sound Money Parade (1896/III)', 1896, None), (309616, 'Sound Money Parade, The (1896/I)', 1896, None), (309924, 'Southern Pacific Overland Mail', 1897, None), (310442, 'Sparring Contest, Canastota, N.Y.', 1896, None), (310617, 'Special Photographing Train', 1896, None), (311158, 'Spike, the Bag-Punching Dog', 1897, None), (311709, 'Sport te Gent, Het', 1896, None), (311889, 'Sprague Electric Train', 1897, None), (311920, 'Spree', 1897, None), (312669, 'Stable on Fire', 1896, None), (313134, 'Stanford University, California', 1897, 2.7), (313851, 'Starting for the Fire', 1896, None), (314197, \"Steamer 'Rosedale'\", 1896, None), (314838, 'Still Waters Run Deep', 1897, None), (315766, 'Story Without Words, A', 1897, None), (316682, 'Street Parade, The', 1896, None), (316722, 'Street Sprinkling and Trolley Cars', 1896, None), (316756, 'Streets of Cairo', 1896, None), (317923, 'Suburban Handicap, 1897', 1897, None), (318914, 'Sun Dance - Annabelle', 1897, None), (319125, 'Sunlight Soap Washing Competition', 1897, None), (319815, 'Sur les toits', 1897, None), (319890, 'Surf at Long Branch', 1896, None), (319891, 'Surf at Monterey', 1897, 2.9), (320038, 'Surrey Garden, A', 1896, None), (320374, 'Sutro Baths, No. 1', 1897, 3.3), (320375, 'Sutro Baths, No. 2', 1897, 2.8), (320502, 'Svanerne fanges ind', 1897, None), (320503, 'Svanerne i Sortedamssen', 1897, None), (322327, 'Sance de prestidigitation', 1896, None), (323512, 'Taken From Trolley in Gorge, Niagara Falls', 1896, None), (323513, 'Taken from Trolley, Atlantic City', 1896, None), (323597, 'Taking on the Pilot', 1897, None), (324083, 'Tally Ho: Arrival', 1896, None), (324084, 'Tally Ho: Departure', 1896, None), (324187, 'Tambourine Dance by Annabelle', 1896, None), (324325, 'Tandem Hurdle Jumping', 1897, None), (326377, 'Tea Party, The', 1896, None), (326459, 'Teams of Horses', 1897, None), (327142, 'Telephone Appointment', 1896, None), (327447, 'Tempestade na Praia das Berlengas', 1897, None), (327656, 'Tempte sur la jete du treport', 1896, None), (327703, 'Ten Inch Disappearing Carriage Gun Loading and Firing, Sandy Hook', 1897, None), (327739, 'Ten Nights in a Barroom', 1897, None), (328452, 'Terrible catastrophe de Remicourt, La', 1896, None), (328470, 'Terrible Railway Accident, The', 1896, None), (329690, 'Theatre Hat, The', 1897, None), (329691, 'Theatre Hats Off', 1897, None), (329732, 'Theft', 1897, None), (331422, 'Three Jolly Girls and the Fun They Had with the Old Swing', 1897, None), (331736, 'Threshing Machine', 1896, None), (331737, 'Threshing Machine at Work', 1897, None), (331943, 'Throwing Over a Wall', 1897, None), (333678, 'Tipping the Cart in Mulberry Bend', 1897, None), (333682, 'Tipsy-Topsy-Turvy', 1897, None), (334334, 'To the Death', 1897, None), (335108, 'Tom Old Boot', 1896, None), (336246, 'Torre de Belm, A', 1896, None), (336890, 'Tourist Train Leaving Livingston, Mont.', 1897, None), (336901, \"Touristes revenant d'une excursion\", 1897, None), (336920, 'Tourneur en poterie', 1897, None), (337401, 'Trafalgar Square', 1897, None), (337729, 'Train Coming Out of Station, Philadelphia, Pa.', 1896, 5.2), (337776, 'Train Taking Water, N.Y. Central R.R.', 1896, None), (337897, 'Tramp and the Bather, The', 1897, None), (337910, \"Tramp in a Millionaire's Bed\", 1897, None), (337926, \"Tramp's Dinner, A\", 1897, None), (337943, 'Tramp: Milk White Flag, The', 1896, None), (337975, 'Tramps', 1897, None), (338495, 'Traveaux de la Place Royale, Les', 1897, None), (339413, 'Trial Scene', 1897, None), (339483, \"Tribulations d'un concirge\", 1896, None), (339562, 'Trick Elephants', 1897, None), (339692, 'Trilby and Little Billee', 1896, None), (339694, 'Trilby Burlesque', 1896, None), (340314, \"Troop 'A' in Inaugural Parade\", 1897, None), (340315, \"Troop 'A' of Cleveland, O.\", 1897, None), (340331, 'Troopers Hurdling', 1897, None), (340453, 'Troubadour, The', 1897, None), (340635, 'Trout Poachers', 1897, None), (341186, 'Tsar Nicolas II  Paris, Le', 1896, None), (341428, 'Tub Race', 1896, None), (342601, \"Twins' Tea Party, The\", 1897, None), (342717, \"Two AM; or, The Husband's Return\", 1896, None), (343895, 'U.S. Cavalry and Artillery', 1897, None), (343917, 'U.S. Sailors', 1897, None), (344693, 'Um Arraial no Bonfim', 1896, None), (344832, 'Uma Corrida de Touros no Campo Pequeno', 1896, None), (344877, 'Uma Salva de Artilharia na Serra do Pilar', 1896, None), (344926, 'Umbrella Brigade', 1897, None), (345335, 'Un lyce de jeunes filles', 1896, None), (345364, 'Un modle irascible', 1897, None), (345418, 'Un petit diable', 1896, None), (346422, 'Une altercation au caf', 1896, None), (346450, 'Une bonne farce', 1896, None), (346475, 'Une cour de ferme', 1897, None), (346684, 'Une nuit agite', 1897, None), (346698, 'Une nuit terrible', 1896, 3.5), (346715, 'Une partie des cartes', 1896, 4.4), (346958, 'Unfriendly Call, An', 1897, None), (347103, 'Uninvited Guest', 1897, None), (347134, 'Union Square and Fourth Avenue', 1896, None), (347135, 'Union Square, New York', 1896, None), (347173, 'United States Flag (1896/I)', 1896, None), (347174, 'United States Flag, The (1896/II)', 1896, None), (348034, 'Unveiling of the Washington Monument', 1897, None), (348382, 'Up the River', 1896, None), (348487, 'Upper Rapids, From Bridge', 1896, None), (350453, 'Vanishing Lady (1897/I)', 1897, None), (350455, 'Vanishing Lady, The (1897/II)', 1897, None), (350540, 'Vapeur touriste Namur-Dinant', 1897, None), (351774, 'Venice Showing Gondolas', 1896, None), (351839, \"Vente d'esclaves au harem\", 1897, None), (352022, 'Verbena del Carmen en la ciudad de Puebla', 1897, None), (353318, \"Vice-President Hobart's Escort\", 1897, None), (353507, 'Victorian Lady in Her Boudoir, A', 1896, None), (354158, 'View from Gorge Railroad', 1896, None), (354176, 'View on Boulevard, New York City', 1896, None), (354492, 'Village Blacksmith, The', 1897, None), (354971, 'Vira, O', 1896, None), (355339, \"Vision d'ivrogne\", 1897, None), (355408, 'Visit of St. Nicholas', 1897, None), (355594, 'Vistas espaolas', 1896, None), (356396, 'Voiture du potier, La', 1896, None), (357828, 'Vlodrome de la Cambre, Le', 1897, None), (358323, 'Waiting for Hubby (1897/I)', 1897, None), (358324, 'Waiting for Hubby (1897/II)', 1897, None), (358705, 'Wall Scaling', 1897, None), (358982, 'Wandering Negro Minstrels, The', 1896, None), (359722, 'Washing Day in Switzerland', 1896, None), (359730, 'Washing the Baby', 1897, None), (359738, 'Washington Continental Guards', 1897, None), (359741, 'Washington Flyer', 1897, None), (359760, \"Washwoman's Troubles, The\", 1897, None), (359964, 'Water Fall in the Catskills', 1897, 3.2), (360077, 'Watermelon Contest', 1896, None), (360080, 'Watermelon Feast, A', 1896, 1.4), (360582, 'Weary Willie', 1897, None), (361670, 'West Point Cadet Cavalry (1896/I)', 1896, None), (361671, 'West Point Cadet Cavalry (1896/II)', 1896, None), (361672, 'West Point Cadet Cavalry Charge', 1896, None), (361673, 'West Point Cadet Cavalry Drill', 1896, None), (361674, 'West Point Cadet Drill', 1896, None), (361675, 'West Point Cadets', 1897, None), (363629, 'Whirlpool Rapids, from Bottom of Canadian Shore', 1896, None), (363630, 'Whirlpool Rapids, Niagara Falls', 1896, None), (364631, 'Why Papa Cannot Sleep', 1896, None), (365861, \"Willie's Hat\", 1897, None), (365963, 'Winchester Arms Factory at Noon Time', 1896, None), (366115, 'Wine Garden Scene', 1896, None), (368299, 'Workers, The', 1897, None), (368786, \"Wreck of the Schooner 'Richmond'\", 1897, None), (368855, 'Wrestling Ponies', 1896, None), (368856, 'Wrestling Pony and Man', 1896, None), (368875, 'Wrestling, Bareback; 3rd Cavalry', 1897, None), (368905, 'Writing on the Wall, The', 1897, None), (369481, 'X-Ray Fiend, The', 1897, None), (370384, 'Yale Football Team at Practice, New Haven, Conn.', 1896, 2.2), (371049, 'Yellow Kid', 1897, None), (372153, 'You Dirty Boy', 1896, None), (372410, 'Young America', 1897, None), (372637, \"Young Men's Blaine Club of Cincinnati\", 1897, None), (372727, 'Young Rivals, The', 1897, None), (375815, 'Zoo van Antwerpen, De', 1897, None), (376589, 'Z Pereira na Romaria de Santo Tirso, O', 1896, None), (377666, \"cole des gendres, L'\", 1897, None), (377845, 'pisodes de guerre', 1897, None))\n"
     ]
    }
   ],
   "source": [
    "connection = pymysql.connect(host, username, password, database,\n",
    "                             charset='utf8', use_unicode=True);\n",
    "\n",
    "sql_query = '''\n",
    "SELECT *\n",
    "FROM movies\n",
    "WHERE year > 1895 AND year < 1898;'''\n",
    "\n",
    "with connection:\n",
    "    cursor = connection.cursor()\n",
    "    cursor.execute(sql_query)\n",
    "    results = cursor.fetchall()\n",
    "\n",
    "print(results)"
   ]
  },
  {
   "cell_type": "markdown",
   "metadata": {},
   "source": [
    "Now, let's fetch the data line by line, to avoid having long execution times when fetching the results"
   ]
  },
  {
   "cell_type": "code",
   "execution_count": 7,
   "metadata": {},
   "outputs": [
    {
     "name": "stdout",
     "output_type": "stream",
     "text": [
      "0 2 Michael 'babeepower' Viera\n",
      "1 3 Eloy 'Chincheta'\n",
      "2 4 Dieguito 'El Cigala'\n",
      "3 5 Antonio 'El de Chipiona'\n",
      "4 6 José 'El Francés'\n",
      "5 7 Félix 'El Gato'\n",
      "6 8 Marcial 'El Jalisco'\n",
      "7 9 José 'El Morito'\n",
      "8 10 Francisco 'El Niño de la Manola'\n",
      "9 11 Víctor 'El Payaso'\n",
      "10 12 Antonio 'El Pescaíto'\n",
      "11 13 Luis 'El Plojo'\n",
      "12 14 Janny 'el Portugues'\n",
      "13 15 Antonio 'El Rilete'\n",
      "14 16 Baltazar 'El Toro'\n",
      "15 17 Luis Roberto 'Formiga'\n",
      "16 18 Murray the 'K'\n",
      "17 19 Néstor 'Kick Boxer'\n",
      "18 20 Tony 'La Chispa'\n",
      "19 21 Pollino 'Romero'\n",
      "20 22 Frans 't Hoen\n",
      "21 23 Jorrit 't Hoen\n",
      "22 24 Dick 't Hooft\n",
      "23 25 Jacob 'The Jeweler'\n",
      "24 26 Izzy 'The Religious Nut'\n",
      "25 27 Ka'olelo 'Ulaleo\n",
      "26 28 Oswald 'Ô'\n",
      "27 29 Todd 1\n",
      "28 30 Mac 10\n",
      "29 32 Angel 11:11\n",
      "30 33 Nick 13\n",
      "31 34 Shaggy 2 Dope\n",
      "32 35 Mode 2\n",
      "33 36 Benjamin 2X\n",
      "34 37 The 3 Whippets\n",
      "35 38 André 3000\n",
      "36 40 Articolo 31\n",
      "37 41 Rappin' 4-Tay\n",
      "38 42 The 4D Jones\n",
      "39 43 Mick 5\n",
      "40 44 James 52X\n",
      "41 45 Lucky 7\n",
      "42 46 Marc 7\n",
      "43 47 Equipe 84\n",
      "44 48 Ahmed A El Rahim\n",
      "45 49 Dragan a zovu ga Elvis\n",
      "46 50 Brett A'Hearn\n",
      "47 51 Lejaren a'Hiller\n",
      "48 52 Yussuf Abed A'Nur\n",
      "49 53 Headhunter A\n",
      "50 55 Yunga A\n",
      "51 56 Cairns A.\n",
      "52 57 Dominique A.\n",
      "53 58 Narayana Rao A.\n",
      "54 59 Prasad A.\n",
      "55 60 Satyanarayana A.\n",
      "56 61 Narayana A.L.\n",
      "57 62 Raja A.M.\n",
      "58 63 Krishna A.R.\n",
      "59 64 Alwi A.S.\n",
      "60 65 Giri A.S.\n",
      "61 66 Subba Rao A.V. Jr.\n",
      "62 67 Subba Rao A.V.\n",
      "63 68 Brynjar Aa\n",
      "64 69 Andreas Aabel\n",
      "65 70 Hauk (I) Aabel\n",
      "66 71 Per (I) Aabel\n",
      "67 72 Palle Aabentoft\n",
      "68 73 Dennis Aaberg\n",
      "69 74 Linus (I) Aaberg\n",
      "70 75 Linus (II) Aaberg\n",
      "71 76 Kristian Aaby\n",
      "72 77 Olaf Aabye\n",
      "73 78 Tørres Aadland\n",
      "74 79 Argo Aadli\n",
      "75 80 Per Aaeng\n",
      "76 81 Karl Aagaard Østvig Jr.\n",
      "77 82 Carl Powl Aagaard\n",
      "78 83 Egon Aagaard\n",
      "79 84 Jesper Aagaard\n",
      "80 85 Lasse Aagaard\n",
      "81 86 Sebastian Aagaard-Williams\n",
      "82 87 Karl Aagard Østvig\n",
      "83 88 Per Aage Brandt\n",
      "84 89 Jan Aagre\n",
      "85 90 Thomas Aagren\n",
      "86 91 Dee Aaker\n",
      "87 92 Lee Aaker\n",
      "88 93 Kim Fupz Aakeson\n",
      "89 94 Steve Aalam\n",
      "90 95 Freddy Aalbeck\n",
      "91 96 George Aalbregise\n",
      "92 97 Niels Aalbæk Jensen\n",
      "93 98 Karsten Aalholm\n",
      "94 99 Preben Aalholt\n",
      "95 100 Henri Aalto\n",
      "96 101 Keijo Aalto\n",
      "97 102 Petri Aalto\n",
      "98 103 Rostislav Aalto\n",
      "99 106 Pauli Aalto-Setälä\n"
     ]
    }
   ],
   "source": [
    "connection = pymysql.connect(host, username, password, database,\n",
    "                             charset='utf8', use_unicode=True);\n",
    "\n",
    "# Returning all data at a time may not be feasible. We can fetch rows one by one.\n",
    "with connection:\n",
    "    cursor = connection.cursor()\n",
    "    cursor.execute(\"SELECT * FROM actors LIMIT 100\")\n",
    "    # We fetch the rows one by one using the fetchone() method. \n",
    "    # The rowcount property gives the number of rows returned by the SQL statement.\n",
    "    for i in range(cursor.rowcount):\n",
    "        row = cursor.fetchone()\n",
    "        print(i, row[0], row[1], row[2])"
   ]
  },
  {
   "cell_type": "markdown",
   "metadata": {},
   "source": [
    "**The dictionary cursor:** There are multiple cursor types in the MySQLdb module. The default cursor returns the data in a tuple of tuples. When we use a dictionary cursor (`mdb.cursors.DictCursor`), the data is placed in a Python dictionary, which allows us to refer to the data by their column names."
   ]
  },
  {
   "cell_type": "code",
   "execution_count": 8,
   "metadata": {
    "scrolled": true
   },
   "outputs": [
    {
     "name": "stdout",
     "output_type": "stream",
     "text": [
      "<class 'list'>\n",
      "Spielberg {'id': 75380, 'first_name': 'Steven', 'last_name': 'Spielberg'}\n",
      "Spielman {'id': 75381, 'first_name': 'Mooly', 'last_name': 'Spielman'}\n",
      "Spielmann {'id': 75382, 'first_name': 'Götz', 'last_name': 'Spielmann'}\n"
     ]
    }
   ],
   "source": [
    "# The dictionary cursor\n",
    "# There are multiple cursor types in the MySQLdb module. \n",
    "# The default cursor returns the data in a tuple of tuples. \n",
    "# When we use a dictionary cursor, the data is sent in a form of Python dictionaries. \n",
    "# This way we can refer to the data by their column names.\n",
    "\n",
    "connection = pymysql.connect(host, username, password, database,\n",
    "                             charset='utf8', use_unicode=True);\n",
    "\n",
    "with connection:\n",
    "    \n",
    "    sql_query = '''SELECT *\n",
    "    FROM directors\n",
    "    WHERE last_name LIKE \"Spiel%\";'''\n",
    "\n",
    "    cursor = connection.cursor(pymysql.cursors.DictCursor)\n",
    "    cursor.execute(sql_query)\n",
    "    rows = cursor.fetchall()\n",
    "    print(type(rows))\n",
    "    for row in rows:\n",
    "        print(row['last_name'], row)"
   ]
  },
  {
   "cell_type": "markdown",
   "metadata": {
    "collapsed": true
   },
   "source": [
    "## Exercise 1\n",
    "\n",
    "Use `imdb` database to get the number of movies for each genre."
   ]
  },
  {
   "cell_type": "code",
   "execution_count": 12,
   "metadata": {},
   "outputs": [
    {
     "name": "stdout",
     "output_type": "stream",
     "text": [
      "(('Action', 14885), ('Adult', 20667), ('Adventure', 8992), ('Animation', 17888), ('Comedy', 57860), ('Crime', 12966), ('Documentary', 42320), ('Drama', 74615), ('Family', 11232), ('Fantasy', 5223), ('Film-Noir', 417), ('Horror', 7520), ('Music', 5664), ('Musical', 7055), ('Mystery', 4971), ('Romance', 13873), ('Sci-Fi', 5111), ('Short', 82597), ('Thriller', 10953), ('War', 4436), ('Western', 8539))\n"
     ]
    }
   ],
   "source": [
    "# Your code is here\n",
    "host = 'localhost'\n",
    "username = 'root'\n",
    "password = ''\n",
    "database = 'imdb'\n",
    "\n",
    "connection = pymysql.connect(host, username, password, database,\n",
    "                             charset='utf8', use_unicode=True);\n",
    "\n",
    "sql_query = '''\n",
    "SELECT genre, COUNT(movie_id)\n",
    "FROM movies_genres\n",
    "GROUP BY genre'''\n",
    "\n",
    "with connection:\n",
    "    cursor = connection.cursor()\n",
    "    cursor.execute(sql_query)\n",
    "    results = cursor.fetchall()\n",
    "\n",
    "print(results)"
   ]
  },
  {
   "cell_type": "code",
   "execution_count": null,
   "metadata": {
    "collapsed": true
   },
   "outputs": [],
   "source": []
  }
 ],
 "metadata": {
  "anaconda-cloud": {},
  "kernelspec": {
   "display_name": "Python 3",
   "language": "python",
   "name": "python3"
  },
  "language_info": {
   "codemirror_mode": {
    "name": "ipython",
    "version": 3
   },
   "file_extension": ".py",
   "mimetype": "text/x-python",
   "name": "python",
   "nbconvert_exporter": "python",
   "pygments_lexer": "ipython3",
   "version": "3.6.1"
  }
 },
 "nbformat": 4,
 "nbformat_minor": 1
}
