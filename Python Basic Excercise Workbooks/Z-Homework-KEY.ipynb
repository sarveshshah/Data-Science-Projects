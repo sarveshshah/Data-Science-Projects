{
 "cells": [
  {
   "cell_type": "markdown",
   "metadata": {},
   "source": [
    "## Exercise\n"
   ]
  },
  {
   "cell_type": "markdown",
   "metadata": {},
   "source": [
    "#### 1) Run the next cell to create 'washington_post' variable."
   ]
  },
  {
   "cell_type": "code",
   "execution_count": 1,
   "metadata": {
    "collapsed": true
   },
   "outputs": [],
   "source": [
    "washington_post = \"\"\"MOSCOW — Russian officials vehemently defended the country’s airstrikes in Syria on Thursday as blows to Islamic State militants even as evidence mounted suggesting that U.S.-backed rebels and others were facing the brunt of Moscow’s attacks.\n",
    "\n",
    "And while Russian officials and diplomats rallied behind President Vladimir Putin, the Kremlin’s stance appeared further clouded by acknowledgments that the missions have already extended beyond solely the Islamic State.\n",
    "\n",
    "In Paris, the Russian ambassador to France, Alexander Orlov, said the Russian attacks also targeted an al-Qaeda-linked group, Jabhat al-Nusra, or al-Nusra Front.\n",
    "\n",
    "Syria’s ambassador to Russia, Riad Haddad, echoed that the joint hit list for Russia and the Syrian government included Jabhat al-Nusra, which is believed to have some coordination with the Islamic State but is still seen mostly as a rival.\n",
    "\n",
    "“We are confronting armed terrorist groups in Syria, regardless of how they identify themselves, whether it is Jabhat al-Nusra, the ISIL or others,” he said, using one of the acronyms for the Islamic State.\n",
    "\n",
    "Graphic Did the Russians really strike the Islamic State? VIEW GRAPHIC \n",
    "“They all are pursuing ISIL ends,” he added, according to the Interfax news agency.\n",
    "\n",
    "The ambassadors did not specifically mention any U.S.- and Western-backed rebel groups.\n",
    "\n",
    "But the comment was certain to deepen suspicions by Washington and allies that Putin’s short-term aim is to give more breathing space to Syria’s embattled President Bashar al-Assad, whose government is strongly supported by Moscow.\n",
    "\n",
    "Syrian activists, meanwhile, ramped up their own claims that Moscow was hitting groups seeking to bring down Assad, who has managed to hang on during more than four years of civil war.\n",
    "\n",
    "Russia’s expanding military intervention in Syria added urgency to separate efforts by Russia and U.S. officials to coordinate strategies against the Islamic State and avoid potential airspace missteps between the two powers — so-called “deconfliction” talks. The Pentagon said the discussions will begin Thursday.\n",
    "\n",
    "[Washington weighs next move]\n",
    "\n",
    "One monitoring group, the Britain-based Syrian Observatory for Human Rights, said Russian airstrikes again struck strongholds of an American-backed rebel group, Tajamu Alezzah, in central Hama province.\n",
    "\n",
    "Ground level: On the scene of controversial Russian airstrikes in Syria\t\n",
    "View Photos\tThe actions, quickly criticized by Washington, add an unpredictable element to a multilayered war.\n",
    "The observatory also reported that airstrikes hit the northwestern city Jisr al-Shughour, which is in the hands of rebel groups including al-Nusra, after battles last month to drive back Assad’s forces.\n",
    "\n",
    "Among the locations hit was a site near Kafr Nabl, the northern Syrian town whose weekly protests against the government, often featuring pithy slogans in English, won it renown as a symbol of what began as a peaceful protest movement against the Assad regime. The local council receives U.S. assistance, and the rebel unit there has received support under a covert CIA program aimed at bolstering moderate rebels.\n",
    "\n",
    "Raed Fares, one of the leaders of the protest movement in Kafr Nabl, said warplanes struck a Free Syrian Army checkpoint guarding Roman ruins on the outskirts of the town. He said the explosion was bigger than anything local residents had seen in three years of airstrikes conducted by Syrian warplanes.\n",
    "\n",
    "“It made a fire six kilometers wide,” he told The Washington Post.\n",
    "\n",
    "Other sites hit on the second day of Russian bombing included locations in the province of Hama. The targets suggested the main intention of the strikes was to shore up government control over a corridor of territory linking the capital, Damascus, to the Assad family’s coastal heartland, where the Russians are operating out of an expanded air base.\n",
    "\n",
    "Syrian rebels, some of them U.S.-backed, had been making slow but steady gains in the area, considered one of the government’s biggest vulnerabilities. There has been no Islamic State presence there since January 2014, when moderate rebels rose up against the extremists and forced them to retreat to eastern Syria.\n",
    "\n",
    "[Kerry warns of ‘grave concerns’ about Russia’s intent]\n",
    "\n",
    "In Washington, Sen. John McCain (R-Ariz.) told CNN he could “absolutely confirm” that airstrikes hit Western-backed groups such as the Free Syrian Army and other factions “armed and trained by the CIA.”\n",
    "\n",
    "“We have communications with people there,” said McCain, chairman of the Senate Armed Services Committee.\n",
    "\n",
    "The accounts could not be independently assessed, but the main focus of the Russian attacks appeared to be in areas not known to have strong Islamic State footholds.\n",
    "\n",
    "In Moscow, the reply was blunt.\n",
    "\n",
    "“Total rubbish,” Gennady Zyuganov, a member of parliament and leader of Russia’s Communist Party, said of the U.S. accusations.\n",
    "\n",
    "In televised remarks Thursday, Putin called accusations that Russian airstrikes had killed civilians in Syria “information attacks.”\n",
    "\n",
    "He also addressed concerns about an accidental military clash between Russian and U.S.-led coalition forces, saying that his intelligence and military agencies were “establishing contacts” with counterparts in the United States.\n",
    "\n",
    "“This work is ongoing, and I hope that it will conclude with the creation of a regularly acting mechanism,” he said.\n",
    "\n",
    "A spokesman for Russia’s Defense Ministry, Igor Konashenkov, said Thursday that warplanes hit a dozen Islamic State sites in the past 24 hours, destroying targets including a command center and two arms depots.\n",
    "\n",
    "[Russia’s strategy in Syria could be a work in progress]\n",
    "\n",
    "The United States and Russia agree on the need to fight the Islamic State but not about what to do with the Syrian president. The Syrian civil war, which grew out of an uprising against Assad, has killed more than 250,000 people since March 2011 and sent millions of refugees fleeing to countries in the Middle East and Europe.\n",
    "\n",
    "Accusing Russia of “pouring gasoline on the fire,” Defense Secretary Ashton B. Carter vowed that U.S. pilots would continue their year-long bombing campaign against the Islamic State in Syria, despite Moscow’s warning that American planes should stay away from its operations.\n",
    "\n",
    "“I think what they’re doing is going to backfire and is counterproductive,” Carter said on Wednesday.\n",
    "\n",
    "Yet Russia’s military flexing in Syria brought quick overtures from neighboring Iraq, where the Islamic State also holds significant territory but the government is within Washington’s fold.\n",
    "\n",
    "Iraq’s prime minister, Haider al-Abadi, told France 24 that he “would welcome” Russia joining the U.S.-led airstrikes against Islamic State targets, but there have been no specific discussions.\n",
    "\n",
    "Joining the protests against the Russian airstrikes was Saudi Arabia, a leading foe of Assad and one of Washington’s top Middle East allies.\n",
    "\n",
    "At the United Nations late Wednesday, the Saudi ambassador, Abdallah al-Mouallimi, demanded that the Russian air campaign “stop immediately” and accused Moscow of carrying out attacks in areas outside the control of the Islamic State.\n",
    "\n",
    "In Iran, Assad’s main regional backer, Foreign Ministry spokeswoman Marzieh Afkham called Russia’s military role a step “toward resolving the current crisis” in Syria.\n",
    "\n",
    "Sly reported from Beirut, and Murphy from Washington. Daniela Deane in London, William Branigin in Washington and Loveday Morris in Baghdad contributed to this report.\n",
    "\"\"\""
   ]
  },
  {
   "cell_type": "markdown",
   "metadata": {},
   "source": [
    "#### 2) Write a function that for a given word calculates the number of times that word appears in the 'washington_post'.\n",
    "Do not forget to bring all characters to lower case."
   ]
  },
  {
   "cell_type": "code",
   "execution_count": 2,
   "metadata": {
    "collapsed": true
   },
   "outputs": [],
   "source": [
    "def number_of_times_word_appears(word):\n",
    "    washington_post_lower = washington_post.lower().split(' ')\n",
    "    number_of_times = washington_post_lower.count(word)\n",
    "    return number_of_times"
   ]
  },
  {
   "cell_type": "code",
   "execution_count": 6,
   "metadata": {},
   "outputs": [
    {
     "name": "stdout",
     "output_type": "stream",
     "text": [
      "12\n",
      "5\n",
      "1\n"
     ]
    }
   ],
   "source": [
    "print(number_of_times_word_appears('russia'))\n",
    "print(number_of_times_word_appears('syria'))\n",
    "print(number_of_times_word_appears('france'))"
   ]
  },
  {
   "cell_type": "markdown",
   "metadata": {},
   "source": [
    "#### 3) Identify the list of words that appear in 'washington_post' more than N times for a given N.\n",
    "\n",
    "HINT:\n",
    "   - Use function from 2)"
   ]
  },
  {
   "cell_type": "code",
   "execution_count": 5,
   "metadata": {
    "collapsed": true
   },
   "outputs": [],
   "source": [
    "def list_of_words_appear_more_than_N(N):\n",
    "    result = []\n",
    "    set_of_words = set(washington_post.lower().split(' '))\n",
    "    for word in set_of_words:\n",
    "        if number_of_times_word_appears(word) > N:\n",
    "            result.append(word)\n",
    "    return result"
   ]
  },
  {
   "cell_type": "code",
   "execution_count": 9,
   "metadata": {},
   "outputs": [
    {
     "name": "stdout",
     "output_type": "stream",
     "text": [
      "['in', 'a', 'to', 'russian', 'of', 'that', 'islamic', 'and', 'the']\n"
     ]
    }
   ],
   "source": [
    "a = list_of_words_appear_more_than_N(10)\n",
    "print(a)"
   ]
  },
  {
   "cell_type": "markdown",
   "metadata": {},
   "source": [
    "#### 4) Identify the list of the most frequent words in 'washington_post'.\n",
    "\n",
    "HINT:\n",
    "- create a set of words in the article\n",
    "- use the function from 2) to find the value of the highest frequency\n",
    "- use the function from 3) to get the list of words with that highest frequency"
   ]
  },
  {
   "cell_type": "code",
   "execution_count": 12,
   "metadata": {
    "collapsed": true
   },
   "outputs": [],
   "source": [
    "def list_of_the_most_frequent_words():\n",
    "    set_of_words = set(washington_post.lower().split(' '))\n",
    "    max_frequency = max([number_of_times_word_appears(word) for word in set_of_words])\n",
    "    return list_of_words_appear_more_than_N(max_frequency-1)"
   ]
  },
  {
   "cell_type": "code",
   "execution_count": 13,
   "metadata": {},
   "outputs": [
    {
     "name": "stdout",
     "output_type": "stream",
     "text": [
      "['the']\n"
     ]
    }
   ],
   "source": [
    "print(list_of_the_most_frequent_words())"
   ]
  },
  {
   "cell_type": "markdown",
   "metadata": {
    "collapsed": true
   },
   "source": [
    "#### 5)*** Identify most frequent words in each of the paragraphs. \n",
    "\n",
    "HINT\n",
    "- All functions in 2),3), and 4) worked with washington_post text\n",
    "- Create modified versions of those functions, that in addition to the word also take text of an article as an argument\n",
    "- iterate through paragraphs in washington post and call modified version of list_of_the_most_frequent_words for each of them."
   ]
  },
  {
   "cell_type": "code",
   "execution_count": 15,
   "metadata": {
    "collapsed": true
   },
   "outputs": [],
   "source": [
    "def number_of_times_word_appears_in_text(word, text):\n",
    "    text_lower = text.lower().split(' ')\n",
    "    return text_lower.count(word)\n",
    "\n",
    "def list_of_words_appear_more_than_N_in_text(N, text):\n",
    "    result = []\n",
    "    set_of_words = set(text.lower().split(' '))\n",
    "    for word in set_of_words:\n",
    "        if number_of_times_word_appears_in_text(word, text) > N:\n",
    "            result.append(word)\n",
    "    return result\n",
    "\n",
    "def list_of_the_most_frequent_words_in_text(text):\n",
    "    set_of_words = set(text.lower().split(' '))\n",
    "    max_frequency = max([number_of_times_word_appears_in_text(word, text) for word in set_of_words])\n",
    "    return list_of_words_appear_more_than_N_in_text(max_frequency-1, text)"
   ]
  },
  {
   "cell_type": "code",
   "execution_count": 16,
   "metadata": {},
   "outputs": [
    {
     "name": "stdout",
     "output_type": "stream",
     "text": [
      "['the']\n"
     ]
    }
   ],
   "source": [
    "print(list_of_the_most_frequent_words_in_text(washington_post))"
   ]
  },
  {
   "cell_type": "code",
   "execution_count": 19,
   "metadata": {},
   "outputs": [
    {
     "name": "stdout",
     "output_type": "stream",
     "text": [
      "['the', 'as']\n",
      "['']\n",
      "['the']\n",
      "['']\n",
      "['the', 'russian']\n",
      "['']\n",
      "['the']\n",
      "['']\n",
      "['the']\n",
      "['']\n",
      "['graphic', 'the']\n",
      "['interfax', 'ends,”', 'are', 'isil', 'he', '“they', 'to', 'agency.', 'according', 'all', 'added,', 'the', 'pursuing', 'news']\n",
      "['']\n",
      "['any', 'not', 'and', 'did', 'groups.', 'ambassadors', 'u.s.-', 'rebel', 'western-backed', 'the', 'mention', 'specifically']\n",
      "['']\n",
      "['to']\n",
      "['']\n",
      "['to']\n",
      "['']\n",
      "['the']\n",
      "['']\n",
      "['[washington', 'next', 'move]', 'weighs']\n",
      "['']\n",
      "['group,']\n",
      "['']\n",
      "['airstrikes', 'level:', 'ground', 'scene', 'syria\\t', 'on', 'controversial', 'the', 'in', 'russian', 'of']\n",
      "['war.', 'criticized', 'photos\\tthe', 'view', 'add', 'actions,', 'an', 'to', 'by', 'unpredictable', 'a', 'washington,', 'quickly', 'multilayered', 'element']\n",
      "['the']\n",
      "['']\n",
      "['the']\n",
      "['']\n",
      "['the']\n",
      "['']\n",
      "['six', 'made', 'washington', 'fire', 'he', 'a', 'post.', '“it', 'kilometers', 'wide,”', 'the', 'told']\n",
      "['']\n",
      "['the']\n",
      "['']\n",
      "['the']\n",
      "['']\n",
      "['warns', '‘grave', '[kerry', 'concerns’', 'about', 'russia’s', 'intent]', 'of']\n",
      "['']\n",
      "['the', 'and']\n",
      "['']\n",
      "['have', 'services', 'communications', 'people', 'armed', 'said', 'mccain,', 'senate', '“we', 'with', 'there,”', 'committee.', 'the', 'chairman', 'of']\n",
      "['']\n",
      "['the']\n",
      "['']\n",
      "['reply', 'moscow,', 'was', 'blunt.', 'in', 'the']\n",
      "['']\n",
      "['of']\n",
      "['']\n",
      "['in']\n",
      "['']\n",
      "['military', 'and']\n",
      "['']\n",
      "['said.', 'it', 'mechanism,”', 'the', 'of', 'hope', 'he', 'creation', 'conclude', 'acting', 'and', '“this', 'will', 'regularly', 'i', 'work', 'is', 'a', 'ongoing,', 'with', 'that']\n",
      "['']\n",
      "['a']\n",
      "['']\n",
      "['in']\n",
      "['']\n",
      "['the']\n",
      "['']\n",
      "['the', 'that']\n",
      "['']\n",
      "['is']\n",
      "['']\n",
      "['the']\n",
      "['']\n",
      "['airstrikes', 'welcome”', 'france', 'prime', 'the', '“would', 'against', 'al-abadi,', 'have', 'state', 'he', '24', 'islamic', 'joining', 'there', 'russia', 'targets,', 'iraq’s', 'been', 'specific', 'minister,', 'haider', 'told', 'no', 'but', 'u.s.-led', 'that', 'discussions.']\n",
      "['']\n",
      "['the', 'of']\n",
      "['']\n",
      "['the']\n",
      "['']\n",
      "['in']\n",
      "['']\n",
      "['in']\n",
      "['']\n"
     ]
    }
   ],
   "source": [
    "for paragraph in washington_post.split('\\n'):\n",
    "    print(list_of_the_most_frequent_words_in_text(paragraph))"
   ]
  },
  {
   "cell_type": "code",
   "execution_count": null,
   "metadata": {
    "collapsed": true
   },
   "outputs": [],
   "source": []
  },
  {
   "cell_type": "code",
   "execution_count": null,
   "metadata": {
    "collapsed": true
   },
   "outputs": [],
   "source": []
  },
  {
   "cell_type": "code",
   "execution_count": null,
   "metadata": {
    "collapsed": true
   },
   "outputs": [],
   "source": []
  },
  {
   "cell_type": "code",
   "execution_count": null,
   "metadata": {
    "collapsed": true
   },
   "outputs": [],
   "source": []
  }
 ],
 "metadata": {
  "anaconda-cloud": {},
  "kernelspec": {
   "display_name": "Python 3",
   "language": "python",
   "name": "python3"
  },
  "language_info": {
   "codemirror_mode": {
    "name": "ipython",
    "version": 3
   },
   "file_extension": ".py",
   "mimetype": "text/x-python",
   "name": "python",
   "nbconvert_exporter": "python",
   "pygments_lexer": "ipython3",
   "version": "3.6.1"
  }
 },
 "nbformat": 4,
 "nbformat_minor": 1
}
