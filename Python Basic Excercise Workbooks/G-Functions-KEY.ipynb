{
 "cells": [
  {
   "cell_type": "markdown",
   "metadata": {},
   "source": [
    "User Defined Functions\n",
    "----------------------\n",
    "\n",
    "** See also Examples 18, 19, 20, and 21 from Learn Python the Hard Way **\n",
    "\n",
    "Functions assign a name to a block of code the way variables assign names to bits of data. This seeminly benign naming of things is incredibly powerful; alloing one to reuse common functionality over and over. Well-tested functions form building blocks for large, complex systems. As you progress through python, you'll find yourself using powerful functions defined in some of python's vast libraries of code. \n",
    "\n",
    "Function definitions begin with the `def` keyword, followed by the name you wish to assign to a function. Following this name are parentheses, `( )`, containing zero or more variable names, those values that are passed into the function. There is then a colon, followed by a code block defining the actions of the function:"
   ]
  },
  {
   "cell_type": "markdown",
   "metadata": {},
   "source": [
    "#### Printing \"Hi\"\n",
    "\n",
    "Let's start by looking at a function that performs a set of steps."
   ]
  },
  {
   "cell_type": "code",
   "execution_count": 1,
   "metadata": {
    "collapsed": true
   },
   "outputs": [],
   "source": [
    "def print_hi():\n",
    "    print(\"hi!\")"
   ]
  },
  {
   "cell_type": "code",
   "execution_count": 2,
   "metadata": {},
   "outputs": [
    {
     "name": "stdout",
     "output_type": "stream",
     "text": [
      "hi!\n",
      "hi!\n",
      "hi!\n",
      "hi!\n",
      "hi!\n",
      "hi!\n",
      "hi!\n",
      "hi!\n",
      "hi!\n",
      "hi!\n"
     ]
    }
   ],
   "source": [
    "for i in range(10):\n",
    "    print_hi()"
   ]
  },
  {
   "cell_type": "code",
   "execution_count": 3,
   "metadata": {
    "collapsed": true
   },
   "outputs": [],
   "source": [
    "def hi_you(name):\n",
    "    print(\"HI %s!\" % name.upper())"
   ]
  },
  {
   "cell_type": "code",
   "execution_count": 4,
   "metadata": {},
   "outputs": [
    {
     "name": "stdout",
     "output_type": "stream",
     "text": [
      "HI DAVID!\n"
     ]
    }
   ],
   "source": [
    "hi_you(\"David\")"
   ]
  },
  {
   "cell_type": "markdown",
   "metadata": {},
   "source": [
    "#### The `return` statement \n",
    "\n",
    "Example of computing a math function"
   ]
  },
  {
   "cell_type": "code",
   "execution_count": 5,
   "metadata": {
    "collapsed": true
   },
   "outputs": [],
   "source": [
    "# The functions are often designed to **return** the result of a computation/operation\n",
    "def square(num):\n",
    "    squared = num*num\n",
    "    return squared"
   ]
  },
  {
   "cell_type": "code",
   "execution_count": 6,
   "metadata": {},
   "outputs": [
    {
     "name": "stdout",
     "output_type": "stream",
     "text": [
      "15186125824\n"
     ]
    }
   ],
   "source": [
    "x = square(123232)\n",
    "print(x)"
   ]
  },
  {
   "cell_type": "code",
   "execution_count": 7,
   "metadata": {},
   "outputs": [
    {
     "name": "stdout",
     "output_type": "stream",
     "text": [
      "The square of 0 is 0\n",
      "The square of 1 is 1\n",
      "The square of 2 is 4\n",
      "The square of 3 is 9\n",
      "The square of 4 is 16\n",
      "The square of 5 is 25\n",
      "The square of 6 is 36\n",
      "The square of 7 is 49\n",
      "The square of 8 is 64\n",
      "The square of 9 is 81\n",
      "The square of 10 is 100\n",
      "The square of 11 is 121\n",
      "The square of 12 is 144\n",
      "The square of 13 is 169\n",
      "The square of 14 is 196\n"
     ]
    }
   ],
   "source": [
    "for i in range(15):\n",
    "    print(\"The square of %d\" %i, \"is %d\" % square(i))"
   ]
  },
  {
   "cell_type": "markdown",
   "metadata": {},
   "source": [
    "Note that the function `square` has a special keyword `return`. The argument to return is passed to whatever piece of code is calling the function. In this case, the square of the number that was input. \n",
    "\n",
    "If the function does not have `return` statement it returns *None*"
   ]
  },
  {
   "cell_type": "code",
   "execution_count": 8,
   "metadata": {},
   "outputs": [
    {
     "name": "stdout",
     "output_type": "stream",
     "text": [
      "None\n"
     ]
    }
   ],
   "source": [
    "def hi_you(name):\n",
    "    message = \"HI %s!\" % name.upper()\n",
    "    \n",
    "x = hi_you('David')\n",
    "print(x)"
   ]
  },
  {
   "cell_type": "markdown",
   "metadata": {},
   "source": [
    "## Scope\n",
    "\n",
    "Variables set inside of functions are said to be scoped to those functions: changes, including any new variables created, are only accessible while in the function code block (with some exceptions). If \"outside\" variables are modified inside a function's context, the contents of that variable are first copied.\n",
    "\n",
    "Similarly, changes or modifications to a function's arguments aren't reflected once the scope is returned; The variable will continue to point to the original thing. However, it is possible to modify the thing that is passed, assuming that it is mutable."
   ]
  },
  {
   "cell_type": "code",
   "execution_count": 9,
   "metadata": {},
   "outputs": [
    {
     "name": "stdout",
     "output_type": "stream",
     "text": [
      "8\n",
      "4\n"
     ]
    }
   ],
   "source": [
    "# inside a function's context, changes to a variable defined outside that\n",
    "# context aren't reflected once the context is returned\n",
    "def times_two(input_variable):\n",
    "    input_variable = 2*input_variable\n",
    "    return input_variable\n",
    "\n",
    "variable_four = 4\n",
    "print(times_two(variable_four))\n",
    "print(variable_four)"
   ]
  },
  {
   "cell_type": "code",
   "execution_count": 5,
   "metadata": {
    "collapsed": true
   },
   "outputs": [],
   "source": [
    "# inside a function's context, changes to a variable defined outside that\n",
    "# context aren't reflected once the context is returned\n",
    "\n",
    "name = \"konstantin\"\n",
    "def do_something():\n",
    "    print(\"We are now in the function!\")\n",
    "    name = \"NOT konstantin\"\n",
    "    print(name)\n",
    "    print(\"something! ... and we are out\")"
   ]
  },
  {
   "cell_type": "code",
   "execution_count": 6,
   "metadata": {},
   "outputs": [
    {
     "name": "stdout",
     "output_type": "stream",
     "text": [
      "We start here!\n",
      "The name is konstantin\n",
      "Let's call the function...\n",
      "We are now in the function!\n",
      "NOT konstantin\n",
      "something! ... and we are out\n",
      "Done with the function...\n",
      "konstantin\n"
     ]
    }
   ],
   "source": [
    "print(\"We start here!\")\n",
    "print(\"The name is\", name)\n",
    "print(\"Let's call the function...\")\n",
    "do_something()\n",
    "print(\"Done with the function...\")\n",
    "print(name)"
   ]
  },
  {
   "cell_type": "code",
   "execution_count": 12,
   "metadata": {},
   "outputs": [
    {
     "name": "stdout",
     "output_type": "stream",
     "text": [
      "Hi!\n"
     ]
    },
    {
     "ename": "NameError",
     "evalue": "name 'thing' is not defined",
     "output_type": "error",
     "traceback": [
      "\u001b[0;31m---------------------------------------------------------------------------\u001b[0m",
      "\u001b[0;31mNameError\u001b[0m                                 Traceback (most recent call last)",
      "\u001b[0;32m<ipython-input-12-b4c001aac9c4>\u001b[0m in \u001b[0;36m<module>\u001b[0;34m()\u001b[0m\n\u001b[1;32m      6\u001b[0m \u001b[0;34m\u001b[0m\u001b[0m\n\u001b[1;32m      7\u001b[0m \u001b[0mdo_something_new\u001b[0m\u001b[0;34m(\u001b[0m\u001b[0;34m)\u001b[0m\u001b[0;34m\u001b[0m\u001b[0m\n\u001b[0;32m----> 8\u001b[0;31m \u001b[0mprint\u001b[0m\u001b[0;34m(\u001b[0m\u001b[0mthing\u001b[0m\u001b[0;34m)\u001b[0m\u001b[0;34m\u001b[0m\u001b[0m\n\u001b[0m",
      "\u001b[0;31mNameError\u001b[0m: name 'thing' is not defined"
     ]
    }
   ],
   "source": [
    "# variables created in a function aren't accessible \n",
    "# outside that function's context\n",
    "def do_something_new():\n",
    "    thing = \"123\"\n",
    "    print(\"Hi!\")\n",
    "\n",
    "do_something_new()\n",
    "print(thing)"
   ]
  },
  {
   "cell_type": "code",
   "execution_count": 13,
   "metadata": {},
   "outputs": [
    {
     "name": "stdout",
     "output_type": "stream",
     "text": [
      "6\n",
      "[1, 2, 3, 6]\n",
      "12\n",
      "[1, 2, 3, 6, 12]\n"
     ]
    }
   ],
   "source": [
    "# composite data structures (lists, sets, dictionaries) _can_ be modified\n",
    "def add_sum(parameter_list):\n",
    "    s = sum(parameter_list)\n",
    "    parameter_list.append(s)\n",
    "    return s\n",
    "\n",
    "a_list = [1,2,3]\n",
    "total = add_sum(a_list)\n",
    "print(total)\n",
    "print(a_list)\n",
    "\n",
    "# try again!\n",
    "tot = add_sum(a_list)\n",
    "print(tot)\n",
    "print(a_list)\n"
   ]
  },
  {
   "cell_type": "markdown",
   "metadata": {},
   "source": [
    "### Example function: Cleaning up a string"
   ]
  },
  {
   "cell_type": "code",
   "execution_count": 8,
   "metadata": {
    "collapsed": true
   },
   "outputs": [],
   "source": [
    "# this function takes as input a phone (string variable)\n",
    "# and prints only its digits\n",
    "def clean(phone):\n",
    "    result = \"\"\n",
    "    digits = {\"0\",\"1\",\"2\",\"3\",\"4\",\"5\",\"6\",\"7\",\"8\",\"9\"}\n",
    "    for c in phone:\n",
    "        if c in digits:\n",
    "            result = result + c\n",
    "    return result        "
   ]
  },
  {
   "cell_type": "code",
   "execution_count": 9,
   "metadata": {},
   "outputs": [
    {
     "name": "stdout",
     "output_type": "stream",
     "text": [
      "2152043750\n"
     ]
    }
   ],
   "source": [
    "p = \"(215) 204-3750 Konstantin's Phone number\"\n",
    "print(clean(p))"
   ]
  },
  {
   "cell_type": "markdown",
   "metadata": {},
   "source": [
    "### Exercise 1\n",
    "\n",
    "* write a function that takes a tweet as an input and returns the list of its hashtags"
   ]
  },
  {
   "cell_type": "code",
   "execution_count": 10,
   "metadata": {
    "collapsed": true
   },
   "outputs": [],
   "source": [
    "# your code here\n",
    "def hashtags(tweet):\n",
    "    result = []\n",
    "    hashtag = '#'\n",
    "    for word in tweet.split():\n",
    "        if word.startswith(hashtag):\n",
    "            result.append(word)\n",
    "    return result"
   ]
  },
  {
   "cell_type": "code",
   "execution_count": 15,
   "metadata": {},
   "outputs": [
    {
     "name": "stdout",
     "output_type": "stream",
     "text": [
      "Tweet 1\n",
      "Real hashtags: ['#ifedsomeone', '#compassion', '#osaat', '#philly', '#service']\n",
      "Your output:  ['#ifedsomeone', '#compassion', '#osaat', '#philly', '#service']\n",
      "\n",
      "Tweet 2\n",
      "Real hashtags: ['#DataRescue']\n",
      "Your output:  ['#DataRescue']\n",
      "\n",
      "Tweet 3\n",
      "Real hashtags: ['#FoxTemple', '#MSBA']\n",
      "Your output:  ['#FoxTemple', '#MSBA']\n"
     ]
    }
   ],
   "source": [
    "#TEST YOUR CODE\n",
    "tweet1 = \"Way to go @FoxTemple! You guys rock! #ifedsomeone #compassion #osaat #philly #service\"\n",
    "tweet2 = \"Last month's #DataRescue event at Temple united efforts to save climate change data from future alterations\"\n",
    "tweet3 = 'What impact will cardless ATMs have on hacking? Find out in this op-ed by #FoxTemple & #MSBA Professor @aghose'\n",
    "print(\"Tweet 1\\nReal hashtags: ['#ifedsomeone', '#compassion', '#osaat', '#philly', '#service']\\nYour output: \",hashtags(tweet1))\n",
    "print(\"\\nTweet 2\\nReal hashtags: ['#DataRescue']\\nYour output: \",hashtags(tweet2))\n",
    "print(\"\\nTweet 3\\nReal hashtags: ['#FoxTemple', '#MSBA']\\nYour output: \",hashtags(tweet3))"
   ]
  },
  {
   "cell_type": "markdown",
   "metadata": {},
   "source": [
    "### Exercise 2\n",
    "\n",
    "* write a function that checks if a number ia a prime\n",
    "* write a function that returns a list of all prime numbers up to a give number"
   ]
  },
  {
   "cell_type": "code",
   "execution_count": 18,
   "metadata": {
    "collapsed": true
   },
   "outputs": [],
   "source": [
    "import math\n",
    "# your code is here\n",
    "def is_prime(number):\n",
    "    for i in range(2,int(math.sqrt(number))+1):\n",
    "        if number%i == 0:\n",
    "            return False\n",
    "    return True\n",
    "\n",
    "def prime_list(N):\n",
    "    return [i for i in range(2,N) if is_prime(i)]\n"
   ]
  },
  {
   "cell_type": "code",
   "execution_count": 19,
   "metadata": {},
   "outputs": [
    {
     "name": "stdout",
     "output_type": "stream",
     "text": [
      "Prime numbers < 20: [2, 3, 5, 7, 11, 13, 17, 19]\n",
      "Your output:  [2, 3, 5, 7, 11, 13, 17, 19]\n"
     ]
    }
   ],
   "source": [
    "#TEST YOUR CODE\n",
    "print('Prime numbers < 20: [2, 3, 5, 7, 11, 13, 17, 19]\\nYour output: ',prime_list(20))"
   ]
  },
  {
   "cell_type": "code",
   "execution_count": 20,
   "metadata": {},
   "outputs": [
    {
     "data": {
      "text/plain": [
       "True"
      ]
     },
     "execution_count": 20,
     "metadata": {},
     "output_type": "execute_result"
    }
   ],
   "source": [
    "is_prime(19)"
   ]
  },
  {
   "cell_type": "code",
   "execution_count": null,
   "metadata": {
    "collapsed": true
   },
   "outputs": [],
   "source": []
  }
 ],
 "metadata": {
  "anaconda-cloud": {},
  "kernelspec": {
   "display_name": "Python 3",
   "language": "python",
   "name": "python3"
  },
  "language_info": {
   "codemirror_mode": {
    "name": "ipython",
    "version": 3
   },
   "file_extension": ".py",
   "mimetype": "text/x-python",
   "name": "python",
   "nbconvert_exporter": "python",
   "pygments_lexer": "ipython3",
   "version": "3.6.1"
  }
 },
 "nbformat": 4,
 "nbformat_minor": 1
}
