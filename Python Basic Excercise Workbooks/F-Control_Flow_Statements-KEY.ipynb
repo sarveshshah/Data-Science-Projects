{
 "cells": [
  {
   "cell_type": "markdown",
   "metadata": {},
   "source": [
    "Control Structures\n",
    "------------------\n",
    "\n",
    "We've spent some time going into detail about some of the data types and structures available in python. It's now time to talk about how to navigate through some of this data, and use data to make decisions. Traversing over data and making decisions based upon data are a common aspect of every programming language, known as control flow. Python provides a rich control flow, with a lot of conveniences for the power users. Here, we're just going to talk about the basics, to learn more, please [consult the documentation](http://docs.python.org/2/tutorial/controlflow.html). \n",
    "\n",
    "A common theme throughout this discussion of control structures is the notion of a \"block of code.\" Blocks of code are **demarcated by a specific level of indentation**, typically separated from the surrounding code by some control structure elements, immediately preceeded by a colon, `:`. We'll see examples below. \n",
    "\n",
    "Finally, note that control structures can be nested arbitrarily, depending on the tasks you're trying to accomplish. \n",
    "\n",
    "### if Statements:\n",
    "\n",
    "**See also LPTHW, Exp 29, 30, and 31.**\n",
    "\n",
    "If statements are perhaps the most widely used of all control structures. An if statement consists of a code block and an argument. The if statement evaluates the boolean value of it's argument, executing the code block if that argument is true. "
   ]
  },
  {
   "cell_type": "code",
   "execution_count": 50,
   "metadata": {},
   "outputs": [
    {
     "name": "stdout",
     "output_type": "stream",
     "text": [
      "duh\n"
     ]
    }
   ],
   "source": [
    "if True:\n",
    "    print(\"duh\" )"
   ]
  },
  {
   "cell_type": "code",
   "execution_count": 51,
   "metadata": {
    "collapsed": true
   },
   "outputs": [],
   "source": [
    "if False:\n",
    "    print(\"ha!\")\n",
    "    print(\"duh\" )"
   ]
  },
  {
   "cell_type": "code",
   "execution_count": 52,
   "metadata": {},
   "outputs": [
    {
     "name": "stdout",
     "output_type": "stream",
     "text": [
      "easy\n"
     ]
    }
   ],
   "source": [
    "if 1+1 == 2:\n",
    "    print(\"easy\")"
   ]
  },
  {
   "cell_type": "code",
   "execution_count": 53,
   "metadata": {},
   "outputs": [
    {
     "name": "stdout",
     "output_type": "stream",
     "text": [
      "do you know math?\n"
     ]
    }
   ],
   "source": [
    "if (2+2 == 5):\n",
    "    print(\"really?\")\n",
    "else:\n",
    "    print(\"do you know math?\")"
   ]
  },
  {
   "cell_type": "code",
   "execution_count": 55,
   "metadata": {},
   "outputs": [
    {
     "name": "stdout",
     "output_type": "stream",
     "text": [
      "found it! I found the element 5\n"
     ]
    }
   ],
   "source": [
    "items = {1, 2, 3, 5}\n",
    "lookingfor = 5\n",
    "if lookingfor in items:\n",
    "    print(\"found it! I found the element\", lookingfor)\n",
    "else:\n",
    "    print(\"I did not find \", lookingfor)"
   ]
  },
  {
   "cell_type": "markdown",
   "metadata": {},
   "source": [
    "Each argument in the above if statements is a boolean expression. Often you want to have alternatives, blocks of code that get evaluated in the event that the argument to an if statement is false. This is where **`elif`** (else if) and else come in. \n",
    "\n",
    "An **`elif`** is evaluated if all preceeding if or elif arguments have evaluted to false. The else statement is the last resort, assigning the code that gets exectued if no if or elif above it is true. These statements are optional, and can be added to an if statement in any order, with at most one code block being evaluated. An else will always have it's code be exectued, if nothing above it is true."
   ]
  },
  {
   "cell_type": "code",
   "execution_count": 56,
   "metadata": {},
   "outputs": [
    {
     "name": "stdout",
     "output_type": "stream",
     "text": [
      "something\n",
      "hi\n"
     ]
    }
   ],
   "source": [
    "if 2+2 == 3:\n",
    "    print(\"whoa\")\n",
    "    print(\"done\")\n",
    "elif 1+1 == 0:\n",
    "    print(\"that explains it\")\n",
    "elif 5+5 == 10:\n",
    "    print(\"something\")\n",
    "    if True:\n",
    "        print(\"hi\")\n",
    "else:\n",
    "    print(\"what I expected\")"
   ]
  },
  {
   "cell_type": "code",
   "execution_count": 58,
   "metadata": {},
   "outputs": [
    {
     "name": "stdout",
     "output_type": "stream",
     "text": [
      "didn't find Peter  I will add it\n",
      "{'Peter', 'Konstantin', 'Maria', 'Jenny'}\n"
     ]
    }
   ],
   "source": [
    "x = {\"Konstantin\",\"Maria\",\"Jenny\"}\n",
    "lookingfor = \"Peter\"\n",
    "if lookingfor in x:\n",
    "    print(\"found\", lookingfor)\n",
    "else:\n",
    "    print(\"didn't find\", lookingfor, \" I will add it\")\n",
    "    x.add(lookingfor)\n",
    "print(x)"
   ]
  },
  {
   "cell_type": "code",
   "execution_count": 59,
   "metadata": {
    "collapsed": true
   },
   "outputs": [],
   "source": [
    "if False:\n",
    "    print(\"shouln't happen\")\n",
    "elif False:\n",
    "    print(\"should happen\")"
   ]
  },
  {
   "cell_type": "markdown",
   "metadata": {},
   "source": [
    "### Exercise:\n",
    "\n",
    "Write the code that would print \"A is positive\" or \"A is negative\" depending on the value of A"
   ]
  },
  {
   "cell_type": "code",
   "execution_count": 88,
   "metadata": {},
   "outputs": [
    {
     "name": "stdout",
     "output_type": "stream",
     "text": [
      "-3\n",
      "A is negative\n"
     ]
    }
   ],
   "source": [
    "import random\n",
    "A = random.randint(-10, 10)\n",
    "print(A)\n",
    "\n",
    "#your code is here\n",
    "if A > 0:\n",
    "    print('A is positive')\n",
    "elif A < 0:\n",
    "    print('A is negative')\n",
    "else:\n",
    "    print('A = 0')"
   ]
  },
  {
   "cell_type": "markdown",
   "metadata": {},
   "source": [
    "### for Statements:\n",
    "\n",
    "**See also LPTHW, Exp 32.**\n",
    "\n",
    "for statements are a convenient way to iterate through the values contained in a data structure. Going through the elements in a data structure one at a time, this element is assigned to variable. The code block associated with the for statement (or for loop) is then evaluated with this value."
   ]
  },
  {
   "cell_type": "code",
   "execution_count": 89,
   "metadata": {},
   "outputs": [
    {
     "name": "stdout",
     "output_type": "stream",
     "text": [
      "1  squared is: 1\n",
      "2  squared is: 4\n",
      "3  squared is: 9\n",
      "4  squared is: 16\n"
     ]
    }
   ],
   "source": [
    "set = {1, 2, 3, 4}\n",
    "for i in set:\n",
    "    print(i, \" squared is:\", i*i )"
   ]
  },
  {
   "cell_type": "code",
   "execution_count": 90,
   "metadata": {},
   "outputs": [
    {
     "name": "stdout",
     "output_type": "stream",
     "text": [
      "a more complex block\n",
      "3  squared is: 9\n",
      "4  squared is: 16\n",
      "5  squared is: 25\n",
      "6  squared is: 36\n"
     ]
    }
   ],
   "source": [
    "print(\"a more complex block\")\n",
    "set = {1, 2, 3, 4, 5, 6}\n",
    "for i in set:\n",
    "    if i >= 3:\n",
    "        print(i, \" squared is:\", i*i )"
   ]
  },
  {
   "cell_type": "code",
   "execution_count": 91,
   "metadata": {},
   "outputs": [
    {
     "name": "stdout",
     "output_type": "stream",
     "text": [
      "this also works for lists\n",
      "6\n",
      "7\n",
      "8\n"
     ]
    }
   ],
   "source": [
    "print(\"this also works for lists\")\n",
    "list = [1,2,3]\n",
    "for num in list:\n",
    "    print(num+5)"
   ]
  },
  {
   "cell_type": "code",
   "execution_count": 92,
   "metadata": {},
   "outputs": [
    {
     "name": "stdout",
     "output_type": "stream",
     "text": [
      "dictionaries let you iterate through keys, values, or both\n",
      "key = a , value= 1\n",
      "key = b , value= 2\n",
      "key = konstantin , value= -1\n",
      "key = whatever , value= 5\n"
     ]
    }
   ],
   "source": [
    "print(\"dictionaries let you iterate through keys, values, or both\")\n",
    "dict = {\"a\":1, \"b\":2, \"konstantin\": -1, \"whatever\": 5}\n",
    "\n",
    "for k in dict.keys():\n",
    "    print(\"key =\", k, \", value=\", dict[k])"
   ]
  },
  {
   "cell_type": "code",
   "execution_count": 94,
   "metadata": {},
   "outputs": [
    {
     "name": "stdout",
     "output_type": "stream",
     "text": [
      "dictionaries let you iterate through keys, values, or both\n",
      "1\n",
      "2\n"
     ]
    }
   ],
   "source": [
    "print(\"dictionaries let you iterate through keys, values, or both\")\n",
    "dict = {\"a\":1, \"b\":2}\n",
    "  \n",
    "for v in dict.values():\n",
    "    print(v)"
   ]
  },
  {
   "cell_type": "code",
   "execution_count": 95,
   "metadata": {},
   "outputs": [
    {
     "name": "stdout",
     "output_type": "stream",
     "text": [
      "dictionaries let you iterate through keys, values, or both\n",
      "a 1\n",
      "b 2\n"
     ]
    }
   ],
   "source": [
    "print(\"dictionaries let you iterate through keys, values, or both\")\n",
    "dict = {\"a\":1, \"b\":2}\n",
    "\n",
    "# Iteritems returns *tuples* that correspond to key-value pairs\n",
    "# [('a', 1), ('b', 2)]\n",
    "for (k,v) in dict.items():\n",
    "    print(k, v)\n",
    "    #if v == dict[k]:\n",
    "    #    print(\"phew! the value %d\" % v, \" is in the dictionary, with a key %s\" % k)\n"
   ]
  },
  {
   "cell_type": "code",
   "execution_count": 96,
   "metadata": {},
   "outputs": [
    {
     "name": "stdout",
     "output_type": "stream",
     "text": [
      "dictionaries let you iterate through keys, values, or both\n",
      "Looking at item a  with value 1\n",
      "Looking at item b  with value 2\n",
      "Looking at item c  with value 3\n",
      "Looking at item d  with value 4\n",
      "The key d has the value 4\n",
      "Looking at item e  with value 4\n",
      "The key e has the value 4\n",
      "Looking at item f  with value 4\n",
      "The key f has the value 4\n"
     ]
    }
   ],
   "source": [
    "print(\"dictionaries let you iterate through keys, values, or both\")\n",
    "dict = {\"a\":1, \"b\":2, \"c\": 3, \"d\":4, \"e\": 4, \"f\": 4}\n",
    "\n",
    "for k,v in dict.items():\n",
    "    print(\"Looking at item\", k, \" with value\", v)\n",
    "    if v == 4:\n",
    "        print(\"The key %s has the value 4\" % k)"
   ]
  },
  {
   "cell_type": "markdown",
   "metadata": {},
   "source": [
    "#### Exercise\n",
    "\n",
    "* print(the names of the people from the dictionary below, by iterating through the keys)\n",
    "* print(the age of each person, by iterating through the keys, and then looking up the \"YOB\" entry.)\n",
    "* print(the names of people born after 1980)\n",
    "* print(the number of children for each person. You need to check if the \"Children\" list exists in the dictionary.)"
   ]
  },
  {
   "cell_type": "code",
   "execution_count": 97,
   "metadata": {
    "collapsed": true
   },
   "outputs": [],
   "source": [
    "data = {\n",
    "        \"Foster\": {\n",
    "            \"Job\": \"Professor\", \n",
    "            \"YOB\": 1965, \n",
    "            \"Children\": [\"Hannah\"],\n",
    "            \"Awards\": [\"Best Teacher 2014\", \"Best Researcher 2015\"],\n",
    "            \"Salary\": 120000\n",
    "        }, \n",
    "        \"Joe\": {\n",
    "            \"Job\": \"Data Scientist\", \n",
    "            \"YOB\": 1981,\n",
    "            \"Salary\": 200000\n",
    "        },\n",
    "        \"Maria\": { \n",
    "            \"Job\": \"Software Engineer\", \n",
    "            \"YOB\": 1993, \n",
    "            \"Children\": [],\n",
    "            \"Awards\": [\"Dean's List 2013\", \"Valedictorian 2011\", \"First place in Math Olympiad 2010\"]\n",
    "        }, \n",
    "        \"Panos\": { \n",
    "            \"Job\": \"Professor\", \n",
    "            \"YOB\": 1976, \n",
    "            \"Children\": [\"Gregory\", \"Anna\"]\n",
    "        },\n",
    "    }"
   ]
  },
  {
   "cell_type": "code",
   "execution_count": 104,
   "metadata": {},
   "outputs": [
    {
     "name": "stdout",
     "output_type": "stream",
     "text": [
      "Name:  Foster\n",
      "Age: 53\n",
      "Number of children:  1\n",
      "Name:  Joe\n",
      "Age: 37\n",
      "Joe  born after 1980\n",
      "Number of children: 0\n",
      "Name:  Maria\n",
      "Age: 25\n",
      "Maria  born after 1980\n",
      "Number of children:  0\n",
      "Name:  Panos\n",
      "Age: 42\n",
      "Number of children:  2\n"
     ]
    }
   ],
   "source": [
    "## Your code here\n",
    "\n",
    "for w, y in data.items():\n",
    "    #names\n",
    "    print('Name: ',w)\n",
    "\n",
    "    #age\n",
    "    if 'YOB' in y:\n",
    "        print('Age:',2018 - y['YOB'])\n",
    "    \n",
    "        #names of people born after 1980\n",
    "        if y['YOB'] > 1980:\n",
    "            print(w,' born after 1980')\n",
    "        \n",
    "    #number of children\n",
    "    if 'Children' in y:\n",
    "        print('Number of children: ', len(y['Children']))\n",
    "    else:\n",
    "        print('Number of children: 0')"
   ]
  },
  {
   "cell_type": "markdown",
   "metadata": {},
   "source": [
    "### Break and Continue:\n",
    "\n",
    "These two statements are used to modify iteration of loops. Break is used to *exit immediately* the *inner most _loop_* in which it appears. In contrast, continue stops the code executing within the loop and goes on to the *next iteration of the same loop*."
   ]
  },
  {
   "cell_type": "code",
   "execution_count": 105,
   "metadata": {},
   "outputs": [
    {
     "name": "stdout",
     "output_type": "stream",
     "text": [
      "Checking if number 1  is greater than 2\n",
      "1\n",
      "Checking if number 2  is greater than 2\n",
      "2\n",
      "Checking if number 3  is greater than 2\n",
      "I am outta here\n"
     ]
    }
   ],
   "source": [
    "x = [1,2,3,4,5,4,3,2,1]\n",
    "#num is the value and not index\n",
    "for num in x:\n",
    "    print(\"Checking if number\", num, \" is greater than 2\")\n",
    "    if num > 2:\n",
    "        print(\"I am outta here\")\n",
    "        break\n",
    "    print(num)"
   ]
  },
  {
   "cell_type": "code",
   "execution_count": 106,
   "metadata": {},
   "outputs": [
    {
     "name": "stdout",
     "output_type": "stream",
     "text": [
      "a\n",
      "I am done\n"
     ]
    }
   ],
   "source": [
    "y = [\"a\", \"b\", \"c\", \"d\"]\n",
    "for letter in y:\n",
    "    if letter == \"b\":\n",
    "        break\n",
    "    print(letter)\n",
    "print(\"I am done\")"
   ]
  },
  {
   "cell_type": "code",
   "execution_count": 107,
   "metadata": {},
   "outputs": [
    {
     "name": "stdout",
     "output_type": "stream",
     "text": [
      "I am checking the element a\n",
      "a\n",
      "I am checking the element b\n",
      "I am NOT going to print this second-tier letter!\n",
      "I am checking the element c\n",
      "c\n",
      "I am checking the element d\n",
      "d\n",
      "I am done\n"
     ]
    }
   ],
   "source": [
    "y = [\"a\", \"b\", \"c\", \"d\"]\n",
    "for letter in y:\n",
    "    print(\"I am checking the element\", letter)\n",
    "    if letter == \"b\":\n",
    "        print(\"I am NOT going to print this second-tier letter!\")\n",
    "        continue\n",
    "    print(letter)\n",
    "print(\"I am done\")"
   ]
  },
  {
   "cell_type": "markdown",
   "metadata": {},
   "source": [
    "### Ranges of Integers:\n",
    "\n",
    "Often it is convenient to define (and iterate through) ranges of integers. Python has a convenient range function that allows you to do just this."
   ]
  },
  {
   "cell_type": "code",
   "execution_count": 108,
   "metadata": {},
   "outputs": [
    {
     "data": {
      "text/plain": [
       "range(0, 10)"
      ]
     },
     "execution_count": 108,
     "metadata": {},
     "output_type": "execute_result"
    }
   ],
   "source": [
    "range(10)"
   ]
  },
  {
   "cell_type": "code",
   "execution_count": 109,
   "metadata": {},
   "outputs": [
    {
     "name": "stdout",
     "output_type": "stream",
     "text": [
      "range(0, 10)\n",
      "0 squared is 0\n",
      "1 squared is 1\n",
      "2 squared is 4\n",
      "3 squared is 9\n",
      "4 squared is 16\n",
      "5 squared is 25\n",
      "6 squared is 36\n",
      "7 squared is 49\n",
      "8 squared is 64\n",
      "9 squared is 81\n"
     ]
    }
   ],
   "source": [
    "print(range(10))# start at zero, < the specified ceiling value\n",
    "# range(10) <=> range(0,10)\n",
    "for i in range(10):\n",
    "    print(i, \"squared is\", i*i)"
   ]
  },
  {
   "cell_type": "code",
   "execution_count": 110,
   "metadata": {},
   "outputs": [
    {
     "name": "stdout",
     "output_type": "stream",
     "text": [
      "range(-5, 5)\n",
      "-5 squared is 25\n",
      "-4 squared is 16\n",
      "-3 squared is 9\n",
      "-2 squared is 4\n",
      "-1 squared is 1\n",
      "0 squared is 0\n",
      "1 squared is 1\n",
      "2 squared is 4\n",
      "3 squared is 9\n",
      "4 squared is 16\n"
     ]
    }
   ],
   "source": [
    "print(range(-5, 5) )#from the left value, < right value\n",
    "for i in range(-5, 5):\n",
    "    print(i, \"squared is\", i*i)"
   ]
  },
  {
   "cell_type": "code",
   "execution_count": 113,
   "metadata": {},
   "outputs": [
    {
     "name": "stdout",
     "output_type": "stream",
     "text": [
      "range(-5, 5, 2)\n",
      "-5 squared is 25\n",
      "-3 squared is 9\n",
      "-1 squared is 1\n",
      "1 squared is 1\n",
      "3 squared is 9\n"
     ]
    }
   ],
   "source": [
    "print(range(-5, 5, 2) )#from the left value, to the middle value, incrementing by the right value\n",
    "for i in range(-5, 5, 2):\n",
    "    print(i, \"squared is\", i*i)"
   ]
  },
  {
   "cell_type": "code",
   "execution_count": 114,
   "metadata": {},
   "outputs": [
    {
     "name": "stdout",
     "output_type": "stream",
     "text": [
      "1 is positive\n",
      "2 is positive\n",
      "3 is positive\n",
      "4 is positive\n"
     ]
    }
   ],
   "source": [
    "for x in range(-5, 5):\n",
    "    if x > 0:\n",
    "        print(\"%d is positive\" % x)"
   ]
  },
  {
   "cell_type": "markdown",
   "metadata": {},
   "source": [
    "#### Exercise\n",
    "\n",
    "* print(your name 10 times)\n",
    "* print(on the screen a \"triangle\", by printing first \"#\", then \"##\", then \"###\", etc. Repeat 10 times; _Hint: The command `print(i*'#')` will print(the character ')#' a total of `i` times.\n",
    "* print(on the screen a \"triangle\", by printing first \")#\", then \"##\", then \"###\", etc. Repeat 10 times, but do not use the `print(i*'#')` command. Instead use two nested loops, with the inside loop printing the character '#' i times. (Hint: specify argument `end=''` at the end of `print` command (e.g., `print('#', end='')` does not print(a newline character at the end))"
   ]
  },
  {
   "cell_type": "code",
   "execution_count": null,
   "metadata": {
    "collapsed": true
   },
   "outputs": [],
   "source": [
    "#\n",
    "##\n",
    "###\n",
    "####\n",
    "#####\n",
    "######\n",
    "#######\n",
    "########\n",
    "#########\n",
    "##########"
   ]
  },
  {
   "cell_type": "code",
   "execution_count": 117,
   "metadata": {},
   "outputs": [
    {
     "name": "stdout",
     "output_type": "stream",
     "text": [
      "1 Konstantin\n",
      "2 Konstantin\n",
      "3 Konstantin\n",
      "4 Konstantin\n",
      "5 Konstantin\n",
      "6 Konstantin\n",
      "7 Konstantin\n",
      "8 Konstantin\n",
      "9 Konstantin\n",
      "10 Konstantin\n"
     ]
    }
   ],
   "source": [
    "## Your code here\n",
    "for i in range(1,11):\n",
    "    print(i,'Konstantin')"
   ]
  },
  {
   "cell_type": "code",
   "execution_count": 1,
   "metadata": {},
   "outputs": [
    {
     "name": "stdout",
     "output_type": "stream",
     "text": [
      "#\n",
      "##\n",
      "###\n",
      "####\n",
      "#####\n",
      "######\n",
      "#######\n",
      "########\n",
      "#########\n"
     ]
    }
   ],
   "source": [
    "for i in range(1,10):\n",
    "    print(i*'#')"
   ]
  },
  {
   "cell_type": "code",
   "execution_count": 2,
   "metadata": {},
   "outputs": [
    {
     "name": "stdout",
     "output_type": "stream",
     "text": [
      "#\n",
      "##\n",
      "###\n",
      "####\n",
      "#####\n",
      "######\n",
      "#######\n",
      "########\n",
      "#########\n"
     ]
    }
   ],
   "source": [
    "for i in range(1,10):\n",
    "    for k in range(i):\n",
    "        print('#', end='')\n",
    "    print()"
   ]
  },
  {
   "cell_type": "markdown",
   "metadata": {},
   "source": [
    "List Comprehensions\n",
    "-------------------\n",
    "\n",
    "The practical data scientist often faces situations where one list is to be transformed into another list, transforming the values in the input array, filtering out certain undesired values, etc. List comprehensions are a natural, flexible way to perform these transformations on the elements in a list. \n",
    "\n",
    "The syntax of list comprehensions is based on the way mathematicians define sets and lists, a syntax that leaves it clear what the contents should be:\n",
    "\n",
    "+ `S = {x² : x in {0 ... 9}}`\n",
    "\n",
    "+ `V = (1, 2, 4, 8, ..., 2¹²)`\n",
    "\n",
    "+ `M = {x | x in S and x even}`\n",
    "\n",
    "\n",
    "Python's list comprehensions give a very natural way to write statements just like these. It may look strange early on, but it becomes a very natural and concise way of creating lists, without having to write for-loops."
   ]
  },
  {
   "cell_type": "code",
   "execution_count": 118,
   "metadata": {},
   "outputs": [
    {
     "name": "stdout",
     "output_type": "stream",
     "text": [
      "[0, 1, 4, 9, 16, 25, 36, 49, 64, 81]\n"
     ]
    }
   ],
   "source": [
    "# This code below will create a list with the squares\n",
    "# of the numbers from 0 to 9 \n",
    "S = [] # we create an empty list\n",
    "for i in range(10): # We iterate over all numbers from 0 to 9\n",
    "    S.append(i*i) # We add in the list the square of the number i\n",
    "print(S)# we print(the list)"
   ]
  },
  {
   "cell_type": "code",
   "execution_count": 119,
   "metadata": {},
   "outputs": [
    {
     "name": "stdout",
     "output_type": "stream",
     "text": [
      "[0, 1, 4, 9, 16, 25, 36, 49, 64, 81]\n"
     ]
    }
   ],
   "source": [
    "S = [i*i for i in range(10)]\n",
    "print(S)"
   ]
  },
  {
   "cell_type": "code",
   "execution_count": 120,
   "metadata": {},
   "outputs": [
    {
     "name": "stdout",
     "output_type": "stream",
     "text": [
      "[1.0, 2.0, 4.0, 8.0, 16.0, 32.0, 64.0, 128.0, 256.0, 512.0, 1024.0, 2048.0]\n"
     ]
    }
   ],
   "source": [
    "import math\n",
    "V = [math.pow(2,i) for i in range(12)]\n",
    "print(V)"
   ]
  },
  {
   "cell_type": "markdown",
   "metadata": {},
   "source": [
    "**Note the list comprehension for deriving M uses a \"if statement\" to filter out those values that aren't of interest**, restricting to only the even perfect squares.\n"
   ]
  },
  {
   "cell_type": "code",
   "execution_count": 121,
   "metadata": {},
   "outputs": [
    {
     "name": "stdout",
     "output_type": "stream",
     "text": [
      "[0, 1, 4, 9, 16, 25, 36, 49, 64, 81]\n"
     ]
    }
   ],
   "source": [
    "S = [i*i for i in range(10)]\n",
    "print(S)"
   ]
  },
  {
   "cell_type": "code",
   "execution_count": 122,
   "metadata": {},
   "outputs": [
    {
     "name": "stdout",
     "output_type": "stream",
     "text": [
      "[0, 4, 16, 36, 64]\n"
     ]
    }
   ],
   "source": [
    "M = [x for x in S if x%2 == 0]\n",
    "print(M)"
   ]
  },
  {
   "cell_type": "markdown",
   "metadata": {},
   "source": [
    "These are simple examples, using numerical compuation. In the following operation we transform a string into an list of values, a more complex operation: "
   ]
  },
  {
   "cell_type": "code",
   "execution_count": 123,
   "metadata": {},
   "outputs": [
    {
     "data": {
      "text/plain": [
       "[('THE', 'the', 3),\n",
       " ('QUICK', 'quick', 5),\n",
       " ('BROWN', 'brown', 5),\n",
       " ('FOX', 'fox', 3),\n",
       " ('JUMPS', 'jumps', 5),\n",
       " ('OVER', 'over', 4),\n",
       " ('THE', 'the', 3),\n",
       " ('LAZY', 'lazy', 4),\n",
       " ('DOG', 'dog', 3)]"
      ]
     },
     "execution_count": 123,
     "metadata": {},
     "output_type": "execute_result"
    }
   ],
   "source": [
    "words = 'The quick brown fox jumps over the lazy dog'\n",
    "[(w.upper(), w.lower(), len(w)) for w in words.split()]"
   ]
  },
  {
   "cell_type": "markdown",
   "metadata": {},
   "source": [
    "#### Exercise\n",
    "\n",
    "* List each word and its length from the string 'The quick brown fox jumps over the lazy dog', conditioned on the length of the word being four characters and above\n",
    "* List only words with the letter o in them"
   ]
  },
  {
   "cell_type": "code",
   "execution_count": 127,
   "metadata": {},
   "outputs": [
    {
     "data": {
      "text/plain": [
       "[('quick', 5), ('brown', 5), ('jumps', 5), ('over', 4), ('lazy', 4)]"
      ]
     },
     "execution_count": 127,
     "metadata": {},
     "output_type": "execute_result"
    }
   ],
   "source": [
    "# your code here\n",
    "[(w, len(w)) for w in words.split() if len(w)>3]"
   ]
  },
  {
   "cell_type": "code",
   "execution_count": null,
   "metadata": {
    "collapsed": true
   },
   "outputs": [],
   "source": [
    "# The following example prints words with the letter o in them\n",
    "[w for w in words.split() if 'o' in w]"
   ]
  },
  {
   "cell_type": "code",
   "execution_count": null,
   "metadata": {
    "collapsed": true
   },
   "outputs": [],
   "source": []
  }
 ],
 "metadata": {
  "anaconda-cloud": {},
  "kernelspec": {
   "display_name": "Python 3",
   "language": "python",
   "name": "python3"
  },
  "language_info": {
   "codemirror_mode": {
    "name": "ipython",
    "version": 3
   },
   "file_extension": ".py",
   "mimetype": "text/x-python",
   "name": "python",
   "nbconvert_exporter": "python",
   "pygments_lexer": "ipython3",
   "version": "3.6.1"
  }
 },
 "nbformat": 4,
 "nbformat_minor": 1
}
