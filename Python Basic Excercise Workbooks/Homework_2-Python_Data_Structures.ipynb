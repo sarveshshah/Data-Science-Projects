{
 "cells": [
  {
   "cell_type": "markdown",
   "metadata": {},
   "source": [
    "## Part 1:\n",
    "\n",
    "1) Create an empty list.\n",
    "\n",
    "2) add your name to the list\n",
    "\n",
    "3) add the name of your instructor to the list\n",
    "\n",
    "4) add couple names of your friends to the list\n",
    "\n",
    "5) sort the list\n",
    "\n",
    "6) find the index of your instructor in the list\n",
    "\n",
    "7) delete your instructor from the list\n",
    "\n",
    "8) print the result"
   ]
  },
  {
   "cell_type": "code",
   "execution_count": null,
   "metadata": {},
   "outputs": [],
   "source": []
  },
  {
   "cell_type": "markdown",
   "metadata": {},
   "source": [
    "## Part 2:\n",
    "\n",
    "1) Create an empty dictionary and call it stat5606.\n",
    "\n",
    "2) add the following information from the syllabus using the corresponding keys:\n",
    "    - name of the course \n",
    "    - instructor's name\n",
    "    - TA's name\n",
    "    - time of our meetings \n",
    "    - room\n",
    "    \n",
    "3) create similar dictionary for some other course you are taking at Temple\n",
    "\n",
    "4) create a new empty dictionary and call it \"courses\"\n",
    "\n",
    "5) add information about your courses to this new dictionary\n",
    "    - use short names of the course as a key, such as \"stat5606\"\n",
    "    - as a result you should get a nested structure (dictionary of dictionaries)\n",
    "    \n",
    "6) use dictionary from 5) to print the time of our classes"
   ]
  },
  {
   "cell_type": "code",
   "execution_count": null,
   "metadata": {},
   "outputs": [],
   "source": [
    "\n"
   ]
  }
 ],
 "metadata": {
  "kernelspec": {
   "display_name": "Python 3",
   "language": "python",
   "name": "python3"
  },
  "language_info": {
   "codemirror_mode": {
    "name": "ipython",
    "version": 3
   },
   "file_extension": ".py",
   "mimetype": "text/x-python",
   "name": "python",
   "nbconvert_exporter": "python",
   "pygments_lexer": "ipython3",
   "version": "3.6.1"
  }
 },
 "nbformat": 4,
 "nbformat_minor": 2
}
