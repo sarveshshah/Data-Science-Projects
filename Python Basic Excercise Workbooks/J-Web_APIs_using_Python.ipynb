{
 "cells": [
  {
   "cell_type": "markdown",
   "metadata": {},
   "source": [
    "## Interacting with Web APIs\n",
    "\n",
    "`Application program interface (API)` is a set of routines, protocols, and tools for building software applications. An API specifies how software components should interact.\n",
    "\n",
    "In this class we study how to use `Python` to issue requests against web services."
   ]
  },
  {
   "cell_type": "code",
   "execution_count": null,
   "metadata": {
    "collapsed": true
   },
   "outputs": [],
   "source": [
    "# We first import the requests library\n",
    "import requests\n",
    "\n",
    "url = 'https://api.ipify.org?format=json'\n",
    "\n",
    "resp = requests.get(url)"
   ]
  },
  {
   "cell_type": "code",
   "execution_count": null,
   "metadata": {},
   "outputs": [],
   "source": [
    "# Let's see the content of the response\n",
    "# As you can see, it contain the JSON response\n",
    "resp.text"
   ]
  },
  {
   "cell_type": "code",
   "execution_count": null,
   "metadata": {
    "collapsed": true
   },
   "outputs": [],
   "source": [
    "# We want to transform the JSON file into a Python dictionary object\n",
    "# For that we will use the json library\n",
    "import json\n",
    "\n",
    "# The loads (LOADS = LOAD from String) function reads a string that represents a JSON file\n",
    "data = json.loads(resp.text)"
   ]
  },
  {
   "cell_type": "code",
   "execution_count": null,
   "metadata": {},
   "outputs": [],
   "source": [
    "# Now data is a Python dictionary\n",
    "# The u'....' characters mean that the string is represented in Unicode\n",
    "data"
   ]
  },
  {
   "cell_type": "code",
   "execution_count": null,
   "metadata": {},
   "outputs": [],
   "source": [
    "my_ip = data['ip']\n",
    "print(my_ip)"
   ]
  },
  {
   "cell_type": "code",
   "execution_count": null,
   "metadata": {},
   "outputs": [],
   "source": [
    "# Use another API to get information about the location based on IP\n",
    "url = 'http://api.ipstack.com/{}?access_key=004ff1bb45ac2404a025aff62e08786b'.format(my_ip)\n",
    "print(url)\n",
    "\n",
    "resp = requests.get(url)"
   ]
  },
  {
   "cell_type": "code",
   "execution_count": null,
   "metadata": {},
   "outputs": [],
   "source": [
    "resp.text"
   ]
  },
  {
   "cell_type": "code",
   "execution_count": null,
   "metadata": {
    "collapsed": true
   },
   "outputs": [],
   "source": [
    "my_info = json.loads(resp.text)"
   ]
  },
  {
   "cell_type": "code",
   "execution_count": null,
   "metadata": {},
   "outputs": [],
   "source": [
    "print(json.dumps(my_info, sort_keys=True, indent=4, separators=(',', ': ')))"
   ]
  },
  {
   "cell_type": "code",
   "execution_count": null,
   "metadata": {},
   "outputs": [],
   "source": [
    "# And we can access the fields of the JSON as we normally access Python dictionary entries\n",
    "print(\"Longitude:\", my_info[\"longitude\"], \"\\nLatitude:\", my_info[\"latitude\"], \"\\nZipcode:\", my_info[\"zip\"])"
   ]
  },
  {
   "cell_type": "markdown",
   "metadata": {},
   "source": [
    "### Poetry DB\n",
    "\n",
    "[poetrydb.org](http://poetrydb.org)"
   ]
  },
  {
   "cell_type": "code",
   "execution_count": null,
   "metadata": {},
   "outputs": [],
   "source": [
    "author = \"William Blake\"\n",
    "title = \"A Poison Tree\"\n",
    "url = \"https://thundercomb-poetry-db-v1.p.mashape.com/author,title/{0};{1}\".format(author,title)\n",
    "url = url.replace(' ','%20')\n",
    "message = \"Data Care Feeding and Cleaning is my favorite course!\"\n",
    "# These code snippets use an open-source library. http://unirest.io/python\n",
    "response = requests.get(url,\n",
    "  headers={\n",
    "    \"X-Mashape-Key\": \"9KK1bJiTPomshT326El963tZccwVp14EKDwjsn3qVNiV7JUdcp\",\n",
    "    \"Accept\": \"application/json\"\n",
    "  }\n",
    ")\n",
    "print(response.text)"
   ]
  },
  {
   "cell_type": "markdown",
   "metadata": {},
   "source": [
    "### Weather"
   ]
  },
  {
   "cell_type": "markdown",
   "metadata": {},
   "source": [
    "Now, let's use the OpenWeather API to get the weather details in our location.  \n",
    "(The details of the API calls are available at http://openweathermap.org/api.)"
   ]
  },
  {
   "cell_type": "code",
   "execution_count": null,
   "metadata": {},
   "outputs": [],
   "source": [
    "base_url = 'http://api.openweathermap.org/data/2.5/weather?'\n",
    "location = 'lat=35&lon=139'\n",
    "units = 'units=imperial'\n",
    "dataformat = 'mode=json'\n",
    "appid = 'appid=ffb7b9808e07c9135bdcc7d1e867253d'\n",
    "weather_url = base_url + location  +'&'+ units +'&'+ dataformat +'&'+ appid\n",
    "print(weather_url)\n",
    "weather = requests.get(weather_url)\n",
    "print(weather.text)"
   ]
  },
  {
   "cell_type": "markdown",
   "metadata": {},
   "source": [
    "### Exercisie\n",
    "\n",
    "1) Get the weather in your current location (based on your ip)  \n",
    "2) Get the weather in London usung metric system in json format and print the temperature and the weather description"
   ]
  },
  {
   "cell_type": "code",
   "execution_count": null,
   "metadata": {
    "collapsed": true
   },
   "outputs": [],
   "source": [
    "# your code is here\n"
   ]
  },
  {
   "cell_type": "markdown",
   "metadata": {},
   "source": [
    "## useful APIs\n",
    "\n",
    "The following websites contain listing of many useful APIs\n",
    "\n",
    "* https://market.mashape.com\n",
    "* http://www.programmableweb.com/\n",
    "* http://www.mashery.com/\n",
    "* http://apigee.com/ \n",
    "\n",
    "Mashape is my own personal favorite in terms of user-friendliness and also has examples directly expressed using Python. but the others are pretty nice as well. Your should search through these websites and find a web API that does something that you like. "
   ]
  },
  {
   "cell_type": "code",
   "execution_count": null,
   "metadata": {
    "collapsed": true
   },
   "outputs": [],
   "source": []
  }
 ],
 "metadata": {
  "anaconda-cloud": {},
  "kernelspec": {
   "display_name": "Python 3",
   "language": "python",
   "name": "python3"
  },
  "language_info": {
   "codemirror_mode": {
    "name": "ipython",
    "version": 3
   },
   "file_extension": ".py",
   "mimetype": "text/x-python",
   "name": "python",
   "nbconvert_exporter": "python",
   "pygments_lexer": "ipython3",
   "version": "3.6.1"
  }
 },
 "nbformat": 4,
 "nbformat_minor": 1
}
