{
 "cells": [
  {
   "cell_type": "markdown",
   "metadata": {},
   "source": [
    "Use `sakila` database to get the dictionary {country_name:list_of_cities}\n",
    "\n",
    "HINT: Create SQL query to get (city, country) pairs. Iterate through this list of pairs to create the dictionary {country_name:list_of_cities}\n",
    "\n",
    "HINT 2: Don't forget to import corresponding library!!!"
   ]
  },
  {
   "cell_type": "code",
   "execution_count": 1,
   "metadata": {},
   "outputs": [
    {
     "name": "stdout",
     "output_type": "stream",
     "text": [
      "{'Afghanistan': ['Kabul'], 'Algeria': ['Batna', 'Bchar', 'Skikda'], 'American Samoa': ['Tafuna'], 'Angola': ['Benguela', 'Namibe'], 'Anguilla': ['South Hill'], 'Argentina': ['Almirante Brown', 'Avellaneda', 'Baha Blanca', 'Crdoba', 'Escobar', 'Ezeiza', 'La Plata', 'Merlo', 'Quilmes', 'San Miguel de Tucumn', 'Santa F', 'Tandil', 'Vicente Lpez'], 'Armenia': ['Yerevan'], 'Australia': ['Woodridge'], 'Austria': ['Graz', 'Linz', 'Salzburg'], 'Azerbaijan': ['Baku', 'Sumqayit'], 'Bahrain': ['al-Manama'], 'Bangladesh': ['Dhaka', 'Jamalpur', 'Tangail'], 'Belarus': ['Mogiljov', 'Molodetno'], 'Bolivia': ['El Alto', 'Sucre'], 'Brazil': ['Alvorada', 'Angra dos Reis', 'Anpolis', 'Aparecida de Goinia', 'Araatuba', 'Bag', 'Belm', 'Blumenau', 'Boa Vista', 'Braslia', 'Goinia', 'Guaruj', 'guas Lindas de Gois', 'Ibirit', 'Juazeiro do Norte', 'Juiz de Fora', 'Luzinia', 'Maring', 'Po', 'Poos de Caldas', 'Rio Claro', 'Santa Brbara dOeste', 'Santo Andr', 'So Bernardo do Campo', 'So Leopoldo', 'Sorocaba', 'Vila Velha', 'Vitria de Santo Anto'], 'Brunei': ['Bandar Seri Begawan'], 'Bulgaria': ['Ruse', 'Stara Zagora'], 'Cambodia': ['Battambang', 'Phnom Penh'], 'Cameroon': ['Bamenda', 'Yaound'], 'Canada': ['Gatineau', 'Halifax', 'Lethbridge', 'London', 'Oshawa', 'Richmond Hill', 'Vancouver'], 'Chad': ['NDjamna'], 'Chile': ['Antofagasta', 'Coquimbo', 'Rancagua'], 'China': ['Baicheng', 'Baiyin', 'Binzhou', 'Changzhou', 'Datong', 'Daxian', 'Dongying', 'Emeishan', 'Enshi', 'Ezhou', 'Fuyu', 'Fuzhou', 'Haining', 'Hami', 'Hohhot', 'Huaian', 'Jinchang', 'Jining', 'Jinzhou', 'Junan', 'Korla', 'Laiwu', 'Laohekou', 'Lengshuijiang', 'Leshan', 'Liaocheng', 'Meixian', 'Nanyang', 'Pingxiang', 'Qinhuangdao', 'Rizhao', 'Sanya', 'Shanwei', 'Shaoguan', 'Shenzhen', 'Suihua', 'Tianjin', 'Tiefa', 'Tieli', 'Tongliao', 'Weifang', 'Xiangfan', 'Xiangtan', 'Xintai', 'Xinxiang', 'Yantai', 'Yinchuan', 'Yingkou', 'Yuncheng', 'Yuzhou', 'Zalantun', 'Zaoyang', 'Zhoushan'], 'Colombia': ['Buenaventura', 'Dos Quebradas', 'Florencia', 'Pereira', 'Sincelejo', 'Sogamoso'], 'Congo, The Democratic Republic of the': ['Lubumbashi', 'Mwene-Ditu'], 'Czech Republic': ['Olomouc'], 'Dominican Republic': ['La Romana', 'San Felipe de Puerto Plata', 'Santiago de los Caballeros'], 'Ecuador': ['Loja', 'Portoviejo', 'Robamba'], 'Egypt': ['Bilbays', 'Idfu', 'Mit Ghamr', 'Qalyub', 'Sawhaj', 'Shubra al-Khayma'], 'Estonia': ['Tartu'], 'Ethiopia': ['Addis Abeba'], 'Faroe Islands': ['Trshavn'], 'Finland': ['Oulu'], 'France': ['Brest', 'Le Mans', 'Toulon', 'Toulouse'], 'French Guiana': ['Cayenne'], 'French Polynesia': ['Faaa', 'Papeete'], 'Gambia': ['Banjul'], 'Germany': ['Duisburg', 'Erlangen', 'Halle/Saale', 'Mannheim', 'Saarbrcken', 'Siegen', 'Witten'], 'Greece': ['Athenai', 'Patras'], 'Greenland': ['Nuuk'], 'Holy See (Vatican City State)': ['Citt del Vaticano'], 'Hong Kong': ['Kowloon and New Kowloon'], 'Hungary': ['Szkesfehrvr'], 'India': ['Adoni', 'Ahmadnagar', 'Allappuzha (Alleppey)', 'Ambattur', 'Amroha', 'Balurghat', 'Berhampore (Baharampur)', 'Bhavnagar', 'Bhilwara', 'Bhimavaram', 'Bhopal', 'Bhusawal', 'Bijapur', 'Chandrapur', 'Chapra', 'Dhule (Dhulia)', 'Etawah', 'Firozabad', 'Gandhinagar', 'Gulbarga', 'Haldia', 'Halisahar', 'Hoshiarpur', 'Hubli-Dharwad', 'Jaipur', 'Jhansi', 'Jodhpur', 'Kamarhati', 'Kanchrapara', 'Karnal', 'Katihar', 'Kumbakonam', 'Miraj', 'Munger (Monghyr)', 'Mysore', 'Nagaon', 'Palghat (Palakkad)', 'Parbhani', 'Pathankot', 'Patiala', 'Pudukkottai', 'Pune', 'Purnea (Purnia)', 'Rae Bareli', 'Rajkot', 'Rampur', 'Ranchi', 'Sambhal', 'Satna', 'Shimoga', 'Shivapuri', 'Siliguri (Shiliguri)', 'Tambaram', 'Udaipur', 'Uluberia', 'Uttarpara-Kotrung', 'Valparai', 'Varanasi (Benares)', 'Vijayawada', 'Yamuna Nagar'], 'Indonesia': ['Cianjur', 'Ciomas', 'Ciparay', 'Gorontalo', 'Jakarta', 'Lhokseumawe', 'Madiun', 'Pangkal Pinang', 'Pemalang', 'Pontianak', 'Probolinggo', 'Purwakarta', 'Surakarta', 'Tegal'], 'Iran': ['Arak', 'Esfahan', 'Kermanshah', 'Najafabad', 'Qomsheh', 'Shahr-e Kord', 'Sirjan', 'Tabriz'], 'Iraq': ['Mosul'], 'Israel': ['Ashdod', 'Ashqelon', 'Bat Yam', 'Tel Aviv-Jaffa'], 'Italy': ['Alessandria', 'Bergamo', 'Brescia', 'Brindisi', 'Livorno', 'Syrakusa', 'Udine'], 'Japan': ['Akishima', 'Fukuyama', 'Higashiosaka', 'Hino', 'Hiroshima', 'Isesaki', 'Iwaki', 'Iwakuni', 'Iwatsuki', 'Izumisano', 'Kakamigahara', 'Kamakura', 'Kanazawa', 'Koriyama', 'Kurashiki', 'Kuwana', 'Matsue', 'Miyakonojo', 'Nagareyama', 'Okayama', 'Okinawa', 'Omiya', 'Onomichi', 'Otsu', 'Sagamihara', 'Sasebo', 'Shimonoseki', 'Tama', 'Tsuyama', 'Ueda', 'Urawa'], 'Kazakstan': ['Pavlodar', 'Zhezqazghan'], 'Kenya': ['Kisumu', 'Nyeri'], 'Kuwait': ['Jalib al-Shuyukh'], 'Latvia': ['Daugavpils', 'Liepaja'], 'Liechtenstein': ['Vaduz'], 'Lithuania': ['Vilnius'], 'Madagascar': ['Mahajanga'], 'Malawi': ['Lilongwe'], 'Malaysia': ['Ipoh', 'Kuching', 'Sungai Petani'], 'Mexico': ['Acua', 'Allende', 'Atlixco', 'Carmen', 'Celaya', 'Coacalco de Berriozbal', 'Coatzacoalcos', 'Cuauhtmoc', 'Cuautla', 'Cuernavaca', 'El Fuerte', 'Guadalajara', 'Hidalgo', 'Huejutla de Reyes', 'Huixquilucan', 'Jos Azueta', 'Jurez', 'La Paz', 'Matamoros', 'Mexicali', 'Monclova', 'Nezahualcyotl', 'Pachuca de Soto', 'Salamanca', 'San Felipe del Progreso', 'San Juan Bautista Tuxtepec', 'Torren', 'Uruapan', 'Valle de Santiago', 'Zapopan'], 'Moldova': ['Chisinau'], 'Morocco': ['Beni-Mellal', 'Nador', 'Sal'], 'Mozambique': ['Beira', 'Naala-Porto', 'Tete'], 'Myanmar': ['Monywa', 'Myingyan'], 'Nauru': ['Yangor'], 'Nepal': ['Birgunj'], 'Netherlands': ['Amersfoort', 'Apeldoorn', 'Ede', 'Emmen', 's-Hertogenbosch'], 'New Zealand': ['Hamilton'], 'Nigeria': ['Benin City', 'Deba Habe', 'Effon-Alaiye', 'Ife', 'Ikerre', 'Ilorin', 'Kaduna', 'Ogbomosho', 'Ondo', 'Owo', 'Oyo', 'Sokoto', 'Zaria'], 'North Korea': ['Pyongyang'], 'Oman': ['Masqat', 'Salala'], 'Pakistan': ['Dadu', 'Mandi Bahauddin', 'Mardan', 'Okara', 'Shikarpur'], 'Paraguay': ['Asuncin', 'Ciudad del Este', 'San Lorenzo'], 'Peru': ['Callao', 'Hunuco', 'Lima', 'Sullana'], 'Philippines': ['Baybay', 'Bayugan', 'Bislig', 'Cabuyao', 'Cavite', 'Davao', 'Gingoog', 'Hagonoy', 'Iligan', 'Imus', 'Lapu-Lapu', 'Mandaluyong', 'Ozamis', 'Santa Rosa', 'Taguig', 'Talavera', 'Tanauan', 'Tanza', 'Tarlac', 'Tuguegarao'], 'Poland': ['Bydgoszcz', 'Czestochowa', 'Jastrzebie-Zdrj', 'Kalisz', 'Lublin', 'Plock', 'Tychy', 'Wroclaw'], 'Puerto Rico': ['Arecibo', 'Ponce'], 'Romania': ['Botosani', 'Bucuresti'], 'Runion': ['Saint-Denis'], 'Russian Federation': ['Atinsk', 'Balaiha', 'Dzerzinsk', 'Elista', 'Ivanovo', 'Jaroslavl', 'Jelets', 'Kaliningrad', 'Kamyin', 'Kirovo-Tepetsk', 'Kolpino', 'Korolev', 'Kurgan', 'Kursk', 'Lipetsk', 'Ljubertsy', 'Maikop', 'Moscow', 'Nabereznyje Telny', 'Niznekamsk', 'Novoterkassk', 'Pjatigorsk', 'Serpuhov', 'Smolensk', 'Syktyvkar', 'Teboksary', 'Usolje-Sibirskoje', 'Zeleznogorsk'], 'Saint Vincent and the Grenadines': ['Kingstown'], 'Saudi Arabia': ['Abha', 'al-Hawiya', 'al-Qatif', 'Jedda', 'Tabuk'], 'Senegal': ['Ziguinchor'], 'Slovakia': ['Bratislava'], 'South Africa': ['Boksburg', 'Botshabelo', 'Chatsworth', 'Johannesburg', 'Kimberley', 'Klerksdorp', 'Newcastle', 'Paarl', 'Rustenburg', 'Soshanguve', 'Springs'], 'South Korea': ['Cheju', 'Kimchon', 'Naju', 'Tonghae', 'Uijongbu'], 'Spain': ['A Corua (La Corua)', 'Donostia-San Sebastin', 'Gijn', 'Ourense (Orense)', 'Santiago de Compostela'], 'Sri Lanka': ['Jaffna'], 'Sudan': ['al-Qadarif', 'Omdurman'], 'Sweden': ['Malm'], 'Switzerland': ['Basel', 'Bern', 'Lausanne'], 'Taiwan': ['Changhwa', 'Chiayi', 'Chungho', 'Fengshan', 'Hsichuh', 'Lungtan', 'Nantou', 'Tanshui', 'Touliu', 'Tsaotun'], 'Tanzania': ['Mwanza', 'Tabora', 'Zanzibar'], 'Thailand': ['Nakhon Sawan', 'Pak Kret', 'Songkhla'], 'Tonga': ['Nukualofa'], 'Tunisia': ['Sousse'], 'Turkey': ['Adana', 'Balikesir', 'Batman', 'Denizli', 'Eskisehir', 'Gaziantep', 'Inegl', 'Kilis', 'Ktahya', 'Osmaniye', 'Sivas', 'Sultanbeyli', 'Tarsus', 'Tokat', 'Usak'], 'Turkmenistan': ['Ashgabat'], 'Tuvalu': ['Funafuti'], 'Ukraine': ['Kamjanets-Podilskyi', 'Konotop', 'Mukateve', 'ostka', 'Simferopol', 'Sumy'], 'United Arab Emirates': ['Abu Dhabi', 'al-Ayn', 'Sharja'], 'United Kingdom': ['Bradford', 'Dundee', 'London', 'Southampton', 'Southend-on-Sea', 'Southport', 'Stockport', 'York'], 'United States': ['Akron', 'Arlington', 'Augusta-Richmond County', 'Aurora', 'Bellevue', 'Brockton', 'Cape Coral', 'Citrus Heights', 'Clarksville', 'Compton', 'Dallas', 'Dayton', 'El Monte', 'Fontana', 'Garden Grove', 'Garland', 'Grand Prairie', 'Greensboro', 'Joliet', 'Kansas City', 'Lancaster', 'Laredo', 'Lincoln', 'Manchester', 'Memphis', 'Peoria', 'Roanoke', 'Rockford', 'Saint Louis', 'Salinas', 'San Bernardino', 'Sterling Heights', 'Sunnyvale', 'Tallahassee', 'Warren'], 'Venezuela': ['Barcelona', 'Caracas', 'Cuman', 'Maracabo', 'Ocumare del Tuy', 'Valencia', 'Valle de la Pascua'], 'Vietnam': ['Cam Ranh', 'Haiphong', 'Hanoi', 'Nam Dinh', 'Nha Trang', 'Vinh'], 'Virgin Islands, U.S.': ['Charlotte Amalie'], 'Yemen': ['Aden', 'Hodeida', 'Sanaa', 'Taizz'], 'Yugoslavia': ['Kragujevac', 'Novi Sad'], 'Zambia': ['Kitwe']}\n"
     ]
    }
   ],
   "source": [
    "# your code is here\n",
    "# Your code is here\n",
    "import pymysql\n",
    "\n",
    "host = 'localhost'\n",
    "username = 'root'\n",
    "password = ''\n",
    "database = 'sakila'\n",
    "\n",
    "connection = pymysql.connect(host, username, password, database,\n",
    "                             charset='utf8', use_unicode=True);\n",
    "\n",
    "sql_query = '''\n",
    "SELECT country, city\n",
    "FROM city\n",
    "    JOIN country\n",
    "        ON country.country_id = city.country_id'''\n",
    "\n",
    "with connection:\n",
    "    cursor = connection.cursor()\n",
    "    cursor.execute(sql_query)\n",
    "    results = cursor.fetchall()\n",
    "\n",
    "country_dict = {}\n",
    "for pair in results:\n",
    "    country = pair[0]\n",
    "    city = pair[1]\n",
    "    if country not in country_dict:\n",
    "        country_dict[country] = [city]\n",
    "    else:\n",
    "        country_dict[country].append(city)\n",
    "        \n",
    "print(country_dict)"
   ]
  },
  {
   "cell_type": "code",
   "execution_count": null,
   "metadata": {
    "collapsed": true
   },
   "outputs": [],
   "source": []
  }
 ],
 "metadata": {
  "kernelspec": {
   "display_name": "Python 3",
   "language": "python",
   "name": "python3"
  },
  "language_info": {
   "codemirror_mode": {
    "name": "ipython",
    "version": 3
   },
   "file_extension": ".py",
   "mimetype": "text/x-python",
   "name": "python",
   "nbconvert_exporter": "python",
   "pygments_lexer": "ipython3",
   "version": "3.6.1"
  }
 },
 "nbformat": 4,
 "nbformat_minor": 2
}
