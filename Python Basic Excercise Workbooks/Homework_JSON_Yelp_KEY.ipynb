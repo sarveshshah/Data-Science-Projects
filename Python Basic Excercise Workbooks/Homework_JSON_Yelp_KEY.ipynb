{
 "cells": [
  {
   "cell_type": "markdown",
   "metadata": {},
   "source": [
    "# Homework JSON"
   ]
  },
  {
   "cell_type": "markdown",
   "metadata": {},
   "source": [
    "Reproduce the analysis of the Yelp dataset from I_JSON notebook to calculate the average star ratings for each of the business categories. \n",
    "\n",
    "As a result, you shopuld create a dictionary that for the key \"category_name\" has the value of its average rating.\n",
    "\n",
    "HINT:\n",
    "- iterate over businesses and append ratings for the list of ratings pertaining to the category\n",
    "- calculate the average rating based on the list of ratings for the category \n",
    "```python\n",
    "average_rating = sum(ratings)/len(ratings)\n",
    "```"
   ]
  },
  {
   "cell_type": "code",
   "execution_count": 3,
   "metadata": {
    "collapsed": true
   },
   "outputs": [],
   "source": [
    "# your code is here\n",
    "import json"
   ]
  },
  {
   "cell_type": "markdown",
   "metadata": {},
   "source": [
    "## Yelp Example"
   ]
  },
  {
   "cell_type": "markdown",
   "metadata": {},
   "source": [
    "We use `Yelp` data from [https://www.yelp.com/dataset_challenge/dataset](https://www.yelp.com/dataset_challenge/dataset)\n",
    "\n",
    "Load data from `yelp_business.json` file and \n",
    "\n",
    "- identify the set of categories of businesses\n",
    "- indentify the most popular category"
   ]
  },
  {
   "cell_type": "code",
   "execution_count": 4,
   "metadata": {},
   "outputs": [
    {
     "name": "stdout",
     "output_type": "stream",
     "text": [
      "{\"business_id\": \"5UmKMjUEUNdYWqANhGckJw\", \"full_address\": \"4734 Lebanon Church Rd\\nDravosburg, PA 15034\", \"hours\": {\"Friday\": {\"close\": \"21:00\", \"open\": \"11:00\"}, \"Tuesday\": {\"close\": \"21:00\", \"open\": \"11:00\"}, \"Thursday\": {\"close\": \"21:00\", \"open\": \"11:00\"}, \"Wednesday\": {\"close\": \"21:00\", \"open\": \"11:00\"}, \"Monday\": {\"close\": \"21:00\", \"open\": \"11:00\"}}, \"open\": true, \"categories\": [\"Fast Food\", \"Restaurants\"], \"city\": \"Dravosburg\", \"review_count\": 4, \"name\": \"Mr Hoagie\", \"neighborhoods\": [], \"longitude\": -79.9007057, \"state\": \"PA\", \"stars\": 4.5, \"latitude\": 40.3543266, \"attributes\": {\"Take-out\": true, \"Drive-Thru\": false, \"Good For\": {\"dessert\": false, \"latenight\": false, \"lunch\": false, \"dinner\": false, \"brunch\": false, \"breakfast\": false}, \"Caters\": false, \"Noise Level\": \"average\", \"Takes Reservations\": false, \"Delivery\": false, \"Ambience\": {\"romantic\": false, \"intimate\": false, \"classy\": false, \"hipster\": false, \"divey\": false, \"touristy\": false, \"trendy\": false, \"upscale\": false, \"casual\": false}, \"Parking\": {\"garage\": false, \"street\": false, \"validated\": false, \"lot\": false, \"valet\": false}, \"Has TV\": false, \"Outdoor Seating\": false, \"Attire\": \"casual\", \"Alcohol\": \"none\", \"Waiter Service\": false, \"Accepts Credit Cards\": true, \"Good for Kids\": true, \"Good For Groups\": true, \"Price Range\": 1}, \"type\": \"business\"}\n"
     ]
    }
   ],
   "source": [
    "with open('data/yelp_business.json','r') as yelp_file:\n",
    "    #load data and split by lines\n",
    "    bus_info = yelp_file.read().split('\\n')\n",
    "print(bus_info[0])"
   ]
  },
  {
   "cell_type": "code",
   "execution_count": 5,
   "metadata": {},
   "outputs": [
    {
     "name": "stdout",
     "output_type": "stream",
     "text": [
      "{'Fast Food': 2.6714285714285713, 'Restaurants': 3.404312668463612, 'Nightlife': 3.3855421686746987, 'Auto Repair': 3.3703703703703702, 'Automotive': 3.3545454545454545, 'Active Life': 3.6785714285714284, 'Mini Golf': 3.25, 'Golf': 2.5, 'Shopping': 3.521604938271605, 'Home Services': 3.0454545454545454, 'Internet Service Providers': 1.6666666666666667, 'Mobile Phones': 2.5, 'Professional Services': 2.2, 'Electronics': 2.5, 'Bars': 3.38, 'American (New)': 3.3035714285714284, 'Lounges': 3.7857142857142856, 'Trainers': 3.0, 'Fitness & Instruction': 3.375, 'American (Traditional)': 3.3833333333333333, 'Tires': 2.5, 'Contractors': 2.5, 'Veterinarians': 4.0, 'Pets': 4.2368421052631575, 'Libraries': 4.75, 'Public Services & Government': 4.045454545454546, 'Auto Parts & Supplies': 3.5, 'Burgers': 2.6818181818181817, 'Breakfast & Brunch': 3.933333333333333, 'Food': 3.754166666666667, 'Grocery': 3.6363636363636362, 'Local Services': 3.81, 'Dry Cleaning & Laundry': 3.090909090909091, 'Sewing & Alterations': 3.95, 'Gas & Service Stations': 2.875, 'Sandwiches': 3.65, 'Cafes': 4.0, 'Hotels & Travel': 3.2386363636363638, 'Event Planning & Services': 3.5, 'Hotels': 3.3125, 'Pubs': 3.5555555555555554, 'Irish': 3.1666666666666665, 'Body Shops': 4.0, 'Health & Medical': 3.7567567567567566, 'Dentists': 3.892857142857143, 'General Dentistry': 3.772727272727273, 'Chinese': 3.176470588235294, 'Gyms': 3.5833333333333335, 'Italian': 3.4, 'Comfort Food': 3.3333333333333335, 'Caterers': 3.727272727272727, 'Pizza': 3.4365079365079363, 'Coffee & Tea': 3.8392857142857144, 'Arts & Crafts': 3.6, 'Knitting Supplies': 3.0, 'Hobby Shops': 3.0, 'Gift Shops': 4.083333333333333, 'Flowers & Gifts': 3.96875, 'Home Decor': 2.8, 'Home & Garden': 3.55, 'Department Stores': 3.4583333333333335, 'Fashion': 3.371794871794872, 'Building Supplies': 3.5, 'Hardware Stores': 3.7857142857142856, 'Nurseries & Gardening': 3.5833333333333335, 'Arts & Entertainment': 3.9558823529411766, 'Arcades': 2.5, 'Pet Services': 4.4375, 'Pet Boarding/Pet Sitting': 4.4, 'Breweries': 3.5, 'Comedy Clubs': 3.0, 'Books, Mags, Music & Video': 3.95, 'Bookstores': 3.857142857142857, 'Swimming Pools': 3.6, 'Mattresses': 3.8333333333333335, 'Airport Shuttles': 3.75, 'Limos': 3.75, 'Transportation': 3.0, 'Gluten-Free': 3.0, 'Cosmetics & Beauty Supply': 3.25, 'Beauty & Spas': 3.6346153846153846, 'Lingerie': 2.5, \"Women's Clothing\": 3.6818181818181817, 'Shoe Stores': 3.7, 'Asian Fusion': 3.5, 'Soup': 3.3333333333333335, 'Salad': 3.3333333333333335, \"Men's Clothing\": 3.2142857142857144, 'Formal Wear': 2.6666666666666665, 'Diners': 4.05, 'Discount Store': 3.0, 'Seafood': 2.9642857142857144, \"Children's Clothing\": 3.0, 'Sporting Goods': 3.7083333333333335, 'Sports Wear': 2.75, 'Bikes': 4.666666666666667, 'Bakeries': 3.9523809523809526, 'Desserts': 4.5, 'Tattoo': 3.5, 'Piercing': 3.5, 'Sports Bars': 3.1153846153846154, 'Japanese': 3.8333333333333335, 'Specialty Food': 4.041666666666667, 'Meat Shops': 4.5, 'Florists': 4.0625, 'Oil Change Stations': 2.8125, 'Nail Salons': 3.3214285714285716, 'Hair Salons': 3.76, 'Car Dealers': 3.5, 'Thrift Stores': 3.25, 'Ice Cream & Frozen Yogurt': 3.8636363636363638, 'Beer, Wine & Spirits': 4.0, 'Pet Groomers': 4.5, 'Tapas/Small Plates': 3.0, 'Barbers': 4.277777777777778, 'Drugstores': 3.0, 'Animal Shelters': 4.0, 'Real Estate Services': 3.0, 'Real Estate': 2.5, 'Barbeque': 3.375, 'Furniture Stores': 3.111111111111111, 'Pet Stores': 4.625, 'Chiropractors': 4.875, 'Performing Arts': 4.4375, 'Keys & Locksmiths': 5.0, 'Security Systems': 2.5, 'Property Management': 2.625, 'Apartments': 2.1666666666666665, 'Specialty Schools': 4.5, 'Education': 4.3, 'Cooking Schools': 4.5, 'Travel Services': 3.0, 'Music Venues': 4.0, 'Appliances': 3.0, 'Art Schools': 4.5, 'Churches': 4.25, 'Religious Organizations': 4.25, 'Shoe Repair': 4.416666666666667, 'Optometrists': 3.227272727272727, 'Party & Event Planning': 4.333333333333333, 'Transmission Repair': 4.5, 'Tennis': 4.5, 'Mediterranean': 3.6666666666666665, 'Wine Bars': 3.75, 'Vegetarian': 4.25, 'Health Markets': 4.25, 'Recycling Center': 4.5, 'Climbing': 3.5, 'Rock Climbing': 3.5, 'Portuguese': 4.0, 'Museums': 4.0, 'Landmarks & Historical Buildings': 4.25, 'Appliances & Repair': 3.5, 'Skin Care': 3.0, 'Banks & Credit Unions': 4.0, 'Financial Services': 4.0, 'Motorcycle Dealers': 2.0, 'Computers': 2.5, 'Office Equipment': 2.8333333333333335, 'Photography Stores & Services': 3.0, 'German': 4.333333333333333, 'Delis': 3.625, 'Bed & Breakfast': 3.8333333333333335, 'Notaries': 4.5, 'Dive Bars': 3.3, 'Cinema': 3.6666666666666665, 'Chicken Wings': 3.0, 'Leisure Centers': 4.5, 'Hot Dogs': 4.0, 'Educational Services': 5.0, 'Kids Activities': 5.0, 'Cultural Center': 5.0, 'Professional Sports Teams': 3.8, 'Stadiums & Arenas': 4.0, 'Polish': 3.5, 'Greek': 3.5833333333333335, 'Music & DVDs': 3.8333333333333335, 'Videos & Video Game Rental': 3.5, 'Reflexology': 4.0, 'Reiki': 4.0, 'DJs': 4.0, 'Hair Extensions': 3.75, 'Sushi Bars': 3.4375, 'Pool Halls': 4.0, 'Lighting Fixtures & Equipment': 2.5, 'Heating & Air Conditioning/HVAC': 3.8, 'Pediatric Dentists': 5.0, 'Cosmetic Dentists': 5.0, 'Indian': 3.5, 'Bowling': 3.6666666666666665, 'Printing Services': 3.5, 'Bridal': 3.25, 'Endodontists': 4.5, 'Used, Vintage & Consignment': 4.125, 'Mexican': 3.6666666666666665, 'Tex-Mex': 3.5, 'Beaches': 4.5, 'Day Spas': 4.0, 'Kitchen & Bath': 3.75, 'Battery Stores': 2.5, 'Bagels': 3.388888888888889, 'Tours': 4.0, 'Donuts': 4.5, 'Shopping Centers': 2.5, 'Venues & Event Spaces': 3.3125, 'Tapas Bars': 2.5, 'Cocktail Bars': 3.5, 'Ethnic Food': 4.25, 'Public Transportation': 2.25, 'Car Rental': 2.75, 'Wholesale Stores': 3.75, 'Middle Eastern': 3.5, 'Hair Removal': 4.25, 'Hair Stylists': 4.25, 'Art Galleries': 3.8, 'Steakhouses': 3.5, 'Cafeteria': 4.0, 'Doctors': 2.7142857142857144, 'Ophthalmologists': 2.25, 'Eyewear & Opticians': 3.2, 'Cards & Stationery': 3.5, 'Gay Bars': 3.0, 'Community Service/Non-Profit': 4.5, 'Candy Stores': 3.0, 'Korean': 3.0, 'Print Media': 2.25, 'Mass Media': 2.25, 'Midwives': 4.5, 'Jewelry': 3.5833333333333335, 'Newspapers & Magazines': 4.5, 'Chocolatiers & Shops': 3.5, 'Massage': 3.5, 'Carpet Cleaning': 5.0, 'Carpeting': 5.0, 'Rugs': 5.0, 'Opera & Ballet': 4.5, 'Car Wash': 3.5, 'Party Supplies': 4.5, 'Souvenir Shops': 4.5, 'Train Stations': 2.5, 'Furniture Reupholstery': 5.0, 'Furniture Repair': 5.0, 'Fabric Stores': 5.0, 'Cheese Shops': 4.5, 'Karaoke': 2.5, 'Vietnamese': 3.6666666666666665, 'Thai': 3.1666666666666665, 'Vinyl Records': 5.0, 'Tanning': 3.5, 'Home Inspectors': 3.5, 'Musical Instruments & Teachers': 4.0, 'Tobacco Shops': 4.0, 'Jewelry Repair': 4.5, 'Acupuncture': 5.0, 'Traditional Chinese Medicine': 5.0, 'Hospitals': 3.0, 'Accessories': 3.25, 'Real Estate Agents': 4.0, 'Antiques': 4.0, \"Men's Hair Salons\": 3.5, 'Family Practice': 1.75, 'Tea Rooms': 4.5, 'Dermatologists': 2.5, 'Toy Stores': 3.625, 'Convenience Stores': 2.875, 'Watches': 3.5, 'Peruvian': 4.0, 'Latin American': 4.0, 'Shipping Centers': 3.75, 'Post Offices': 3.0, 'Creperies': 4.0, 'French': 3.8333333333333335, 'Orthodontists': 3.5, 'Skating Rinks': 3.0, 'Ski & Snowboard Shops': 3.5, 'Plumbing': 3.0, 'Windshield Installation & Repair': 3.5, 'Taiwanese': 3.0, 'Pet Training': 4.25, 'Luggage': 2.5, 'Guitar Stores': 4.5, 'Musical Instrument Services': 4.5, 'Do-It-Yourself Food': 4.5, 'Colleges & Universities': 3.75, 'Gun/Rifle Ranges': 2.5, 'Guns & Ammo': 2.5, 'Horseback Riding': 4.5, 'Parks': 4.5, 'Landscaping': 4.0, 'Festivals': 4.5, 'Local Flavor': 4.5, 'Amateur Sports Teams': 3.5, 'Carpet Installation': 5.0, 'Farmers Market': 3.0, 'Pediatricians': 2.5, 'Shades & Blinds': 4.0, 'Outdoor Gear': 3.0, 'Hot Tub & Pool': 2.5, 'Buffets': 3.0, 'Parking': 2.5, 'Southern': 3.625, 'Cajun/Creole': 4.5, 'Employment Agencies': 2.5, 'Amusement Parks': 3.0, 'Funeral Services & Cemeteries': 4.5, 'Recreation Centers': 4.0, 'Signmaking': 3.5, 'Television Service Providers': 1.5, 'Soul Food': 3.75, 'Adult Entertainment': 2.5, 'Cabaret': 2.5, 'Summer Camps': 4.0, 'Juice Bars & Smoothies': 4.0, 'Dance Clubs': 3.75}\n"
     ]
    }
   ],
   "source": [
    "# Let's find the most popular categories\n",
    "category_ratings = dict()\n",
    "for business in bus_info:\n",
    "    business_data = json.loads(business)\n",
    "    for category in business_data['categories']:\n",
    "        # check if category in the dict, otherwose add woth counter = 0\n",
    "        category_ratings[category] = category_ratings.get(category, [])\n",
    "        # increase counter\n",
    "        category_ratings[category].append(business_data['stars'])\n",
    "\n",
    "for category in category_ratings:\n",
    "    category_ratings[category] = sum(category_ratings[category])/len(category_ratings[category])\n",
    "print(category_ratings)"
   ]
  },
  {
   "cell_type": "code",
   "execution_count": null,
   "metadata": {
    "collapsed": true
   },
   "outputs": [],
   "source": [
    "category_list = [(category,round(value,2)) for (category,value) in category_ratings.items()]"
   ]
  },
  {
   "cell_type": "code",
   "execution_count": null,
   "metadata": {
    "collapsed": true
   },
   "outputs": [],
   "source": [
    "# sorts in place, in descending order, based on the second element of the tuple\n",
    "category_list.sort(key=lambda tupl: tupl[1], reverse=True)  "
   ]
  },
  {
   "cell_type": "code",
   "execution_count": null,
   "metadata": {},
   "outputs": [],
   "source": [
    "category_list"
   ]
  },
  {
   "cell_type": "code",
   "execution_count": null,
   "metadata": {
    "collapsed": true
   },
   "outputs": [],
   "source": []
  }
 ],
 "metadata": {
  "anaconda-cloud": {},
  "kernelspec": {
   "display_name": "Python 3",
   "language": "python",
   "name": "python3"
  },
  "language_info": {
   "codemirror_mode": {
    "name": "ipython",
    "version": 3
   },
   "file_extension": ".py",
   "mimetype": "text/x-python",
   "name": "python",
   "nbconvert_exporter": "python",
   "pygments_lexer": "ipython3",
   "version": "3.6.1"
  }
 },
 "nbformat": 4,
 "nbformat_minor": 1
}
