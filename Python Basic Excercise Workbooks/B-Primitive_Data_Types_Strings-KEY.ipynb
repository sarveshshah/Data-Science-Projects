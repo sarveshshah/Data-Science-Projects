{
 "cells": [
  {
   "cell_type": "markdown",
   "metadata": {},
   "source": [
    "Primitive Data Types\n",
    "--------------------\n",
    "\n",
    "These are the basic data types that constitute all of the more complex data structures in python. The basic data types are the following:\n",
    "\n",
    "* Strings (for text)\n",
    "* Numeric types (integers and decimals)\n",
    "* Booleans\n"
   ]
  },
  {
   "cell_type": "markdown",
   "metadata": {},
   "source": [
    "### String:\n",
    "\n",
    "String variables are used to store textual data, characters and sequences of characters. Can be specified by surrounding some text with single `'` or double `\"` quotes. "
   ]
  },
  {
   "cell_type": "code",
   "execution_count": 3,
   "metadata": {},
   "outputs": [
    {
     "name": "stdout",
     "output_type": "stream",
     "text": [
      "Hello World!\n",
      "Hello World!\n"
     ]
    }
   ],
   "source": [
    "str_1 = \"Hello World!\"\n",
    "print(str_1)\n",
    "\n",
    "str_1 = 'Hello World!'\n",
    "print(str_1)"
   ]
  },
  {
   "cell_type": "code",
   "execution_count": 4,
   "metadata": {},
   "outputs": [
    {
     "name": "stdout",
     "output_type": "stream",
     "text": [
      "Hello World!\n",
      "\n",
      "\n",
      "Hello World Twice!\n"
     ]
    }
   ],
   "source": [
    "# Notice that we end the strings below with the \\n character, \n",
    "# which is the \"new line\" special character\n",
    "str_2 = \"Hello World!\\n\\n\\nHello World Twice!\"\n",
    "print(str_2)"
   ]
  },
  {
   "cell_type": "code",
   "execution_count": 5,
   "metadata": {},
   "outputs": [
    {
     "name": "stdout",
     "output_type": "stream",
     "text": [
      "Hello\tWorld!\tWe\tare\tfar\taway\n",
      "\n"
     ]
    }
   ],
   "source": [
    "# Let's use the \\t character which is the special character for tab\n",
    "str_3 =\"Hello\\tWorld!\\tWe\\tare\\tfar\\taway\\n\"\n",
    "print(str_3)"
   ]
  },
  {
   "cell_type": "code",
   "execution_count": 6,
   "metadata": {},
   "outputs": [
    {
     "name": "stdout",
     "output_type": "stream",
     "text": [
      "I want to print backslash: \\\n"
     ]
    }
   ],
   "source": [
    "print(\"I want to print backslash: \\\\\")"
   ]
  },
  {
   "cell_type": "code",
   "execution_count": 7,
   "metadata": {},
   "outputs": [
    {
     "name": "stdout",
     "output_type": "stream",
     "text": [
      "This is a string within single quotes that can contain \"double quotes\" as part of the string\n",
      "\n"
     ]
    }
   ],
   "source": [
    "str_4 = 'This is a string within single quotes that can contain \"double quotes\" as part of the string\\n'\n",
    "print(str_4)"
   ]
  },
  {
   "cell_type": "code",
   "execution_count": 8,
   "metadata": {},
   "outputs": [
    {
     "name": "stdout",
     "output_type": "stream",
     "text": [
      "If we want to have 'single quotes' in single quoted string we should escape them\n",
      "\n"
     ]
    }
   ],
   "source": [
    "str_5 = 'If we want to have \\'single quotes\\' in single quoted string we should escape them\\n'\n",
    "print(str_5)"
   ]
  },
  {
   "cell_type": "code",
   "execution_count": 9,
   "metadata": {},
   "outputs": [
    {
     "name": "stdout",
     "output_type": "stream",
     "text": [
      "Similarly, if we want to have \"double quotes\" in double quoted string we should escape them\n",
      "\n"
     ]
    }
   ],
   "source": [
    "str_6 = \"Similarly, if we want to have \\\"double quotes\\\" in double quoted string we should escape them\\n\"\n",
    "print(str_6)"
   ]
  },
  {
   "cell_type": "code",
   "execution_count": 10,
   "metadata": {},
   "outputs": [
    {
     "name": "stdout",
     "output_type": "stream",
     "text": [
      "hello world!\n"
     ]
    }
   ],
   "source": [
    "str_7 = \"hello\"\n",
    "str_8 = \"world\"\n",
    "hello_world_message = str_7 + \" \" + str_8 + \"!\" \n",
    "print(hello_world_message) # note that + concatenates strings"
   ]
  },
  {
   "cell_type": "code",
   "execution_count": 11,
   "metadata": {},
   "outputs": [
    {
     "name": "stdout",
     "output_type": "stream",
     "text": [
      "\n",
      "If we want to have multiple lines in the string\n",
      "then we can use triple quotes: This is a multiline\n",
      "string!\n",
      "\n"
     ]
    }
   ],
   "source": [
    "str_9 = '''\n",
    "If we want to have multiple lines in the string\n",
    "then we can use triple quotes: This is a multiline\n",
    "string!\n",
    "'''\n",
    "print(str_9)"
   ]
  },
  {
   "cell_type": "code",
   "execution_count": 12,
   "metadata": {},
   "outputs": [
    {
     "name": "stdout",
     "output_type": "stream",
     "text": [
      "\n",
      "(CNN)AirAsia Flight QZ8501 climbed rapidly before it crashed, a top Indonesian official said Tuesday, according to The Jakarta Post.\n",
      "\n",
      "Then the plane stalled, Transportation Minister Ignasius Jonan said at a parliamentary hearing, according to the AFP and Reuters news agencies.\n",
      "\n",
      "\"The plane, during the last minutes, went up faster than normal speed ... after then, it stalled. That is according to the data from the radar,\" Jonan said, according to the news agencies.\n",
      "\n"
     ]
    }
   ],
   "source": [
    "# Triple quotes are useful for multiline pieces of text (e.g., newspaper articles)\n",
    "str_10 = \"\"\"\n",
    "(CNN)AirAsia Flight QZ8501 climbed rapidly before it crashed, a top Indonesian official said Tuesday, according to The Jakarta Post.\n",
    "\n",
    "Then the plane stalled, Transportation Minister Ignasius Jonan said at a parliamentary hearing, according to the AFP and Reuters news agencies.\n",
    "\n",
    "\"The plane, during the last minutes, went up faster than normal speed ... after then, it stalled. That is according to the data from the radar,\" Jonan said, according to the news agencies.\n",
    "\"\"\"\n",
    "print(str_10)"
   ]
  },
  {
   "cell_type": "markdown",
   "metadata": {},
   "source": [
    "#### \"Raw\" strings\n",
    "\n",
    "Prefix strings with `r` to indicate a `raw` string, where there are no escape characters like \\t, \\n etc. These will be handy when entering regular expressions."
   ]
  },
  {
   "cell_type": "code",
   "execution_count": 13,
   "metadata": {},
   "outputs": [
    {
     "name": "stdout",
     "output_type": "stream",
     "text": [
      "e.g., type C:\teaching\\ instead of C:\\teaching\\)\n"
     ]
    }
   ],
   "source": [
    "print(\"e.g., type C:\\teaching\\ instead of C:\\\\teaching\\\\)\")"
   ]
  },
  {
   "cell_type": "code",
   "execution_count": 14,
   "metadata": {},
   "outputs": [
    {
     "name": "stdout",
     "output_type": "stream",
     "text": [
      "e.g., type C:\\teaching\\ instead of C:\\\\teaching\\\\)\n"
     ]
    }
   ],
   "source": [
    "print(r\"e.g., type C:\\teaching\\ instead of C:\\\\teaching\\\\)\")"
   ]
  },
  {
   "cell_type": "markdown",
   "metadata": {},
   "source": [
    "### Acessing parts of the string\n",
    "\n",
    "**Note: The following instructions will be re-used later for other data structures (e.g., lists), so pay attention!**\n",
    "\n",
    "Strings can be indexed (subscripted), with the first character having index 0. There is no separate character type; a character is simply a string of size one:"
   ]
  },
  {
   "cell_type": "code",
   "execution_count": 15,
   "metadata": {
    "collapsed": true
   },
   "outputs": [],
   "source": [
    "word = 'Python'"
   ]
  },
  {
   "cell_type": "code",
   "execution_count": 16,
   "metadata": {},
   "outputs": [
    {
     "data": {
      "text/plain": [
       "'P'"
      ]
     },
     "execution_count": 16,
     "metadata": {},
     "output_type": "execute_result"
    }
   ],
   "source": [
    "word[0]  # character in position 0"
   ]
  },
  {
   "cell_type": "code",
   "execution_count": 17,
   "metadata": {},
   "outputs": [
    {
     "data": {
      "text/plain": [
       "'y'"
      ]
     },
     "execution_count": 17,
     "metadata": {},
     "output_type": "execute_result"
    }
   ],
   "source": [
    "word[1]"
   ]
  },
  {
   "cell_type": "code",
   "execution_count": 18,
   "metadata": {},
   "outputs": [
    {
     "data": {
      "text/plain": [
       "'n'"
      ]
     },
     "execution_count": 18,
     "metadata": {},
     "output_type": "execute_result"
    }
   ],
   "source": [
    "word[5]  # character in position 5"
   ]
  },
  {
   "cell_type": "markdown",
   "metadata": {},
   "source": [
    "Indices may also be negative numbers, to start counting from the right:"
   ]
  },
  {
   "cell_type": "code",
   "execution_count": 19,
   "metadata": {},
   "outputs": [
    {
     "data": {
      "text/plain": [
       "'n'"
      ]
     },
     "execution_count": 19,
     "metadata": {},
     "output_type": "execute_result"
    }
   ],
   "source": [
    "word[-1]  # last character"
   ]
  },
  {
   "cell_type": "code",
   "execution_count": 20,
   "metadata": {},
   "outputs": [
    {
     "data": {
      "text/plain": [
       "'o'"
      ]
     },
     "execution_count": 20,
     "metadata": {},
     "output_type": "execute_result"
    }
   ],
   "source": [
    "word[-2]  # second-last character"
   ]
  },
  {
   "cell_type": "code",
   "execution_count": 21,
   "metadata": {},
   "outputs": [
    {
     "data": {
      "text/plain": [
       "'P'"
      ]
     },
     "execution_count": 21,
     "metadata": {},
     "output_type": "execute_result"
    }
   ],
   "source": [
    "word[-6]"
   ]
  },
  {
   "cell_type": "markdown",
   "metadata": {},
   "source": [
    "In addition to indexing, slicing is also supported. While indexing is used to obtain individual characters, slicing allows you to obtain a substring:"
   ]
  },
  {
   "cell_type": "code",
   "execution_count": 22,
   "metadata": {},
   "outputs": [
    {
     "data": {
      "text/plain": [
       "'Py'"
      ]
     },
     "execution_count": 22,
     "metadata": {},
     "output_type": "execute_result"
    }
   ],
   "source": [
    "word[0:2]  # characters from position 0 (included) to 2 (excluded)"
   ]
  },
  {
   "cell_type": "code",
   "execution_count": 23,
   "metadata": {},
   "outputs": [
    {
     "data": {
      "text/plain": [
       "'tho'"
      ]
     },
     "execution_count": 23,
     "metadata": {},
     "output_type": "execute_result"
    }
   ],
   "source": [
    "word[2:5]  # characters from position 2 (included) to 5 (excluded)"
   ]
  },
  {
   "cell_type": "code",
   "execution_count": 24,
   "metadata": {},
   "outputs": [
    {
     "data": {
      "text/plain": [
       "'thon'"
      ]
     },
     "execution_count": 24,
     "metadata": {},
     "output_type": "execute_result"
    }
   ],
   "source": [
    "word[2:]  # characters from position 2 (included) to the end"
   ]
  },
  {
   "cell_type": "code",
   "execution_count": 25,
   "metadata": {},
   "outputs": [
    {
     "data": {
      "text/plain": [
       "'Pyt'"
      ]
     },
     "execution_count": 25,
     "metadata": {},
     "output_type": "execute_result"
    }
   ],
   "source": [
    "word[:3]  # characters from beginning (position 0) to position 3 (excluded)"
   ]
  },
  {
   "cell_type": "code",
   "execution_count": 26,
   "metadata": {},
   "outputs": [
    {
     "data": {
      "text/plain": [
       "'hon'"
      ]
     },
     "execution_count": 26,
     "metadata": {},
     "output_type": "execute_result"
    }
   ],
   "source": [
    "word[-3:] # last three characters"
   ]
  },
  {
   "cell_type": "code",
   "execution_count": 28,
   "metadata": {},
   "outputs": [
    {
     "data": {
      "text/plain": [
       "'Pyt'"
      ]
     },
     "execution_count": 28,
     "metadata": {},
     "output_type": "execute_result"
    }
   ],
   "source": [
    "word[:-3] # last three characters"
   ]
  },
  {
   "cell_type": "code",
   "execution_count": 27,
   "metadata": {},
   "outputs": [
    {
     "data": {
      "text/plain": [
       "'ho'"
      ]
     },
     "execution_count": 27,
     "metadata": {},
     "output_type": "execute_result"
    }
   ],
   "source": [
    "word[-3:-1] # penultimate two charactrs"
   ]
  },
  {
   "cell_type": "markdown",
   "metadata": {},
   "source": [
    "#### Exercise\n",
    "\n",
    "* Assign the string 'Data Care Feedeng & Cleaning' to a Python variable. \n",
    "* print(the word 'Data' by using the indexing/slicing approach.)\n",
    "* print(the word 'Cleaning' by using the negative indexing/slicing approach.)"
   ]
  },
  {
   "cell_type": "code",
   "execution_count": 31,
   "metadata": {},
   "outputs": [
    {
     "name": "stdout",
     "output_type": "stream",
     "text": [
      "Data\n",
      "Cleaning\n"
     ]
    }
   ],
   "source": [
    "# your own code here\n",
    "var_data = 'Data Care Feedeng & Cleaning'\n",
    "print(var_data[0:4])\n",
    "print(var_data[-8:])"
   ]
  },
  {
   "cell_type": "markdown",
   "metadata": {},
   "source": [
    "### Operations on Strings \n",
    "\n",
    "We've already seen one of the most common string operators, `+`, used for string concatenation, the indexing operation to get specific characters, and the slicing operation to get substrings. \n",
    "\n",
    "Below are some of the more commonly used string operations:\n",
    "\n",
    "+ `+` : concatenate two strings\n",
    "+ `len(str)`: length of a string, number of characters\n",
    "+ `str.upper()`: returns an uppercase version of a string\n",
    "+ `str.lower()`: returns a lowercase version of a string\n",
    "+ `haystack.find(needle)`: searches haystack for needle, prints the position of the first occurrence, indexed from 0. Returns -1 if not found\n",
    "+ `str_1.count(str_2)`: counts the number of occurrences of one string in another.\n",
    "+ `haystack.startswith(needle)`: does a the haystack string start with the needle string?\n",
    "+ `haystack.endswith(needle)`: does a the haystack string end with the needle string?\n",
    "+ `str_1.split(str_2)`: split the first string at every occurrence of the second string. Outputs a list (see below).\n",
    "+ `==`: are the two operand strings the same?\n",
    "+ `str.strip()`: remove any whitespace from the left or right of the string, including newlines. \n",
    "\n",
    "A better list of string operations is [available here](http://docs.python.org/2/library/string.html)."
   ]
  },
  {
   "cell_type": "code",
   "execution_count": 32,
   "metadata": {},
   "outputs": [
    {
     "name": "stdout",
     "output_type": "stream",
     "text": [
      "50\n"
     ]
    }
   ],
   "source": [
    "word = \"Python is the word. And on and on and on and on...\" \n",
    "print(len(word))"
   ]
  },
  {
   "cell_type": "code",
   "execution_count": 38,
   "metadata": {},
   "outputs": [
    {
     "name": "stdout",
     "output_type": "stream",
     "text": [
      "The length of the word above is 50 characters\n"
     ]
    }
   ],
   "source": [
    "print(\"The length of the word above is \"+ str(len(word))+ \" characters\")"
   ]
  },
  {
   "cell_type": "code",
   "execution_count": 34,
   "metadata": {},
   "outputs": [
    {
     "name": "stdout",
     "output_type": "stream",
     "text": [
      "python is the word. and on and on and on and on...\n"
     ]
    }
   ],
   "source": [
    "print(word.lower())"
   ]
  },
  {
   "cell_type": "code",
   "execution_count": 35,
   "metadata": {},
   "outputs": [
    {
     "name": "stdout",
     "output_type": "stream",
     "text": [
      "PYTHON IS THE WORD. AND ON AND ON AND ON AND ON...\n"
     ]
    }
   ],
   "source": [
    "print(word.upper())"
   ]
  },
  {
   "cell_type": "code",
   "execution_count": 39,
   "metadata": {},
   "outputs": [
    {
     "name": "stdout",
     "output_type": "stream",
     "text": [
      "4\n"
     ]
    }
   ],
   "source": [
    "word = \"Python is the word. And on and on and on and on...\" \n",
    "ind = word.find(\"on\")\n",
    "print(ind)"
   ]
  },
  {
   "cell_type": "code",
   "execution_count": 40,
   "metadata": {},
   "outputs": [
    {
     "name": "stdout",
     "output_type": "stream",
     "text": [
      "The first time that we see the string on is at position 4\n"
     ]
    }
   ],
   "source": [
    "print(\"The first time that we see the string on is at position\", word.find(\"on\"))"
   ]
  },
  {
   "cell_type": "code",
   "execution_count": 41,
   "metadata": {},
   "outputs": [
    {
     "name": "stdout",
     "output_type": "stream",
     "text": [
      "The second time that we see the string on is at position 24\n"
     ]
    }
   ],
   "source": [
    "first_appearance = word.find(\"on\")\n",
    "second_appearance = word.find(\"on\",first_appearance+1)\n",
    "print(\"The second time that we see the string on is at position\", second_appearance)"
   ]
  },
  {
   "cell_type": "code",
   "execution_count": 42,
   "metadata": {},
   "outputs": [
    {
     "name": "stdout",
     "output_type": "stream",
     "text": [
      "First time that we see 'on' in the second half:  31\n"
     ]
    }
   ],
   "source": [
    "# Looking for the string \"on\" at the second half of the big string called \"word\"\n",
    "midpoint = int(len(word)/2) # finds the middle of the string word\n",
    "second_half_appearance = word.find(\"on\",midpoint)\n",
    "print(\"First time that we see 'on' in the second half: \", second_half_appearance)"
   ]
  },
  {
   "cell_type": "code",
   "execution_count": 47,
   "metadata": {},
   "outputs": [
    {
     "name": "stdout",
     "output_type": "stream",
     "text": [
      "We see the string ' Python ' that many times:  1\n"
     ]
    }
   ],
   "source": [
    "word = \"Python is the word. And on and on and on and on...\"\n",
    "lookfor = \"Python\"\n",
    "count = word.count(lookfor)\n",
    "print( \"We see the string '\", lookfor  ,\"' that many times: \",  count)"
   ]
  },
  {
   "cell_type": "code",
   "execution_count": 48,
   "metadata": {},
   "outputs": [
    {
     "name": "stdout",
     "output_type": "stream",
     "text": [
      "concatenation:\n",
      "Hello World\n",
      "Hello everybody\n"
     ]
    }
   ],
   "source": [
    "str_1 = \"Hello\"\n",
    "str_2 = \"World\"\n",
    "print(\"concatenation:\")\n",
    "print(str_1 + \" \" + str_2)\n",
    "print(str_1 + \" everybody\")"
   ]
  },
  {
   "cell_type": "code",
   "execution_count": 49,
   "metadata": {},
   "outputs": [
    {
     "name": "stdout",
     "output_type": "stream",
     "text": [
      "length:\n",
      "5\n",
      "11\n"
     ]
    }
   ],
   "source": [
    "print(\"length:\")\n",
    "print(len(str_1))\n",
    "print(len(str_1 + \" \" + str_2))"
   ]
  },
  {
   "cell_type": "code",
   "execution_count": 50,
   "metadata": {},
   "outputs": [
    {
     "name": "stdout",
     "output_type": "stream",
     "text": [
      "string casing:\n",
      "HELLO\n",
      "hello\n"
     ]
    }
   ],
   "source": [
    "print(\"string casing:\")\n",
    "print(str_1.upper())\n",
    "print(\"HELLO\".lower())"
   ]
  },
  {
   "cell_type": "code",
   "execution_count": 51,
   "metadata": {},
   "outputs": [
    {
     "name": "stdout",
     "output_type": "stream",
     "text": [
      "string indexing:\n",
      "2\n",
      "2\n"
     ]
    }
   ],
   "source": [
    "print(\"string indexing:\")\n",
    "print(\"hello\".find(\"ll\"))\n",
    "print(\"hello\".upper().find(\"LL\"))"
   ]
  },
  {
   "cell_type": "code",
   "execution_count": 52,
   "metadata": {},
   "outputs": [
    {
     "name": "stdout",
     "output_type": "stream",
     "text": [
      "string count:\n",
      "2\n",
      "1\n"
     ]
    }
   ],
   "source": [
    "print(\"string count:\")\n",
    "print(str_1.count(\"l\"))\n",
    "print(str_1.count(\"ll\"))"
   ]
  },
  {
   "cell_type": "code",
   "execution_count": 53,
   "metadata": {},
   "outputs": [
    {
     "name": "stdout",
     "output_type": "stream",
     "text": [
      "starts with & endswith:\n",
      "True\n",
      "False\n"
     ]
    }
   ],
   "source": [
    "print(\"starts with & endswith:\")\n",
    "print(\"hello\".startswith(\"he\"))\n",
    "print(\"hello\".endswith(\"world\"))"
   ]
  },
  {
   "cell_type": "code",
   "execution_count": 54,
   "metadata": {},
   "outputs": [
    {
     "name": "stdout",
     "output_type": "stream",
     "text": [
      "split:\n",
      "['practical', 'data', 'science']\n",
      "['hello']\n",
      "['pr', 'ctic', 'l d', 't', ' science']\n"
     ]
    }
   ],
   "source": [
    "print(\"split:\")\n",
    "print(\"practical data science\".split(\" \"))\n",
    "print(\"hello\".split(\" \"))\n",
    "print(\"practical data science\".split(\"a\"))"
   ]
  },
  {
   "cell_type": "code",
   "execution_count": 55,
   "metadata": {},
   "outputs": [
    {
     "name": "stdout",
     "output_type": "stream",
     "text": [
      "equality:\n",
      "True\n",
      "False\n"
     ]
    }
   ],
   "source": [
    "str_1 = \"hello\"\n",
    "print(\"equality:\")\n",
    "print(str_1 == \"hello\")\n",
    "\n",
    "print(str_1 == \"Hello\")"
   ]
  },
  {
   "cell_type": "code",
   "execution_count": 56,
   "metadata": {},
   "outputs": [
    {
     "name": "stdout",
     "output_type": "stream",
     "text": [
      "practical data science\n",
      "['practical', 'data', 'science']\n"
     ]
    }
   ],
   "source": [
    "mystring1 = \"practical data science\"\n",
    "mylist1 = mystring1.split(\" \")\n",
    "print(mystring1)\n",
    "print(mylist1)"
   ]
  },
  {
   "cell_type": "markdown",
   "metadata": {},
   "source": [
    "### String Formatting\n",
    "\n",
    "Often one wants to embed other information into strings, sometimes with special formatting constraints. In python, one may insert special formatting characters into strings that convey what type of data should be inserted and where, and how the \"stringified\" form should be formatted. For instance:"
   ]
  },
  {
   "cell_type": "code",
   "execution_count": 57,
   "metadata": {},
   "outputs": [
    {
     "name": "stdout",
     "output_type": "stream",
     "text": [
      "Coordinates: 37.24N, 115.81W\n"
     ]
    }
   ],
   "source": [
    "print('Coordinates: {0}, {1}'.format('37.24N', '115.81W'))"
   ]
  },
  {
   "cell_type": "markdown",
   "metadata": {},
   "source": [
    "We can of course re-order and use multiple times the placeholders:"
   ]
  },
  {
   "cell_type": "code",
   "execution_count": 58,
   "metadata": {},
   "outputs": [
    {
     "name": "stdout",
     "output_type": "stream",
     "text": [
      "Latitude: 37.24N, Longitude: 115.81W ==> [37.24N, 115.81W]\n"
     ]
    }
   ],
   "source": [
    "print('Latitude: {0}, Longitude: {1} ==> [{0}, {1}]'.format('37.24N', '115.81W'))"
   ]
  },
  {
   "cell_type": "markdown",
   "metadata": {},
   "source": [
    "Alternatively, instead of using the {0}, {1}, etc. format, we can specify names for the attributes:"
   ]
  },
  {
   "cell_type": "code",
   "execution_count": 59,
   "metadata": {},
   "outputs": [
    {
     "name": "stdout",
     "output_type": "stream",
     "text": [
      "Coordinates: 37.24N, 115.81W\n"
     ]
    }
   ],
   "source": [
    "print('Coordinates: {latitude}, {longitude}'.format(latitude='37.24N', longitude='115.81W'))"
   ]
  },
  {
   "cell_type": "markdown",
   "metadata": {},
   "source": [
    "And we can pass dictionaries (we will examine dictionaries later) with the variable names"
   ]
  },
  {
   "cell_type": "code",
   "execution_count": 60,
   "metadata": {},
   "outputs": [
    {
     "name": "stdout",
     "output_type": "stream",
     "text": [
      "Coordinates: 37.24N, -115.81W\n"
     ]
    }
   ],
   "source": [
    "coord = {'latitude': '37.24N', 'longitude': '-115.81W'}\n",
    "print('Coordinates: {latitude}, {longitude}'.format(**coord))"
   ]
  },
  {
   "cell_type": "markdown",
   "metadata": {},
   "source": [
    "#### More formatting options\n",
    "\n",
    "As seen above, we can put a variable either using the {number} or the {name} format. Below we will see a few more options, mainly for formatting numbers. (For a more detailed treatment on string formatting options, [see here](https://docs.python.org/3.5/library/string.html#format-string-syntax).) We can achieve the formatting by adding after the number/name the character `:` follows by a set of formatting options."
   ]
  },
  {
   "cell_type": "markdown",
   "metadata": {},
   "source": [
    "```\n",
    "field       ::=  \"{\" field_name [\":\" format_spec] \"}\"\n",
    "format_spec ::=  [[fill character]align][width][,][.precision][type]\n",
    "align       ::=  \"<\" | \">\" | \"=\" | \"^\"\n",
    "sign        ::=  \"+\" | \"-\" | \" \"\n",
    "width       ::=  number of digita in total (if width has a 0 in front, we add  for zero-padding)\n",
    "precision   ::=  number of decimal points\n",
    "```"
   ]
  },
  {
   "cell_type": "markdown",
   "metadata": {},
   "source": [
    "Some common `type`s: \n",
    "\n",
    "* `d` integer\n",
    "* `f` floating point\n",
    "* `%` percent\n",
    "* `e` exponential format\n",
    "* `c` character\n",
    "* `s` string \n"
   ]
  },
  {
   "cell_type": "code",
   "execution_count": 61,
   "metadata": {},
   "outputs": [
    {
     "name": "stdout",
     "output_type": "stream",
     "text": [
      "Result: | 4.348|\n"
     ]
    }
   ],
   "source": [
    "# Keep six digits for the whole number, out of which 3 for the decimals\n",
    "print(\"Result: |{num:6.3f}|\".format(num=100.0/23))"
   ]
  },
  {
   "cell_type": "code",
   "execution_count": 62,
   "metadata": {},
   "outputs": [
    {
     "name": "stdout",
     "output_type": "stream",
     "text": [
      "Result: |04.348|\n"
     ]
    }
   ],
   "source": [
    "# Keep six digits for the whole number, out of which 3 for the decimals, with zero padding in front\n",
    "print(\"Result: |{num:06.3f}|\".format(num=100.0/23))"
   ]
  },
  {
   "cell_type": "code",
   "execution_count": 63,
   "metadata": {},
   "outputs": [
    {
     "name": "stdout",
     "output_type": "stream",
     "text": [
      "Result: |4.348|\n"
     ]
    }
   ],
   "source": [
    "# Floating point with three decimal digits\n",
    "print(\"Result: |{num:.3f}|\".format(num=100.0/23))"
   ]
  },
  {
   "cell_type": "code",
   "execution_count": 64,
   "metadata": {},
   "outputs": [
    {
     "name": "stdout",
     "output_type": "stream",
     "text": [
      "Result: |    142,857.1429|\n",
      "Result: |         14.2857|\n"
     ]
    }
   ],
   "source": [
    "# Sixteen digits total and four decimal digits, with comma-separated thousands\n",
    "print(\"Result: |{num:16,.4f}|\".format(num=1000000.0/7))\n",
    "print(\"Result: |{num:16,.4f}|\".format(num=100.0/7))"
   ]
  },
  {
   "cell_type": "code",
   "execution_count": 65,
   "metadata": {},
   "outputs": [
    {
     "name": "stdout",
     "output_type": "stream",
     "text": [
      "Correct answers: 86.36%\n"
     ]
    }
   ],
   "source": [
    "# Expressing a percentage:\n",
    "points = 19\n",
    "total = 22\n",
    "print('Correct answers: {:.2%}'.format(points/total))"
   ]
  },
  {
   "cell_type": "code",
   "execution_count": 66,
   "metadata": {},
   "outputs": [
    {
     "name": "stdout",
     "output_type": "stream",
     "text": [
      "|left aligned                  |\n",
      "|                 right aligned|\n",
      "|           centered           |\n"
     ]
    }
   ],
   "source": [
    "# alignment\n",
    "print('|{message:<30}|'.format(message='left aligned'))\n",
    "print('|{message:>30}|'.format(message='right aligned'))\n",
    "print('|{message:^30}|'.format(message='centered'))\n"
   ]
  },
  {
   "cell_type": "code",
   "execution_count": 67,
   "metadata": {},
   "outputs": [
    {
     "name": "stdout",
     "output_type": "stream",
     "text": [
      "|left aligned with # chars as fill***********************************************|\n",
      "|##############################################right aligned with # chars as fill|\n",
      "|#########################centered with # chars as fill##########################|\n"
     ]
    }
   ],
   "source": [
    "# fill\n",
    "print('|{message:*<80}|'.format(message='left aligned with # chars as fill'))\n",
    "print('|{message:#>80}|'.format(message='right aligned with # chars as fill'))\n",
    "print('|{message:#^80}|'.format(message='centered with # chars as fill'))"
   ]
  },
  {
   "cell_type": "markdown",
   "metadata": {},
   "source": [
    "#### Exercise\n",
    "\n",
    "* Save your name in a variable\n",
    "* Save the name of our course in a variable\n",
    "* Print the sentence saying that you are taking this course using .format syntax"
   ]
  },
  {
   "cell_type": "code",
   "execution_count": 71,
   "metadata": {},
   "outputs": [
    {
     "name": "stdout",
     "output_type": "stream",
     "text": [
      "Konstantin Bauman teaches the Data Care Feeding & Cleaning course.\n"
     ]
    }
   ],
   "source": [
    "# your own code here\n",
    "name = 'Konstantin Bauman'\n",
    "cname = 'Data Care Feeding & Cleaning'\n",
    "print('{instructor} teaches the {course} course.'.format(instructor=name, course=cname))"
   ]
  },
  {
   "cell_type": "code",
   "execution_count": null,
   "metadata": {
    "collapsed": true
   },
   "outputs": [],
   "source": []
  },
  {
   "cell_type": "code",
   "execution_count": null,
   "metadata": {
    "collapsed": true
   },
   "outputs": [],
   "source": []
  },
  {
   "cell_type": "code",
   "execution_count": null,
   "metadata": {
    "collapsed": true
   },
   "outputs": [],
   "source": []
  }
 ],
 "metadata": {
  "anaconda-cloud": {},
  "kernelspec": {
   "display_name": "Python 3",
   "language": "python",
   "name": "python3"
  },
  "language_info": {
   "codemirror_mode": {
    "name": "ipython",
    "version": 3
   },
   "file_extension": ".py",
   "mimetype": "text/x-python",
   "name": "python",
   "nbconvert_exporter": "python",
   "pygments_lexer": "ipython3",
   "version": "3.6.1"
  }
 },
 "nbformat": 4,
 "nbformat_minor": 1
}
