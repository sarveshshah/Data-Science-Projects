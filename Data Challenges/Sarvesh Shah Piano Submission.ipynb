{
 "cells": [
  {
   "cell_type": "markdown",
   "metadata": {},
   "source": [
    "# Piano.io Assessment Submission\n",
    "Author: Sarvesh Shah, sarveshshah00@gmail.com, sarvesh-shah.com"
   ]
  },
  {
   "cell_type": "markdown",
   "metadata": {},
   "source": [
    "## Question 1:"
   ]
  },
  {
   "cell_type": "markdown",
   "metadata": {},
   "source": [
    "```SQL\n",
    "SELECT\n",
    "    CASE \n",
    "        when parsedReferrerId = 0 then 'google'\n",
    "        when parsedReferrerId = 2 then 'facebook'\n",
    "        when parsedReferrerId = 3 then 'internal'\n",
    "        when parsedReferrerId = 11 then 'google'\n",
    "        when parsedReferrerId = 12 then 'other'\n",
    "        when parsedReferrerId = 13 then 'direct'\n",
    "    END AS parsedReferrer,\n",
    "    COUNT(pageviewID) as pageviews\n",
    "FROM\n",
    "    `Screening_Questions.pageviews`  as A\n",
    "GROUP BY\n",
    "  parsedReferrer\n",
    "ORDER BY\n",
    "  pageviews DESC\n",
    "```"
   ]
  },
  {
   "cell_type": "markdown",
   "metadata": {},
   "source": [
    "## Question 2:\n",
    "\n",
    "```SQL\n",
    "SELECT\n",
    "    visitID,\n",
    "    CASE \n",
    "        when parsedReferrerId = 0 then 'google'\n",
    "        when parsedReferrerId = 2 then 'facebook'\n",
    "        when parsedReferrerId = 3 then 'internal'\n",
    "        when parsedReferrerId = 11 then 'google'\n",
    "        when parsedReferrerId = 12 then 'other'\n",
    "        when parsedReferrerId = 13 then 'direct'\n",
    "    END AS `first_referrer`\n",
    "FROM   \n",
    "     `piano-public.Screening_Questions.pageviews`  as A\n",
    "WHERE\n",
    "    unixTimestamp = (\n",
    "        SELECT \n",
    "            MIN(unixTimestamp)\n",
    "        FROM \n",
    "            `piano-public.Screening_Questions.pageviews` AS B\n",
    "        WHERE\n",
    "            A.visitID = B.visitID\n",
    "    )\n",
    "ORDER BY\n",
    "    visitID\n",
    "```"
   ]
  },
  {
   "cell_type": "markdown",
   "metadata": {},
   "source": [
    "## Question 3\n",
    "\n",
    "For question 3, I chose to download the data and do my analysis in Python using a jupyter notebook"
   ]
  },
  {
   "cell_type": "markdown",
   "metadata": {},
   "source": [
    "### Area of exploration:\n",
    "<br>• Platforms seem more interesting because website layout and interaction changes with platforms. \n",
    "<br>• Referrer was another interesting area to look at.\n",
    "<br>• Any time series analysis was not an option as the data was for only 1 day.\n",
    "<br>• Location seemed a bit interesting to look into, though did not seem as promising.\n",
    "<br>• Operating Systems did not seem as interesting considering it is a website. \n",
    "<br>• Similarly, Browsers were not as appealing either."
   ]
  },
  {
   "cell_type": "markdown",
   "metadata": {},
   "source": [
    "### Data Cleaning"
   ]
  },
  {
   "cell_type": "code",
   "execution_count": 18,
   "metadata": {},
   "outputs": [
    {
     "name": "stdout",
     "output_type": "stream",
     "text": [
      "pageviewID             0\n",
      "unixTimestamp          0\n",
      "browserID              0\n",
      "visitID               16\n",
      "country               60\n",
      "region              1270\n",
      "platform               0\n",
      "operatingSystem        0\n",
      "browser                0\n",
      "parsedReferrerId       0\n",
      "hour_of_day            0\n",
      "parsedReferrer         0\n",
      "dtype: int64\n"
     ]
    }
   ],
   "source": [
    "# import statements\n",
    "\n",
    "import pandas as pd\n",
    "import numpy as np\n",
    "import seaborn as sns\n",
    "import matplotlib.pyplot as plt\n",
    "import re\n",
    "import math\n",
    "import datetime as dt\n",
    "\n",
    "df = pd.read_csv('Downloads/results-20200622-111148.csv')\n",
    "\n",
    "df['unixTimestamp'] = pd.to_datetime(df['unixTimestamp'])\n",
    "df['hour_of_day'] = df['unixTimestamp'].dt.hour\n",
    "\n",
    "# Adding ParsedReferrer\n",
    "d = { \n",
    "0:'google',\n",
    "2:'facebook',\n",
    "3:'twitter',\n",
    "11:'internal',\n",
    "12:'other',\n",
    "13:'direct'\n",
    "}\n",
    "\n",
    "df['parsedReferrer'] = ''\n",
    "for key,val in d.items():\n",
    "    df['parsedReferrer'] = np.where(df['parsedReferrerId']==key,'{}'.format(val),df['parsedReferrer'])\n",
    "    \n",
    "print(df.isna().sum())\n",
    "    \n",
    "fill_value = {'country':'Unknown','region':'Unknown'}\n",
    "df = df.dropna(subset=['visitID']).fillna(fill_value)"
   ]
  },
  {
   "cell_type": "markdown",
   "metadata": {},
   "source": [
    "### Defining loyal users \n",
    "\n",
    "We defined loyal users as having at least 5-page visit for a given visit ID and directly coming to website. Decided to go for this additional constraint as the website is very appealing and most users seem to have 1-5 visits per session, but if a user directly comes to the website and explore over five pages, we can be very certain that they are loyal users.\n",
    "\n",
    "<p>\n",
    "Thus we assume each visit_id as a user and if they have more than certain number of pageviews we categorize them as \"loyal user\".\n",
    "In addition to the frequency, we calculate the 'firstVisit' as the firstReferrer used to visit the website, if the first visit is \"direct\" then it is likely that the user is aware of the website and if they view more than \"x\" number of pages while coming directly to our website is a strong signal for a loyal user. Based on histogram we can see that most visit only have less than 5 pageviews and thus we assume anyone over 5 pageviews to be termed as a loyal_user.\n",
    "    \n",
    "This is just an assumption and in practice might not work as much but due to limited nature of data points, we shall use this definition for this analysis\n",
    "    \n",
    "**Loyal User = Any user that directly comes to the website and views more than 5 pages in that visit**\n",
    "</p>"
   ]
  },
  {
   "cell_type": "code",
   "execution_count": 19,
   "metadata": {},
   "outputs": [
    {
     "data": {
      "text/plain": [
       "<matplotlib.axes._subplots.AxesSubplot at 0x16d7d9de688>"
      ]
     },
     "execution_count": 19,
     "metadata": {},
     "output_type": "execute_result"
    },
    {
     "data": {
      "image/png": "[encoded data removed]",
      "text/plain": [
       "<Figure size 432x288 with 1 Axes>"
      ]
     },
     "metadata": {
      "needs_background": "light"
     },
     "output_type": "display_data"
    }
   ],
   "source": [
    "df['visitID'].value_counts().plot(kind='hist', title='Histogram for # of pageviews')"
   ]
  },
  {
   "cell_type": "markdown",
   "metadata": {},
   "source": [
    "**Note:** We formalize our assumption as follows because we only have data for a day and we do not have a user-id to identify if a new session was instantiated by a same user or not thus cannot do a more complex assumption. If we could track the returning users and or look at number of returns in a given time frame, that could result in a much better definition.\n",
    "\n",
    "<p>\n",
    "<b>A user is as a loyal user if:</b>\n",
    "<br><\\t>    1.\tThey are returning user\n",
    "<br><\\t>    2.\tnumber of visits per month for that user > threshold \n",
    "<br><\\t>    3.\tSpend at least a certain amount of active-time on the site in a given session\n",
    "<br><i>*Threshold can be a function of the distribution we have for # of visits. \n"
   ]
  },
  {
   "cell_type": "code",
   "execution_count": 22,
   "metadata": {},
   "outputs": [
    {
     "name": "stdout",
     "output_type": "stream",
     "text": [
      "Non Loyal Users: 15748\n",
      "Loyal Users: 236\n"
     ]
    }
   ],
   "source": [
    "# Loyal User Code\n",
    "\n",
    "# We use the timestamp to identify the first referrer similar to what we did for Question 2 in BigQuery\n",
    "temp = df.groupby(['visitID'])[['unixTimestamp']].min().reset_index()\n",
    "temp['firstVisit'] = True\n",
    "df = df.merge(temp, on=['visitID','unixTimestamp'], how='left').fillna(False)\n",
    "\n",
    "# We categorize 'Frequent Visitor' as # of visits > 5\n",
    "temp = pd.DataFrame(df['visitID'].value_counts())\n",
    "temp['user_type'] = np.where(temp['visitID']>5,'frequent_visitor','not_frequent_visitor')\n",
    "temp = temp.reset_index()\n",
    "\n",
    "df = df.merge(temp, left_on='visitID', right_on='index').drop(columns= ['index','visitID_y']).rename(columns={'visitID_x':'visitID'})\n",
    "\n",
    "df['loyal_user'] = np.where((df.firstVisit==True)&(df.parsedReferrer=='direct')&(df['user_type']=='frequent_visitor'),True,False)\n",
    "\n",
    "print('Non Loyal Users: {}\\nLoyal Users: {}'.format(df.loyal_user.value_counts()[0],df.loyal_user.value_counts()[1]))"
   ]
  },
  {
   "cell_type": "markdown",
   "metadata": {},
   "source": [
    "### Breaking down data to see any interesting difference between groups\n",
    "\n",
    "#### 1. Platform of Choice\n",
    "One interesting observation was that the loyal users largely used desktop. Whereas for non-loyal users we had significant traffic coming from mobile. We performed a t-test to statistically determine the significance. "
   ]
  },
  {
   "cell_type": "code",
   "execution_count": 9,
   "metadata": {},
   "outputs": [
    {
     "data": {
      "text/html": [
       "<div>\n",
       "<style scoped>\n",
       "    .dataframe tbody tr th:only-of-type {\n",
       "        vertical-align: middle;\n",
       "    }\n",
       "\n",
       "    .dataframe tbody tr th {\n",
       "        vertical-align: top;\n",
       "    }\n",
       "\n",
       "    .dataframe thead th {\n",
       "        text-align: right;\n",
       "    }\n",
       "</style>\n",
       "<table border=\"1\" class=\"dataframe\">\n",
       "  <thead>\n",
       "    <tr style=\"text-align: right;\">\n",
       "      <th></th>\n",
       "      <th>visitID</th>\n",
       "    </tr>\n",
       "    <tr>\n",
       "      <th>platform</th>\n",
       "      <th></th>\n",
       "    </tr>\n",
       "  </thead>\n",
       "  <tbody>\n",
       "    <tr>\n",
       "      <th>desktop</th>\n",
       "      <td>92.796610</td>\n",
       "    </tr>\n",
       "    <tr>\n",
       "      <th>mobile</th>\n",
       "      <td>5.508475</td>\n",
       "    </tr>\n",
       "    <tr>\n",
       "      <th>tablet</th>\n",
       "      <td>1.694915</td>\n",
       "    </tr>\n",
       "  </tbody>\n",
       "</table>\n",
       "</div>"
      ],
      "text/plain": [
       "            visitID\n",
       "platform           \n",
       "desktop   92.796610\n",
       "mobile     5.508475\n",
       "tablet     1.694915"
      ]
     },
     "metadata": {},
     "output_type": "display_data"
    },
    {
     "data": {
      "text/html": [
       "<div>\n",
       "<style scoped>\n",
       "    .dataframe tbody tr th:only-of-type {\n",
       "        vertical-align: middle;\n",
       "    }\n",
       "\n",
       "    .dataframe tbody tr th {\n",
       "        vertical-align: top;\n",
       "    }\n",
       "\n",
       "    .dataframe thead th {\n",
       "        text-align: right;\n",
       "    }\n",
       "</style>\n",
       "<table border=\"1\" class=\"dataframe\">\n",
       "  <thead>\n",
       "    <tr style=\"text-align: right;\">\n",
       "      <th></th>\n",
       "      <th>visitID</th>\n",
       "    </tr>\n",
       "    <tr>\n",
       "      <th>platform</th>\n",
       "      <th></th>\n",
       "    </tr>\n",
       "  </thead>\n",
       "  <tbody>\n",
       "    <tr>\n",
       "      <th>desktop</th>\n",
       "      <td>72.072644</td>\n",
       "    </tr>\n",
       "    <tr>\n",
       "      <th>mobile</th>\n",
       "      <td>21.367793</td>\n",
       "    </tr>\n",
       "    <tr>\n",
       "      <th>tablet</th>\n",
       "      <td>4.254509</td>\n",
       "    </tr>\n",
       "    <tr>\n",
       "      <th>bot</th>\n",
       "      <td>2.228854</td>\n",
       "    </tr>\n",
       "    <tr>\n",
       "      <th>other</th>\n",
       "      <td>0.076200</td>\n",
       "    </tr>\n",
       "  </tbody>\n",
       "</table>\n",
       "</div>"
      ],
      "text/plain": [
       "            visitID\n",
       "platform           \n",
       "desktop   72.072644\n",
       "mobile    21.367793\n",
       "tablet     4.254509\n",
       "bot        2.228854\n",
       "other      0.076200"
      ]
     },
     "metadata": {},
     "output_type": "display_data"
    },
    {
     "data": {
      "image/png": "[encoded data removed]",
      "text/plain": [
       "<Figure size 720x720 with 2 Axes>"
      ]
     },
     "metadata": {
      "needs_background": "light"
     },
     "output_type": "display_data"
    }
   ],
   "source": [
    "df1 = df.groupby(['loyal_user','platform'])[['visitID']].count()\n",
    "fig, axes = plt.subplots(nrows=2,ncols=1,sharex=True,figsize=(10,10))\n",
    "\n",
    "(df1.loc[True].sort_values(by='visitID',ascending=False)*100/(df1.loc[True].sum())).plot(kind='bar',ax=axes[0],title='Platform of choice Loyal Users')\n",
    "(df1.loc[False].sort_values(by='visitID',ascending=False)*100/(df1.loc[False].sum())).plot(kind='bar',ax=axes[1],title='Platform of choice Non Loyal Users')\n",
    "\n",
    "display(df1.loc[True].sort_values(by='visitID',ascending=False)*100/(df1.loc[True].sum()))\n",
    "display(df1.loc[False].sort_values(by='visitID',ascending=False)*100/(df1.loc[False].sum()))"
   ]
  },
  {
   "cell_type": "markdown",
   "metadata": {},
   "source": [
    "We can see from the chart that out 92.78% of our loyal users browse the site via the website, whereas the traffic for with mobile playform is about 5%/, the non-loyal users on the other had tend to use our website 21% of the time. "
   ]
  },
  {
   "cell_type": "code",
   "execution_count": 10,
   "metadata": {},
   "outputs": [
    {
     "name": "stdout",
     "output_type": "stream",
     "text": [
      "p1= 0.05508474576271186 \n",
      "p2= 0.21367792735585472 \n",
      "q1= 0.9449152542372882 \n",
      "q2= 0.7863220726441453 \n",
      "n1= 236.0 \n",
      "n2= 15748.0\n",
      "\n",
      "T-score: -10.429657455664366\n",
      "\n",
      "P-value p < 0.05, Significant\n"
     ]
    }
   ],
   "source": [
    "# T-test\n",
    "n1 = float(df1.loc[True].sum())\n",
    "n2 = float(df1.loc[False].sum())\n",
    "\n",
    "p1 = float(df1.loc[True, 'mobile']/n1)\n",
    "p2 = float(df1.loc[False, 'mobile']/n2)\n",
    "\n",
    "q1 = 1-p1\n",
    "q2 = 1-p2\n",
    "\n",
    "print('p1=',p1,'\\np2=',p2,'\\nq1=',q1,'\\nq2=',q2,'\\nn1=',n1,'\\nn2=',n2)\n",
    "\n",
    "t = (p1 - p2) / math.sqrt((p1*q1/n1)+(p2*q2/n2))\n",
    "print('\\nT-score:',t)\n",
    "\n",
    "if t>=1.96 or t<=-1.96:\n",
    "    print('\\nP-value p < 0.05, Significant')\n",
    "else:\n",
    "    print('\\nP-value p > 0.05, Not Significant')"
   ]
  },
  {
   "cell_type": "markdown",
   "metadata": {},
   "source": [
    "One intuition was that most of the ad-based traffic comes from social media and people tend to use social media more on the phone. This was further corroborated by the fact that traffic coming from google was higher on desktop."
   ]
  },
  {
   "cell_type": "markdown",
   "metadata": {},
   "source": [
    "We look at the non_loyal users who use mobile platform and compare it to desktop users who use the platform. We can see that social media (Facebook, Twitter) drives the significant amount of traffic (14%) on phones compared to desktop (1%), whereas google seems to drive 9.2 % point more traffic on desktop."
   ]
  },
  {
   "cell_type": "code",
   "execution_count": 11,
   "metadata": {},
   "outputs": [
    {
     "data": {
      "text/plain": [
       "<matplotlib.axes._subplots.AxesSubplot at 0x16d7d6bde48>"
      ]
     },
     "execution_count": 11,
     "metadata": {},
     "output_type": "execute_result"
    },
    {
     "data": {
      "image/png": "[encoded data removed]",
      "text/plain": [
       "<Figure size 1440x720 with 2 Axes>"
      ]
     },
     "metadata": {
      "needs_background": "light"
     },
     "output_type": "display_data"
    }
   ],
   "source": [
    "fig, axes = plt.subplots(nrows=1,ncols=2,sharey=True,figsize=(10*2,10))\n",
    "\n",
    "(df.groupby(['loyal_user','platform','parsedReferrer'])[['visitID']].count().loc[False,'mobile']*100/df.groupby(['loyal_user','platform','parsedReferrer'])[['visitID']].count().loc[False,'mobile'].sum()).plot(kind='bar',ax=axes[0],title='Referrers on Mobile Platform')\n",
    "(df.groupby(['loyal_user','platform','parsedReferrer'])[['visitID']].count().loc[False,'desktop']*100/df.groupby(['loyal_user','platform','parsedReferrer'])[['visitID']].count().loc[False,'desktop'].sum()).plot(kind='bar',ax=axes[1], title='Referrers on Desktop Platform')"
   ]
  },
  {
   "cell_type": "code",
   "execution_count": 12,
   "metadata": {},
   "outputs": [
    {
     "data": {
      "text/html": [
       "<div>\n",
       "<style scoped>\n",
       "    .dataframe tbody tr th:only-of-type {\n",
       "        vertical-align: middle;\n",
       "    }\n",
       "\n",
       "    .dataframe tbody tr th {\n",
       "        vertical-align: top;\n",
       "    }\n",
       "\n",
       "    .dataframe thead th {\n",
       "        text-align: right;\n",
       "    }\n",
       "</style>\n",
       "<table border=\"1\" class=\"dataframe\">\n",
       "  <thead>\n",
       "    <tr style=\"text-align: right;\">\n",
       "      <th></th>\n",
       "      <th>visitID</th>\n",
       "    </tr>\n",
       "    <tr>\n",
       "      <th>parsedReferrer</th>\n",
       "      <th></th>\n",
       "    </tr>\n",
       "  </thead>\n",
       "  <tbody>\n",
       "    <tr>\n",
       "      <th>direct</th>\n",
       "      <td>36.968796</td>\n",
       "    </tr>\n",
       "    <tr>\n",
       "      <th>facebook</th>\n",
       "      <td>11.679049</td>\n",
       "    </tr>\n",
       "    <tr>\n",
       "      <th>google</th>\n",
       "      <td>3.744428</td>\n",
       "    </tr>\n",
       "    <tr>\n",
       "      <th>internal</th>\n",
       "      <td>34.145617</td>\n",
       "    </tr>\n",
       "    <tr>\n",
       "      <th>other</th>\n",
       "      <td>10.728083</td>\n",
       "    </tr>\n",
       "    <tr>\n",
       "      <th>twitter</th>\n",
       "      <td>2.734027</td>\n",
       "    </tr>\n",
       "  </tbody>\n",
       "</table>\n",
       "</div>"
      ],
      "text/plain": [
       "                  visitID\n",
       "parsedReferrer           \n",
       "direct          36.968796\n",
       "facebook        11.679049\n",
       "google           3.744428\n",
       "internal        34.145617\n",
       "other           10.728083\n",
       "twitter          2.734027"
      ]
     },
     "metadata": {},
     "output_type": "display_data"
    },
    {
     "data": {
      "text/html": [
       "<div>\n",
       "<style scoped>\n",
       "    .dataframe tbody tr th:only-of-type {\n",
       "        vertical-align: middle;\n",
       "    }\n",
       "\n",
       "    .dataframe tbody tr th {\n",
       "        vertical-align: top;\n",
       "    }\n",
       "\n",
       "    .dataframe thead th {\n",
       "        text-align: right;\n",
       "    }\n",
       "</style>\n",
       "<table border=\"1\" class=\"dataframe\">\n",
       "  <thead>\n",
       "    <tr style=\"text-align: right;\">\n",
       "      <th></th>\n",
       "      <th>visitID</th>\n",
       "    </tr>\n",
       "    <tr>\n",
       "      <th>parsedReferrer</th>\n",
       "      <th></th>\n",
       "    </tr>\n",
       "  </thead>\n",
       "  <tbody>\n",
       "    <tr>\n",
       "      <th>direct</th>\n",
       "      <td>43.057269</td>\n",
       "    </tr>\n",
       "    <tr>\n",
       "      <th>facebook</th>\n",
       "      <td>0.599119</td>\n",
       "    </tr>\n",
       "    <tr>\n",
       "      <th>google</th>\n",
       "      <td>12.951542</td>\n",
       "    </tr>\n",
       "    <tr>\n",
       "      <th>internal</th>\n",
       "      <td>36.123348</td>\n",
       "    </tr>\n",
       "    <tr>\n",
       "      <th>other</th>\n",
       "      <td>6.810573</td>\n",
       "    </tr>\n",
       "    <tr>\n",
       "      <th>twitter</th>\n",
       "      <td>0.458150</td>\n",
       "    </tr>\n",
       "  </tbody>\n",
       "</table>\n",
       "</div>"
      ],
      "text/plain": [
       "                  visitID\n",
       "parsedReferrer           \n",
       "direct          43.057269\n",
       "facebook         0.599119\n",
       "google          12.951542\n",
       "internal        36.123348\n",
       "other            6.810573\n",
       "twitter          0.458150"
      ]
     },
     "metadata": {},
     "output_type": "display_data"
    }
   ],
   "source": [
    "display(df.groupby(['loyal_user','platform','parsedReferrer'])[['visitID']].count().loc[False,'mobile']*100/df.groupby(['loyal_user','platform','parsedReferrer'])[['visitID']].count().loc[False,'mobile'].sum())\n",
    "display(df.groupby(['loyal_user','platform','parsedReferrer'])[['visitID']].count().loc[False,'desktop']*100/df.groupby(['loyal_user','platform','parsedReferrer'])[['visitID']].count().loc[False,'desktop'].sum())"
   ]
  },
  {
   "cell_type": "markdown",
   "metadata": {},
   "source": [
    "Comparring to loyal customers, which we have assumed to directly access the website show that people generally do not prefer to access the site on phone if they know about it. This is a biased assumption and I believe that this is not true, but we still reach this conclusion."
   ]
  },
  {
   "cell_type": "code",
   "execution_count": 13,
   "metadata": {},
   "outputs": [
    {
     "data": {
      "text/html": [
       "<div>\n",
       "<style scoped>\n",
       "    .dataframe tbody tr th:only-of-type {\n",
       "        vertical-align: middle;\n",
       "    }\n",
       "\n",
       "    .dataframe tbody tr th {\n",
       "        vertical-align: top;\n",
       "    }\n",
       "\n",
       "    .dataframe thead th {\n",
       "        text-align: right;\n",
       "    }\n",
       "</style>\n",
       "<table border=\"1\" class=\"dataframe\">\n",
       "  <thead>\n",
       "    <tr style=\"text-align: right;\">\n",
       "      <th></th>\n",
       "      <th></th>\n",
       "      <th>visitID</th>\n",
       "    </tr>\n",
       "    <tr>\n",
       "      <th>platform</th>\n",
       "      <th>parsedReferrer</th>\n",
       "      <th></th>\n",
       "    </tr>\n",
       "  </thead>\n",
       "  <tbody>\n",
       "    <tr>\n",
       "      <th>desktop</th>\n",
       "      <th>direct</th>\n",
       "      <td>92.796610</td>\n",
       "    </tr>\n",
       "    <tr>\n",
       "      <th>mobile</th>\n",
       "      <th>direct</th>\n",
       "      <td>5.508475</td>\n",
       "    </tr>\n",
       "    <tr>\n",
       "      <th>tablet</th>\n",
       "      <th>direct</th>\n",
       "      <td>1.694915</td>\n",
       "    </tr>\n",
       "  </tbody>\n",
       "</table>\n",
       "</div>"
      ],
      "text/plain": [
       "                           visitID\n",
       "platform parsedReferrer           \n",
       "desktop  direct          92.796610\n",
       "mobile   direct           5.508475\n",
       "tablet   direct           1.694915"
      ]
     },
     "metadata": {},
     "output_type": "display_data"
    },
    {
     "data": {
      "text/plain": [
       "<matplotlib.axes._subplots.AxesSubplot at 0x16d7d794e08>"
      ]
     },
     "execution_count": 13,
     "metadata": {},
     "output_type": "execute_result"
    },
    {
     "data": {
      "image/png": "[encoded data removed]",
      "text/plain": [
       "<Figure size 432x288 with 1 Axes>"
      ]
     },
     "metadata": {
      "needs_background": "light"
     },
     "output_type": "display_data"
    }
   ],
   "source": [
    "display(df.groupby(['loyal_user','platform','parsedReferrer'])[['visitID']].count().loc[True]*100/df.groupby(['loyal_user','platform','parsedReferrer'])[['visitID']].count().loc[True].sum())\n",
    "(df.groupby(['loyal_user','platform','parsedReferrer'])[['visitID']].count().loc[True]*100/df.groupby(['loyal_user','platform','parsedReferrer'])[['visitID']].count().loc[True].sum()).plot(kind='bar')"
   ]
  },
  {
   "cell_type": "markdown",
   "metadata": {},
   "source": [
    "Thus, we can assume that our ads are working well and considerable amounts of people are visiting the website because of these ads. \n",
    "In addition, the loyal consumers primarily use Desktop to view there Piano dashboards. This appears to be an untapped demographic. This sets up precedent to do some market research and determine if there is a market for an app which might be more convenient  for users who are ‘on the go’ to use phone than wait for a desktop. Perhaps we can divert our resources on an easy-to-use app to drive more traffic.\n"
   ]
  },
  {
   "cell_type": "markdown",
   "metadata": {},
   "source": [
    "#### 2. Looking at some hourly trends\n",
    "\n",
    "Since we are limited to only 1-day of data, I decided to calculate ‘hour-of-the-day’ metric. I looked at the distribution for # of visits for loyal and non-loyal users. We see that there are more defined peaks for the hour of the day for loyal users compared to non-loyal users. Although it is interesting to note that, the trends are similar for both the groups. "
   ]
  },
  {
   "cell_type": "code",
   "execution_count": 14,
   "metadata": {},
   "outputs": [
    {
     "data": {
      "text/plain": [
       "<matplotlib.axes._subplots.AxesSubplot at 0x16d7d60fe08>"
      ]
     },
     "execution_count": 14,
     "metadata": {},
     "output_type": "execute_result"
    },
    {
     "data": {
      "image/png": "[encoded data removed]",
      "text/plain": [
       "<Figure size 720x720 with 2 Axes>"
      ]
     },
     "metadata": {
      "needs_background": "light"
     },
     "output_type": "display_data"
    }
   ],
   "source": [
    "fig, axes = plt.subplots(nrows=2,ncols=1,sharex=True,figsize=(10,10))\n",
    "\n",
    "pd.DataFrame(df[df.loyal_user!=True]['hour_of_day'].value_counts()*100/df[df.loyal_user!=True]['hour_of_day'].value_counts().sum()).sort_index().plot(title='Not Loyal User',ax=axes[0])\n",
    "pd.DataFrame(df[df.loyal_user==True]['hour_of_day'].value_counts()*100/df[df.loyal_user==True]['hour_of_day'].value_counts().sum()).sort_index().plot(title='Loyal User',ax=axes[1])"
   ]
  },
  {
   "cell_type": "markdown",
   "metadata": {},
   "source": [
    "### 3. Location Trend\n",
    "\n",
    "Looking at the time trend, the varitation was very consistent which led me to believe that our clients are most likely saturated in a single timezone, or more active usage comes from few countries located in a vicinity. This was verified by the data as we can see that in case of both Loyal and Non-Loyal users more than 75% of our traffic comes from US and regional breakdown indicates that most of these users are in CA and NY "
   ]
  },
  {
   "cell_type": "code",
   "execution_count": 23,
   "metadata": {},
   "outputs": [
    {
     "data": {
      "text/plain": [
       "<matplotlib.axes._subplots.AxesSubplot at 0x16d00083208>"
      ]
     },
     "execution_count": 23,
     "metadata": {},
     "output_type": "execute_result"
    },
    {
     "data": {
      "image/png": "[encoded data removed]",
      "text/plain": [
       "<Figure size 720x720 with 2 Axes>"
      ]
     },
     "metadata": {
      "needs_background": "light"
     },
     "output_type": "display_data"
    }
   ],
   "source": [
    "df1 = df.groupby(['loyal_user','country'])[['visitID']].count()\n",
    "fig, axes = plt.subplots(nrows=2,ncols=1,sharex=True,figsize=(10,10))\n",
    "\n",
    "(df1.loc[True].sort_values(by='visitID',ascending=False)*100/(df1.loc[True].sum())).head(5).plot(kind='bar',ax=axes[0], title='Loyal Users')\n",
    "(df1.loc[False].sort_values(by='visitID',ascending=False)*100/(df1.loc[False].sum())).head(5).plot(kind='bar',ax=axes[1], title='Non Loyal Users')"
   ]
  },
  {
   "cell_type": "code",
   "execution_count": 24,
   "metadata": {},
   "outputs": [
    {
     "data": {
      "text/plain": [
       "<matplotlib.axes._subplots.AxesSubplot at 0x16d00165d48>"
      ]
     },
     "execution_count": 24,
     "metadata": {},
     "output_type": "execute_result"
    },
    {
     "data": {
      "image/png": "[encoded data removed]",
      "text/plain": [
       "<Figure size 720x720 with 2 Axes>"
      ]
     },
     "metadata": {
      "needs_background": "light"
     },
     "output_type": "display_data"
    }
   ],
   "source": [
    "df1 = df[df.country=='United States'].groupby(['loyal_user','region'])[['visitID']].count()\n",
    "\n",
    "fig, axes = plt.subplots(nrows=2,ncols=1,sharex=True,figsize=(10,10))\n",
    "\n",
    "(df1.loc[True].sort_values(by='visitID',ascending=False)*100/(df1.loc[True].sum())).head(5).plot(kind='bar',ax=axes[0],title='Loyal Users')\n",
    "(df1.loc[False].sort_values(by='visitID',ascending=False)*100/(df1.loc[False].sum())).head(5).plot(kind='bar',ax=axes[1],title='Non Loyal Users')"
   ]
  }
 ],
 "metadata": {
  "kernelspec": {
   "display_name": "Python 3",
   "language": "python",
   "name": "python3"
  },
  "language_info": {
   "codemirror_mode": {
    "name": "ipython",
    "version": 3
   },
   "file_extension": ".py",
   "mimetype": "text/x-python",
   "name": "python",
   "nbconvert_exporter": "python",
   "pygments_lexer": "ipython3",
   "version": "3.7.6"
  }
 },
 "nbformat": 4,
 "nbformat_minor": 4
}
