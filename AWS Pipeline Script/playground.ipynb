{
 "cells": [
  {
   "cell_type": "code",
   "execution_count": 9,
   "metadata": {},
   "outputs": [],
   "source": [
    "import pandas as pd\n",
    "import numpy as np"
   ]
  },
  {
   "cell_type": "code",
   "execution_count": 10,
   "metadata": {},
   "outputs": [],
   "source": [
    "df1 = pd.read_csv('capital.csv',\n",
    "                 dtype = {\n",
    "                     'managementcenter':'str',\n",
    "                     'employeenumber':'str',\n",
    "                     'fiscalmonth':'int',\n",
    "                     'fiscalyear':'int'\n",
    "                 },\n",
    "                 header = 0,\n",
    "                 usecols = ['chargenumber','managementcenter','employeenumber','overtimepay','regularpay','calendarmonth','calendaryear'],\n",
    "                 names = ['chargenumber','managementcenter','employeenumber','overtimepay','regularpay','calendarmonth','calendaryear'] \n",
    "                 )\n",
    "\n",
    "df1['fiscalyear'] = np.where(df1['calendarmonth']>6, df1['calendaryear']+1,df1['calendaryear'])\n",
    "df1['fiscalmonth'] = np.where(df1['calendarmonth']>6,df1['calendarmonth']-6,df1['calendarmonth']+6 ) \n",
    "df1['Expense'] = 'Capital'"
   ]
  },
  {
   "cell_type": "code",
   "execution_count": 11,
   "metadata": {},
   "outputs": [],
   "source": [
    "df2 = pd.read_csv('operating.csv',\n",
    "                 dtype = {\n",
    "                     'managementcenter':'str',\n",
    "                     'fiscalyear':'int',\n",
    "                     'fiscalmonth':'int',\n",
    "                     'employeenumber':'str',\n",
    "                     'amount':'float'\n",
    "                 },\n",
    "                header = 0,\n",
    "                names = ['employeenumber','fiscalmonth','fiscalyear','chargenumber','managementcenter','paytype','amount']\n",
    "                 )\n",
    "\n",
    "df2 = df2.pivot_table(\n",
    "                index = ['employeenumber','fiscalmonth','fiscalyear','chargenumber','managementcenter'],\n",
    "                columns = ['paytype'],\n",
    "                values = 'amount',\n",
    "                aggfunc = np.sum,\n",
    "                fill_value = 0).reset_index()\n",
    "\n",
    "df2['calendarmonth'] = np.where(df2['fiscalmonth']<=6,df2['fiscalmonth']+6,df2['fiscalmonth']-6) \n",
    "df2['calendaryear'] = np.where(df2['fiscalmonth']<=6, df2['fiscalyear']-1,df2['fiscalyear'])\n",
    "df2['Expense'] = 'Overtime'"
   ]
  },
  {
   "cell_type": "code",
   "execution_count": 12,
   "metadata": {},
   "outputs": [],
   "source": [
    "df1['Expense'] = 'Capital'\n",
    "df2['Expense'] = 'Operating'"
   ]
  },
  {
   "cell_type": "code",
   "execution_count": 13,
   "metadata": {},
   "outputs": [],
   "source": [
    "df = pd.concat([df1,df2])"
   ]
  },
  {
   "cell_type": "code",
   "execution_count": 14,
   "metadata": {},
   "outputs": [
    {
     "output_type": "execute_result",
     "data": {
      "text/plain": "Expense              object\ncalendarmonth         int64\ncalendaryear          int64\nchargenumber         object\nemployeenumber       object\nfiscalmonth           int64\nfiscalyear            int64\nmanagementcenter     object\novertimepay         float64\nregularpay          float64\ndtype: object"
     },
     "metadata": {},
     "execution_count": 14
    }
   ],
   "source": [
    "df.dtypes"
   ]
  },
  {
   "cell_type": "code",
   "execution_count": 16,
   "metadata": {},
   "outputs": [],
   "source": [
    "df.to_csv('payroll.csv')"
   ]
  }
 ],
 "metadata": {
  "kernelspec": {
   "display_name": "Python 3",
   "language": "python",
   "name": "python3"
  },
  "language_info": {
   "codemirror_mode": {
    "name": "ipython",
    "version": 3
   },
   "file_extension": ".py",
   "mimetype": "text/x-python",
   "name": "python",
   "nbconvert_exporter": "python",
   "pygments_lexer": "ipython3",
   "version": "3.8.3-final"
  }
 },
 "nbformat": 4,
 "nbformat_minor": 4
}